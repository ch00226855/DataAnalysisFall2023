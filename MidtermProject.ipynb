{
  "cells": [
    {
      "cell_type": "markdown",
      "metadata": {
        "id": "jU9wjNAiAcxR"
      },
      "source": [
        "# Midterm Project\n",
        "# Analyzing the Demand for Bike Sharing\n",
        "\n",
        "Bike sharing systems are a means of renting bicycles where the process of obtaining membership, rental, and bike return is automated via a network of kiosk locations throughout a city. Using these systems, people are able rent a bike from a one location and return it to a different place on an as-needed basis. Currently, there are over 500 bike-sharing programs around the world.\n",
        "\n",
        "For this project, we will explore a dataset from Capital Bikeshare, a bike-sharing program in Washington, D.C. It is interesting to discover bike usage patterns with weather condition and the nature of the day."
      ]
    },
    {
      "cell_type": "markdown",
      "metadata": {
        "id": "VmNb-A50AcxW"
      },
      "source": [
        "# I. Acquire the Dataset"
      ]
    },
    {
      "cell_type": "markdown",
      "metadata": {
        "id": "z6sWMSbUAcxX"
      },
      "source": [
        "1. Download the data `Bike-Sharing-Dataset.zip` file from [Bike Sharing dataset in the Machine Learning Repository at UC Irvine](https://archive.ics.uci.edu/ml/datasets/bike+sharing+dataset). Unzip the file and obtain file `day.csv`. Read the description of the dataset to learn the meaning of values in each column."
      ]
    },
    {
      "cell_type": "markdown",
      "metadata": {
        "id": "0jzDdOvPAcxY"
      },
      "source": [
        "2. Load the data from `day.csv` as a Pandas data frame. Display its first 5 rows to confirm that the data is loaded correctly."
      ]
    },
    {
      "cell_type": "code",
      "execution_count": null,
      "metadata": {
        "id": "Rf6sduJcAcxZ"
      },
      "outputs": [],
      "source": []
    },
    {
      "cell_type": "markdown",
      "metadata": {
        "id": "x-s3smlmAcxb"
      },
      "source": [
        "3. Display the shape of the data frame."
      ]
    },
    {
      "cell_type": "code",
      "execution_count": null,
      "metadata": {
        "id": "qDHZo0f_Acxb"
      },
      "outputs": [],
      "source": []
    },
    {
      "cell_type": "markdown",
      "metadata": {
        "id": "clH7Jwk6Acxb"
      },
      "source": [
        "4. Display the data type of each column"
      ]
    },
    {
      "cell_type": "code",
      "execution_count": null,
      "metadata": {
        "id": "na24VfTdAcxc"
      },
      "outputs": [],
      "source": []
    },
    {
      "cell_type": "markdown",
      "metadata": {
        "id": "8zbRTwGrAcxc"
      },
      "source": [
        "5. The default data type for 'dteday' is `object`. Use [pd.to_datetime](https://pandas.pydata.org/docs/reference/api/pandas.to_datetime.html) to convert it to `datetime` type. After the conversion, display the data types again to confirm that the conversion is successful."
      ]
    },
    {
      "cell_type": "code",
      "execution_count": null,
      "metadata": {
        "id": "wXnY4rpoAcxd"
      },
      "outputs": [],
      "source": []
    },
    {
      "cell_type": "markdown",
      "metadata": {
        "id": "hTVYSF21Acxd"
      },
      "source": [
        "6. Create a new column 'year' by extracting the year value from the datetime of each row."
      ]
    },
    {
      "cell_type": "code",
      "execution_count": null,
      "metadata": {
        "id": "XnLQzxjoAcxd"
      },
      "outputs": [],
      "source": []
    },
    {
      "cell_type": "markdown",
      "metadata": {
        "id": "ww2us5P6Acxe"
      },
      "source": [
        "7. Remove the \"casual\" column and the \"registered\" column, as we are solely interested in the total number of bike rentals, which is given in the \"cnt\" column. Also remove the following columns: 'instant', 'yr', 'atemp'. Display the first 5 rows again to confirm the removal of these columns."
      ]
    },
    {
      "cell_type": "code",
      "execution_count": null,
      "metadata": {
        "id": "IDsfg8UBAcxe"
      },
      "outputs": [],
      "source": []
    },
    {
      "cell_type": "markdown",
      "metadata": {
        "id": "bqRKyzLEAcxe"
      },
      "source": [
        "8. Display the number of missing values from each column."
      ]
    },
    {
      "cell_type": "code",
      "execution_count": null,
      "metadata": {
        "id": "qIgwCxf8Acxf"
      },
      "outputs": [],
      "source": []
    },
    {
      "cell_type": "markdown",
      "metadata": {
        "id": "kgtbq5odAcxf"
      },
      "source": [
        "## II. Data Exploration"
      ]
    },
    {
      "cell_type": "markdown",
      "metadata": {
        "id": "6Ops9i4wAcxf"
      },
      "source": [
        "1. The season feature: split the data frame into four subsets according to the season value. You may call them `data_spring`, `data_summer`, `data_fall`, `data_winter`. Calculate and display the average bike rentals in each season."
      ]
    },
    {
      "cell_type": "code",
      "execution_count": null,
      "metadata": {
        "id": "cDYI0UDCAcxf"
      },
      "outputs": [],
      "source": []
    },
    {
      "cell_type": "markdown",
      "metadata": {
        "id": "jbWiQ5NsAcxg"
      },
      "source": [
        "2. The 'holiday' feature: calculate and display the average bike rentals for holidays and non-holidays, separately."
      ]
    },
    {
      "cell_type": "code",
      "execution_count": null,
      "metadata": {
        "id": "0bfFmELfAcxg"
      },
      "outputs": [],
      "source": []
    },
    {
      "cell_type": "markdown",
      "metadata": {
        "id": "_UfWmRxVAcxg"
      },
      "source": [
        "3. The 'workingday' feature: calculate and display the average bike rentals for working days and weekends, separately."
      ]
    },
    {
      "cell_type": "code",
      "execution_count": null,
      "metadata": {
        "id": "cbrxYwejAcxg"
      },
      "outputs": [],
      "source": []
    },
    {
      "cell_type": "markdown",
      "metadata": {
        "id": "2p4gYVPKAcxg"
      },
      "source": [
        "4. The 'weathersit' feature: calculate and display the average bike-rentals for each weather type."
      ]
    },
    {
      "cell_type": "code",
      "execution_count": null,
      "metadata": {
        "scrolled": true,
        "id": "N8bm9SmrAcxh"
      },
      "outputs": [],
      "source": []
    },
    {
      "cell_type": "markdown",
      "metadata": {
        "id": "jEKAem_oAcxh"
      },
      "source": [
        "5. The 'temp' feature: as temperature is a countinous feature, its relationship with the 'count' feature can be visualized as a scatter plot. Create a scatter plot with 'temp' and 'count'. Label the axis correctly."
      ]
    },
    {
      "cell_type": "code",
      "execution_count": null,
      "metadata": {
        "id": "h0RWSJofAcxh"
      },
      "outputs": [],
      "source": []
    },
    {
      "cell_type": "markdown",
      "metadata": {
        "id": "BgLWDjDkAcxh"
      },
      "source": [
        "6. The 'windspeed' feature: create a scatter plot to show the relatioinship between the number of bike rentals and the windspeed."
      ]
    },
    {
      "cell_type": "code",
      "execution_count": null,
      "metadata": {
        "id": "rAhoqnA5Acxh"
      },
      "outputs": [],
      "source": []
    },
    {
      "cell_type": "markdown",
      "metadata": {
        "id": "HoCtmmf_Acxi"
      },
      "source": [
        "7. The 'year' feature: calculate and display the average bike rentals in each year."
      ]
    },
    {
      "cell_type": "code",
      "execution_count": null,
      "metadata": {
        "id": "Ndgy5D74Acxi"
      },
      "outputs": [],
      "source": []
    },
    {
      "cell_type": "markdown",
      "metadata": {
        "id": "x-wvP_BsAcxi"
      },
      "source": [
        "8. What observations can you conclude from the data exploration?"
      ]
    },
    {
      "cell_type": "markdown",
      "metadata": {
        "id": "thHAlRMCAcxi"
      },
      "source": [
        "**Answer:**\n",
        "\n"
      ]
    },
    {
      "cell_type": "code",
      "execution_count": null,
      "metadata": {
        "id": "dWOixMzpAcxi"
      },
      "outputs": [],
      "source": []
    }
  ],
  "metadata": {
    "kernelspec": {
      "display_name": "Python 3 (ipykernel)",
      "language": "python",
      "name": "python3"
    },
    "language_info": {
      "codemirror_mode": {
        "name": "ipython",
        "version": 3
      },
      "file_extension": ".py",
      "mimetype": "text/x-python",
      "name": "python",
      "nbconvert_exporter": "python",
      "pygments_lexer": "ipython3",
      "version": "3.8.5"
    },
    "colab": {
      "provenance": []
    }
  },
  "nbformat": 4,
  "nbformat_minor": 0
}