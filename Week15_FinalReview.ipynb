{
 "cells": [
  {
   "cell_type": "markdown",
   "id": "79dc8837",
   "metadata": {},
   "source": [
    "# FInal Review\n",
    "- Data loading and storage\n",
    "- Merging multiple data frames\n",
    "- The GroupBy operation\n",
    "- Working with datetime data"
   ]
  },
  {
   "cell_type": "code",
   "execution_count": null,
   "id": "6492b436",
   "metadata": {},
   "outputs": [],
   "source": [
    "import pandas as pd\n",
    "\n",
    "bus_schedule = pd.DataFrame(\n",
    "    {\"Bus Number\": [\"Bx28\", \"M70\", \"Q14\", \"B8\", \"S79\"],\n",
    "     \"Number of stops\": [20, 17, 22, 21, 25],\n",
    "     \"Destination\": [\"Bedford Pk Blvd\", \"Time Square\", \"Corona Park\",\n",
    "                     \"Prospect Park\", \"Staten Island Ferry\"]}\n",
    ")\n",
    "\n",
    "bus_schedule"
   ]
  },
  {
   "cell_type": "code",
   "execution_count": null,
   "id": "3d0f148d",
   "metadata": {},
   "outputs": [],
   "source": [
    "bus_info = pd.DataFrame(\n",
    "    {\n",
    "        \"Bus\": [\"Bx28\", \"Bx29\", \"Bx30\", \"M70\", \"M71\", \"M72\", \"Q14\", \"B8\", \"S79\"],\n",
    "        \"Borough\": [\"Bronx\", \"Bronx\", \"Bronx\", \"Manhattan\",\n",
    "                   \"Manhattan\", \"Manhattan\", \"Queens\", \"Brooklyn\",\n",
    "                   \"Staten Island\"],\n",
    "        \"Number of Drivers\": [5, 5, 5, 5, 6, 6, 7, 5, 6]\n",
    "    }\n",
    ")\n",
    "bus_info"
   ]
  },
  {
   "cell_type": "code",
   "execution_count": null,
   "id": "9890467e",
   "metadata": {},
   "outputs": [],
   "source": [
    "# Ex 1: Merge these data frames\n"
   ]
  },
  {
   "cell_type": "code",
   "execution_count": null,
   "id": "633f4d50",
   "metadata": {
    "scrolled": true
   },
   "outputs": [],
   "source": [
    "# Ex 2: What if we want to keep all record from the second data frame?\n"
   ]
  },
  {
   "cell_type": "code",
   "execution_count": null,
   "id": "a3de530c",
   "metadata": {},
   "outputs": [],
   "source": [
    "# Ex 3: Save the data into a csv file.\n"
   ]
  },
  {
   "cell_type": "code",
   "execution_count": null,
   "id": "93d55e98",
   "metadata": {},
   "outputs": [],
   "source": [
    "# Ex 4: Retrieve the data frame from the file\n"
   ]
  },
  {
   "cell_type": "code",
   "execution_count": null,
   "id": "e3b2ff0a",
   "metadata": {},
   "outputs": [],
   "source": [
    "# Ex 5: How many drivers are there for each borough?\n"
   ]
  },
  {
   "cell_type": "code",
   "execution_count": null,
   "id": "7b207f2c",
   "metadata": {},
   "outputs": [],
   "source": [
    "# Ex 6: What is the average number of stops for a bus in each borough?\n"
   ]
  },
  {
   "cell_type": "code",
   "execution_count": null,
   "id": "c14aa72f",
   "metadata": {},
   "outputs": [],
   "source": [
    "# Ex 7: Combine the previous two results into a single data frame.\n"
   ]
  }
 ],
 "metadata": {
  "kernelspec": {
   "display_name": "Python 3 (ipykernel)",
   "language": "python",
   "name": "python3"
  },
  "language_info": {
   "codemirror_mode": {
    "name": "ipython",
    "version": 3
   },
   "file_extension": ".py",
   "mimetype": "text/x-python",
   "name": "python",
   "nbconvert_exporter": "python",
   "pygments_lexer": "ipython3",
   "version": "3.9.13"
  }
 },
 "nbformat": 4,
 "nbformat_minor": 5
}
