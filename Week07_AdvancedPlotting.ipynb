{
  "cells": [
    {
      "cell_type": "markdown",
      "metadata": {
        "id": "Z9P7jbjbEl1j"
      },
      "source": [
        "# Week 7\n",
        "# Plotting with Matplotlib\n",
        "1. Create subplots\n",
        "2. Adjust ticks, legends, labels\n",
        "3. Add annotations"
      ]
    },
    {
      "cell_type": "code",
      "execution_count": null,
      "metadata": {
        "id": "8nACsVFEEl1l"
      },
      "outputs": [],
      "source": [
        "import numpy as np\n",
        "import pandas as pd\n",
        "import matplotlib.pyplot as plt\n",
        "%matplotlib inline"
      ]
    },
    {
      "cell_type": "code",
      "execution_count": null,
      "metadata": {
        "id": "HMF2A3pLEl1m"
      },
      "outputs": [],
      "source": [
        "# Download Bitcoin trading data\n",
        "import json\n",
        "import requests\n",
        "endpoint = 'https://min-api.cryptocompare.com/data/histoday'\n",
        "res = requests.get(endpoint + '?fsym=BTC&tsym=USD&limit=2000')\n",
        "BTC = pd.DataFrame(json.loads(res.content)['Data'])\n",
        "\n",
        "# Use time as index\n",
        "BTC = BTC.set_index('time')\n",
        "BTC.index = pd.to_datetime(BTC.index, unit='s')\n",
        "\n",
        "BTC.tail(3)#"
      ]
    },
    {
      "cell_type": "code",
      "execution_count": null,
      "metadata": {
        "id": "92ZuWxPTEl1n"
      },
      "outputs": [],
      "source": [
        "# Install yahoo finance library\n",
        "!pip install --upgrade pip\n",
        "!pip install yfinance"
      ]
    },
    {
      "cell_type": "code",
      "execution_count": null,
      "metadata": {
        "id": "prZtNDfAEl1n"
      },
      "outputs": [],
      "source": [
        "import yfinance as yf\n",
        "\n",
        "SPY = yf.download('SPY', start=\"2015-04-10\")\n",
        "SPY.head(3)"
      ]
    },
    {
      "cell_type": "markdown",
      "metadata": {
        "id": "u1eY6vPUEl1n"
      },
      "source": [
        "## 1. Four plots on the price change\n",
        "- Scatter plot\n",
        "- Histogram"
      ]
    },
    {
      "cell_type": "code",
      "execution_count": null,
      "metadata": {
        "id": "foDA2-dWEl1n"
      },
      "outputs": [],
      "source": [
        "fig = plt.figure(figsize=(10, 10))\n",
        "\n",
        "# Add axes for the first subplot\n",
        "ax1 = fig.add_subplot(2, 2, 1) # What do these numbers mean?\n",
        "                               # (number of rows, number of columns, the index of this particular plot)\n",
        "\n",
        "# plot BTC price change (close price vs. time)\n",
        "ax1.plot(BTC.index, BTC['close'])\n",
        "ax1.set_title(\"Bitcoin\")\n",
        "\n",
        "# Add axes for the second subplot\n",
        "ax2 = fig.add_subplot(2, 2, 2)\n",
        "\n",
        "# plot SPY price change (close price vs. time)\n",
        "ax2.plot(SPY.index, SPY['Close'] * 10)\n",
        "ax2.set_title(\"S&P 500 Index\")\n",
        "ax2.set_ylim([0, 4000])\n",
        "\n",
        "# The third subplot\n",
        "ax3 = fig.add_subplot(2, 2, 3)\n",
        "ax3.hist(BTC['volumeto'], bins=50)\n",
        "ax3.set_title(\"Bitcoin\")\n",
        "\n",
        "# The fourth subplot\n",
        "ax4 = fig.add_subplot(2, 2, 4)\n",
        "ax4.hist(SPY['Volume'], bins=50)\n",
        "ax4.set_title(\"S&P 500 Index\")"
      ]
    },
    {
      "cell_type": "markdown",
      "metadata": {
        "id": "WIreSNpYEl1o"
      },
      "source": [
        "## 2 Ticks, labels, and legends"
      ]
    },
    {
      "cell_type": "code",
      "execution_count": null,
      "metadata": {
        "scrolled": false,
        "id": "gPwei6ZJEl1o"
      },
      "outputs": [],
      "source": [
        "# Specify limits on the x-axis and y-axis\n",
        "from datetime import datetime\n",
        "\n",
        "plt.figure(figsize=(10, 5))\n",
        "plt.plot(BTC.index, BTC['close'])\n",
        "plt.xlim([datetime(2019, 1, 1), datetime(2020, 1, 1)])\n",
        "plt.ylim([2500, 15000])"
      ]
    },
    {
      "cell_type": "code",
      "execution_count": null,
      "metadata": {
        "scrolled": true,
        "id": "gfAHQ7zHEl1p"
      },
      "outputs": [],
      "source": [
        "# Show ticks for every month\n",
        "plt.figure(figsize=(10, 5))\n",
        "plt.plot(BTC.index, BTC['close'])\n",
        "plt.plot(SPY.index, SPY['Close'] * 30)\n",
        "plt.xlim([datetime(2019, 1, 1), datetime(2020, 1, 1)])\n",
        "ticks = [datetime(2019, x, 1) for x in range(1, 13)]\n",
        "ticks.append(datetime(2020, 1, 1))\n",
        "plt.xticks(ticks, rotation=45)\n",
        "\n",
        "# Add y label\n",
        "plt.ylabel(\"US Dollars\")\n",
        "\n",
        "# Add legned\n",
        "plt.legend(['Bitcoin', 'S&P 500 Index'])\n",
        "\n",
        "plt.show()"
      ]
    },
    {
      "cell_type": "markdown",
      "metadata": {
        "id": "7LTx2TQ5El1p"
      },
      "source": [
        "## 3. Add Annotations"
      ]
    },
    {
      "cell_type": "code",
      "execution_count": null,
      "metadata": {
        "id": "IktwJBotEl1p"
      },
      "outputs": [],
      "source": [
        "from datetime import timedelta\n",
        "\n",
        "plt.figure(figsize=(10, 5))\n",
        "plt.plot(BTC.index, BTC['close'])\n",
        "\n",
        "# Point out the peak value\n",
        "plt.annotate('Peak value: 19000',\n",
        "             xy=(datetime(2018, 1, 1), 19000),\n",
        "             xytext=(datetime(2018, 1, 1)+timedelta(days=100), 20000),\n",
        "             arrowprops=dict(facecolor='red', headwidth=4, width=2, headlength=4))\n",
        "\n",
        "# Highlight the dramatic increase in 2018\n",
        "rectangle = plt.Rectangle((datetime(2017, 5, 1), 2500),\n",
        "                          timedelta(days=200),\n",
        "                          17500,\n",
        "                          color='k',\n",
        "                          alpha=0.3)\n",
        "plt.gca().add_patch(rectangle)\n",
        "\n",
        "# Add text description\n",
        "plt.text(datetime(2017, 5, 1),\n",
        "         1500,\n",
        "         \"Bitcoin price increased 5 times within 200 days\",\n",
        "         fontsize=12)"
      ]
    }
  ],
  "metadata": {
    "kernelspec": {
      "display_name": "Python 3 (ipykernel)",
      "language": "python",
      "name": "python3"
    },
    "language_info": {
      "codemirror_mode": {
        "name": "ipython",
        "version": 3
      },
      "file_extension": ".py",
      "mimetype": "text/x-python",
      "name": "python",
      "nbconvert_exporter": "python",
      "pygments_lexer": "ipython3",
      "version": "3.8.5"
    },
    "colab": {
      "provenance": []
    }
  },
  "nbformat": 4,
  "nbformat_minor": 0
}