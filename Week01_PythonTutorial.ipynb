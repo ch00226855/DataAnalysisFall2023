{
 "cells": [
  {
   "cell_type": "markdown",
   "metadata": {
    "colab_type": "text",
    "id": "8vn4PJ5ZIaXp"
   },
   "source": [
    "# Week 1\n",
    "# Python Tutorial\n",
    "\n",
    "Good source for learning Python: [Link](https://www.py4e.com)"
   ]
  },
  {
   "cell_type": "markdown",
   "metadata": {},
   "source": [
    "## Example Programs"
   ]
  },
  {
   "cell_type": "code",
   "execution_count": null,
   "metadata": {},
   "outputs": [],
   "source": [
    "print('Hello World')"
   ]
  },
  {
   "cell_type": "code",
   "execution_count": null,
   "metadata": {
    "colab": {
     "base_uri": "https://localhost:8080/",
     "height": 34
    },
    "colab_type": "code",
    "id": "fD58lXdUIWEP",
    "outputId": "36073e22-3bb6-47d3-cb5e-35f6383895f6"
   },
   "outputs": [],
   "source": [
    "# Print a sentence: The area is: ***\n",
    "# The area represents the area of a square with length 1.5\n",
    "\n",
    "print(\"The area is:\", 1.5 * 1.5)\n",
    "# print(2 / 2)"
   ]
  },
  {
   "cell_type": "code",
   "execution_count": null,
   "metadata": {
    "colab": {
     "base_uri": "https://localhost:8080/",
     "height": 34
    },
    "colab_type": "code",
    "id": "gMEMbliOI_t1",
    "outputId": "33b215b0-3454-446c-a503-07944e4f7e6e"
   },
   "outputs": [],
   "source": [
    "# Calculate the Body Mass Index (BMI) of a person whose height is 1.73 (m) and weight is 70.5 (kg).\n",
    "# BMI = weight / height ** 2\n",
    "height = 1.73 # assign 1.73 to variable named height\n",
    "weight = 70.5 # assign 70.5 to variable named weight\n",
    "BMI = weight / height ** 2 # -> the square of height\n",
    "print(\"BMI:\", BMI)"
   ]
  },
  {
   "cell_type": "markdown",
   "metadata": {},
   "source": [
    "### Variables"
   ]
  },
  {
   "cell_type": "code",
   "execution_count": null,
   "metadata": {
    "colab": {
     "base_uri": "https://localhost:8080/",
     "height": 34
    },
    "colab_type": "code",
    "id": "rHnzCsaYJ6d7",
    "outputId": "24611f2b-a110-44ae-ed92-48f459645248"
   },
   "outputs": [],
   "source": [
    "type(height)"
   ]
  },
  {
   "cell_type": "code",
   "execution_count": null,
   "metadata": {
    "colab": {
     "base_uri": "https://localhost:8080/",
     "height": 34
    },
    "colab_type": "code",
    "id": "444QQScVKJoJ",
    "outputId": "f713d4c2-f91f-4848-9367-afff345b0258"
   },
   "outputs": [],
   "source": [
    "a = 10\n",
    "print(type(a))"
   ]
  },
  {
   "cell_type": "code",
   "execution_count": null,
   "metadata": {
    "colab": {
     "base_uri": "https://localhost:8080/",
     "height": 51
    },
    "colab_type": "code",
    "id": "HqLhQ9lgKNfI",
    "outputId": "698cb50e-5f25-4b88-9e93-62f91593ae9e"
   },
   "outputs": [],
   "source": [
    "# Variable types:\n",
    "# float\n",
    "# int\n",
    "# str\n",
    "# boolean\n",
    "str1 = \"Monday\"\n",
    "print(\"Type of str1:\", type(str1))\n",
    "boolean1 = True # or False: the word should be capitalized \n",
    "print(\"Type of boolean1:\", type(boolean1))"
   ]
  },
  {
   "cell_type": "code",
   "execution_count": null,
   "metadata": {},
   "outputs": [],
   "source": [
    "# Type casting\n",
    "print(str(a))\n",
    "print(float(a))"
   ]
  },
  {
   "cell_type": "code",
   "execution_count": null,
   "metadata": {
    "colab": {},
    "colab_type": "code",
    "id": "EPA-eKDAKs8g"
   },
   "outputs": [],
   "source": [
    "# Arithmetics:\n",
    "a = a + 1\n",
    "a = a - 5\n",
    "a = a * 123\n",
    "a = a / 24"
   ]
  },
  {
   "cell_type": "code",
   "execution_count": null,
   "metadata": {
    "colab": {
     "base_uri": "https://localhost:8080/",
     "height": 34
    },
    "colab_type": "code",
    "id": "GA2TjiP-LDVS",
    "outputId": "622e1a08-b947-423c-a440-1b0a4130421f"
   },
   "outputs": [],
   "source": [
    "# integer division in Python may give a floating-point result\n",
    "b = 13\n",
    "ans = b / 3\n",
    "print(ans)"
   ]
  },
  {
   "cell_type": "code",
   "execution_count": null,
   "metadata": {
    "colab": {
     "base_uri": "https://localhost:8080/",
     "height": 34
    },
    "colab_type": "code",
    "id": "Io14n8ZnLLVP",
    "outputId": "ae48171c-8aca-4c00-884e-379932e89062"
   },
   "outputs": [],
   "source": [
    "# floor division \n",
    "ans = b // 3\n",
    "print(ans)"
   ]
  },
  {
   "cell_type": "code",
   "execution_count": null,
   "metadata": {
    "colab": {
     "base_uri": "https://localhost:8080/",
     "height": 34
    },
    "colab_type": "code",
    "id": "DkJHG-9HLorK",
    "outputId": "49c5f384-292b-4900-b0f7-773ee58443af"
   },
   "outputs": [],
   "source": [
    "# Modulo operator\n",
    "remainder = b % 3\n",
    "print(remainder)"
   ]
  },
  {
   "cell_type": "code",
   "execution_count": null,
   "metadata": {},
   "outputs": [],
   "source": [
    "# Ex. Check if a given number is even or odd\n",
    "num = input(\"Please enter a number:\")\n",
    "\n",
    "\n"
   ]
  },
  {
   "cell_type": "code",
   "execution_count": null,
   "metadata": {
    "colab": {
     "base_uri": "https://localhost:8080/",
     "height": 34
    },
    "colab_type": "code",
    "id": "B71ES9G1L-Us",
    "outputId": "cd123f59-17ee-4fec-8d01-1bfcd6ba7507"
   },
   "outputs": [],
   "source": [
    "# Exponentiation operator\n",
    "power = 5 ** 3 # 3rd power of 5\n",
    "print(power)\n",
    "\n",
    "squared_root = 5 ** 0.5\n",
    "print(squared_root)"
   ]
  },
  {
   "cell_type": "code",
   "execution_count": null,
   "metadata": {
    "colab": {
     "base_uri": "https://localhost:8080/",
     "height": 51
    },
    "colab_type": "code",
    "id": "9ugltZpmMKE8",
    "outputId": "7f73f3a9-765b-47e4-e1cd-48bfab81f1f5"
   },
   "outputs": [],
   "source": [
    "# scientific notation\n",
    "# assign 1 billion to variable x\n",
    "# x = 1000000000\n",
    "x = 1e9 # 1e9 represents 1.0 * (10 ** 9)\n",
    "print(x)\n",
    "y = 1.2e-14 # represents 1.2 * (10 ** -14) = 0.00000000000012\n",
    "print(y)"
   ]
  },
  {
   "cell_type": "code",
   "execution_count": null,
   "metadata": {},
   "outputs": [],
   "source": [
    "5 - (5 ** 0.5) ** 2\n",
    "# -8.881784197001252e-16 \n",
    "# = -8.8817.. * 10 ** (-16)\n",
    "# = -8.8817.. * 0.0000000000000001\n",
    "# = -0.0000000000000008817...\n",
    "# It is a small error due to rounding"
   ]
  },
  {
   "cell_type": "code",
   "execution_count": null,
   "metadata": {
    "colab": {},
    "colab_type": "code",
    "id": "d_XfRY6rMfZ7"
   },
   "outputs": [],
   "source": [
    "# Mathematics operations\n",
    "import numpy as np # import package numpy, and give it a shorter name"
   ]
  },
  {
   "cell_type": "code",
   "execution_count": null,
   "metadata": {
    "colab": {
     "base_uri": "https://localhost:8080/",
     "height": 34
    },
    "colab_type": "code",
    "id": "5ks4V8HgOK3c",
    "outputId": "5c8b1cb1-8b49-4452-d6d0-1959abf95869"
   },
   "outputs": [],
   "source": [
    "# the square root\n",
    "print(np.sqrt(2))"
   ]
  },
  {
   "cell_type": "code",
   "execution_count": null,
   "metadata": {
    "colab": {
     "base_uri": "https://localhost:8080/",
     "height": 34
    },
    "colab_type": "code",
    "id": "ZRQf6BlPOWYW",
    "outputId": "eb744755-684a-44ec-d35a-5562a6a834aa"
   },
   "outputs": [],
   "source": [
    "# trigonometric functions\n",
    "print(np.sin(0)) # cos, tan, arcsin, ....\n",
    "print(np.cos(0))"
   ]
  },
  {
   "cell_type": "code",
   "execution_count": null,
   "metadata": {
    "colab": {
     "base_uri": "https://localhost:8080/",
     "height": 51
    },
    "colab_type": "code",
    "id": "MCGZ9gRFOilg",
    "outputId": "bbc202e3-22bd-4133-b9d2-a8cdeda5fb26"
   },
   "outputs": [],
   "source": [
    "# log\n",
    "print(np.log(10)) # by default the log function use natural number e=2.718... as the base\n",
    "print(np.log2(8)) # base 2\n",
    "print(np.log10(1000)) # base 10"
   ]
  },
  {
   "cell_type": "code",
   "execution_count": null,
   "metadata": {
    "colab": {
     "base_uri": "https://localhost:8080/",
     "height": 34
    },
    "colab_type": "code",
    "id": "i7h1kAUKOpJo",
    "outputId": "d9b38b40-b1d1-4a26-ef4f-103f6dcc2760"
   },
   "outputs": [],
   "source": [
    "# pi\n",
    "print(np.pi)"
   ]
  },
  {
   "cell_type": "code",
   "execution_count": null,
   "metadata": {},
   "outputs": [],
   "source": [
    "# Another mathematical library is math\n",
    "import math\n",
    "print(math.log(1000, 10))"
   ]
  },
  {
   "cell_type": "markdown",
   "metadata": {
    "colab_type": "text",
    "id": "lEz8T7NiPZKv"
   },
   "source": [
    "**Exercise**: given variables a, b, and c, implement the quadratic formula for ax^2 + bx + c = 0.\n",
    "\n",
    "Formula:\n",
    "<img src=\"https://www.gstatic.com/education/formulas/images_long_sheet/en/quadratic_formula.svg\">"
   ]
  },
  {
   "cell_type": "code",
   "execution_count": null,
   "metadata": {
    "colab": {
     "base_uri": "https://localhost:8080/",
     "height": 34
    },
    "colab_type": "code",
    "id": "vpHWvU4nO7Ej",
    "outputId": "2118174b-7fdd-4517-ddcb-d59ae680f502"
   },
   "outputs": [],
   "source": []
  },
  {
   "cell_type": "markdown",
   "metadata": {},
   "source": [
    "### If-Else Branches"
   ]
  },
  {
   "cell_type": "code",
   "execution_count": null,
   "metadata": {
    "colab": {
     "base_uri": "https://localhost:8080/",
     "height": 51
    },
    "colab_type": "code",
    "id": "2SGDnadNR08s",
    "outputId": "5be5913f-95db-4782-f96f-cfb9127c8ada"
   },
   "outputs": [],
   "source": [
    "# Comparisons: >, <, >=, <=, ==, !=\n",
    "# Logical operators: and, or, not\n",
    "\n",
    "age = 23\n",
    "drinking_age = 21\n",
    "if age >= drinking_age:\n",
    "    print(\"You are old enough to buy liquor.\")\n",
    "else:\n",
    "    print(\"You are not old enough to buy liquor.\")  # with indentation: statement belongs to else branch\n",
    "print(\"End.\") # without indentation, statment is separate from the previous if-else statement."
   ]
  },
  {
   "cell_type": "code",
   "execution_count": null,
   "metadata": {
    "colab": {
     "base_uri": "https://localhost:8080/",
     "height": 34
    },
    "colab_type": "code",
    "id": "TjqsDSJ8ToYZ",
    "outputId": "91d93d0c-9a79-49f2-dc95-3d2a65f24390"
   },
   "outputs": [],
   "source": [
    "# Use if-elif-else to achieve three or more branches\n",
    "weekday = \"Monday\"\n",
    "is_holiday = False\n",
    "if weekday == \"Saturday\" or weekday == \"Sunday\":\n",
    "    print(\"Not a working day\")\n",
    "elif is_holiday:\n",
    "    print(\"Not a working day\")\n",
    "else:\n",
    "    print(\"Let's go to work\")"
   ]
  },
  {
   "cell_type": "markdown",
   "metadata": {
    "colab_type": "text",
    "id": "NXbfssPlUlPe"
   },
   "source": [
    "## Exercise 2\n",
    "\n",
    "Given a number between 0 and 100, convert it to a letter grade:\n",
    "- 90 - 100: A\n",
    "- 80 - 89: B\n",
    "- 70 - 79: C\n",
    "- 60 - 69: D\n",
    "- Below 60: F"
   ]
  },
  {
   "cell_type": "code",
   "execution_count": null,
   "metadata": {
    "colab": {
     "base_uri": "https://localhost:8080/",
     "height": 51
    },
    "colab_type": "code",
    "id": "78W93tSNVAPs",
    "outputId": "ce30a291-df1d-45de-c938-68d40ac83a7e"
   },
   "outputs": [],
   "source": [
    "\n",
    "\n"
   ]
  },
  {
   "cell_type": "markdown",
   "metadata": {},
   "source": [
    "Lists\n",
    "\n",
    "A Python list is the most common way to store a group of values. It is quite similar to arrays in Java or C, but has the following differences:\n",
    "- It can contain different types of values\n",
    "- It's length will vary when values are added or removed to the list"
   ]
  },
  {
   "cell_type": "code",
   "execution_count": null,
   "metadata": {},
   "outputs": [],
   "source": [
    "# A list\n",
    "a = 5\n",
    "vals = [\"Monday\", 25, False, 3.14, a, [1, 2, 3, 4]]\n",
    "print(vals[0])"
   ]
  },
  {
   "cell_type": "markdown",
   "metadata": {},
   "source": [
    "### For Loops"
   ]
  },
  {
   "cell_type": "code",
   "execution_count": null,
   "metadata": {
    "colab": {
     "base_uri": "https://localhost:8080/",
     "height": 1000
    },
    "colab_type": "code",
    "id": "eFXXpPXpW8NT",
    "outputId": "85e3bf92-3d76-47f8-99f7-ef74afd28532"
   },
   "outputs": [],
   "source": [
    "# loops:\n",
    "# in java: for (i=0; condition; update i)\n",
    "# in python: for var in an iterable object (such as a list):\n",
    "for letter in ['B', 'A', 'C', 'D', 'E']:\n",
    "    print(letter) # all statements in the for loop should be indented\n",
    "print(letter) # THis line will only be executed when the loop ends"
   ]
  },
  {
   "cell_type": "code",
   "execution_count": null,
   "metadata": {
    "colab": {
     "base_uri": "https://localhost:8080/",
     "height": 34
    },
    "colab_type": "code",
    "id": "V4GA2dpgXfPt",
    "outputId": "52dee43c-f81a-4670-b966-61b69f529144"
   },
   "outputs": [],
   "source": [
    "# The range() function can produce a sequence of integers\n",
    "for i in range(5, 12): # it contains integers from 0 (inclusive) to 10 (exclusive)\n",
    "    print(i)"
   ]
  },
  {
   "cell_type": "code",
   "execution_count": null,
   "metadata": {
    "colab": {
     "base_uri": "https://localhost:8080/",
     "height": 357
    },
    "colab_type": "code",
    "id": "EHo_-nuqXgMQ",
    "outputId": "81beb49b-947a-46fb-ab35-18a2ef485e54",
    "scrolled": true
   },
   "outputs": [],
   "source": [
    "# use multiple loop index in a for loop\n",
    "for i, j in zip(range(10), range(10,20)):\n",
    "    print(\"i:\", i, end=\", \")\n",
    "    print(\"j:\", j)"
   ]
  },
  {
   "cell_type": "code",
   "execution_count": null,
   "metadata": {
    "colab": {
     "base_uri": "https://localhost:8080/",
     "height": 102
    },
    "colab_type": "code",
    "id": "2Hc4ObNBYedT",
    "outputId": "47064d10-cce4-4bb5-9e28-16d7f99939d7",
    "scrolled": true
   },
   "outputs": [],
   "source": [
    "# Nested loops\n",
    "for x in range (10):\n",
    "    for y in range(x):\n",
    "        print(str(x) + \" x \" + str(y) + \" = \" + str(x*y))"
   ]
  },
  {
   "cell_type": "markdown",
   "metadata": {
    "colab_type": "text",
    "id": "H90kF1McYKD7"
   },
   "source": [
    "## Exercise 3"
   ]
  },
  {
   "cell_type": "code",
   "execution_count": null,
   "metadata": {
    "colab": {
     "base_uri": "https://localhost:8080/",
     "height": 34
    },
    "colab_type": "code",
    "id": "dCQAsa2QYxYd",
    "outputId": "d95c6db9-abd0-4a3f-bfbf-37868cbed173",
    "scrolled": true
   },
   "outputs": [],
   "source": [
    "# Print a pyramid using ^\n",
    "#     ^\n",
    "#    ^^^\n",
    "#   ^^^^^\n",
    "#  ^^^^^^^\n",
    "# ^^^^^^^^^"
   ]
  },
  {
   "cell_type": "code",
   "execution_count": null,
   "metadata": {},
   "outputs": [],
   "source": [
    "\n",
    "\n",
    "\n",
    "\n"
   ]
  },
  {
   "cell_type": "markdown",
   "metadata": {
    "colab_type": "text",
    "id": "nVPw0ibcZR8x"
   },
   "source": [
    "## Data Structures for Multiple Values"
   ]
  },
  {
   "cell_type": "markdown",
   "metadata": {
    "colab_type": "text",
    "id": "k80AfR2gZbII"
   },
   "source": [
    "## Lists (Similar to Java arrays)"
   ]
  },
  {
   "cell_type": "code",
   "execution_count": null,
   "metadata": {
    "colab": {},
    "colab_type": "code",
    "id": "wCJlbNuPZe5h"
   },
   "outputs": [],
   "source": [
    "values = [1, 3, 5, 7, 9]"
   ]
  },
  {
   "cell_type": "code",
   "execution_count": null,
   "metadata": {
    "colab": {
     "base_uri": "https://localhost:8080/",
     "height": 68
    },
    "colab_type": "code",
    "id": "0ddU0Kk4ZlU-",
    "outputId": "26e5dcb1-2333-43d4-a043-49f288519af0"
   },
   "outputs": [],
   "source": [
    "# Print the list\n",
    "print(values)\n",
    "# Extract a value from the list\n",
    "print(values[0])  # gives 1\n",
    "print(values[1])  # gives 3\n",
    "print(values[4])"
   ]
  },
  {
   "cell_type": "code",
   "execution_count": null,
   "metadata": {
    "colab": {
     "base_uri": "https://localhost:8080/",
     "height": 51
    },
    "colab_type": "code",
    "id": "H62wOZt1ZoZj",
    "outputId": "bd9356a0-7c20-4c1e-d67e-f78fa04df335"
   },
   "outputs": [],
   "source": [
    "# Lists supports negative index\n",
    "print(values[-1])  # gives the last value in the list\n",
    "print(values[-2])  # gives the second-to-last value"
   ]
  },
  {
   "cell_type": "code",
   "execution_count": null,
   "metadata": {
    "colab": {
     "base_uri": "https://localhost:8080/",
     "height": 164
    },
    "colab_type": "code",
    "id": "3rJf4DKIaEmZ",
    "outputId": "c4eb5424-8d9c-4747-9736-ad585b535ff5",
    "scrolled": true
   },
   "outputs": [],
   "source": [
    "values[10] # gives an IndexError"
   ]
  },
  {
   "cell_type": "code",
   "execution_count": null,
   "metadata": {
    "colab": {
     "base_uri": "https://localhost:8080/",
     "height": 51
    },
    "colab_type": "code",
    "id": "v5Hw8osmaUou",
    "outputId": "d157fe7b-13da-4de9-de06-4fd34d4f58a6",
    "scrolled": true
   },
   "outputs": [],
   "source": [
    "# List slicing\n",
    "print(values[0:3])  # Extracts the first 3 values\n",
    "print(values[:3])   # has the same effect"
   ]
  },
  {
   "cell_type": "code",
   "execution_count": null,
   "metadata": {},
   "outputs": [],
   "source": [
    "# A slice of list creates a new copy of the values\n",
    "names = ['Alice', 'Bob', 'Charle', 'David', 'Edward']\n",
    "sub_names = names[1:4]\n",
    "\n",
    "names[1] = 'Brian'\n",
    "print(names)\n",
    "print(sub_names)"
   ]
  },
  {
   "cell_type": "code",
   "execution_count": null,
   "metadata": {
    "colab": {
     "base_uri": "https://localhost:8080/",
     "height": 51
    },
    "colab_type": "code",
    "id": "V_Sxs1nEarjQ",
    "outputId": "856419f6-0f3f-4545-c654-2ac0566589d0"
   },
   "outputs": [],
   "source": [
    "print(values[1:4])  # Extracts the middle 3 values\n",
    "print(values[1:-1])"
   ]
  },
  {
   "cell_type": "code",
   "execution_count": null,
   "metadata": {
    "colab": {
     "base_uri": "https://localhost:8080/",
     "height": 51
    },
    "colab_type": "code",
    "id": "W4VFYw6TbNgL",
    "outputId": "c07a3d17-cdde-4c09-f90a-4585b545be02"
   },
   "outputs": [],
   "source": [
    "print(values[1:5])  # Extracts all values starting from the second value\n",
    "print(values[1:])"
   ]
  },
  {
   "cell_type": "code",
   "execution_count": null,
   "metadata": {
    "colab": {},
    "colab_type": "code",
    "id": "yvuMK_ZNbe1R"
   },
   "outputs": [],
   "source": [
    "# A list can contain values of different types\n",
    "list1 = [123, 0.357, \"Wednesday\", True, False, [1, 2, 3]]"
   ]
  },
  {
   "cell_type": "code",
   "execution_count": null,
   "metadata": {
    "colab": {
     "base_uri": "https://localhost:8080/",
     "height": 34
    },
    "colab_type": "code",
    "id": "hdtRvZY7cAWW",
    "outputId": "3730dd7a-a26b-4bc9-edb2-3ed7613e2884"
   },
   "outputs": [],
   "source": [
    "print(list1[2])"
   ]
  },
  {
   "cell_type": "code",
   "execution_count": null,
   "metadata": {
    "colab": {
     "base_uri": "https://localhost:8080/",
     "height": 34
    },
    "colab_type": "code",
    "id": "nu4YnstlcF22",
    "outputId": "5f7af8db-3dc2-47ae-c2c8-64713765286b"
   },
   "outputs": [],
   "source": [
    "print(list1[-1][1])"
   ]
  },
  {
   "cell_type": "code",
   "execution_count": null,
   "metadata": {
    "colab": {
     "base_uri": "https://localhost:8080/",
     "height": 102
    },
    "colab_type": "code",
    "id": "5XPbSDTVcIwS",
    "outputId": "8eec533f-ad3d-4b0a-8234-c239e274053a"
   },
   "outputs": [],
   "source": [
    "# Useful methods\n",
    "# length of a list\n",
    "print(len(list1))\n",
    "# append a value to a list\n",
    "list1.append(4)\n",
    "print(list1)\n",
    "# extract and remove the last value of a list\n",
    "val = list1.pop()\n",
    "print(val)\n",
    "# print(list1)\n",
    "# find the index of a value\n",
    "ind = list1.index(\"Wednesday\")\n",
    "print(ind)"
   ]
  },
  {
   "cell_type": "code",
   "execution_count": null,
   "metadata": {
    "colab": {
     "base_uri": "https://localhost:8080/",
     "height": 68
    },
    "colab_type": "code",
    "id": "DuSWsZn7c-Hu",
    "outputId": "88392688-6e02-4a5d-b5ca-110cce66a86b"
   },
   "outputs": [],
   "source": [
    "# Looping through a list\n",
    "names = [\"Alice\", \"Bob\", \"Clare\"]\n",
    "for name in names:\n",
    "    print(name)"
   ]
  },
  {
   "cell_type": "code",
   "execution_count": null,
   "metadata": {
    "colab": {
     "base_uri": "https://localhost:8080/",
     "height": 68
    },
    "colab_type": "code",
    "id": "CsZWhmXYeBbL",
    "outputId": "48461e05-79a9-4813-f5fb-43cc9075dc99"
   },
   "outputs": [],
   "source": [
    "# Looping with index\n",
    "for idx, name in enumerate(names):\n",
    "    print(str(idx) + \"  \" + name)"
   ]
  },
  {
   "cell_type": "code",
   "execution_count": null,
   "metadata": {
    "colab": {
     "base_uri": "https://localhost:8080/",
     "height": 34
    },
    "colab_type": "code",
    "id": "dXXjydKLeY8I",
    "outputId": "975b4197-eb52-4737-f4b7-9bc02b067568"
   },
   "outputs": [],
   "source": [
    "# list comprehension: transform a list without a for loop\n",
    "scores = [60, 70, 90, 85]\n",
    "# add 5 to each score\n",
    "new_scores = []\n",
    "for score in scores:\n",
    "    new_score = score + 5\n",
    "    new_scores.append(new_score)\n",
    "print(new_scores)"
   ]
  },
  {
   "cell_type": "code",
   "execution_count": null,
   "metadata": {
    "colab": {
     "base_uri": "https://localhost:8080/",
     "height": 34
    },
    "colab_type": "code",
    "id": "Ma-83YvwfOjV",
    "outputId": "5852174b-b952-48ce-bb9a-7ff33c3b80fc"
   },
   "outputs": [],
   "source": [
    "# Alternatively, use list comprehension can do this in one statement\n",
    "new_scores = [ val+5 for val in scores ] # [ expression + where the values come from ]\n",
    "print(new_scores)"
   ]
  },
  {
   "cell_type": "code",
   "execution_count": null,
   "metadata": {},
   "outputs": [],
   "source": [
    "# What if I want to increase everyone's score by 10%?\n",
    "curved_scores = [ score * 1.1 for score in scores]\n",
    "print(curved_scores)"
   ]
  },
  {
   "cell_type": "markdown",
   "metadata": {
    "colab_type": "text",
    "id": "ZYS2mP0jf86K"
   },
   "source": [
    "# Exercise\n",
    "Give a list `ary = [1, 3, 5, 7, 11]`, create a new list `ary2` whose values are twice the values in ary."
   ]
  },
  {
   "cell_type": "code",
   "execution_count": null,
   "metadata": {
    "colab": {
     "base_uri": "https://localhost:8080/",
     "height": 34
    },
    "colab_type": "code",
    "id": "MX6sh-bNgSYF",
    "outputId": "e62463d0-09b8-4748-af51-18e874a33aad"
   },
   "outputs": [],
   "source": [
    "ary = [1, 3, 5, 7, 11]\n",
    "ary2 = [ val * 2 for val in ary]\n",
    "print(ary2)"
   ]
  },
  {
   "cell_type": "markdown",
   "metadata": {
    "colab_type": "text",
    "id": "4v7-gD-ikV0M"
   },
   "source": [
    "## Sets"
   ]
  },
  {
   "cell_type": "code",
   "execution_count": null,
   "metadata": {
    "colab": {
     "base_uri": "https://localhost:8080/",
     "height": 34
    },
    "colab_type": "code",
    "id": "sCV5ASv_klt4",
    "outputId": "30b219b0-b50c-4f00-f5be-494831e2c90c"
   },
   "outputs": [],
   "source": [
    "set1 = {1, 2, 3, 4}\n",
    "print(set1)"
   ]
  },
  {
   "cell_type": "code",
   "execution_count": null,
   "metadata": {
    "colab": {
     "base_uri": "https://localhost:8080/",
     "height": 34
    },
    "colab_type": "code",
    "id": "VaHbSxrSkruz",
    "outputId": "e7d85733-cdca-4992-f443-4e00af7f4577"
   },
   "outputs": [],
   "source": [
    "# A set cannot contain repeated values\n",
    "set2 = {1, 2, 2, 3, 3, 3}\n",
    "print(set2)"
   ]
  },
  {
   "cell_type": "code",
   "execution_count": null,
   "metadata": {
    "colab": {
     "base_uri": "https://localhost:8080/",
     "height": 34
    },
    "colab_type": "code",
    "id": "ZZAsIgiKk1Ya",
    "outputId": "8a6eb53c-925b-4786-b02d-67590ed68b26"
   },
   "outputs": [],
   "source": [
    "# convert between lists and sets\n",
    "list2 = [1, 2, 3, 4]\n",
    "set2 = set(list2)\n",
    "print(set2)"
   ]
  },
  {
   "cell_type": "code",
   "execution_count": null,
   "metadata": {
    "colab": {
     "base_uri": "https://localhost:8080/",
     "height": 34
    },
    "colab_type": "code",
    "id": "UhlyAdhLlG8K",
    "outputId": "d69d8a6c-2671-4dbe-b5ff-be4afc5748c6"
   },
   "outputs": [],
   "source": [
    "list3 = [1, 2, 2, 3, 3, 4, 4, 5]\n",
    "set3 = set(list3)\n",
    "print(set3)\n",
    "\n",
    "list3_updated = list(set3)\n",
    "print(list3_updated)"
   ]
  },
  {
   "cell_type": "markdown",
   "metadata": {
    "colab_type": "text",
    "id": "vk_YVuWvmcRe"
   },
   "source": [
    "# Tuples"
   ]
  },
  {
   "cell_type": "code",
   "execution_count": null,
   "metadata": {
    "colab": {
     "base_uri": "https://localhost:8080/",
     "height": 34
    },
    "colab_type": "code",
    "id": "7BBcBCokmnlv",
    "outputId": "c26fc2b3-986a-46ac-c1af-ede8afb5ff42"
   },
   "outputs": [],
   "source": [
    "# Tuples are immutable\n",
    "tuple1 = (1, 2, 3)\n",
    "list1 = [1, 2, 3]\n",
    "\n",
    "list1[0] = 100\n",
    "print(list1)"
   ]
  },
  {
   "cell_type": "code",
   "execution_count": null,
   "metadata": {},
   "outputs": [],
   "source": [
    "print(tuple1[0])\n",
    "tuple1[0] = 100 # Tuples cannot be modified"
   ]
  },
  {
   "cell_type": "markdown",
   "metadata": {
    "colab_type": "text",
    "id": "1m6PmF2lmw6p"
   },
   "source": [
    "## Dictionary (similar to Java Map)"
   ]
  },
  {
   "cell_type": "code",
   "execution_count": null,
   "metadata": {
    "colab": {},
    "colab_type": "code",
    "id": "LvUCexFanNS-"
   },
   "outputs": [],
   "source": [
    "scores = {\n",
    "    \"Alice\": 85,\n",
    "    \"Bob\": 87,\n",
    "    \"Clare\": 88\n",
    "}"
   ]
  },
  {
   "cell_type": "code",
   "execution_count": null,
   "metadata": {
    "colab": {
     "base_uri": "https://localhost:8080/",
     "height": 34
    },
    "colab_type": "code",
    "id": "AQh_CshBow_l",
    "outputId": "95a33f43-f702-4f6c-93ee-869227a755a0"
   },
   "outputs": [],
   "source": [
    "# Extract values from dictionary\n",
    "print(scores[\"Alice\"])"
   ]
  },
  {
   "cell_type": "code",
   "execution_count": null,
   "metadata": {
    "colab": {
     "base_uri": "https://localhost:8080/",
     "height": 34
    },
    "colab_type": "code",
    "id": "J2J5HHgnpB23",
    "outputId": "2bba46d2-f181-4046-e88e-4ff1e1842c6d"
   },
   "outputs": [],
   "source": [
    "# Check if an item is in the dictionary\n",
    "print(\"David\" in scores)"
   ]
  },
  {
   "cell_type": "markdown",
   "metadata": {
    "colab": {},
    "colab_type": "code",
    "id": "rPqtfjxppWw4"
   },
   "source": [
    "## Python Functions"
   ]
  },
  {
   "cell_type": "code",
   "execution_count": null,
   "metadata": {},
   "outputs": [],
   "source": [
    "def get_sum(list1):\n",
    "    \"\"\"\n",
    "    Returns the sum of list1.\n",
    "    \"\"\"\n",
    "    sum = 0\n",
    "    for val in list1:\n",
    "        sum += val\n",
    "    return sum"
   ]
  },
  {
   "cell_type": "code",
   "execution_count": null,
   "metadata": {},
   "outputs": [],
   "source": [
    "??get_sum # This shows the source code of the function"
   ]
  },
  {
   "cell_type": "code",
   "execution_count": null,
   "metadata": {
    "scrolled": true
   },
   "outputs": [],
   "source": [
    "list2 = [1, 2, 3, 4]\n",
    "print(get_sum(list2))"
   ]
  },
  {
   "cell_type": "code",
   "execution_count": null,
   "metadata": {},
   "outputs": [],
   "source": [
    "# A Python function can return more than one item\n",
    "def get_sum_and_average(values):\n",
    "    \"\"\"\n",
    "    Returns the sum and the average of a list.\n",
    "    \"\"\"\n",
    "    sum_val = get_sum(values)\n",
    "    avg = sum_val / len(values)\n",
    "    return sum_val, avg"
   ]
  },
  {
   "cell_type": "code",
   "execution_count": null,
   "metadata": {},
   "outputs": [],
   "source": [
    "list_sum, list_avg = get_sum_and_average(list2)\n",
    "print(list_sum, list_avg)"
   ]
  },
  {
   "cell_type": "code",
   "execution_count": null,
   "metadata": {},
   "outputs": [],
   "source": [
    "# Use _ as a placeholder if you only need the second returned value.\n",
    "_, avg = get_sum_and_average(list2)\n",
    "print(avg)"
   ]
  },
  {
   "cell_type": "code",
   "execution_count": null,
   "metadata": {},
   "outputs": [],
   "source": [
    "# A function parameter can have a default value.\n",
    "def add(x, y=30, z=50):\n",
    "    \n",
    "    return x + y + z"
   ]
  },
  {
   "cell_type": "code",
   "execution_count": null,
   "metadata": {
    "scrolled": true
   },
   "outputs": [],
   "source": [
    "print(add(100, 200))\n",
    "print(add(100))\n",
    "# What if I want y to take its default value and z to take a new value?\n",
    "# Example: 100 + 30 + 500\n",
    "print(add(100, z=500))"
   ]
  },
  {
   "cell_type": "markdown",
   "metadata": {},
   "source": [
    "## Classes"
   ]
  },
  {
   "cell_type": "code",
   "execution_count": null,
   "metadata": {},
   "outputs": [],
   "source": [
    "class Person():\n",
    "    \n",
    "    def __init__(self, name, age): # This is the name of class constructor. There are two underscores before\n",
    "                                    # and after the word \"init\"\n",
    "        self.name = name\n",
    "        self.age = age\n",
    "        \n",
    "    def print_info(self):\n",
    "        print(self.name + \" | \" + str(self.age))"
   ]
  },
  {
   "cell_type": "code",
   "execution_count": null,
   "metadata": {},
   "outputs": [],
   "source": [
    "me = Person(\"Liang\", 34)"
   ]
  },
  {
   "cell_type": "code",
   "execution_count": null,
   "metadata": {},
   "outputs": [],
   "source": [
    "me.print_info()"
   ]
  },
  {
   "cell_type": "markdown",
   "metadata": {},
   "source": [
    "## String Manipulation"
   ]
  },
  {
   "cell_type": "code",
   "execution_count": null,
   "metadata": {},
   "outputs": [],
   "source": [
    "sentence = \"Winter is coming.\"\n",
    "sentence2 = \"Help! \" * 3\n",
    "sentence3 = sentence + \" \" + sentence2\n",
    "# print(sentence2)\n",
    "# print(sentence3)"
   ]
  },
  {
   "cell_type": "code",
   "execution_count": null,
   "metadata": {},
   "outputs": [],
   "source": [
    "# Use [ ] to access characters in a string\n",
    "sentence[10]"
   ]
  },
  {
   "cell_type": "code",
   "execution_count": null,
   "metadata": {},
   "outputs": [],
   "source": [
    "# length\n",
    "len(sentence)"
   ]
  },
  {
   "cell_type": "code",
   "execution_count": null,
   "metadata": {},
   "outputs": [],
   "source": [
    "# Count the occurance of a substring\n",
    "print(sentence.count(\"i\"))"
   ]
  },
  {
   "cell_type": "code",
   "execution_count": null,
   "metadata": {},
   "outputs": [],
   "source": [
    "# Find the index of a substring\n",
    "print(sentence.find(\"i\"))\n",
    "# print(sentence.find(\"i\", 5))\n",
    "# print(sentence.find(\"u\"))\n",
    "\n",
    "# print(sentence.index(\"i\"))\n",
    "# print(sentence.index(\"i\", 5))\n",
    "# print(sentence.index(\"u\"))"
   ]
  },
  {
   "cell_type": "code",
   "execution_count": null,
   "metadata": {},
   "outputs": [],
   "source": [
    "# slicing\n",
    "sentence[:6]"
   ]
  },
  {
   "cell_type": "code",
   "execution_count": null,
   "metadata": {},
   "outputs": [],
   "source": [
    "# Change to upper or lower case\n",
    "sentence.upper()"
   ]
  },
  {
   "cell_type": "code",
   "execution_count": null,
   "metadata": {},
   "outputs": [],
   "source": [
    "# splitting\n",
    "words = sentence.split(\" \")\n",
    "print(words)"
   ]
  },
  {
   "cell_type": "code",
   "execution_count": null,
   "metadata": {},
   "outputs": [],
   "source": [
    "# Remove unwanted characters at the start and the end.\n",
    "word = \"      Alex    \"\n",
    "word.strip()"
   ]
  },
  {
   "cell_type": "code",
   "execution_count": null,
   "metadata": {},
   "outputs": [],
   "source": [
    "[word.strip(\".\") for word in words]"
   ]
  },
  {
   "cell_type": "code",
   "execution_count": null,
   "metadata": {},
   "outputs": [],
   "source": [
    "# Joining\n",
    "\" \".join(words)"
   ]
  },
  {
   "cell_type": "code",
   "execution_count": null,
   "metadata": {},
   "outputs": [],
   "source": [
    "# formatted strings\n",
    "answer = 1 / 3\n",
    "print(\"Answer is:\", answer)\n",
    "print(\"Answer is: %.2f\" % answer)"
   ]
  },
  {
   "cell_type": "code",
   "execution_count": null,
   "metadata": {},
   "outputs": [],
   "source": []
  }
 ],
 "metadata": {
  "colab": {
   "name": "CMP464Week02",
   "provenance": []
  },
  "kernelspec": {
   "display_name": "Python 3 (ipykernel)",
   "language": "python",
   "name": "python3"
  },
  "language_info": {
   "codemirror_mode": {
    "name": "ipython",
    "version": 3
   },
   "file_extension": ".py",
   "mimetype": "text/x-python",
   "name": "python",
   "nbconvert_exporter": "python",
   "pygments_lexer": "ipython3",
   "version": "3.8.5"
  }
 },
 "nbformat": 4,
 "nbformat_minor": 1
}
