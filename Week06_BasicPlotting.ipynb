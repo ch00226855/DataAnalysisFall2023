{
 "cells": [
  {
   "cell_type": "markdown",
   "metadata": {},
   "source": [
    "# Week 6\n",
    "# Introduction to Python Plotting Tools\n",
    "\n",
    "Making informative visualizations of data is one of the most important tasks in data analysis.\n",
    "- Learn the distribution of data\n",
    "- Explore trends and patterns in data\n",
    "- Identify outliers\n",
    "- Generate ideas for modeling\n",
    "- Present your findings\n",
    "\n",
    "Today, we will study how to create several most frequently-used types of plots in Python.\n",
    "- Scatter plots\n",
    "- Bar plots\n",
    "- Histograms\n",
    "- Pie plots\n",
    "- Box plots\n",
    "\n",
    "Readings:\n",
    "- Textbook Chapter 8"
   ]
  },
  {
   "cell_type": "code",
   "execution_count": null,
   "metadata": {},
   "outputs": [],
   "source": [
    "import numpy as np\n",
    "import pandas as pd\n",
    "import matplotlib.pyplot as plt\n",
    "%matplotlib inline \n",
    "# A \"magic\" command that asks for the graphs to be displayed immediately"
   ]
  },
  {
   "cell_type": "markdown",
   "metadata": {},
   "source": [
    "## Scatter Plots\n",
    "A **scatter plot** uses dots to represent values for two numerical variables. The position of each dot represents an instance of data. Scatter plots are helpful for identifying relationships between variables."
   ]
  },
  {
   "cell_type": "code",
   "execution_count": null,
   "metadata": {},
   "outputs": [],
   "source": [
    "# A simple example of scatter plots\n",
    "# Source: https://www.who.int/growthref/hfa_boys_5_19years_z.pdf?ua=1\n",
    "heights_boys = pd.DataFrame({'Age': range(5, 20),\n",
    "                   'Height': [110, 116, 122, 127, 133, 137, 143, 149, 156, 163, 169, 173, 175, 176, 176.5]})\n",
    "heights_boys"
   ]
  },
  {
   "cell_type": "code",
   "execution_count": null,
   "metadata": {
    "scrolled": false
   },
   "outputs": [],
   "source": [
    "# Plot Age vs. Heights\n",
    "plt.plot(heights_boys['Age'], heights_boys['Height'])"
   ]
  },
  {
   "cell_type": "code",
   "execution_count": null,
   "metadata": {},
   "outputs": [],
   "source": [
    "# Add descriptions to the figure\n",
    "plt.plot(heights_boys['Age'], heights_boys['Height'], 'r.-') \n",
    "# r means red color, . means using a dot for each point\n",
    "plt.title(\"Average Height for Boys\")\n",
    "plt.xlabel(\"Age\")\n",
    "plt.ylabel(\"Height (cm)\")"
   ]
  },
  {
   "cell_type": "code",
   "execution_count": null,
   "metadata": {},
   "outputs": [],
   "source": [
    "# Multiple sequences of data\n",
    "heights = pd.DataFrame({'Age': range(5, 20),\n",
    "                        'BoyHeight': [110, 116, 122, 127, 133, 137, 143, 149, 156, 163, 169, 173, 175, 176, 176.5],\n",
    "                        'GirlHeight': [109.6, 115, 121, 126.5, 132.5, 139, 145, 151, 156, 160, 161.7, 162.5, 162.8, 163, 163.2]})\n",
    "heights"
   ]
  },
  {
   "cell_type": "code",
   "execution_count": null,
   "metadata": {},
   "outputs": [],
   "source": [
    "plt.figure(figsize=(10, 7))\n",
    "plt.plot(heights['Age'], heights['BoyHeight'], 'r^', label=\"Boys\")\n",
    "plt.plot(heights['Age'], heights['GirlHeight'], 'gs', label='Girls')\n",
    "plt.title(\"Average Heights\")\n",
    "plt.xlabel(\"Age\")\n",
    "plt.ylabel(\"Height (cm)\")\n",
    "plt.legend()"
   ]
  },
  {
   "cell_type": "markdown",
   "metadata": {},
   "source": [
    "**Q: What can we see from this plot?**\n",
    "- Range?\n",
    "- Trend?\n",
    "- Comparison?"
   ]
  },
  {
   "cell_type": "code",
   "execution_count": null,
   "metadata": {},
   "outputs": [],
   "source": [
    "# Scatter plots can also be created using plt.scatter()\n",
    "plt.figure(figsize=(10, 7))\n",
    "plt.scatter(heights['Age'], heights['BoyHeight'], marker='^', c='r',\n",
    "           label=\"boys\")\n",
    "plt.scatter(heights['Age'], heights['GirlHeight'], marker='s', c='g',\n",
    "           label=\"girls\")\n",
    "plt.title(\"Average Heights\")\n",
    "plt.xlabel(\"Age\")\n",
    "plt.ylabel(\"Height (cm)\")\n",
    "plt.legend()"
   ]
  },
  {
   "cell_type": "markdown",
   "metadata": {},
   "source": [
    "## Bar Plots\n",
    "\n",
    "Bar plots are useful for presenting labeled data."
   ]
  },
  {
   "cell_type": "code",
   "execution_count": null,
   "metadata": {},
   "outputs": [],
   "source": [
    "df = pd.DataFrame([[67, 76],\n",
    "                   [78, 87],\n",
    "                   [89, 98],\n",
    "                   [90, 95]],\n",
    "                  index=['Alice', 'Bob', 'Clare', 'David'],\n",
    "                  columns=['Midterm', 'Final'])\n",
    "df"
   ]
  },
  {
   "cell_type": "code",
   "execution_count": null,
   "metadata": {},
   "outputs": [],
   "source": [
    "df['Midterm'].plot.bar(color='r', figsize=(10, 6))"
   ]
  },
  {
   "cell_type": "code",
   "execution_count": null,
   "metadata": {},
   "outputs": [],
   "source": [
    "# We can also create a bar plot using plt.bar()\n",
    "plt.bar(df.index, df['Midterm'], color='r', width=0.5)"
   ]
  },
  {
   "cell_type": "code",
   "execution_count": null,
   "metadata": {
    "scrolled": false
   },
   "outputs": [],
   "source": [
    "df[['Midterm', 'Final']].plot.bar()"
   ]
  },
  {
   "cell_type": "code",
   "execution_count": null,
   "metadata": {},
   "outputs": [],
   "source": [
    "df['Midterm', 'Final'].plot.bar() # MISTAKE: forget to put column names in a list"
   ]
  },
  {
   "cell_type": "code",
   "execution_count": null,
   "metadata": {},
   "outputs": [],
   "source": [
    "df[['Midterm', 'Final']].plot.bar(stacked=True)"
   ]
  },
  {
   "cell_type": "code",
   "execution_count": null,
   "metadata": {},
   "outputs": [],
   "source": [
    "df[['Midterm', 'Final']].plot.barh(stacked=True)"
   ]
  },
  {
   "cell_type": "markdown",
   "metadata": {},
   "source": [
    "## Histograms\n",
    "**Histograms** are useful for showing the distribution of a variable\n",
    "- Each bar cover a range of values.\n",
    "- The height of each bar represents the number of data in the corresponding range.\n",
    "- Boundary values are counted towards the left bar by convention."
   ]
  },
  {
   "cell_type": "code",
   "execution_count": null,
   "metadata": {},
   "outputs": [],
   "source": [
    "# Generate 100 values using np.random.rand()\n",
    "df = pd.DataFrame(np.random.rand(10000), columns=['Rand'])\n",
    "df"
   ]
  },
  {
   "cell_type": "code",
   "execution_count": null,
   "metadata": {},
   "outputs": [],
   "source": [
    "df['Rand'].hist() # Uniform distribution"
   ]
  },
  {
   "cell_type": "code",
   "execution_count": null,
   "metadata": {},
   "outputs": [],
   "source": [
    "# Add a column 'Randn' with values generated by np.random.randn()\n",
    "df['Randn'] = np.random.randn(10000)\n",
    "df"
   ]
  },
  {
   "cell_type": "code",
   "execution_count": null,
   "metadata": {},
   "outputs": [],
   "source": [
    "# df['Randn'].hist()\n",
    "df['Randn'].plot.hist(bins=100) # Normal distribution (Gaussian distribution)"
   ]
  },
  {
   "cell_type": "code",
   "execution_count": null,
   "metadata": {},
   "outputs": [],
   "source": [
    "df[['Randn', 'Rand']].plot.hist(alpha=0.7, bins=100)"
   ]
  },
  {
   "cell_type": "markdown",
   "metadata": {},
   "source": [
    "## Pie Plots\n",
    "\n",
    "**Pie Plots** are useful for showing the proportion of values."
   ]
  },
  {
   "cell_type": "code",
   "execution_count": null,
   "metadata": {},
   "outputs": [],
   "source": [
    "df = pd.DataFrame([5, 10, 20, 7, 3],\n",
    "                  index=['A', 'B', 'C', 'D', 'F'],\n",
    "                  columns=['Students'])\n",
    "df"
   ]
  },
  {
   "cell_type": "code",
   "execution_count": null,
   "metadata": {
    "scrolled": true
   },
   "outputs": [],
   "source": [
    "df['Students'].plot.pie()\n",
    "df['Students'].plot.pie(autopct='%.2f', figsize=(6, 6))\n",
    "plt.title(\"Grade Distribution\")"
   ]
  },
  {
   "cell_type": "code",
   "execution_count": null,
   "metadata": {},
   "outputs": [],
   "source": [
    "# We can also create a pie chart using plt.pie()\n",
    "plt.pie(df['Students'], labels=df.index, autopct=\"%.2f\")\n",
    "plt.title(\"Grade Distribution\")\n",
    "plt.show() # Only show the final plot"
   ]
  },
  {
   "cell_type": "markdown",
   "metadata": {},
   "source": [
    "## Box Plots\n",
    "\n",
    "**Box plots** are used for depicting groups of numerical data through their quartiles\n",
    "\n",
    "- Upper edge: 75% quartile (75% of data are below this value)\n",
    "- Lower edge: 25% quartile (25% of data are below this value)\n",
    "- Middle line: median value (50% of data are below this value)\n",
    "- Upper bar: upper *interquartile range* (values above this bar are considered outliers)\n",
    "- Lower bar: lower *interquartile range* (values below this bar are considered outliers)\n",
    "- Dots: outliers"
   ]
  },
  {
   "cell_type": "code",
   "execution_count": null,
   "metadata": {},
   "outputs": [],
   "source": [
    "# Import the iris dataset\n",
    "from sklearn import datasets\n",
    "iris_raw = datasets.load_iris()\n",
    "iris_raw"
   ]
  },
  {
   "cell_type": "markdown",
   "metadata": {},
   "source": [
    "<img src=\"https://gadictos.com/wp-content/uploads/2019/03/iris-machinelearning-1060x397.png\">"
   ]
  },
  {
   "cell_type": "code",
   "execution_count": null,
   "metadata": {},
   "outputs": [],
   "source": [
    "# Turn the data into a data frame\n",
    "iris_df = pd.DataFrame(data=iris_raw['data'],\n",
    "                       columns=iris_raw['feature_names'])\n",
    "iris_df"
   ]
  },
  {
   "cell_type": "code",
   "execution_count": null,
   "metadata": {},
   "outputs": [],
   "source": [
    "iris_df.plot.box(figsize=(10, 6))"
   ]
  },
  {
   "cell_type": "code",
   "execution_count": null,
   "metadata": {},
   "outputs": [],
   "source": [
    "# Add target labels\n",
    "iris_df['Target'] = iris_raw['target']\n",
    "iris_df"
   ]
  },
  {
   "cell_type": "code",
   "execution_count": null,
   "metadata": {},
   "outputs": [],
   "source": [
    "iris_raw['target_names']"
   ]
  },
  {
   "cell_type": "markdown",
   "metadata": {},
   "source": [
    "**1. What is the distribution of sepal length for each type of iris?**"
   ]
  },
  {
   "cell_type": "code",
   "execution_count": null,
   "metadata": {},
   "outputs": [],
   "source": []
  },
  {
   "cell_type": "markdown",
   "metadata": {},
   "source": [
    "**Observation:** "
   ]
  },
  {
   "cell_type": "markdown",
   "metadata": {},
   "source": [
    "**2. What is the distribution of petal length for each type of iris?**"
   ]
  },
  {
   "cell_type": "code",
   "execution_count": null,
   "metadata": {
    "scrolled": true
   },
   "outputs": [],
   "source": []
  },
  {
   "cell_type": "markdown",
   "metadata": {},
   "source": [
    "**Observations:**\n"
   ]
  },
  {
   "cell_type": "markdown",
   "metadata": {},
   "source": [
    "**3. What is the distribution of sepal length and width for each type of iris?**"
   ]
  },
  {
   "cell_type": "code",
   "execution_count": null,
   "metadata": {},
   "outputs": [],
   "source": []
  },
  {
   "cell_type": "markdown",
   "metadata": {},
   "source": [
    "**4. What is the distribution of petal length and width for each type of iris?**"
   ]
  },
  {
   "cell_type": "code",
   "execution_count": null,
   "metadata": {},
   "outputs": [],
   "source": []
  },
  {
   "cell_type": "markdown",
   "metadata": {},
   "source": [
    "**Observation**:\n"
   ]
  },
  {
   "cell_type": "markdown",
   "metadata": {},
   "source": [
    "**5. Based on the above observations, can you come up with a simple rule for classification?**"
   ]
  },
  {
   "cell_type": "markdown",
   "metadata": {},
   "source": [
    "Rules:\n"
   ]
  },
  {
   "cell_type": "markdown",
   "metadata": {},
   "source": [
    "**6. Can you show the accuracy of your classification rules on each type of iris?**"
   ]
  },
  {
   "cell_type": "code",
   "execution_count": null,
   "metadata": {},
   "outputs": [],
   "source": []
  }
 ],
 "metadata": {
  "kernelspec": {
   "display_name": "Python 3 (ipykernel)",
   "language": "python",
   "name": "python3"
  },
  "language_info": {
   "codemirror_mode": {
    "name": "ipython",
    "version": 3
   },
   "file_extension": ".py",
   "mimetype": "text/x-python",
   "name": "python",
   "nbconvert_exporter": "python",
   "pygments_lexer": "ipython3",
   "version": "3.8.5"
  }
 },
 "nbformat": 4,
 "nbformat_minor": 4
}
