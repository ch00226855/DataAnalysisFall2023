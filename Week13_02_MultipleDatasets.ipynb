{
  "cells": [
    {
      "cell_type": "markdown",
      "metadata": {
        "id": "xoVpHckDOtqf"
      },
      "source": [
        "## Example: Analyzing Airport Operations\n",
        "\n",
        "Download `airports.csv`, `airport-frequencies.csv`, `countries.csv`, `regions.csv` from [OurAirports.com](https://ourairports.com/data/)"
      ]
    },
    {
      "cell_type": "code",
      "execution_count": null,
      "metadata": {
        "id": "ofdXlwklOtqj"
      },
      "outputs": [],
      "source": [
        "import numpy as np\n",
        "import pandas as pd"
      ]
    },
    {
      "cell_type": "code",
      "execution_count": null,
      "metadata": {
        "id": "NH8bqT6BOtqk"
      },
      "outputs": [],
      "source": [
        "# Load the datasets\n",
        "airports = pd.read_csv(\"https://ourairports.com/data/airports.csv\", sep=\",\")\n",
        "airports.head()"
      ]
    },
    {
      "cell_type": "code",
      "execution_count": null,
      "metadata": {
        "scrolled": true,
        "id": "hS3ByOw7Otql"
      },
      "outputs": [],
      "source": [
        "print(\"Size:\\n\", airports.shape)\n",
        "print(\"Data types:\\n\", airports.dtypes)"
      ]
    },
    {
      "cell_type": "code",
      "execution_count": null,
      "metadata": {
        "scrolled": false,
        "id": "Jg9bFS-kOtqm"
      },
      "outputs": [],
      "source": [
        "airports.head()"
      ]
    },
    {
      "cell_type": "code",
      "execution_count": null,
      "metadata": {
        "scrolled": true,
        "id": "1X4Nx5AtOtqm"
      },
      "outputs": [],
      "source": [
        "airports.isnull().sum()"
      ]
    },
    {
      "cell_type": "code",
      "execution_count": null,
      "metadata": {
        "id": "kn6vqgcWOtqn"
      },
      "outputs": [],
      "source": [
        "# Load other csv files\n",
        "airport_freq = pd.read_csv(\"https://ourairports.com/data/airport-frequencies.csv\", sep=',')\n",
        "countries = pd.read_csv(\"https://ourairports.com/data/countries.csv\", sep=',')\n",
        "regions = pd.read_csv(\"https://ourairports.com/data/regions.csv\", sep=',')"
      ]
    },
    {
      "cell_type": "code",
      "execution_count": null,
      "metadata": {
        "id": "gr469YwPOtqn"
      },
      "outputs": [],
      "source": [
        "def basic_info(df):\n",
        "    print(\"Size:\")\n",
        "    print(df.shape)\n",
        "    print(\"=\"*20)\n",
        "    print(\"Data types:\")\n",
        "    print(df.dtypes)\n",
        "    print(\"=\"*20)\n",
        "    print(\"Missing Values:\")\n",
        "    print(df.isnull().sum())\n",
        "    print(df.head())"
      ]
    },
    {
      "cell_type": "code",
      "execution_count": null,
      "metadata": {
        "id": "UnI2Oqq2Otqo"
      },
      "outputs": [],
      "source": [
        "basic_info(airport_freq)"
      ]
    },
    {
      "cell_type": "code",
      "execution_count": null,
      "metadata": {
        "id": "CPGPEbs8Otqo"
      },
      "outputs": [],
      "source": [
        "basic_info(countries)"
      ]
    },
    {
      "cell_type": "code",
      "execution_count": null,
      "metadata": {
        "id": "9wIDR5FYOtqp"
      },
      "outputs": [],
      "source": [
        "basic_info(regions)"
      ]
    },
    {
      "cell_type": "markdown",
      "metadata": {
        "id": "D58M4A69Otqp"
      },
      "source": [
        "#### 1. Select data with multiple conditions"
      ]
    },
    {
      "cell_type": "code",
      "execution_count": null,
      "metadata": {
        "id": "0i3gFMaVOtqp"
      },
      "outputs": [],
      "source": [
        "# Find the region code for New York from region data frame.\n",
        "\n",
        "regions.head()"
      ]
    },
    {
      "cell_type": "code",
      "execution_count": null,
      "metadata": {
        "id": "77b7bv7dOtqq"
      },
      "outputs": [],
      "source": [
        "countries[countries['name'] == 'United States'] # This tells us that the country code for United States is US"
      ]
    },
    {
      "cell_type": "code",
      "execution_count": null,
      "metadata": {
        "id": "1nNzbbmzOtqq"
      },
      "outputs": [],
      "source": [
        "regions[(regions['iso_country'] == \"US\") & (regions['local_code'] == \"NY\")]"
      ]
    },
    {
      "cell_type": "code",
      "execution_count": null,
      "metadata": {
        "id": "tVAMvr3bOtqq"
      },
      "outputs": [],
      "source": [
        "regions[(regions['iso_country'] == \"US\") & (regions['name'] == \"New York\")]"
      ]
    },
    {
      "cell_type": "code",
      "execution_count": null,
      "metadata": {
        "scrolled": true,
        "id": "2NoNnRKFOtqq"
      },
      "outputs": [],
      "source": [
        "# Extract all large airports in New York state from airoprts data frame\n",
        "\n",
        "airports.head()"
      ]
    },
    {
      "cell_type": "code",
      "execution_count": null,
      "metadata": {
        "scrolled": true,
        "id": "iHkrJcp7Otqq"
      },
      "outputs": [],
      "source": [
        "set(airports['type'].values)"
      ]
    },
    {
      "cell_type": "code",
      "execution_count": null,
      "metadata": {
        "id": "giUi6b_NOtqr"
      },
      "outputs": [],
      "source": [
        "airports['type'].unique()"
      ]
    },
    {
      "cell_type": "code",
      "execution_count": null,
      "metadata": {
        "scrolled": true,
        "id": "7dr1vVkhOtqr"
      },
      "outputs": [],
      "source": [
        "airports_NY_large = airports[(airports['iso_region'] == \"US-NY\") & (airports['type'] == 'large_airport')]"
      ]
    },
    {
      "cell_type": "code",
      "execution_count": null,
      "metadata": {
        "id": "j1KQmWmxOtqr"
      },
      "outputs": [],
      "source": [
        "# Extract the name, identification code, and municipality of\n",
        "# all airports with ISO region \"US-NY\" and type \"large_airport\"\n",
        "\n",
        "airports_NY_large[[\"name\", \"ident\", \"municipality\"]].reset_index(drop=True) # reset index to remove original line numbers"
      ]
    },
    {
      "cell_type": "markdown",
      "metadata": {
        "id": "mZr4w5sMOtqr"
      },
      "source": [
        "#### 2. Sorting"
      ]
    },
    {
      "cell_type": "code",
      "execution_count": null,
      "metadata": {
        "scrolled": true,
        "id": "Y_oHetUWOtqr"
      },
      "outputs": [],
      "source": [
        "# From airport_freq, extract all communication frequencies for KJFK,\n",
        "# with frequencies sorted in ascending order\n",
        "\n",
        "airport_freq.head()"
      ]
    },
    {
      "cell_type": "code",
      "execution_count": null,
      "metadata": {
        "id": "yxnLMTUYOtqr"
      },
      "outputs": [],
      "source": [
        "KJFK_freq = airport_freq[airport_freq['airport_ident'] == 'KJFK']"
      ]
    },
    {
      "cell_type": "code",
      "execution_count": null,
      "metadata": {
        "id": "H3C8ZKkOOtqr"
      },
      "outputs": [],
      "source": [
        "KJFK_freq.sort_values(by=\"frequency_mhz\")"
      ]
    },
    {
      "cell_type": "code",
      "execution_count": null,
      "metadata": {
        "id": "hh5KZAQqOtqs"
      },
      "outputs": [],
      "source": [
        "# From airport_freq, extract all communication frequencies for KJFK,\n",
        "# with frequencies sorted in descending order\n",
        "\n",
        "KJFK_freq.sort_values(by=\"frequency_mhz\", ascending=False)"
      ]
    },
    {
      "cell_type": "code",
      "execution_count": null,
      "metadata": {
        "id": "f6cT7vryOtqs"
      },
      "outputs": [],
      "source": [
        "# Find the five rows with larget frequency value from the previous data frame\n",
        "\n",
        "KJFK_freq.head() # by default head() returns the first 5 rows"
      ]
    },
    {
      "cell_type": "markdown",
      "metadata": {
        "id": "-hRH9BtYOtqs"
      },
      "source": [
        "#### 3. Filter on a list of values"
      ]
    },
    {
      "cell_type": "code",
      "execution_count": null,
      "metadata": {
        "scrolled": true,
        "id": "VWKxGKqCOtqs"
      },
      "outputs": [],
      "source": [
        "# Extract all communication frequencies used for a large airport in New York state\n",
        "\n",
        "freq_NY_airports = pd.DataFrame()\n",
        "\n",
        "for ident in airports_NY_large['ident']:\n",
        "#     print(ident) # verify that the identification codes are extracted correctly\n",
        "    freq_airport = airport_freq[airport_freq['airport_ident'] == ident]\n",
        "#     print(freq_airport) # verify that the frequencies are extracted correctly\n",
        "    freq_NY_airports = pd.concat([freq_NY_airports, freq_airport])\n",
        "\n",
        "freq_NY_airports"
      ]
    },
    {
      "cell_type": "code",
      "execution_count": null,
      "metadata": {
        "scrolled": true,
        "id": "lAhUrCDPOtqs"
      },
      "outputs": [],
      "source": [
        "idents = airports_NY_large['ident']\n",
        "filter1 = airport_freq['airport_ident'].isin(idents)\n",
        "airport_freq[filter1]"
      ]
    },
    {
      "cell_type": "code",
      "execution_count": null,
      "metadata": {
        "id": "R38K8m9EOtqs"
      },
      "outputs": [],
      "source": [
        "airport_freq[airport_freq['airport_ident'].isin(airports_NY_large['ident'])]"
      ]
    },
    {
      "cell_type": "markdown",
      "metadata": {
        "id": "UMY1bksVOtqt"
      },
      "source": [
        "#### 4. Grouping"
      ]
    },
    {
      "cell_type": "code",
      "execution_count": null,
      "metadata": {
        "scrolled": true,
        "id": "Ua-PGbZROtqt"
      },
      "outputs": [],
      "source": [
        "countries.head()"
      ]
    },
    {
      "cell_type": "code",
      "execution_count": null,
      "metadata": {
        "id": "UrGkMhJ4Otqt"
      },
      "outputs": [],
      "source": [
        "airports.head()"
      ]
    },
    {
      "cell_type": "code",
      "execution_count": null,
      "metadata": {
        "id": "LACh6dK6Otqt"
      },
      "outputs": [],
      "source": [
        "# Calculate the number of large airports for each country\n",
        "\n",
        "airports_by_country = pd.DataFrame()\n",
        "\n",
        "for country_code in countries['code']:\n",
        "    # extract the large airports from that country\n",
        "    large_airports_country = airports[(airports['iso_country'] == country_code) & (airports['type'] == \"large_airport\")]\n",
        "#     print(large_airports_country)\n",
        "    # count the number of large airports\n",
        "    num_large_airport = large_airports_country.shape[0]\n",
        "\n",
        "    # add a row in airports_by_country with the country name and the number of large airports\n",
        "    airports_by_country.loc[country_code, 'Number of Large Airports'] = num_large_airport\n",
        "\n",
        "airports_by_country"
      ]
    },
    {
      "cell_type": "code",
      "execution_count": null,
      "metadata": {
        "id": "XrYPZE2yOtqt"
      },
      "outputs": [],
      "source": [
        "# Find the top 5 countries having the largest amount of large airports\n",
        "\n"
      ]
    },
    {
      "cell_type": "markdown",
      "metadata": {
        "id": "WTAMHrq9Otqt"
      },
      "source": [
        "#### 5. Merging"
      ]
    },
    {
      "cell_type": "code",
      "execution_count": null,
      "metadata": {
        "id": "o65QGHObOtqt"
      },
      "outputs": [],
      "source": [
        "# Merge the above result with countries data frame to find the name of the countries\n",
        "\n"
      ]
    },
    {
      "cell_type": "code",
      "execution_count": null,
      "metadata": {
        "id": "bQq84g1JOtqy"
      },
      "outputs": [],
      "source": [
        "# Append full country name and region name to airports.\n",
        "\n"
      ]
    },
    {
      "cell_type": "code",
      "execution_count": null,
      "metadata": {
        "id": "3uioPo1ROtqy"
      },
      "outputs": [],
      "source": []
    }
  ],
  "metadata": {
    "kernelspec": {
      "display_name": "Python 3",
      "language": "python",
      "name": "python3"
    },
    "language_info": {
      "codemirror_mode": {
        "name": "ipython",
        "version": 3
      },
      "file_extension": ".py",
      "mimetype": "text/x-python",
      "name": "python",
      "nbconvert_exporter": "python",
      "pygments_lexer": "ipython3",
      "version": "3.8.3"
    },
    "colab": {
      "provenance": []
    }
  },
  "nbformat": 4,
  "nbformat_minor": 0
}