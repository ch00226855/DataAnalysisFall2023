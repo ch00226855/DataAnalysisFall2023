{
 "cells": [
  {
   "cell_type": "markdown",
   "metadata": {},
   "source": [
    "# Week 3\n",
    "# NumPy Arrays\n",
    "\n",
    "[NumPy](https://numpy.org/) is the core library for scientific computing in Python. It provides a high-performance multidimensional array object, and tools for working with these arrays.\n",
    "\n",
    "**Resources:**\n",
    "- Textbook Chapter 4\n",
    "- [NumPy Documentation](https://numpy.org/doc/stable/)\n",
    "- [NumPy Tutorial from W3School](https://www.w3resource.com/python-exercises/numpy/index.php)"
   ]
  },
  {
   "cell_type": "code",
   "execution_count": 1,
   "metadata": {},
   "outputs": [],
   "source": [
    "import numpy as np # np is a universally-used abbrevation for numpy"
   ]
  },
  {
   "cell_type": "markdown",
   "metadata": {},
   "source": [
    "## NumPy Arrays\n",
    "\n",
    "A numpy array is a grid of values, all of the same type, and is indexed by a tuple of nonnegative integers.\n",
    "- **rank**: number of dimensions\n",
    "- **shape** a tuple of integers giving the size of the array along each dimension"
   ]
  },
  {
   "cell_type": "code",
   "execution_count": 2,
   "metadata": {},
   "outputs": [
    {
     "name": "stdout",
     "output_type": "stream",
     "text": [
      "Numpy array: [1 2 3 4]\n",
      "Shape: (4,)\n",
      "Type: int32\n"
     ]
    }
   ],
   "source": [
    "# Create a numpy array from a Python list\n",
    "py_list = [1, 2, 3, 4]\n",
    "np_ary = np.array(py_list)\n",
    "print(\"Numpy array:\", np_ary)\n",
    "print(\"Shape:\", np_ary.shape)\n",
    "print(\"Type:\", np_ary.dtype)"
   ]
  },
  {
   "cell_type": "code",
   "execution_count": 4,
   "metadata": {},
   "outputs": [
    {
     "name": "stdout",
     "output_type": "stream",
     "text": [
      "[1. 2. 3. 4.]\n",
      "float64\n"
     ]
    }
   ],
   "source": [
    "np_ary2 = np.array(py_list, dtype=float)\n",
    "print(np_ary2)\n",
    "print(np_ary2.dtype)"
   ]
  },
  {
   "cell_type": "code",
   "execution_count": 6,
   "metadata": {
    "scrolled": true
   },
   "outputs": [
    {
     "name": "stdout",
     "output_type": "stream",
     "text": [
      "['1' '2' '3.45' 'Alex']\n",
      "<U32\n"
     ]
    }
   ],
   "source": [
    "py_list2 = [1, 2, 3.45, \"Alex\"]\n",
    "np_ary3 = np.array(py_list2)\n",
    "print(np_ary3)\n",
    "print(np_ary3.dtype)"
   ]
  },
  {
   "cell_type": "code",
   "execution_count": 13,
   "metadata": {},
   "outputs": [
    {
     "name": "stdout",
     "output_type": "stream",
     "text": [
      "[1.         1.41421356 1.73205081 2.        ]\n",
      "[1.         1.41421356 1.73205081 2.        ]\n"
     ]
    },
    {
     "ename": "TypeError",
     "evalue": "ufunc 'sqrt' not supported for the input types, and the inputs could not be safely coerced to any supported types according to the casting rule ''safe''",
     "output_type": "error",
     "traceback": [
      "\u001b[1;31m---------------------------------------------------------------------------\u001b[0m",
      "\u001b[1;31mTypeError\u001b[0m                                 Traceback (most recent call last)",
      "\u001b[1;32m~\\AppData\\Local\\Temp\\ipykernel_25532\\2771673012.py\u001b[0m in \u001b[0;36m<module>\u001b[1;34m\u001b[0m\n\u001b[0;32m      1\u001b[0m \u001b[0mprint\u001b[0m\u001b[1;33m(\u001b[0m\u001b[0mnp\u001b[0m\u001b[1;33m.\u001b[0m\u001b[0msqrt\u001b[0m\u001b[1;33m(\u001b[0m\u001b[0mnp_ary\u001b[0m\u001b[1;33m)\u001b[0m\u001b[1;33m)\u001b[0m\u001b[1;33m\u001b[0m\u001b[1;33m\u001b[0m\u001b[0m\n\u001b[0;32m      2\u001b[0m \u001b[0mprint\u001b[0m\u001b[1;33m(\u001b[0m\u001b[0mnp\u001b[0m\u001b[1;33m.\u001b[0m\u001b[0msqrt\u001b[0m\u001b[1;33m(\u001b[0m\u001b[0mnp_ary2\u001b[0m\u001b[1;33m)\u001b[0m\u001b[1;33m)\u001b[0m\u001b[1;33m\u001b[0m\u001b[1;33m\u001b[0m\u001b[0m\n\u001b[1;32m----> 3\u001b[1;33m \u001b[0mprint\u001b[0m\u001b[1;33m(\u001b[0m\u001b[0mnp\u001b[0m\u001b[1;33m.\u001b[0m\u001b[0msqrt\u001b[0m\u001b[1;33m(\u001b[0m\u001b[0mnp_ary3\u001b[0m\u001b[1;33m[\u001b[0m\u001b[1;36m0\u001b[0m\u001b[1;33m:\u001b[0m\u001b[1;36m3\u001b[0m\u001b[1;33m]\u001b[0m\u001b[1;33m)\u001b[0m\u001b[1;33m)\u001b[0m\u001b[1;33m\u001b[0m\u001b[1;33m\u001b[0m\u001b[0m\n\u001b[0m",
      "\u001b[1;31mTypeError\u001b[0m: ufunc 'sqrt' not supported for the input types, and the inputs could not be safely coerced to any supported types according to the casting rule ''safe''"
     ]
    }
   ],
   "source": [
    "print(np.sqrt(np_ary))\n",
    "print(np.sqrt(np_ary2))\n",
    "print(np.sqrt(np_ary3[0:3])) # Error: These values are strings now."
   ]
  },
  {
   "cell_type": "markdown",
   "metadata": {},
   "source": [
    "NumPy arrays can perform computations very efficiently. "
   ]
  },
  {
   "cell_type": "code",
   "execution_count": 15,
   "metadata": {},
   "outputs": [
    {
     "name": "stdout",
     "output_type": "stream",
     "text": [
      "2.46 ms ± 97 µs per loop (mean ± std. dev. of 7 runs, 100 loops each)\n",
      "152 ms ± 667 µs per loop (mean ± std. dev. of 7 runs, 10 loops each)\n"
     ]
    }
   ],
   "source": [
    "# Time cost comparison\n",
    "my_arr = np.arange(1_000_000) # The underscore replaces ',' for noting large numbers\n",
    "my_list = list(range(1_000_000))\n",
    "\n",
    "# Use %timeit to estimate the time cost\n",
    "%timeit my_arr2 = my_arr * 2\n",
    "\n",
    "%timeit my_list2 = [x * 2 for x in my_list]"
   ]
  },
  {
   "cell_type": "markdown",
   "metadata": {},
   "source": [
    "## Array Indexing"
   ]
  },
  {
   "cell_type": "code",
   "execution_count": 16,
   "metadata": {},
   "outputs": [
    {
     "name": "stdout",
     "output_type": "stream",
     "text": [
      "3\n",
      "3 4 5\n"
     ]
    }
   ],
   "source": [
    "# Access elements using square brackets\n",
    "# Ex: print the index 0, 2, 4 elements of ary\n",
    "ary = np.array([3, 1, 4, 1, 5, 9])\n",
    "print(ary[0])\n",
    "print(ary[0], ary[2], ary[4])"
   ]
  },
  {
   "cell_type": "code",
   "execution_count": 17,
   "metadata": {},
   "outputs": [
    {
     "name": "stdout",
     "output_type": "stream",
     "text": [
      "9\n"
     ]
    }
   ],
   "source": [
    "# print the last element of ary\n",
    "print(ary[-1])"
   ]
  },
  {
   "cell_type": "code",
   "execution_count": 18,
   "metadata": {},
   "outputs": [
    {
     "name": "stdout",
     "output_type": "stream",
     "text": [
      "[3 1 4]\n",
      "[3 1 4]\n",
      "[1 5 9]\n",
      "[1 5 9]\n"
     ]
    }
   ],
   "source": [
    "# print the first 3 elements of ary\n",
    "print(ary[0:3])\n",
    "print(ary[:3])\n",
    "\n",
    "# Negative indices are also supported\n",
    "print(ary[-3:])\n",
    "print(ary[-3:6])"
   ]
  },
  {
   "cell_type": "code",
   "execution_count": 19,
   "metadata": {},
   "outputs": [
    {
     "name": "stdout",
     "output_type": "stream",
     "text": [
      "[5 9]\n",
      "[5 9]\n",
      "[5 9]\n"
     ]
    }
   ],
   "source": [
    "# print the last 2 elements of ary\n",
    "print(ary[-2:])\n",
    "print(ary[-2:6])\n",
    "print(ary[4:6])"
   ]
  },
  {
   "cell_type": "code",
   "execution_count": 20,
   "metadata": {},
   "outputs": [
    {
     "name": "stdout",
     "output_type": "stream",
     "text": [
      "[[1 2 3]\n",
      " [4 5 6]]\n"
     ]
    }
   ],
   "source": [
    "# Create a 2D array\n",
    "ary2d = np.array([[1, 2, 3], [4, 5, 6]])\n",
    "\n",
    "ary2d = np.array([[1, 2, 3],\n",
    "                  [4, 5, 6]])\n",
    "print(ary2d)"
   ]
  },
  {
   "cell_type": "code",
   "execution_count": 25,
   "metadata": {
    "scrolled": true
   },
   "outputs": [
    {
     "name": "stdout",
     "output_type": "stream",
     "text": [
      "Shape: (2, 3)\n",
      "Number of rows: 2\n",
      "Number of columns: 3\n",
      "Data type: int32\n"
     ]
    }
   ],
   "source": [
    "# Ex: print the shape and variable type of ary2d\n",
    "\n",
    "print(\"Shape:\", ary2d.shape)\n",
    "print(\"Number of rows:\", ary2d.shape[0])\n",
    "print(\"Number of columns:\", ary2d.shape[1])\n",
    "print(\"Data type:\", ary2d.dtype)"
   ]
  },
  {
   "cell_type": "code",
   "execution_count": 28,
   "metadata": {},
   "outputs": [
    {
     "name": "stdout",
     "output_type": "stream",
     "text": [
      "2\n",
      "2\n"
     ]
    }
   ],
   "source": [
    "# Ex: print the element on the first row and the second column\n",
    "print(ary2d[0][1])\n",
    "print(ary2d[0, 1])"
   ]
  },
  {
   "cell_type": "code",
   "execution_count": 29,
   "metadata": {},
   "outputs": [
    {
     "name": "stdout",
     "output_type": "stream",
     "text": [
      "[1 2 3]\n",
      "[1 2 3]\n"
     ]
    }
   ],
   "source": [
    "# Ex: print the entire first row\n",
    "print(ary2d[0])\n",
    "print(ary2d[0, :])"
   ]
  },
  {
   "cell_type": "code",
   "execution_count": 30,
   "metadata": {},
   "outputs": [
    {
     "name": "stdout",
     "output_type": "stream",
     "text": [
      "[1 4]\n"
     ]
    }
   ],
   "source": [
    "# Ex: print the entire first column\n",
    "print(ary2d[:, 0])"
   ]
  },
  {
   "cell_type": "markdown",
   "metadata": {},
   "source": [
    "NumPy also provides many functions to create arrays:"
   ]
  },
  {
   "cell_type": "code",
   "execution_count": 31,
   "metadata": {},
   "outputs": [
    {
     "name": "stdout",
     "output_type": "stream",
     "text": [
      "[[0. 0. 0.]\n",
      " [0. 0. 0.]]\n",
      "float64\n"
     ]
    }
   ],
   "source": [
    "ary = np.zeros((2, 3))\n",
    "print(ary)\n",
    "print(ary.dtype)"
   ]
  },
  {
   "cell_type": "code",
   "execution_count": 32,
   "metadata": {
    "scrolled": true
   },
   "outputs": [
    {
     "name": "stdout",
     "output_type": "stream",
     "text": [
      "[[1. 1.]\n",
      " [1. 1.]\n",
      " [1. 1.]]\n"
     ]
    }
   ],
   "source": [
    "ary = np.ones((3, 2))\n",
    "print(ary)"
   ]
  },
  {
   "cell_type": "code",
   "execution_count": 35,
   "metadata": {},
   "outputs": [
    {
     "name": "stdout",
     "output_type": "stream",
     "text": [
      "[[0.92324652 0.07086626]\n",
      " [0.75332519 0.80588768]]\n"
     ]
    }
   ],
   "source": [
    "ary = np.random.rand(2, 2)\n",
    "print(ary)"
   ]
  },
  {
   "cell_type": "code",
   "execution_count": 41,
   "metadata": {},
   "outputs": [
    {
     "name": "stdout",
     "output_type": "stream",
     "text": [
      "[[2 8 0]\n",
      " [3 4 2]\n",
      " [3 2 0]\n",
      " [8 8 8]]\n"
     ]
    }
   ],
   "source": [
    "# What if we want to create an array of random integers?\n",
    "int_ary = np.random.randint(0, 10, size=(4, 3))\n",
    "print(int_ary)"
   ]
  },
  {
   "cell_type": "markdown",
   "metadata": {},
   "source": [
    "## Advanced Array Indexing\n",
    "NumPy arrays support **integer array indexing** and **boolean indexing**, which provides additional tools to create a subarray."
   ]
  },
  {
   "cell_type": "code",
   "execution_count": 42,
   "metadata": {},
   "outputs": [
    {
     "name": "stdout",
     "output_type": "stream",
     "text": [
      "[ 0  8 10]\n"
     ]
    }
   ],
   "source": [
    "# Integer array index: create a subarray whose indices come from another array\n",
    "data_ary = np.array([0, 2, 4, 6, 8, 10])\n",
    "idx_ary = [0, 4, 5]\n",
    "idx_ary = [0, -2, -1]\n",
    "# # What values will be printed?\n",
    "print(data_ary[idx_ary])"
   ]
  },
  {
   "cell_type": "code",
   "execution_count": 43,
   "metadata": {},
   "outputs": [
    {
     "data": {
      "text/plain": [
       "array([ 0,  8, 10])"
      ]
     },
     "execution_count": 43,
     "metadata": {},
     "output_type": "execute_result"
    }
   ],
   "source": [
    "# Combine the two steps\n",
    "data_ary[[0, 4, 5]]"
   ]
  },
  {
   "cell_type": "code",
   "execution_count": 44,
   "metadata": {},
   "outputs": [
    {
     "ename": "TypeError",
     "evalue": "list indices must be integers or slices, not list",
     "output_type": "error",
     "traceback": [
      "\u001b[1;31m---------------------------------------------------------------------------\u001b[0m",
      "\u001b[1;31mTypeError\u001b[0m                                 Traceback (most recent call last)",
      "\u001b[1;32m~\\AppData\\Local\\Temp\\ipykernel_25532\\3710006671.py\u001b[0m in \u001b[0;36m<module>\u001b[1;34m\u001b[0m\n\u001b[0;32m      1\u001b[0m \u001b[1;31m# Python list does not support integer array indexing\u001b[0m\u001b[1;33m\u001b[0m\u001b[1;33m\u001b[0m\u001b[0m\n\u001b[0;32m      2\u001b[0m \u001b[0mdata_list\u001b[0m \u001b[1;33m=\u001b[0m \u001b[1;33m[\u001b[0m\u001b[1;36m0\u001b[0m\u001b[1;33m,\u001b[0m \u001b[1;36m2\u001b[0m\u001b[1;33m,\u001b[0m \u001b[1;36m4\u001b[0m\u001b[1;33m,\u001b[0m \u001b[1;36m6\u001b[0m\u001b[1;33m,\u001b[0m \u001b[1;36m8\u001b[0m\u001b[1;33m,\u001b[0m \u001b[1;36m10\u001b[0m\u001b[1;33m]\u001b[0m\u001b[1;33m\u001b[0m\u001b[1;33m\u001b[0m\u001b[0m\n\u001b[1;32m----> 3\u001b[1;33m \u001b[0mdata_list\u001b[0m\u001b[1;33m[\u001b[0m\u001b[0midx_ary\u001b[0m\u001b[1;33m]\u001b[0m\u001b[1;33m\u001b[0m\u001b[1;33m\u001b[0m\u001b[0m\n\u001b[0m",
      "\u001b[1;31mTypeError\u001b[0m: list indices must be integers or slices, not list"
     ]
    }
   ],
   "source": [
    "# Python list does not support integer array indexing\n",
    "data_list = [0, 2, 4, 6, 8, 10]\n",
    "data_list[idx_ary]"
   ]
  },
  {
   "cell_type": "code",
   "execution_count": 46,
   "metadata": {
    "scrolled": true
   },
   "outputs": [
    {
     "name": "stdout",
     "output_type": "stream",
     "text": [
      "[ True  True False False False False]\n",
      "[1 3]\n"
     ]
    }
   ],
   "source": [
    "# Boolean indexing: select values that satisfies some condition\n",
    "ary = np.array([1, 3, -5, -2, 0, -1])\n",
    "idx = (ary > 0)\n",
    "# What will be printed?\n",
    "print(idx)\n",
    "print(ary[idx])"
   ]
  },
  {
   "cell_type": "code",
   "execution_count": 49,
   "metadata": {},
   "outputs": [
    {
     "name": "stdout",
     "output_type": "stream",
     "text": [
      "[1 3 0]\n"
     ]
    }
   ],
   "source": [
    "# plug in the condition directly\n",
    "print(ary[ary >= 0])"
   ]
  },
  {
   "cell_type": "markdown",
   "metadata": {},
   "source": [
    "## Array Arithmetics\n",
    "Basic mathematical functions operate elementwise on the arrays."
   ]
  },
  {
   "cell_type": "code",
   "execution_count": 50,
   "metadata": {},
   "outputs": [
    {
     "name": "stdout",
     "output_type": "stream",
     "text": [
      "[[2 3 4]\n",
      " [5 6 7]]\n"
     ]
    }
   ],
   "source": [
    "x = np.array([[1, 2, 3],\n",
    "              [4, 5, 6]])\n",
    "print(x + 1)"
   ]
  },
  {
   "cell_type": "code",
   "execution_count": 51,
   "metadata": {},
   "outputs": [
    {
     "name": "stdout",
     "output_type": "stream",
     "text": [
      "[[ 2  4  6]\n",
      " [ 8 10 12]]\n"
     ]
    }
   ],
   "source": [
    "print(x * 2)"
   ]
  },
  {
   "cell_type": "code",
   "execution_count": 52,
   "metadata": {},
   "outputs": [
    {
     "name": "stdout",
     "output_type": "stream",
     "text": [
      "[[11 22 33]\n",
      " [44 55 66]]\n"
     ]
    }
   ],
   "source": [
    "y = np.array([[10, 20, 30],\n",
    "              [40, 50, 60]])\n",
    "print(x + y)"
   ]
  },
  {
   "cell_type": "code",
   "execution_count": 53,
   "metadata": {},
   "outputs": [
    {
     "name": "stdout",
     "output_type": "stream",
     "text": [
      "[[ 10  40  90]\n",
      " [160 250 360]]\n"
     ]
    }
   ],
   "source": [
    "print(x * y)"
   ]
  },
  {
   "cell_type": "code",
   "execution_count": 54,
   "metadata": {},
   "outputs": [
    {
     "ename": "ValueError",
     "evalue": "operands could not be broadcast together with shapes (2,3) (2,4) ",
     "output_type": "error",
     "traceback": [
      "\u001b[1;31m---------------------------------------------------------------------------\u001b[0m",
      "\u001b[1;31mValueError\u001b[0m                                Traceback (most recent call last)",
      "\u001b[1;32m~\\AppData\\Local\\Temp\\ipykernel_25532\\879104626.py\u001b[0m in \u001b[0;36m<module>\u001b[1;34m\u001b[0m\n\u001b[0;32m      1\u001b[0m z = np.array([[-1, -2, -3, -4],\n\u001b[0;32m      2\u001b[0m               [-5, -6, -7, -8]])\n\u001b[1;32m----> 3\u001b[1;33m \u001b[0mprint\u001b[0m\u001b[1;33m(\u001b[0m\u001b[0mx\u001b[0m \u001b[1;33m+\u001b[0m \u001b[0mz\u001b[0m\u001b[1;33m)\u001b[0m\u001b[1;33m\u001b[0m\u001b[1;33m\u001b[0m\u001b[0m\n\u001b[0m",
      "\u001b[1;31mValueError\u001b[0m: operands could not be broadcast together with shapes (2,3) (2,4) "
     ]
    }
   ],
   "source": [
    "z = np.array([[-1, -2, -3, -4],\n",
    "              [-5, -6, -7, -8]])\n",
    "print(x + z)"
   ]
  },
  {
   "cell_type": "code",
   "execution_count": 55,
   "metadata": {
    "scrolled": true
   },
   "outputs": [
    {
     "data": {
      "text/plain": [
       "array([[1.        , 0.5       , 0.33333333],\n",
       "       [0.25      , 0.2       , 0.16666667]])"
      ]
     },
     "execution_count": 55,
     "metadata": {},
     "output_type": "execute_result"
    }
   ],
   "source": [
    "# What does this expression do?\n",
    "1 / x"
   ]
  },
  {
   "cell_type": "code",
   "execution_count": 56,
   "metadata": {},
   "outputs": [
    {
     "data": {
      "text/plain": [
       "array([[False, False, False],\n",
       "       [False, False, False]])"
      ]
     },
     "execution_count": 56,
     "metadata": {},
     "output_type": "execute_result"
    }
   ],
   "source": [
    "# What does this expression do?\n",
    "x > y"
   ]
  },
  {
   "cell_type": "markdown",
   "metadata": {},
   "source": [
    "## NumPy Math Functions\n",
    "NumPy provides many math functions that are fully compatible with NumPy arrays"
   ]
  },
  {
   "cell_type": "code",
   "execution_count": 57,
   "metadata": {},
   "outputs": [
    {
     "name": "stdout",
     "output_type": "stream",
     "text": [
      "[ 1  2  3  4  5  6  7  8  9 10]\n",
      "(10,)\n",
      "[1.         1.41421356 1.73205081 2.         2.23606798 2.44948974\n",
      " 2.64575131 2.82842712 3.         3.16227766]\n"
     ]
    }
   ],
   "source": [
    "# Calculate the square-root of 1, 2, ..., 10\n",
    "ary = np.arange(1, 11)\n",
    "print(ary)\n",
    "print(ary.shape)\n",
    "ary2 = np.sqrt(ary)\n",
    "print(ary2)"
   ]
  },
  {
   "cell_type": "code",
   "execution_count": 58,
   "metadata": {},
   "outputs": [
    {
     "name": "stdout",
     "output_type": "stream",
     "text": [
      "Minimum: 12\n",
      "Maximum: 90\n",
      "Mean: 54.0\n",
      "Variance: 808.0\n",
      "Standard deviation: 28.42534080710379\n"
     ]
    }
   ],
   "source": [
    "# Statistical functions\n",
    "data = np.array([12, 34, 56, 78, 90])\n",
    "print(\"Minimum:\", data.min())\n",
    "print(\"Maximum:\", data.max())\n",
    "print(\"Mean:\", data.mean())\n",
    "print(\"Variance:\", data.var())\n",
    "print(\"Standard deviation:\", data.std())"
   ]
  },
  {
   "cell_type": "code",
   "execution_count": 59,
   "metadata": {},
   "outputs": [
    {
     "name": "stdout",
     "output_type": "stream",
     "text": [
      "12\n",
      "90\n"
     ]
    }
   ],
   "source": [
    "# These functions can be called directly\n",
    "print(np.min(data))\n",
    "print(np.max(data))"
   ]
  },
  {
   "cell_type": "markdown",
   "metadata": {},
   "source": [
    "# Example: 80 Cereals - Nutrition data on 80 cereal products\n",
    "\n",
    "In this example, we will use NumPy to analyze a dataset that contains nutrition facts on 80 cereal products. In particular, we will:\n",
    "- Download and load the dataset.\n",
    "- Explore for interesting information\n",
    "- Examine sugar content\n",
    "\n",
    "The data file can be downloaded from [Kaggle.com](https://www.kaggle.com/crawford/80-cereals)\n",
    "\n",
    ">If you like to eat cereal, do yourself a favor and avoid this dataset at all costs. After seeing these data it will never be the same for me to eat Fruity Pebbles again. - Kaggle\n",
    "\n",
    "- Download the zip file from Kaggle (login required)\n",
    "- Unzip to get `cereal.csv` file\n",
    "- Move the csv file to a proper folder\n",
    "- Open the csv file using notepad and excel to examine its content"
   ]
  },
  {
   "cell_type": "markdown",
   "metadata": {},
   "source": [
    "## Load And Examine The Data"
   ]
  },
  {
   "cell_type": "code",
   "execution_count": 10,
   "metadata": {},
   "outputs": [],
   "source": [
    "# Load the csv file with np.loadtxt()\n",
    "# Spoiler alert: in the next chapter we will learn a more user-friendly\n",
    "# way of loading data.\n",
    "import numpy as np # import numpy again to make this section self-contained\n",
    "raw_data = np.loadtxt(\"mydata/cereal.csv\", \n",
    "                      delimiter=\",\", \n",
    "                      skiprows=1, \n",
    "                      dtype=str)"
   ]
  },
  {
   "cell_type": "code",
   "execution_count": 11,
   "metadata": {},
   "outputs": [
    {
     "name": "stdout",
     "output_type": "stream",
     "text": [
      "[['100% Bran' 'N' 'C' '70' '4' '1' '130' '10' '5' '6' '280' '25' '3' '1'\n",
      "  '0.33' '68.402973']\n",
      " ['100% Natural Bran' 'Q' 'C' '120' '3' '5' '15' '2' '8' '8' '135' '0'\n",
      "  '3' '1' '1' '33.983679']\n",
      " ['All-Bran' 'K' 'C' '70' '4' '1' '260' '9' '7' '5' '320' '25' '3' '1'\n",
      "  '0.33' '59.425505']\n",
      " ['All-Bran with Extra Fiber' 'K' 'C' '50' '4' '0' '140' '14' '8' '0'\n",
      "  '330' '25' '3' '1' '0.5' '93.704912']\n",
      " ['Almond Delight' 'R' 'C' '110' '2' '2' '200' '1' '14' '8' '-1' '25' '3'\n",
      "  '1' '0.75' '34.384843']]\n"
     ]
    }
   ],
   "source": [
    "# Show values in raw_data\n",
    "print(raw_data[0:5, :])"
   ]
  },
  {
   "cell_type": "code",
   "execution_count": 14,
   "metadata": {},
   "outputs": [
    {
     "name": "stdout",
     "output_type": "stream",
     "text": [
      "Number of rows: 77\n",
      "Number of columns: 16\n"
     ]
    },
    {
     "data": {
      "text/plain": [
       "(77, 16)"
      ]
     },
     "execution_count": 14,
     "metadata": {},
     "output_type": "execute_result"
    }
   ],
   "source": [
    "# Ex: What is the shape of raw_data?\n",
    "print(\"Number of rows:\", raw_data.shape[0])\n",
    "print(\"Number of columns:\", raw_data.shape[1])\n",
    "raw_data.shape"
   ]
  },
  {
   "cell_type": "code",
   "execution_count": 16,
   "metadata": {},
   "outputs": [
    {
     "name": "stdout",
     "output_type": "stream",
     "text": [
      "['name' 'mfr' 'type' 'calories' 'protein' 'fat' 'sodium' 'fiber' 'carbo'\n",
      " 'sugars' 'potass' 'vitamins' 'shelf' 'weight' 'cups' 'rating']\n"
     ]
    }
   ],
   "source": [
    "# Ex: Create a list of feature names (call it feature_names)\n",
    "feature_names = [\"name\",\"mfr\",\"type\",\"calories\",\"protein\",\"fat\",\"sodium\",\n",
    "                 \"fiber\",\"carbo\",\"sugars\",\"potass\",\"vitamins\",\"shelf\",\n",
    "                 \"weight\",\"cups\",\"rating\"]\n",
    "\n",
    "# OR load the first row of the file\n",
    "feature_names = np.loadtxt(\"mydata/cereal.csv\",\n",
    "                           delimiter=',',\n",
    "                           dtype=str,\n",
    "                           max_rows=1)\n",
    "print(feature_names)"
   ]
  },
  {
   "cell_type": "markdown",
   "metadata": {},
   "source": [
    "## Explore The Contents"
   ]
  },
  {
   "cell_type": "code",
   "execution_count": 17,
   "metadata": {
    "scrolled": true
   },
   "outputs": [
    {
     "data": {
      "text/plain": [
       "array(['100% Bran', '100% Natural Bran', 'All-Bran',\n",
       "       'All-Bran with Extra Fiber', 'Almond Delight',\n",
       "       'Apple Cinnamon Cheerios', 'Apple Jacks', 'Basic 4', 'Bran Chex',\n",
       "       'Bran Flakes', \"Cap'n'Crunch\", 'Cheerios', 'Cinnamon Toast Crunch',\n",
       "       'Clusters', 'Cocoa Puffs', 'Corn Chex', 'Corn Flakes', 'Corn Pops',\n",
       "       'Count Chocula', \"Cracklin' Oat Bran\", 'Cream of Wheat (Quick)',\n",
       "       'Crispix', 'Crispy Wheat & Raisins', 'Double Chex', 'Froot Loops',\n",
       "       'Frosted Flakes', 'Frosted Mini-Wheats',\n",
       "       'Fruit & Fibre Dates; Walnuts; and Oats', 'Fruitful Bran',\n",
       "       'Fruity Pebbles', 'Golden Crisp', 'Golden Grahams',\n",
       "       'Grape Nuts Flakes', 'Grape-Nuts', 'Great Grains Pecan',\n",
       "       'Honey Graham Ohs', 'Honey Nut Cheerios', 'Honey-comb',\n",
       "       'Just Right Crunchy  Nuggets', 'Just Right Fruit & Nut', 'Kix',\n",
       "       'Life', 'Lucky Charms', 'Maypo',\n",
       "       'Muesli Raisins; Dates; & Almonds',\n",
       "       'Muesli Raisins; Peaches; & Pecans', 'Mueslix Crispy Blend',\n",
       "       'Multi-Grain Cheerios', 'Nut&Honey Crunch',\n",
       "       'Nutri-Grain Almond-Raisin', 'Nutri-grain Wheat',\n",
       "       'Oatmeal Raisin Crisp', 'Post Nat. Raisin Bran', 'Product 19',\n",
       "       'Puffed Rice', 'Puffed Wheat', 'Quaker Oat Squares',\n",
       "       'Quaker Oatmeal', 'Raisin Bran', 'Raisin Nut Bran',\n",
       "       'Raisin Squares', 'Rice Chex', 'Rice Krispies', 'Shredded Wheat',\n",
       "       \"Shredded Wheat 'n'Bran\", 'Shredded Wheat spoon size', 'Smacks',\n",
       "       'Special K', 'Strawberry Fruit Wheats', 'Total Corn Flakes',\n",
       "       'Total Raisin Bran', 'Total Whole Grain', 'Triples', 'Trix',\n",
       "       'Wheat Chex', 'Wheaties', 'Wheaties Honey Gold'], dtype='<U38')"
      ]
     },
     "execution_count": 17,
     "metadata": {},
     "output_type": "execute_result"
    }
   ],
   "source": [
    "# Display the list of cereal names\n",
    "raw_data[:, 0]"
   ]
  },
  {
   "cell_type": "code",
   "execution_count": 18,
   "metadata": {},
   "outputs": [
    {
     "name": "stdout",
     "output_type": "stream",
     "text": [
      "100% Bran\n",
      "100% Natural Bran\n",
      "All-Bran\n",
      "All-Bran with Extra Fiber\n",
      "Almond Delight\n",
      "Apple Cinnamon Cheerios\n",
      "Apple Jacks\n",
      "Basic 4\n",
      "Bran Chex\n",
      "Bran Flakes\n",
      "Cap'n'Crunch\n",
      "Cheerios\n",
      "Cinnamon Toast Crunch\n",
      "Clusters\n",
      "Cocoa Puffs\n",
      "Corn Chex\n",
      "Corn Flakes\n",
      "Corn Pops\n",
      "Count Chocula\n",
      "Cracklin' Oat Bran\n",
      "Cream of Wheat (Quick)\n",
      "Crispix\n",
      "Crispy Wheat & Raisins\n",
      "Double Chex\n",
      "Froot Loops\n",
      "Frosted Flakes\n",
      "Frosted Mini-Wheats\n",
      "Fruit & Fibre Dates; Walnuts; and Oats\n",
      "Fruitful Bran\n",
      "Fruity Pebbles\n",
      "Golden Crisp\n",
      "Golden Grahams\n",
      "Grape Nuts Flakes\n",
      "Grape-Nuts\n",
      "Great Grains Pecan\n",
      "Honey Graham Ohs\n",
      "Honey Nut Cheerios\n",
      "Honey-comb\n",
      "Just Right Crunchy  Nuggets\n",
      "Just Right Fruit & Nut\n",
      "Kix\n",
      "Life\n",
      "Lucky Charms\n",
      "Maypo\n",
      "Muesli Raisins; Dates; & Almonds\n",
      "Muesli Raisins; Peaches; & Pecans\n",
      "Mueslix Crispy Blend\n",
      "Multi-Grain Cheerios\n",
      "Nut&Honey Crunch\n",
      "Nutri-Grain Almond-Raisin\n",
      "Nutri-grain Wheat\n",
      "Oatmeal Raisin Crisp\n",
      "Post Nat. Raisin Bran\n",
      "Product 19\n",
      "Puffed Rice\n",
      "Puffed Wheat\n",
      "Quaker Oat Squares\n",
      "Quaker Oatmeal\n",
      "Raisin Bran\n",
      "Raisin Nut Bran\n",
      "Raisin Squares\n",
      "Rice Chex\n",
      "Rice Krispies\n",
      "Shredded Wheat\n",
      "Shredded Wheat 'n'Bran\n",
      "Shredded Wheat spoon size\n",
      "Smacks\n",
      "Special K\n",
      "Strawberry Fruit Wheats\n",
      "Total Corn Flakes\n",
      "Total Raisin Bran\n",
      "Total Whole Grain\n",
      "Triples\n",
      "Trix\n",
      "Wheat Chex\n",
      "Wheaties\n",
      "Wheaties Honey Gold\n"
     ]
    }
   ],
   "source": [
    "cereal_names = raw_data[:, 0]\n",
    "for name in cereal_names:\n",
    "    print(name)"
   ]
  },
  {
   "cell_type": "code",
   "execution_count": 20,
   "metadata": {},
   "outputs": [
    {
     "data": {
      "text/plain": [
       "array(['68.402973', '33.983679', '59.425505', '93.704912', '34.384843',\n",
       "       '29.509541', '33.174094', '37.038562', '49.120253', '53.313813',\n",
       "       '18.042851', '50.764999', '19.823573', '40.400208', '22.736446',\n",
       "       '41.445019', '45.863324', '35.782791', '22.396513', '40.448772',\n",
       "       '64.533816', '46.895644', '36.176196', '44.330856', '32.207582',\n",
       "       '31.435973', '58.345141', '40.917047', '41.015492', '28.025765',\n",
       "       '35.252444', '23.804043', '52.076897', '53.371007', '45.811716',\n",
       "       '21.871292', '31.072217', '28.742414', '36.523683', '36.471512',\n",
       "       '39.241114', '45.328074', '26.734515', '54.850917', '37.136863',\n",
       "       '34.139765', '30.313351', '40.105965', '29.924285', '40.692320',\n",
       "       '59.642837', '30.450843', '37.840594', '41.503540', '60.756112',\n",
       "       '63.005645', '49.511874', '50.828392', '39.259197', '39.703400',\n",
       "       '55.333142', '41.998933', '40.560159', '68.235885', '74.472949',\n",
       "       '72.801787', '31.230054', '53.131324', '59.363993', '38.839746',\n",
       "       '28.592785', '46.658844', '39.106174', '27.753301', '49.787445',\n",
       "       '51.592193', '36.187559'], dtype='<U38')"
      ]
     },
     "execution_count": 20,
     "metadata": {},
     "output_type": "execute_result"
    }
   ],
   "source": [
    "# Display the list of cereal ratings\n",
    "ratings = raw_data[:, -1]\n",
    "ratings"
   ]
  },
  {
   "cell_type": "code",
   "execution_count": 21,
   "metadata": {},
   "outputs": [
    {
     "data": {
      "text/plain": [
       "array([['100% Bran', '68.402973'],\n",
       "       ['100% Natural Bran', '33.983679'],\n",
       "       ['All-Bran', '59.425505'],\n",
       "       ['All-Bran with Extra Fiber', '93.704912'],\n",
       "       ['Almond Delight', '34.384843'],\n",
       "       ['Apple Cinnamon Cheerios', '29.509541'],\n",
       "       ['Apple Jacks', '33.174094'],\n",
       "       ['Basic 4', '37.038562'],\n",
       "       ['Bran Chex', '49.120253'],\n",
       "       ['Bran Flakes', '53.313813'],\n",
       "       [\"Cap'n'Crunch\", '18.042851'],\n",
       "       ['Cheerios', '50.764999'],\n",
       "       ['Cinnamon Toast Crunch', '19.823573'],\n",
       "       ['Clusters', '40.400208'],\n",
       "       ['Cocoa Puffs', '22.736446'],\n",
       "       ['Corn Chex', '41.445019'],\n",
       "       ['Corn Flakes', '45.863324'],\n",
       "       ['Corn Pops', '35.782791'],\n",
       "       ['Count Chocula', '22.396513'],\n",
       "       [\"Cracklin' Oat Bran\", '40.448772'],\n",
       "       ['Cream of Wheat (Quick)', '64.533816'],\n",
       "       ['Crispix', '46.895644'],\n",
       "       ['Crispy Wheat & Raisins', '36.176196'],\n",
       "       ['Double Chex', '44.330856'],\n",
       "       ['Froot Loops', '32.207582'],\n",
       "       ['Frosted Flakes', '31.435973'],\n",
       "       ['Frosted Mini-Wheats', '58.345141'],\n",
       "       ['Fruit & Fibre Dates; Walnuts; and Oats', '40.917047'],\n",
       "       ['Fruitful Bran', '41.015492'],\n",
       "       ['Fruity Pebbles', '28.025765'],\n",
       "       ['Golden Crisp', '35.252444'],\n",
       "       ['Golden Grahams', '23.804043'],\n",
       "       ['Grape Nuts Flakes', '52.076897'],\n",
       "       ['Grape-Nuts', '53.371007'],\n",
       "       ['Great Grains Pecan', '45.811716'],\n",
       "       ['Honey Graham Ohs', '21.871292'],\n",
       "       ['Honey Nut Cheerios', '31.072217'],\n",
       "       ['Honey-comb', '28.742414'],\n",
       "       ['Just Right Crunchy  Nuggets', '36.523683'],\n",
       "       ['Just Right Fruit & Nut', '36.471512'],\n",
       "       ['Kix', '39.241114'],\n",
       "       ['Life', '45.328074'],\n",
       "       ['Lucky Charms', '26.734515'],\n",
       "       ['Maypo', '54.850917'],\n",
       "       ['Muesli Raisins; Dates; & Almonds', '37.136863'],\n",
       "       ['Muesli Raisins; Peaches; & Pecans', '34.139765'],\n",
       "       ['Mueslix Crispy Blend', '30.313351'],\n",
       "       ['Multi-Grain Cheerios', '40.105965'],\n",
       "       ['Nut&Honey Crunch', '29.924285'],\n",
       "       ['Nutri-Grain Almond-Raisin', '40.692320'],\n",
       "       ['Nutri-grain Wheat', '59.642837'],\n",
       "       ['Oatmeal Raisin Crisp', '30.450843'],\n",
       "       ['Post Nat. Raisin Bran', '37.840594'],\n",
       "       ['Product 19', '41.503540'],\n",
       "       ['Puffed Rice', '60.756112'],\n",
       "       ['Puffed Wheat', '63.005645'],\n",
       "       ['Quaker Oat Squares', '49.511874'],\n",
       "       ['Quaker Oatmeal', '50.828392'],\n",
       "       ['Raisin Bran', '39.259197'],\n",
       "       ['Raisin Nut Bran', '39.703400'],\n",
       "       ['Raisin Squares', '55.333142'],\n",
       "       ['Rice Chex', '41.998933'],\n",
       "       ['Rice Krispies', '40.560159'],\n",
       "       ['Shredded Wheat', '68.235885'],\n",
       "       [\"Shredded Wheat 'n'Bran\", '74.472949'],\n",
       "       ['Shredded Wheat spoon size', '72.801787'],\n",
       "       ['Smacks', '31.230054'],\n",
       "       ['Special K', '53.131324'],\n",
       "       ['Strawberry Fruit Wheats', '59.363993'],\n",
       "       ['Total Corn Flakes', '38.839746'],\n",
       "       ['Total Raisin Bran', '28.592785'],\n",
       "       ['Total Whole Grain', '46.658844'],\n",
       "       ['Triples', '39.106174'],\n",
       "       ['Trix', '27.753301'],\n",
       "       ['Wheat Chex', '49.787445'],\n",
       "       ['Wheaties', '51.592193'],\n",
       "       ['Wheaties Honey Gold', '36.187559']], dtype='<U38')"
      ]
     },
     "execution_count": 21,
     "metadata": {},
     "output_type": "execute_result"
    }
   ],
   "source": [
    "# Display cereal names together with their ratings.\n",
    "raw_data[:, [0, -1]]"
   ]
  },
  {
   "cell_type": "code",
   "execution_count": null,
   "metadata": {},
   "outputs": [],
   "source": [
    "# Display the amount of sugars for each product.\n",
    "# How can we identify the column index for sugar?\n",
    "\n",
    "# index_sugars = feature_names.index(\"sugars\")\n",
    "# raw_data[:, index_sugars]\n",
    "\n",
    "# raw_data[:, feature_names.index(\"sugars\")]\n",
    "\n",
    "raw_data[:, np.array(feature_names) == \"sugars\"] # use a condition to select the sugars column"
   ]
  },
  {
   "cell_type": "code",
   "execution_count": 22,
   "metadata": {
    "scrolled": true
   },
   "outputs": [
    {
     "ename": "TypeError",
     "evalue": "cannot perform reduce with flexible type",
     "output_type": "error",
     "traceback": [
      "\u001b[1;31m---------------------------------------------------------------------------\u001b[0m",
      "\u001b[1;31mTypeError\u001b[0m                                 Traceback (most recent call last)",
      "\u001b[1;32m~\\AppData\\Local\\Temp\\ipykernel_11532\\442589929.py\u001b[0m in \u001b[0;36m<module>\u001b[1;34m\u001b[0m\n\u001b[0;32m      1\u001b[0m \u001b[1;31m# What is the highest rating?\u001b[0m\u001b[1;33m\u001b[0m\u001b[1;33m\u001b[0m\u001b[0m\n\u001b[1;32m----> 2\u001b[1;33m \u001b[0mratings\u001b[0m\u001b[1;33m.\u001b[0m\u001b[0mmax\u001b[0m\u001b[1;33m(\u001b[0m\u001b[1;33m)\u001b[0m \u001b[1;31m# This will cause an error since the array contains strings\u001b[0m\u001b[1;33m\u001b[0m\u001b[1;33m\u001b[0m\u001b[0m\n\u001b[0m",
      "\u001b[1;32m~\\anaconda3\\lib\\site-packages\\numpy\\core\\_methods.py\u001b[0m in \u001b[0;36m_amax\u001b[1;34m(a, axis, out, keepdims, initial, where)\u001b[0m\n\u001b[0;32m     38\u001b[0m def _amax(a, axis=None, out=None, keepdims=False,\n\u001b[0;32m     39\u001b[0m           initial=_NoValue, where=True):\n\u001b[1;32m---> 40\u001b[1;33m     \u001b[1;32mreturn\u001b[0m \u001b[0mumr_maximum\u001b[0m\u001b[1;33m(\u001b[0m\u001b[0ma\u001b[0m\u001b[1;33m,\u001b[0m \u001b[0maxis\u001b[0m\u001b[1;33m,\u001b[0m \u001b[1;32mNone\u001b[0m\u001b[1;33m,\u001b[0m \u001b[0mout\u001b[0m\u001b[1;33m,\u001b[0m \u001b[0mkeepdims\u001b[0m\u001b[1;33m,\u001b[0m \u001b[0minitial\u001b[0m\u001b[1;33m,\u001b[0m \u001b[0mwhere\u001b[0m\u001b[1;33m)\u001b[0m\u001b[1;33m\u001b[0m\u001b[1;33m\u001b[0m\u001b[0m\n\u001b[0m\u001b[0;32m     41\u001b[0m \u001b[1;33m\u001b[0m\u001b[0m\n\u001b[0;32m     42\u001b[0m def _amin(a, axis=None, out=None, keepdims=False,\n",
      "\u001b[1;31mTypeError\u001b[0m: cannot perform reduce with flexible type"
     ]
    }
   ],
   "source": [
    "# What is the highest rating?\n",
    "ratings.max() # This will cause an error since the array contains strings"
   ]
  },
  {
   "cell_type": "code",
   "execution_count": 23,
   "metadata": {},
   "outputs": [
    {
     "data": {
      "text/plain": [
       "93.704912"
      ]
     },
     "execution_count": 23,
     "metadata": {},
     "output_type": "execute_result"
    }
   ],
   "source": [
    "# Need to convert strings in ratings to floating point numbers.\n",
    "ratings = ratings.astype(float)\n",
    "ratings.max()"
   ]
  },
  {
   "cell_type": "code",
   "execution_count": 24,
   "metadata": {},
   "outputs": [
    {
     "name": "stdout",
     "output_type": "stream",
     "text": [
      "[68.402973 33.983679 59.425505 93.704912 34.384843 29.509541 33.174094\n",
      " 37.038562 49.120253 53.313813 18.042851 50.764999 19.823573 40.400208\n",
      " 22.736446 41.445019 45.863324 35.782791 22.396513 40.448772 64.533816\n",
      " 46.895644 36.176196 44.330856 32.207582 31.435973 58.345141 40.917047\n",
      " 41.015492 28.025765 35.252444 23.804043 52.076897 53.371007 45.811716\n",
      " 21.871292 31.072217 28.742414 36.523683 36.471512 39.241114 45.328074\n",
      " 26.734515 54.850917 37.136863 34.139765 30.313351 40.105965 29.924285\n",
      " 40.69232  59.642837 30.450843 37.840594 41.50354  60.756112 63.005645\n",
      " 49.511874 50.828392 39.259197 39.7034   55.333142 41.998933 40.560159\n",
      " 68.235885 74.472949 72.801787 31.230054 53.131324 59.363993 38.839746\n",
      " 28.592785 46.658844 39.106174 27.753301 49.787445 51.592193 36.187559]\n"
     ]
    }
   ],
   "source": [
    "print(ratings)"
   ]
  },
  {
   "cell_type": "code",
   "execution_count": 25,
   "metadata": {
    "scrolled": true
   },
   "outputs": [
    {
     "name": "stdout",
     "output_type": "stream",
     "text": [
      "Index of the max rating: 3\n",
      "['All-Bran with Extra Fiber' 'K' 'C' '50' '4' '0' '140' '14' '8' '0' '330'\n",
      " '25' '3' '1' '0.5' '93.704912']\n"
     ]
    }
   ],
   "source": [
    "# Which cereal receives the highest rating?\n",
    "\n",
    "# find the index of the largest value in an array.\n",
    "index_max_rating = np.argmax(ratings)\n",
    "print(\"Index of the max rating:\", index_max_rating)\n",
    "\n",
    "# Extract the entire row with this index\n",
    "print(raw_data[index_max_rating, :])"
   ]
  },
  {
   "cell_type": "code",
   "execution_count": 29,
   "metadata": {},
   "outputs": [
    {
     "name": "stdout",
     "output_type": "stream",
     "text": [
      "Cereal Products with above 60 rating:\n",
      "['100% Bran' 'All-Bran with Extra Fiber' 'Cream of Wheat (Quick)'\n",
      " 'Puffed Rice' 'Puffed Wheat' 'Shredded Wheat' \"Shredded Wheat 'n'Bran\"\n",
      " 'Shredded Wheat spoon size']\n",
      "Total number: (8,)\n"
     ]
    }
   ],
   "source": [
    "# How many cereals receive rating above 60? What are they?\n",
    "print(\"Cereal Products with above 60 rating:\")\n",
    "result = raw_data[ratings > 60, 0]\n",
    "print(result)\n",
    "\n",
    "print(\"Total number:\", result.shape)"
   ]
  },
  {
   "cell_type": "code",
   "execution_count": 30,
   "metadata": {},
   "outputs": [
    {
     "data": {
      "text/plain": [
       "42.66570498701299"
      ]
     },
     "execution_count": 30,
     "metadata": {},
     "output_type": "execute_result"
    }
   ],
   "source": [
    "# What is the average rating?\n",
    "ratings.mean()"
   ]
  },
  {
   "cell_type": "markdown",
   "metadata": {},
   "source": [
    "## Sugar"
   ]
  },
  {
   "cell_type": "code",
   "execution_count": 34,
   "metadata": {},
   "outputs": [
    {
     "name": "stdout",
     "output_type": "stream",
     "text": [
      "Column index of sugars: 9\n",
      "Amount of sugars:\n",
      "['6' '8' '5' '0' '8' '10' '14' '8' '6' '5' '12' '1' '9' '7' '13' '3' '2'\n",
      " '12' '13' '7' '0' '3' '10' '5' '13' '11' '7' '10' '12' '12' '15' '9' '5'\n",
      " '3' '4' '11' '10' '11' '6' '9' '3' '6' '12' '3' '11' '11' '13' '6' '9'\n",
      " '7' '2' '10' '14' '3' '0' '0' '6' '-1' '12' '8' '6' '2' '3' '0' '0' '0'\n",
      " '15' '3' '5' '3' '14' '3' '3' '12' '3' '3' '8']\n"
     ]
    }
   ],
   "source": [
    "# Display the list of sugar per serving\n",
    "sugars_index = list(feature_names).index(\"sugars\")\n",
    "print(\"Column index of sugars:\", sugars_index)\n",
    "sugars = raw_data[:, sugars_index]\n",
    "print(\"Amount of sugars:\")\n",
    "print(sugars)"
   ]
  },
  {
   "cell_type": "code",
   "execution_count": 39,
   "metadata": {},
   "outputs": [
    {
     "name": "stdout",
     "output_type": "stream",
     "text": [
      "Index: 13\n",
      "Weight for one serving:\n",
      "[1.   1.   1.   1.   1.   1.   1.   1.33 1.   1.   1.   1.   1.   1.\n",
      " 1.   1.   1.   1.   1.   1.   1.   1.   1.   1.   1.   1.   1.   1.25\n",
      " 1.33 1.   1.   1.   1.   1.   1.   1.   1.   1.   1.   1.3  1.   1.\n",
      " 1.   1.   1.   1.   1.5  1.   1.   1.33 1.   1.25 1.33 1.   0.5  0.5\n",
      " 1.   1.   1.33 1.   1.   1.   1.   0.83 1.   1.   1.   1.   1.   1.\n",
      " 1.5  1.   1.   1.   1.   1.   1.  ]\n"
     ]
    }
   ],
   "source": [
    "# Display the list of weight per serving\n",
    "weights_index = list(feature_names).index('weight')\n",
    "print(\"Index:\", weights_index)\n",
    "weights = raw_data[:, weights_index].astype(float)\n",
    "print(\"Weight for one serving:\")\n",
    "print(weights)"
   ]
  },
  {
   "cell_type": "code",
   "execution_count": 44,
   "metadata": {},
   "outputs": [
    {
     "name": "stdout",
     "output_type": "stream",
     "text": [
      "['G' 'P' 'K' 'K' 'K' 'K' 'G' 'P' 'K' 'G']\n",
      "['Q' 'Q' 'N']\n"
     ]
    }
   ],
   "source": [
    "# Which manufacturers are using larger serving sizes?\n",
    "print(raw_data[weights > 1, 1])\n",
    "print(raw_data[weights < 1, 1])"
   ]
  },
  {
   "cell_type": "code",
   "execution_count": 49,
   "metadata": {},
   "outputs": [
    {
     "name": "stdout",
     "output_type": "stream",
     "text": [
      "Weight: 1.0 Sugars: 6\n",
      "Index of products with 0.83 weight: (array([63], dtype=int64),)\n",
      "Weight: 0.83 Sugars: 0\n"
     ]
    }
   ],
   "source": [
    "# Let's compare two products with different definitions of one serving:\n",
    "# Product 1:\n",
    "print(\"Weight:\", weights[0], \"Sugars:\", sugars[0])\n",
    "# Find a product whose serving is half an ounce:\n",
    "# First, convert the strings to floats\n",
    "weights = weights.astype(float)\n",
    "index = np.where(weights == 0.83)\n",
    "print(\"Index of products with 0.83 weight:\", index)\n",
    "# Product 55:\n",
    "print(\"Weight:\", weights[63], \"Sugars:\", sugars[63])"
   ]
  },
  {
   "cell_type": "code",
   "execution_count": 50,
   "metadata": {},
   "outputs": [
    {
     "data": {
      "text/plain": [
       "array([ 6.        ,  8.        ,  5.        ,  0.        ,  8.        ,\n",
       "       10.        , 14.        ,  6.01503759,  6.        ,  5.        ,\n",
       "       12.        ,  1.        ,  9.        ,  7.        , 13.        ,\n",
       "        3.        ,  2.        , 12.        , 13.        ,  7.        ,\n",
       "        0.        ,  3.        , 10.        ,  5.        , 13.        ,\n",
       "       11.        ,  7.        ,  8.        ,  9.02255639, 12.        ,\n",
       "       15.        ,  9.        ,  5.        ,  3.        ,  4.        ,\n",
       "       11.        , 10.        , 11.        ,  6.        ,  6.92307692,\n",
       "        3.        ,  6.        , 12.        ,  3.        , 11.        ,\n",
       "       11.        ,  8.66666667,  6.        ,  9.        ,  5.26315789,\n",
       "        2.        ,  8.        , 10.52631579,  3.        ,  0.        ,\n",
       "        0.        ,  6.        , -1.        ,  9.02255639,  8.        ,\n",
       "        6.        ,  2.        ,  3.        ,  0.        ,  0.        ,\n",
       "        0.        , 15.        ,  3.        ,  5.        ,  3.        ,\n",
       "        9.33333333,  3.        ,  3.        , 12.        ,  3.        ,\n",
       "        3.        ,  8.        ])"
      ]
     },
     "execution_count": 50,
     "metadata": {},
     "output_type": "execute_result"
    }
   ],
   "source": [
    "# Calculate sugar per ounce\n",
    "# Convert the strings in sugars to floats\n",
    "sugars = sugars.astype(float)\n",
    "sugars / weights"
   ]
  },
  {
   "cell_type": "code",
   "execution_count": 51,
   "metadata": {},
   "outputs": [
    {
     "name": "stdout",
     "output_type": "stream",
     "text": [
      "Max value: 15.0\n",
      "Index of max value: (array([30, 66], dtype=int64),)\n",
      "Name of the product with most sugar: Golden Crisp ,  Smacks\n"
     ]
    }
   ],
   "source": [
    "# Which product has the highest amount of sugar per ounce?\n",
    "\n",
    "# Calculate the amount of sugars per ounce\n",
    "sugar_per_ounce = sugars / weights\n",
    "\n",
    "# Find the maximal value\n",
    "print(\"Max value:\", sugar_per_ounce.max())\n",
    "\n",
    "# Find the index of the maximal value\n",
    "# index_max_sugars = np.argmax(sugar_per_ounce)\n",
    "index_max_sugars = np.where(sugar_per_ounce == 15.0)\n",
    "print(\"Index of max value:\", index_max_sugars)\n",
    "\n",
    "# Find the name of product 30 and 66\n",
    "print(\"Name of the product with most sugar:\", raw_data[30, 0], \", \",\n",
    "      raw_data[66, 0])"
   ]
  },
  {
   "cell_type": "code",
   "execution_count": null,
   "metadata": {},
   "outputs": [],
   "source": []
  }
 ],
 "metadata": {
  "kernelspec": {
   "display_name": "Python 3 (ipykernel)",
   "language": "python",
   "name": "python3"
  },
  "language_info": {
   "codemirror_mode": {
    "name": "ipython",
    "version": 3
   },
   "file_extension": ".py",
   "mimetype": "text/x-python",
   "name": "python",
   "nbconvert_exporter": "python",
   "pygments_lexer": "ipython3",
   "version": "3.9.13"
  }
 },
 "nbformat": 4,
 "nbformat_minor": 4
}
