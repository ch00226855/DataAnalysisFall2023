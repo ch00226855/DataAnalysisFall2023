{
 "cells": [
  {
   "cell_type": "markdown",
   "metadata": {},
   "source": [
    "# Week 3\n",
    "# NumPy Arrays\n",
    "\n",
    "[NumPy](https://numpy.org/) is the core library for scientific computing in Python. It provides a high-performance multidimensional array object, and tools for working with these arrays.\n",
    "\n",
    "**Resources:**\n",
    "- Textbook Chapter 4\n",
    "- [NumPy Documentation](https://numpy.org/doc/stable/)\n",
    "- [NumPy Tutorial from W3School](https://www.w3resource.com/python-exercises/numpy/index.php)"
   ]
  },
  {
   "cell_type": "code",
   "execution_count": null,
   "metadata": {},
   "outputs": [],
   "source": [
    "import numpy as np # np is a universally-used abbrevation for numpy"
   ]
  },
  {
   "cell_type": "markdown",
   "metadata": {},
   "source": [
    "## NumPy Arrays\n",
    "\n",
    "A numpy array is a grid of values, all of the same type, and is indexed by a tuple of nonnegative integers.\n",
    "- **rank**: number of dimensions\n",
    "- **shape** a tuple of integers giving the size of the array along each dimension"
   ]
  },
  {
   "cell_type": "code",
   "execution_count": null,
   "metadata": {},
   "outputs": [],
   "source": [
    "# Create a numpy array from a Python list\n",
    "py_list = [1, 2, 3, 4]\n",
    "np_ary = np.array(py_list)\n",
    "print(\"Numpy array:\", np_ary)\n",
    "print(\"Shape:\", np_ary.shape)\n",
    "print(\"Type:\", np_ary.dtype)"
   ]
  },
  {
   "cell_type": "markdown",
   "metadata": {},
   "source": [
    "NumPy arrays can perform computations very efficiently. "
   ]
  },
  {
   "cell_type": "code",
   "execution_count": null,
   "metadata": {},
   "outputs": [],
   "source": [
    "# Time cost comparison\n",
    "my_arr = np.arange(1_000_000)\n",
    "my_list = list(range(1_000_000))\n",
    "\n",
    "# Use %timeit to estimate the time cost\n",
    "%timeit my_arr2 = my_arr * 2\n",
    "\n",
    "%timeit my_list2 = [x * 2 for x in my_list]"
   ]
  },
  {
   "cell_type": "markdown",
   "metadata": {},
   "source": [
    "## Array Indexing"
   ]
  },
  {
   "cell_type": "code",
   "execution_count": null,
   "metadata": {},
   "outputs": [],
   "source": [
    "# Access elements using square brackets\n",
    "# Ex: print the index 0, 2, 4 elements of ary\n",
    "ary = np.array([3, 1, 4, 1, 5, 9])\n",
    "print(ary[0])\n",
    "print(ary[0], ary[2], ary[4])"
   ]
  },
  {
   "cell_type": "code",
   "execution_count": null,
   "metadata": {},
   "outputs": [],
   "source": [
    "# print the last element of ary\n",
    "print(ary[-1])"
   ]
  },
  {
   "cell_type": "code",
   "execution_count": null,
   "metadata": {},
   "outputs": [],
   "source": [
    "# print the first 3 elements of ary\n",
    "print(ary[0:3])\n",
    "print(ary[:3])\n",
    "print(ary[-3:])\n",
    "print(ary[-3:6])"
   ]
  },
  {
   "cell_type": "code",
   "execution_count": null,
   "metadata": {},
   "outputs": [],
   "source": [
    "# print the last 2 elements of ary\n",
    "print(ary[-2:])\n",
    "print(ary[-2:6])\n",
    "print(ary[4:6])"
   ]
  },
  {
   "cell_type": "code",
   "execution_count": null,
   "metadata": {},
   "outputs": [],
   "source": [
    "# Create a 2D array\n",
    "ary2d = np.array([[1, 2, 3],\n",
    "                  [4, 5, 6]])\n",
    "print(ary2d)"
   ]
  },
  {
   "cell_type": "code",
   "execution_count": null,
   "metadata": {},
   "outputs": [],
   "source": [
    "# Ex: print the shape and variable type of ary2d\n",
    "\n"
   ]
  },
  {
   "cell_type": "code",
   "execution_count": null,
   "metadata": {},
   "outputs": [],
   "source": [
    "# Ex: print the element on the first row and the second column\n",
    "print(ary2d[0][1])\n",
    "print(ary2d[0, 1])"
   ]
  },
  {
   "cell_type": "code",
   "execution_count": null,
   "metadata": {},
   "outputs": [],
   "source": [
    "# Ex: print the entire first row\n",
    "print(ary2d[0])\n",
    "print(ary2d[0, :])"
   ]
  },
  {
   "cell_type": "code",
   "execution_count": null,
   "metadata": {},
   "outputs": [],
   "source": [
    "# Ex: print the entire first column\n",
    "print(ary2d[:, 0])"
   ]
  },
  {
   "cell_type": "markdown",
   "metadata": {},
   "source": [
    "NumPy also provides many functions to create arrays:"
   ]
  },
  {
   "cell_type": "code",
   "execution_count": null,
   "metadata": {},
   "outputs": [],
   "source": [
    "ary = np.zeros((2, 3))\n",
    "print(ary)\n",
    "print(ary.dtype)"
   ]
  },
  {
   "cell_type": "code",
   "execution_count": null,
   "metadata": {},
   "outputs": [],
   "source": [
    "ary = np.ones((3, 2))\n",
    "print(ary)"
   ]
  },
  {
   "cell_type": "code",
   "execution_count": null,
   "metadata": {},
   "outputs": [],
   "source": [
    "ary = np.random.rand(2, 2)\n",
    "print(ary)"
   ]
  },
  {
   "cell_type": "code",
   "execution_count": null,
   "metadata": {},
   "outputs": [],
   "source": [
    "# What if we want to create an array of random integers?\n",
    "int_ary = np.random.randint(0, 10, size=(4, 3))\n",
    "print(int_ary)"
   ]
  },
  {
   "cell_type": "markdown",
   "metadata": {},
   "source": [
    "## Advanced Array Indexing\n",
    "NumPy arrays support **integer array indexing** and **boolean indexing**, which provides additional tools to create a subarray."
   ]
  },
  {
   "cell_type": "code",
   "execution_count": null,
   "metadata": {},
   "outputs": [],
   "source": [
    "# Integer array index: create a subarray whose indices come from another array\n",
    "data_ary = np.array([0, 2, 4, 6, 8, 10])\n",
    "idx_ary = [0, 4, 5]\n",
    "# # What values will be printed?\n",
    "print(data_ary[idx_ary])"
   ]
  },
  {
   "cell_type": "code",
   "execution_count": null,
   "metadata": {},
   "outputs": [],
   "source": [
    "# Python list does not support integer array indexing\n",
    "data_list = [0, 2, 4, 6, 8, 10]\n",
    "data_list[idx_ary]"
   ]
  },
  {
   "cell_type": "code",
   "execution_count": null,
   "metadata": {},
   "outputs": [],
   "source": [
    "# Boolean indexing: select values that satisfies some condition\n",
    "ary = np.array([1, 3, -5, -2, 0, -1])\n",
    "idx = (ary > 0)\n",
    "# What will be printed?\n",
    "print(idx)\n",
    "print(ary[idx])"
   ]
  },
  {
   "cell_type": "code",
   "execution_count": null,
   "metadata": {},
   "outputs": [],
   "source": [
    "# plug in the condition directly\n",
    "print(ary[ary >= 0])"
   ]
  },
  {
   "cell_type": "markdown",
   "metadata": {},
   "source": [
    "## Array Arithmetics\n",
    "Basic mathematical functions operate elementwise on the arrays."
   ]
  },
  {
   "cell_type": "code",
   "execution_count": null,
   "metadata": {},
   "outputs": [],
   "source": [
    "x = np.array([[1, 2, 3],\n",
    "              [4, 5, 6]])\n",
    "print(x + 1)"
   ]
  },
  {
   "cell_type": "code",
   "execution_count": null,
   "metadata": {},
   "outputs": [],
   "source": [
    "print(x * 2)"
   ]
  },
  {
   "cell_type": "code",
   "execution_count": null,
   "metadata": {},
   "outputs": [],
   "source": [
    "y = np.array([[10, 20, 30],\n",
    "              [40, 50, 60]])\n",
    "print(x + y)"
   ]
  },
  {
   "cell_type": "code",
   "execution_count": null,
   "metadata": {},
   "outputs": [],
   "source": [
    "print(x * y)"
   ]
  },
  {
   "cell_type": "code",
   "execution_count": null,
   "metadata": {},
   "outputs": [],
   "source": [
    "z = np.array([[-1, -2, -3, -4],\n",
    "              [-5, -6, -7, -8]])\n",
    "print(x + z)"
   ]
  },
  {
   "cell_type": "code",
   "execution_count": null,
   "metadata": {
    "scrolled": true
   },
   "outputs": [],
   "source": [
    "# What does this expression do?\n",
    "1 / x"
   ]
  },
  {
   "cell_type": "code",
   "execution_count": null,
   "metadata": {},
   "outputs": [],
   "source": [
    "# What does this expression do?\n",
    "x > y"
   ]
  },
  {
   "cell_type": "markdown",
   "metadata": {},
   "source": [
    "## NumPy Math Functions\n",
    "NumPy provides many math functions that are fully compatible with NumPy arrays"
   ]
  },
  {
   "cell_type": "code",
   "execution_count": null,
   "metadata": {},
   "outputs": [],
   "source": [
    "# Calculate the square-root of 1, 2, ..., 10\n",
    "ary = np.arange(1, 11)\n",
    "print(ary)\n",
    "print(ary.shape)\n",
    "ary2 = np.sqrt(ary)\n",
    "print(ary2)"
   ]
  },
  {
   "cell_type": "code",
   "execution_count": null,
   "metadata": {},
   "outputs": [],
   "source": [
    "# Statistical functions\n",
    "data = np.array([12, 34, 56, 78, 90])\n",
    "print(\"Minimum:\", data.min())\n",
    "print(\"Maximum:\", data.max())\n",
    "print(\"Mean:\", data.mean())\n",
    "print(\"Variance:\", data.var())\n",
    "print(\"Standard deviation:\", data.std())"
   ]
  },
  {
   "cell_type": "code",
   "execution_count": null,
   "metadata": {},
   "outputs": [],
   "source": [
    "# These functions can be called directly\n",
    "print(np.min(data))\n",
    "print(np.max(data))"
   ]
  },
  {
   "cell_type": "markdown",
   "metadata": {},
   "source": [
    "# Example: 80 Cereals - Nutrition data on 80 cereal products\n",
    "\n",
    "In this example, we will use NumPy to analyze a dataset that contains nutrition facts on 80 cereal products. In particular, we will:\n",
    "- Download and load the dataset.\n",
    "- Explore for interesting information\n",
    "- Examine sugar content\n",
    "\n",
    "The data file can be downloaded from [Kaggle.com](https://www.kaggle.com/crawford/80-cereals)\n",
    "\n",
    ">If you like to eat cereal, do yourself a favor and avoid this dataset at all costs. After seeing these data it will never be the same for me to eat Fruity Pebbles again. - Kaggle\n",
    "\n",
    "- Download the zip file from Kaggle (login required)\n",
    "- Unzip to get `cereal.csv` file\n",
    "- Move the csv file to a proper folder\n",
    "- Open the csv file using notepad and excel to examine its content"
   ]
  },
  {
   "cell_type": "markdown",
   "metadata": {},
   "source": [
    "## Load And Examine The Data"
   ]
  },
  {
   "cell_type": "code",
   "execution_count": null,
   "metadata": {},
   "outputs": [],
   "source": [
    "# Load the csv file with np.loadtxt()\n",
    "# Spoiler alert: in the next chapter we will learn a more user-friendly\n",
    "# way of loading data.\n",
    "import numpy as np # import numpy again to make this section self-contained\n",
    "raw_data = np.loadtxt(\"data/cereal.csv\", delimiter=\",\", skiprows=1, dtype=str)"
   ]
  },
  {
   "cell_type": "code",
   "execution_count": null,
   "metadata": {},
   "outputs": [],
   "source": [
    "# Show values in raw_data\n",
    "print(raw_data[0:5, :])"
   ]
  },
  {
   "cell_type": "code",
   "execution_count": null,
   "metadata": {},
   "outputs": [],
   "source": [
    "# Ex: What is the shape of raw_data?\n",
    "# len(raw_data)\n"
   ]
  },
  {
   "cell_type": "code",
   "execution_count": null,
   "metadata": {},
   "outputs": [],
   "source": [
    "# Ex: Create a list of feature names (call it feature_names)\n",
    "feature_names = [\"name\",\"mfr\",\"type\",\"calories\",\"protein\",\"fat\",\"sodium\",\n",
    "                 \"fiber\",\"carbo\",\"sugars\",\"potass\",\"vitamins\",\"shelf\",\n",
    "                 \"weight\",\"cups\",\"rating\"]"
   ]
  },
  {
   "cell_type": "markdown",
   "metadata": {},
   "source": [
    "## Explore The Contents"
   ]
  },
  {
   "cell_type": "code",
   "execution_count": null,
   "metadata": {},
   "outputs": [],
   "source": [
    "# Display the list of cereal names\n",
    "raw_data[:, 0]"
   ]
  },
  {
   "cell_type": "code",
   "execution_count": null,
   "metadata": {},
   "outputs": [],
   "source": [
    "# Display the list of cereal ratings\n",
    "ratings = raw_data[:, -1]\n",
    "ratings.shape"
   ]
  },
  {
   "cell_type": "code",
   "execution_count": null,
   "metadata": {},
   "outputs": [],
   "source": [
    "# Display the amount of sugars for each product.\n",
    "# How can we identify the column index for sugar?\n",
    "\n",
    "# index_sugars = feature_names.index(\"sugars\")\n",
    "# raw_data[:, index_sugars]\n",
    "\n",
    "# raw_data[:, feature_names.index(\"sugars\")]\n",
    "\n",
    "raw_data[:, np.array(feature_names) == \"sugars\"] # use a condition to select the sugars column"
   ]
  },
  {
   "cell_type": "code",
   "execution_count": null,
   "metadata": {
    "scrolled": true
   },
   "outputs": [],
   "source": [
    "# What is the highest rating?\n",
    "ratings.max() # This will cause an error since the array contains strings"
   ]
  },
  {
   "cell_type": "code",
   "execution_count": null,
   "metadata": {},
   "outputs": [],
   "source": [
    "# Need to convert strings in ratings to floating point numbers.\n",
    "ratings = ratings.astype(float)\n",
    "ratings.max()"
   ]
  },
  {
   "cell_type": "code",
   "execution_count": null,
   "metadata": {},
   "outputs": [],
   "source": [
    "print(ratings)"
   ]
  },
  {
   "cell_type": "code",
   "execution_count": null,
   "metadata": {},
   "outputs": [],
   "source": [
    "# Which cereal receives the highest rating?\n",
    "\n",
    "# find the index of the largest value in an array.\n",
    "index_max_rating = np.argmax(ratings)\n",
    "print(\"Index of the max rating:\", index_max_rating)\n",
    "\n",
    "# Extract the entire row with this index\n",
    "print(raw_data[index_max_rating, :])"
   ]
  },
  {
   "cell_type": "code",
   "execution_count": null,
   "metadata": {},
   "outputs": [],
   "source": [
    "# How many cereals receive rating above 60? What are they?\n",
    "print(\"Cereal Products with above 60 rating:\")\n",
    "result = raw_data[ratings > 60, 0]\n",
    "print(result)\n",
    "\n",
    "print(\"Total number:\", result.shape)"
   ]
  },
  {
   "cell_type": "code",
   "execution_count": null,
   "metadata": {},
   "outputs": [],
   "source": [
    "# What is the average rating?\n",
    "ratings.mean()"
   ]
  },
  {
   "cell_type": "markdown",
   "metadata": {},
   "source": [
    "## Sugar"
   ]
  },
  {
   "cell_type": "code",
   "execution_count": null,
   "metadata": {},
   "outputs": [],
   "source": [
    "# Display the list of sugar per serving\n",
    "sugars = raw_data[:, feature_names.index(\"sugars\")]\n",
    "print(\"Amount of sugars:\")\n",
    "print(sugars)"
   ]
  },
  {
   "cell_type": "code",
   "execution_count": null,
   "metadata": {},
   "outputs": [],
   "source": [
    "# Display the list of weight per serving\n",
    "weights = raw_data[:, feature_names.index(\"weight\")]\n",
    "print(\"Weight for one serving:\")\n",
    "print(weights)"
   ]
  },
  {
   "cell_type": "code",
   "execution_count": null,
   "metadata": {},
   "outputs": [],
   "source": [
    "# Let's compare two products with different definitions of one serving:\n",
    "# Product 1:\n",
    "print(\"Weight:\", weights[0], \"Sugars:\", sugars[0])\n",
    "# Find a product whose serving is half an ounce:\n",
    "# First, convert the strings to floats\n",
    "weights = weights.astype(float)\n",
    "index = np.where(weights == 0.5)\n",
    "print(\"Index of products with 0.5 weight:\", index)\n",
    "# Product 55:\n",
    "print(\"Weight:\", weights[55], \"Sugars:\", sugars[55])"
   ]
  },
  {
   "cell_type": "code",
   "execution_count": null,
   "metadata": {},
   "outputs": [],
   "source": [
    "# Calculate sugar per ounce\n",
    "# Convert the strings in sugars to floats\n",
    "sugars = sugars.astype(float)\n",
    "sugars / weights"
   ]
  },
  {
   "cell_type": "code",
   "execution_count": null,
   "metadata": {},
   "outputs": [],
   "source": [
    "# Which product has the highest amount of sugar per ounce?\n",
    "\n",
    "# Calculate the amount of sugars per ounce\n",
    "sugar_per_ounce = sugars / weights\n",
    "\n",
    "# Find the maximal value\n",
    "print(\"Max value:\", sugar_per_ounce.max())\n",
    "\n",
    "# Find the index of the maximal value\n",
    "# index_max_sugars = np.argmax(sugar_per_ounce)\n",
    "index_max_sugars = np.where(sugar_per_ounce == 15.0)\n",
    "print(\"Index of max value:\", index_max_sugars)\n",
    "\n",
    "# Find the name of product 30 and 66\n",
    "print(\"Name of the product with most sugar:\", raw_data[30, 0], \", \",\n",
    "      raw_data[66, 0])"
   ]
  }
 ],
 "metadata": {
  "kernelspec": {
   "display_name": "Python 3 (ipykernel)",
   "language": "python",
   "name": "python3"
  },
  "language_info": {
   "codemirror_mode": {
    "name": "ipython",
    "version": 3
   },
   "file_extension": ".py",
   "mimetype": "text/x-python",
   "name": "python",
   "nbconvert_exporter": "python",
   "pygments_lexer": "ipython3",
   "version": "3.8.5"
  }
 },
 "nbformat": 4,
 "nbformat_minor": 4
}
