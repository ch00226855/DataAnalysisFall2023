{
  "cells": [
    {
      "cell_type": "markdown",
      "metadata": {
        "id": "EMJPMNHnAqLE"
      },
      "source": [
        "# Week 8\n",
        "# Geospatial Plotting with Folium\n",
        "\n",
        "Folium is a Python wrapper for leaflet.js, a JavaScript library for creating interactive maps. Today we will learn how to use Folium to visualize geospatial data."
      ]
    },
    {
      "cell_type": "code",
      "execution_count": null,
      "metadata": {
        "id": "Uzx0YzJHAqLJ"
      },
      "outputs": [],
      "source": [
        "# install Folium\n",
        "!pip install folium"
      ]
    },
    {
      "cell_type": "code",
      "execution_count": null,
      "metadata": {
        "id": "nUpqW2YjAqLM"
      },
      "outputs": [],
      "source": [
        "import folium\n",
        "import numpy as np\n",
        "import pandas as pd\n",
        "folium.__version__"
      ]
    },
    {
      "cell_type": "code",
      "execution_count": null,
      "metadata": {
        "id": "bzMeMVWmAqLN"
      },
      "outputs": [],
      "source": [
        "# To create a base map, simply pass your starting coordinates to Folium:\n",
        "m = folium.Map(location=[45.5236, -122.6750])"
      ]
    },
    {
      "cell_type": "code",
      "execution_count": null,
      "metadata": {
        "id": "9ptp4PtqAqLN"
      },
      "outputs": [],
      "source": [
        "m"
      ]
    },
    {
      "cell_type": "code",
      "execution_count": null,
      "metadata": {
        "id": "SNUzZfCCAqLO"
      },
      "outputs": [],
      "source": [
        "# Save it in a file.\n",
        "m.save('index.html')"
      ]
    },
    {
      "cell_type": "markdown",
      "metadata": {
        "id": "taC1PXgBAqLO"
      },
      "source": [
        "The default tiles are set to `OpenStreetMap`, but `Stamen Terrain`, `Stamen Toner`, `Mapbox Bright`, and `Mapbox Control Room`, and many others tiles are built in."
      ]
    },
    {
      "cell_type": "code",
      "execution_count": null,
      "metadata": {
        "id": "6C6PIBBpAqLP"
      },
      "outputs": [],
      "source": [
        "folium.Map(\n",
        "    location=[45.5236, -122.6750],\n",
        "    tiles='Stamen Toner',\n",
        "    zoom_start=12\n",
        ")"
      ]
    },
    {
      "cell_type": "code",
      "execution_count": null,
      "metadata": {
        "scrolled": false,
        "id": "CMSYjZZeAqLP"
      },
      "outputs": [],
      "source": [
        "m = folium.Map(\n",
        "    location=[45.372, -121.6972],\n",
        "    zoom_start=11,\n",
        "    tiles='Stamen Terrain'\n",
        ")\n",
        "\n",
        "tooltip = 'Click me!'\n",
        "\n",
        "folium.Marker([45.3288, -121.6625], popup='<i>Mt. Hood Meadows</i>', tooltip=tooltip).add_to(m)\n",
        "folium.Marker([45.3311, -121.7113], popup='<b>Timberline Lodge</b>', tooltip=tooltip).add_to(m)\n",
        "\n",
        "m"
      ]
    },
    {
      "cell_type": "markdown",
      "metadata": {
        "id": "jcY-4xyMAqLQ"
      },
      "source": [
        "## Exercise\n",
        "Create a map of New York City, and mark the location of the Statue of Liberty, Empire State Building, and Lehman College."
      ]
    },
    {
      "cell_type": "code",
      "execution_count": null,
      "metadata": {
        "id": "7k9QXHeVAqLQ"
      },
      "outputs": [],
      "source": []
    },
    {
      "cell_type": "code",
      "execution_count": null,
      "metadata": {
        "id": "LjQ9IgcCAqLR"
      },
      "outputs": [],
      "source": []
    },
    {
      "cell_type": "code",
      "execution_count": null,
      "metadata": {
        "id": "FtSNBAjiAqLR"
      },
      "outputs": [],
      "source": []
    },
    {
      "cell_type": "markdown",
      "metadata": {
        "id": "xSFqTzrqAqLR"
      },
      "source": [
        "Leaflet’s `Circle` and `CircleMarker`, implemented to reflect radii in units of meters and pixels respectively."
      ]
    },
    {
      "cell_type": "code",
      "execution_count": null,
      "metadata": {
        "id": "HnTDmN05AqLe"
      },
      "outputs": [],
      "source": [
        "m = folium.Map(\n",
        "    location=[45.5236, -122.6750],\n",
        "    tiles='Stamen Toner',\n",
        "    zoom_start=13\n",
        ")\n",
        "\n",
        "folium.Circle(\n",
        "    radius=100,\n",
        "    location=[45.5244, -122.6699],\n",
        "    popup='The Waterfront',\n",
        "    color='crimson',\n",
        "    fill=False,\n",
        ").add_to(m)\n",
        "\n",
        "folium.CircleMarker(\n",
        "    location=[45.5215, -122.6261],\n",
        "    radius=50,\n",
        "    popup='Laurelhurst Park',\n",
        "    color='#3186cc',\n",
        "    fill=True,\n",
        "    fill_color='#3186cc'\n",
        ").add_to(m)\n",
        "\n",
        "\n",
        "m"
      ]
    },
    {
      "cell_type": "markdown",
      "metadata": {
        "id": "yvVeas_bAqLf"
      },
      "source": [
        "## Exercise\n",
        "On the map of NYC, circle the airports."
      ]
    },
    {
      "cell_type": "code",
      "execution_count": null,
      "metadata": {
        "id": "jR7FgGnQAqLf"
      },
      "outputs": [],
      "source": []
    },
    {
      "cell_type": "code",
      "execution_count": null,
      "metadata": {
        "id": "TkOFUQxjAqLf"
      },
      "outputs": [],
      "source": []
    },
    {
      "cell_type": "markdown",
      "metadata": {
        "id": "-V21kO7YAqLf"
      },
      "source": [
        "## Choropleth Maps\n",
        "A **choropleth map** is a type of thematic map in which areas are shaded or patterned in proportion to a statistical variable."
      ]
    },
    {
      "cell_type": "code",
      "execution_count": null,
      "metadata": {
        "id": "bBa8vYuNAqLf"
      },
      "outputs": [],
      "source": [
        "url = 'https://raw.githubusercontent.com/python-visualization/folium/master/examples/data'\n",
        "state_geo = f'{url}/us-states.json' # formatted string\n",
        "state_unemployment = f'{url}/US_Unemployment_Oct2012.csv'\n",
        "state_data = pd.read_csv(state_unemployment)\n",
        "\n",
        "state_data.head()"
      ]
    },
    {
      "cell_type": "code",
      "execution_count": null,
      "metadata": {
        "id": "-cNklPaeAqLg"
      },
      "outputs": [],
      "source": [
        "m = folium.Map(location=[48, -102], zoom_start=3)\n",
        "\n",
        "folium.Choropleth(\n",
        "    geo_data=state_geo,\n",
        "    name='choropleth',\n",
        "    data=state_data,\n",
        "    columns=['State', 'Unemployment'],\n",
        "    key_on='feature.id',\n",
        "    fill_color='YlGn',\n",
        "    fill_opacity=0.7,\n",
        "    line_opacity=0.2,\n",
        "    legend_name='Unemployment Rate (%)'\n",
        ").add_to(m)\n",
        "\n",
        "folium.LayerControl().add_to(m)\n",
        "\n",
        "m"
      ]
    },
    {
      "cell_type": "markdown",
      "metadata": {
        "id": "zrmUMhIJAqLg"
      },
      "source": [
        "## Exercise\n",
        "Create a Choropleth map that indicate the size of population of each state."
      ]
    },
    {
      "cell_type": "code",
      "execution_count": null,
      "metadata": {
        "id": "05FfVHoyAqLg"
      },
      "outputs": [],
      "source": []
    },
    {
      "cell_type": "code",
      "execution_count": null,
      "metadata": {
        "id": "UjgApnR7AqLg"
      },
      "outputs": [],
      "source": []
    },
    {
      "cell_type": "markdown",
      "metadata": {
        "id": "_yUvxPLBAqLg"
      },
      "source": [
        "## Case Study: Visualizing Bus Traffic in NYC\n",
        "Due to its high population, New York has now become the third most congested city in the world in terms of traffic and the second-worst in the United States. Therefore, it becomes important for the government and road planning authorities to do the analysis of traffic on roads. In this project, we’ll visualize the bus traffic in New York using Folium.\n",
        "\n",
        "The NYC bus dataset can be found [here](https://www.kaggle.com/datasets/stoney71/new-york-city-transport-statistics?select=mta_1706.csv). It contains the latitude and longitude of buses recorded at an interval of every 10 minutes. Please download `mta_1706.csv`, which contains data recorded in June, 2017.\n",
        "\n",
        "[Reference](https://www.analyticsvidhya.com/blog/2020/06/guide-geospatial-analysis-folium-python/)"
      ]
    },
    {
      "cell_type": "code",
      "execution_count": null,
      "metadata": {
        "id": "Gm6JDlUsAqLg"
      },
      "outputs": [],
      "source": [
        "# Decompress the downloaded file\n",
        "import zipfile\n",
        "f = zipfile.ZipFile(\"mta_1706.csv.zip\", \"r\")\n",
        "f.printdir()\n",
        "f.extractall()\n",
        "f.close()"
      ]
    },
    {
      "cell_type": "code",
      "execution_count": null,
      "metadata": {
        "id": "C6FVCLq4AqLh"
      },
      "outputs": [],
      "source": [
        "import pandas as pd\n",
        "df = pd.read_csv(\"mta_1706.csv\", on_bad_lines='skip')\n",
        "df.head()"
      ]
    },
    {
      "cell_type": "code",
      "execution_count": null,
      "metadata": {
        "id": "Y2Qu0NaCAqLh"
      },
      "outputs": [],
      "source": [
        "df.shape"
      ]
    },
    {
      "cell_type": "code",
      "execution_count": null,
      "metadata": {
        "id": "beO4YrcPAqLh"
      },
      "outputs": [],
      "source": [
        "df.dtypes"
      ]
    },
    {
      "cell_type": "code",
      "execution_count": null,
      "metadata": {
        "id": "dFUtQyVgAqLh"
      },
      "outputs": [],
      "source": [
        "# Extract data for June 1st, 2017.\n",
        "df = df[df['RecordedAtTime'].str.split(' ').apply(lambda x:x[0]=='2017-06-01')]\n",
        "df.shape"
      ]
    },
    {
      "cell_type": "code",
      "execution_count": null,
      "metadata": {
        "id": "8-5q5mQDAqLh"
      },
      "outputs": [],
      "source": [
        "# We only need information such as data recording time, latitude,\n",
        "# and longitude of buses and vehicle reference numbers for selecting\n",
        "# a vehicle.\n",
        "df = df[['RecordedAtTime','VehicleRef','VehicleLocation.Latitude','VehicleLocation.Longitude']]\n",
        "df.head()"
      ]
    },
    {
      "cell_type": "code",
      "execution_count": null,
      "metadata": {
        "id": "37qd1Q_2AqLh"
      },
      "outputs": [],
      "source": [
        "# Check and drop duplicated records\n",
        "df = df.drop_duplicates()\n",
        "df.shape"
      ]
    },
    {
      "cell_type": "code",
      "execution_count": null,
      "metadata": {
        "id": "bDeCTBtLAqLi"
      },
      "outputs": [],
      "source": [
        "# Check for incomplete records\n",
        "df.isnull().sum()"
      ]
    },
    {
      "cell_type": "code",
      "execution_count": null,
      "metadata": {
        "id": "7ZjBSKD8AqLi"
      },
      "outputs": [],
      "source": [
        "# Converting column to datetime\n",
        "df['RecordedAtTime'] = pd.to_datetime(df['RecordedAtTime'])\n",
        "# Creating hour column\n",
        "df['hour'] = df['RecordedAtTime'].dt.hour\n",
        "df.head()"
      ]
    },
    {
      "cell_type": "code",
      "execution_count": null,
      "metadata": {
        "id": "vouXBaB-AqLi"
      },
      "outputs": [],
      "source": [
        "# There is a problem here – not all buses have their locations\n",
        "# recorded at the same point in time. Let's take the last recorded\n",
        "# position of every bus in an hour.\n",
        "\n",
        "hours = range(24)\n",
        "vehicles = df['VehicleRef'].unique()\n",
        "print(len(vehicles), vehicles)"
      ]
    },
    {
      "cell_type": "code",
      "execution_count": null,
      "metadata": {
        "id": "1nQjmGk9AqLi"
      },
      "outputs": [],
      "source": [
        "rows = []\n",
        "for hour, vehicle in zip(hours, vehicles):\n",
        "    temp_df = df[(df['hour'] == hour) & (df['VehicleRef'] == vehicle)].copy()\n",
        "    temp_df.sort_values(['RecordedAtTime'], ascending=False, inplace=True)\n",
        "    if temp_df.shape[0] != 0:\n",
        "        row_index = temp_df.index.values[0]\n",
        "        rows.append(row_index)\n",
        "df_small = df.loc[rows, :]"
      ]
    },
    {
      "cell_type": "code",
      "execution_count": null,
      "metadata": {
        "id": "umndFcT4AqLi"
      },
      "outputs": [],
      "source": [
        "df_small.head()"
      ]
    },
    {
      "cell_type": "code",
      "execution_count": null,
      "metadata": {
        "id": "viLDiNRYAqLi"
      },
      "outputs": [],
      "source": [
        "# Complete the data processing with `groupby` and `merge` (will be\n",
        "# introduced later)\n",
        "df2=pd.DataFrame(df.groupby(['hour','VehicleRef'])['RecordedAtTime'].max())\n",
        "df2.reset_index(inplace=True)\n",
        "df2.head()"
      ]
    },
    {
      "cell_type": "code",
      "execution_count": null,
      "metadata": {
        "id": "1dyV1FADAqLi"
      },
      "outputs": [],
      "source": [
        "df3=pd.merge(df2,df,left_on=['hour','VehicleRef','RecordedAtTime'],right_on=['hour','VehicleRef','RecordedAtTime'])\n",
        "df3.head()"
      ]
    },
    {
      "cell_type": "code",
      "execution_count": null,
      "metadata": {
        "id": "T9ygY1irAqLj"
      },
      "outputs": [],
      "source": [
        "lat_long_list = []\n",
        "for i in range(1,25):\n",
        "    temp=[]\n",
        "    for index, instance in df3[df3['hour'] == i].iterrows():\n",
        "        temp.append([instance['VehicleLocation.Latitude'],instance['VehicleLocation.Longitude']])\n",
        "    lat_long_list.append(temp)"
      ]
    },
    {
      "cell_type": "code",
      "execution_count": null,
      "metadata": {
        "id": "2KVPD97MAqLk"
      },
      "outputs": [],
      "source": [
        "print(lat_long_list)"
      ]
    },
    {
      "cell_type": "code",
      "execution_count": null,
      "metadata": {
        "id": "ehINQZJGAqLk"
      },
      "outputs": [],
      "source": [
        "from folium.plugins import HeatMapWithTime\n",
        "m7=folium.Map(location=[40.712776, -74.005974],zoom_start=10)\n",
        "m7"
      ]
    },
    {
      "cell_type": "code",
      "execution_count": null,
      "metadata": {
        "id": "fm957WHZAqLk"
      },
      "outputs": [],
      "source": [
        "# Create a heapmap with the bus traffics in NYC at different hours\n",
        "HeatMapWithTime(lat_long_list,radius=5,auto_play=True,position='bottomright').add_to(m7)\n",
        "m7"
      ]
    },
    {
      "cell_type": "code",
      "execution_count": null,
      "metadata": {
        "id": "hNKFM-xDAqLk"
      },
      "outputs": [],
      "source": [
        "m7.save('m7.html')"
      ]
    },
    {
      "cell_type": "code",
      "execution_count": null,
      "metadata": {
        "id": "cE9Q-KB7AqLk"
      },
      "outputs": [],
      "source": []
    }
  ],
  "metadata": {
    "kernelspec": {
      "display_name": "Python 3 (ipykernel)",
      "language": "python",
      "name": "python3"
    },
    "language_info": {
      "codemirror_mode": {
        "name": "ipython",
        "version": 3
      },
      "file_extension": ".py",
      "mimetype": "text/x-python",
      "name": "python",
      "nbconvert_exporter": "python",
      "pygments_lexer": "ipython3",
      "version": "3.8.5"
    },
    "colab": {
      "provenance": []
    }
  },
  "nbformat": 4,
  "nbformat_minor": 0
}