{
  "cells": [
    {
      "cell_type": "markdown",
      "metadata": {
        "id": "TohYX8TIRanz"
      },
      "source": [
        "# Week 12\n",
        "# Time Series Data\n",
        "\n",
        "Time series data is a data set where instances are indexed by time. It is an important form of structured data in many fields such as finance, economics, ecology, neuroscience, and physics.\n",
        "\n",
        "Reading:\n",
        "- Textbook, Chapter 11"
      ]
    },
    {
      "cell_type": "code",
      "execution_count": null,
      "metadata": {
        "id": "R-VXdCuYRan2"
      },
      "outputs": [],
      "source": [
        "import numpy as np\n",
        "import pandas as pd\n",
        "import matplotlib.pyplot as plt\n",
        "%matplotlib inline"
      ]
    },
    {
      "cell_type": "markdown",
      "metadata": {
        "id": "7nLAkjmyRan3"
      },
      "source": [
        "## 1. Date and Time Data Types and Tools\n",
        "\n",
        "In Python, the `datetime.datetime` class is widely used to represent date and time data."
      ]
    },
    {
      "cell_type": "code",
      "execution_count": null,
      "metadata": {
        "id": "to6Gd_VORan3"
      },
      "outputs": [],
      "source": [
        "from datetime import datetime\n",
        "\n",
        "datetime.now()"
      ]
    },
    {
      "cell_type": "code",
      "execution_count": null,
      "metadata": {
        "id": "4o_kHNYdRan4"
      },
      "outputs": [],
      "source": [
        "datetime.now().year"
      ]
    },
    {
      "cell_type": "code",
      "execution_count": null,
      "metadata": {
        "id": "6E1sIAT5Ran4"
      },
      "outputs": [],
      "source": [
        "datetime.now().day"
      ]
    },
    {
      "cell_type": "code",
      "execution_count": null,
      "metadata": {
        "id": "gl3CQj4mRan5"
      },
      "outputs": [],
      "source": [
        "datetime.now().month"
      ]
    },
    {
      "cell_type": "markdown",
      "metadata": {
        "id": "fyM1zMm7Ran5"
      },
      "source": [
        "We can use `datetime.timedelta` to represent the temporal difference between two `datetime` objects."
      ]
    },
    {
      "cell_type": "code",
      "execution_count": null,
      "metadata": {
        "id": "LlWVJohMRan5"
      },
      "outputs": [],
      "source": [
        "from datetime import timedelta\n",
        "\n",
        "delta = timedelta(10)\n",
        "\n",
        "datetime.now() + delta"
      ]
    },
    {
      "cell_type": "code",
      "execution_count": null,
      "metadata": {
        "id": "p915dbvlRan5"
      },
      "outputs": [],
      "source": [
        "date1 = datetime(2022, 12, 12)\n",
        "date2 = datetime.now()\n",
        "date2 - date1"
      ]
    },
    {
      "cell_type": "code",
      "execution_count": null,
      "metadata": {
        "scrolled": true,
        "id": "me6LqSl5Ran6"
      },
      "outputs": [],
      "source": [
        "# Define a timedelta of 10 seconds\n",
        "ten_seconds = timedelta(seconds=10)\n",
        "print(ten_seconds)"
      ]
    },
    {
      "cell_type": "code",
      "execution_count": null,
      "metadata": {
        "id": "ePo1qal5Ran6"
      },
      "outputs": [],
      "source": [
        "# Define a time delta of 10 months\n",
        "ten_months = timedelta(days=10*30)\n",
        "print(ten_months)"
      ]
    },
    {
      "cell_type": "markdown",
      "metadata": {
        "id": "IV1ctwbVRan6"
      },
      "source": [
        "**Convert between string and datetime**"
      ]
    },
    {
      "cell_type": "code",
      "execution_count": null,
      "metadata": {
        "id": "FFtRur73Ran6"
      },
      "outputs": [],
      "source": [
        "# datetime to string\n",
        "date = datetime(2011, 1, 3, 23, 30, 45)\n",
        "str(date)"
      ]
    },
    {
      "cell_type": "code",
      "execution_count": null,
      "metadata": {
        "id": "6ZTYSceZRan6"
      },
      "outputs": [],
      "source": [
        "# Convert to format \"YYYY-MM-DD\"\n",
        "date.strftime(\"%Y-%m-%d\")"
      ]
    },
    {
      "cell_type": "markdown",
      "metadata": {
        "id": "oKA7c7rwRan7"
      },
      "source": [
        "Datetime formats:\n",
        "- %Y: Four-digit year\n",
        "- %y: Two-digit year\n",
        "- %m: Two-digit month\n",
        "- %d: Two-digit day\n",
        "- %H: Hour 0 - 23\n",
        "- %I: Hour 1 - 12\n",
        "- %M: Two-digit minute\n",
        "- %S: Second\n",
        "- %A: Weekday\n",
        "\n",
        "[More on this](https://docs.python.org/2/library/datetime.html)"
      ]
    },
    {
      "cell_type": "code",
      "execution_count": null,
      "metadata": {
        "id": "ZCYVn5UjRan7"
      },
      "outputs": [],
      "source": [
        "# Exercise: convert date to \"01/03/2011\"\n",
        "\n",
        "date.strftime(\"%m/%d/%Y\")"
      ]
    },
    {
      "cell_type": "code",
      "execution_count": null,
      "metadata": {
        "id": "JZWrwlKKRan7"
      },
      "outputs": [],
      "source": [
        "# Exercise: convert date to \"01-03-2011 23:30\"\n",
        "\n",
        "date.strftime(\"%m-%d-%Y %H:%M\")"
      ]
    },
    {
      "cell_type": "markdown",
      "metadata": {
        "id": "7hp-OThpRan7"
      },
      "source": [
        "**Parse a datetime string**\n",
        "\n",
        "Besides `pd.to_datetime()`, we can use `dateutil` to parse a string representing date and time."
      ]
    },
    {
      "cell_type": "code",
      "execution_count": null,
      "metadata": {
        "id": "kXTj2jZORan7"
      },
      "outputs": [],
      "source": [
        "# String to datetime\n",
        "from dateutil.parser import parse\n",
        "parse(\"2011-01-03\")"
      ]
    },
    {
      "cell_type": "code",
      "execution_count": null,
      "metadata": {
        "id": "cLpkfieWRan7"
      },
      "outputs": [],
      "source": [
        "parse(\"Jan 31, 1997 10:45 PM\")"
      ]
    },
    {
      "cell_type": "code",
      "execution_count": null,
      "metadata": {
        "id": "1sCcFLphRan7"
      },
      "outputs": [],
      "source": [
        "# Many countries use format \"DD/MM/YYYY\". We need to set dayfirst=True\n",
        "# so that the date is correctly recognized.\n",
        "parse(\"06/12/2011\", dayfirst=True)"
      ]
    },
    {
      "cell_type": "code",
      "execution_count": null,
      "metadata": {
        "id": "dYro146eRan7"
      },
      "outputs": [],
      "source": [
        "parse(\"06/12/2011\")"
      ]
    },
    {
      "cell_type": "markdown",
      "metadata": {
        "id": "0IoBtJw-Ran7"
      },
      "source": [
        "## 2. Time Series Basics"
      ]
    },
    {
      "cell_type": "code",
      "execution_count": null,
      "metadata": {
        "id": "8zN5ePrCRan7"
      },
      "outputs": [],
      "source": [
        "# Create a list of datetime objects\n",
        "dates = [datetime(2011, 1, 2), datetime(2011, 1, 5),\n",
        "         datetime(2011, 2, 7), datetime(2011, 2, 8),\n",
        "         datetime(2011, 3, 10), datetime(2011, 3, 12)]\n",
        "ts = pd.Series(np.random.randn(6), index=dates)\n",
        "ts"
      ]
    },
    {
      "cell_type": "code",
      "execution_count": null,
      "metadata": {
        "id": "39crVrLuRan7"
      },
      "outputs": [],
      "source": [
        "# Select 01/05\n",
        "ts['2011-01-05']"
      ]
    },
    {
      "cell_type": "code",
      "execution_count": null,
      "metadata": {
        "id": "C_hm0BScRan7"
      },
      "outputs": [],
      "source": [
        "ts[1]"
      ]
    },
    {
      "cell_type": "code",
      "execution_count": null,
      "metadata": {
        "id": "uMBuULrLRan7"
      },
      "outputs": [],
      "source": [
        "ts['01/05/2011']"
      ]
    },
    {
      "cell_type": "code",
      "execution_count": null,
      "metadata": {
        "id": "TjXNyIGCRan8"
      },
      "outputs": [],
      "source": [
        "ts['20110105']"
      ]
    },
    {
      "cell_type": "code",
      "execution_count": null,
      "metadata": {
        "id": "C2vFLxGMRan8"
      },
      "outputs": [],
      "source": [
        "# Select a range of dates\n",
        "ts['2011-02']"
      ]
    },
    {
      "cell_type": "code",
      "execution_count": null,
      "metadata": {
        "id": "bBWYsYFvRan8"
      },
      "outputs": [],
      "source": [
        "ts['2011-02-01':'2011-02-8'] # the end datetime is also included"
      ]
    },
    {
      "cell_type": "code",
      "execution_count": null,
      "metadata": {
        "id": "jEEsBTbJRan8"
      },
      "outputs": [],
      "source": [
        "ts['2011-02-01':]"
      ]
    },
    {
      "cell_type": "code",
      "execution_count": null,
      "metadata": {
        "scrolled": true,
        "id": "V5hObadnRan8"
      },
      "outputs": [],
      "source": [
        "ts[:\"2011-03-10\"]"
      ]
    },
    {
      "cell_type": "markdown",
      "metadata": {
        "id": "5J6gP2t1Ran8"
      },
      "source": [
        "As a real-world example, let's retrieve Tesla's stock price from Yahoo Finance."
      ]
    },
    {
      "cell_type": "code",
      "execution_count": null,
      "metadata": {
        "id": "0YyycRosRan8"
      },
      "outputs": [],
      "source": [
        "# if you haven't installed yahoo finance library, execute the command below:\n",
        "# Install yahoo finance library\n",
        "!pip install yfinance"
      ]
    },
    {
      "cell_type": "code",
      "execution_count": null,
      "metadata": {
        "id": "GBtfmWPlRan8"
      },
      "outputs": [],
      "source": [
        "import yfinance as yf"
      ]
    },
    {
      "cell_type": "code",
      "execution_count": null,
      "metadata": {
        "id": "IPqeaeytRan8"
      },
      "outputs": [],
      "source": [
        "# Download the daily prices of Tesla (\"TSLA\") from 2020-01-01 to 2020-11-30\n",
        "tsla = yf.download('TSLA', start=\"2023-01-01\", end=\"2023-04-30\")\n",
        "\n",
        "tsla.head()"
      ]
    },
    {
      "cell_type": "code",
      "execution_count": null,
      "metadata": {
        "scrolled": true,
        "id": "7s5iua2ZRan8"
      },
      "outputs": [],
      "source": [
        "# Extract the stock price on a particular day.\n",
        "tsla.loc[:\"2023-01-07\"]"
      ]
    },
    {
      "cell_type": "code",
      "execution_count": null,
      "metadata": {
        "scrolled": true,
        "id": "pIxm9IaqRan8"
      },
      "outputs": [],
      "source": [
        "# Exercise: Draw a line chart of close prices\n",
        "# How about showing the prices bewteen a start date and an end date?\n",
        "startdate = \"2023-03-01\"\n",
        "enddate = \"2023-04-30\"\n",
        "plt.figure(figsize=(10, 4))\n",
        "plt.plot(tsla[startdate:enddate].index,\n",
        "         tsla.loc[startdate:enddate, 'Close'], 'b-')\n",
        "plt.title(\"Tesla Stock Performance\")"
      ]
    },
    {
      "cell_type": "markdown",
      "metadata": {
        "id": "aGZ0Qa7URaoF"
      },
      "source": [
        "## 3. Date Ranges"
      ]
    },
    {
      "cell_type": "code",
      "execution_count": null,
      "metadata": {
        "id": "tmnIZtgQRaoF"
      },
      "outputs": [],
      "source": [
        "# manually populate a list of dates\n",
        "dates = [datetime(2011, 1, 2), datetime(2011, 3, 10), datetime(2011, 4, 1)]\n",
        "# ts[dates] # Pandas no longer supports missing indices\n",
        "ts[ts.index.isin(dates)]"
      ]
    },
    {
      "cell_type": "code",
      "execution_count": null,
      "metadata": {
        "id": "IdOnKgGrRaoF"
      },
      "outputs": [],
      "source": [
        "# Create a range of dates\n",
        "daterange = pd.date_range('2011-01-01', periods=8)\n",
        "print(daterange)"
      ]
    },
    {
      "cell_type": "code",
      "execution_count": null,
      "metadata": {
        "id": "GTuL0TpQRaoF"
      },
      "outputs": [],
      "source": [
        "daterange = pd.date_range('2011-01-01', periods=5, freq='2D')\n",
        "print(daterange)"
      ]
    },
    {
      "cell_type": "code",
      "execution_count": null,
      "metadata": {
        "id": "sPIB_DyHRaoF"
      },
      "outputs": [],
      "source": [
        "daterange = pd.date_range(\"2011-01-01\", periods=5, freq=\"10H\")\n",
        "print(daterange)"
      ]
    },
    {
      "cell_type": "code",
      "execution_count": null,
      "metadata": {
        "scrolled": true,
        "id": "fNXNKa6fRaoF"
      },
      "outputs": [],
      "source": [
        "# Sample business days only\n",
        "daterange = pd.date_range(\"2011-01-01\", periods=10, freq=\"B\")\n",
        "print(daterange)"
      ]
    },
    {
      "cell_type": "code",
      "execution_count": null,
      "metadata": {
        "id": "FV5gF4FCRaoF"
      },
      "outputs": [],
      "source": [
        "# There will be an error if not all dates are included in the dataset.\n",
        "# What can we do about this?\n",
        "ts[daterange]"
      ]
    },
    {
      "cell_type": "code",
      "execution_count": null,
      "metadata": {
        "id": "ThPbj3KdRaoF"
      },
      "outputs": [],
      "source": [
        "ts[ts.index.isin(daterange)]"
      ]
    },
    {
      "cell_type": "markdown",
      "metadata": {
        "id": "vHc9vVWkRaoF"
      },
      "source": [
        "## 4. Shifting Data\n"
      ]
    },
    {
      "cell_type": "code",
      "execution_count": null,
      "metadata": {
        "id": "Z_2jw_waRaoF"
      },
      "outputs": [],
      "source": [
        "prices = pd.DataFrame(np.random.randn(4) * 10 + 100,\n",
        "                      index=pd.date_range('2019-11-01', periods=4),\n",
        "                      columns=['Price'])\n",
        "prices"
      ]
    },
    {
      "cell_type": "code",
      "execution_count": null,
      "metadata": {
        "id": "HF10ZcETRaoG"
      },
      "outputs": [],
      "source": [
        "# How to create a column storing yesterday's price?\n",
        "for date in prices.index:\n",
        "    yesterday = date - timedelta(days=1)\n",
        "    if yesterday in prices.index:\n",
        "        prices.loc[date, \"Yesterday's Price\"] = prices.loc[yesterday, \"Price\"]\n",
        "prices"
      ]
    },
    {
      "cell_type": "code",
      "execution_count": null,
      "metadata": {
        "id": "gV81mBxNRaoG"
      },
      "outputs": [],
      "source": [
        "prices_yesterday = prices['Price'].shift(1)\n",
        "prices_yesterday"
      ]
    },
    {
      "cell_type": "code",
      "execution_count": null,
      "metadata": {
        "id": "IPOMMssBRaoG"
      },
      "outputs": [],
      "source": [
        "prices = pd.merge(prices, prices_yesterday, left_index=True, right_index=True,\n",
        "                  suffixes=[\"Today\", \"Yesterday\"])\n",
        "prices"
      ]
    },
    {
      "cell_type": "code",
      "execution_count": null,
      "metadata": {
        "scrolled": true,
        "id": "SPjtJ9UfRaoG"
      },
      "outputs": [],
      "source": [
        "# Exercise: Calculate how much Tesla's stock price has increased or decreased\n",
        "# at the end of each day, compared to previous day's closing price.\n",
        "# Formula: difference = today's close price - yesterday's close price\n",
        "tsla.head()"
      ]
    },
    {
      "cell_type": "code",
      "execution_count": null,
      "metadata": {
        "scrolled": true,
        "id": "Z7ifL5F8RaoG"
      },
      "outputs": [],
      "source": [
        "# Step 1: Add a column of the previous day's close price\n",
        "tsla['Previous Close'] = tsla['Close'].shift(1)\n",
        "tsla.head()"
      ]
    },
    {
      "cell_type": "code",
      "execution_count": null,
      "metadata": {
        "scrolled": true,
        "id": "2WzYuplTRaoG"
      },
      "outputs": [],
      "source": [
        "# Step 2: Calculate the price difference\n",
        "tsla['Price Change'] = tsla['Close'] - tsla['Previous Close']\n",
        "tsla.head()"
      ]
    },
    {
      "cell_type": "code",
      "execution_count": null,
      "metadata": {
        "scrolled": true,
        "id": "wFdUObL0RaoG"
      },
      "outputs": [],
      "source": [
        "# Can you find how many days has the price increased/decreased?\n",
        "\n",
        "# Solution 1: Using a for loop\n",
        "\n",
        "num_days_increase = 0\n",
        "num_days_decrease = 0\n",
        "for day in tsla.index:\n",
        "    if tsla.loc[day, \"Price Change\"] > 0:\n",
        "        num_days_increase += 1\n",
        "    else:\n",
        "        num_days_decrease += 1\n",
        "print(\"Number of days increased:\", num_days_increase)\n",
        "print(\"Number of days decreased:\", num_days_decrease)"
      ]
    },
    {
      "cell_type": "code",
      "execution_count": null,
      "metadata": {
        "id": "Dnto4UDgRaoG"
      },
      "outputs": [],
      "source": [
        "# Solution 2: Use array arithmetics\n",
        "(tsla[\"Price Change\"] > 0).value_counts()"
      ]
    },
    {
      "cell_type": "code",
      "execution_count": null,
      "metadata": {
        "id": "nXYp_0OARaoG"
      },
      "outputs": [],
      "source": [
        "# On which day the stock price achieved the highest price jump?\n",
        "int_index = tsla['Price Change'].argmax()\n",
        "tsla.index[int_index]"
      ]
    },
    {
      "cell_type": "code",
      "execution_count": null,
      "metadata": {
        "scrolled": true,
        "id": "vzQg0_PLRaoG"
      },
      "outputs": [],
      "source": [
        "tsla.loc['2023-01-24':'2023-01-29']"
      ]
    },
    {
      "cell_type": "code",
      "execution_count": null,
      "metadata": {
        "scrolled": true,
        "id": "qDkizGi6RaoH"
      },
      "outputs": [],
      "source": [
        "# Solution from ChatGPT\n",
        "import yfinance as yf\n",
        "from datetime import datetime, timedelta\n",
        "\n",
        "# Set the start and end dates\n",
        "start_date = datetime(2023, 1, 1)\n",
        "end_date = datetime(2023, 4, 1)\n",
        "\n",
        "# Retrieve Tesla's stock prices from Yahoo Finance\n",
        "tesla_data = yf.download(\"TSLA\", start=start_date, end=end_date)\n",
        "\n",
        "# Calculate the daily price changes\n",
        "tesla_data['Price Change'] = tesla_data['Close'].diff()\n",
        "\n",
        "# Find the day with the highest price jump\n",
        "max_price_jump_date = tesla_data['Price Change'].idxmax()\n",
        "\n",
        "# Print the result\n",
        "print(\"The day with the highest price jump was:\", max_price_jump_date.date())"
      ]
    },
    {
      "cell_type": "markdown",
      "metadata": {
        "id": "6i88FLH0RaoH"
      },
      "source": [
        "## 5. Analysis of Time Series Data"
      ]
    },
    {
      "cell_type": "code",
      "execution_count": null,
      "metadata": {
        "id": "SW_fFIVjRaoH"
      },
      "outputs": [],
      "source": [
        "# Calculate how much percent has Tesla's price changed each day.\n",
        "\n",
        "# tsla.head()\n",
        "\n",
        "# Convert the dollar amount into a percentage.\n",
        "# percentage = price change / previous close\n",
        "\n",
        "tsla['% Change'] = tsla['Price Change'] / tsla['Previous Close'] * 100\n",
        "tsla.head()"
      ]
    },
    {
      "cell_type": "code",
      "execution_count": null,
      "metadata": {
        "id": "qp1TOCXaRaoH"
      },
      "outputs": [],
      "source": [
        "# On which days has Tesla price experience the most increase?\n",
        "# How much had the price increased on those days?\n",
        "\n",
        "tsla['% Change'].idxmax()"
      ]
    },
    {
      "cell_type": "code",
      "execution_count": null,
      "metadata": {
        "scrolled": true,
        "id": "IBCpE7PURaoH"
      },
      "outputs": [],
      "source": [
        "# On which day has Tesla price experience the most decrease? How much decrease?\n",
        "day_of_most_decrease = tsla['% Change'].idxmin()\n",
        "print(day_of_most_decrease)\n",
        "print(\"Price of the day:\", tsla.loc[day_of_most_decrease, 'Close'])\n",
        "print(\"% of change:\", tsla.loc[day_of_most_decrease, '% Change'])"
      ]
    },
    {
      "cell_type": "code",
      "execution_count": null,
      "metadata": {
        "id": "QJ_vOXjBRaoH"
      },
      "outputs": [],
      "source": [
        "# This is how ChatGPT handles this task:\n",
        "import yfinance as yf\n",
        "\n",
        "def find_max_drop_date(symbol, year):\n",
        "    # Fetch historical stock data for the given symbol and year\n",
        "    data = yf.download(symbol, start=f\"{year}-01-01\", end=f\"{year}-12-31\")\n",
        "\n",
        "    # Calculate the daily price drops\n",
        "    data['Drop'] = data['Close'].diff()\n",
        "\n",
        "    # Find the date when the stock dropped the most\n",
        "    max_drop_date = data['Drop'].idxmin().date()\n",
        "\n",
        "    return max_drop_date\n",
        "\n",
        "# Specify the stock symbol and year\n",
        "symbol = 'TSLA'\n",
        "year = 2023\n",
        "\n",
        "# Find the day when Tesla stock dropped the most in 2023\n",
        "max_drop_date = find_max_drop_date(symbol, year)\n",
        "\n",
        "print(f\"The day when Tesla stock dropped the most in 2023: {max_drop_date}\")"
      ]
    },
    {
      "cell_type": "markdown",
      "metadata": {
        "id": "fQb3Sw8QRaoH"
      },
      "source": [
        "**Monthly Performance**\n",
        "\n",
        "For long-term investors, they may prefer monthly performance data. Create a new data frame containing Open, High, Low, Close, and Volume for each month in 2020."
      ]
    },
    {
      "cell_type": "code",
      "execution_count": null,
      "metadata": {
        "id": "LfEuqhCkRaoH"
      },
      "outputs": [],
      "source": [
        "# Group the rows by the month value of their indices, then aggregate the data.\n",
        "\n",
        "tsla_2020 = yf.download(\"TSLA\", start=\"2020-01-01\", end=\"2020-12-31\")\n",
        "tsla_2020.head()"
      ]
    },
    {
      "cell_type": "code",
      "execution_count": null,
      "metadata": {
        "scrolled": true,
        "id": "5_79s8a-RaoH"
      },
      "outputs": [],
      "source": [
        "# If we only want to create the record for 2020-01, we can extract the data from\n",
        "# that month.\n",
        "tsla_202001 = tsla_2020.loc['2020-01']\n",
        "\n",
        "# Get the monthly open price\n",
        "first_day = tsla_202001.index[0]\n",
        "print(\"First trading day in 2020-01:\", first_day)\n",
        "first_price = tsla_202001.loc[first_day, 'Open']\n",
        "print(\"First price in 2020-01:\", first_price)\n",
        "\n",
        "# Get the monthly close price\n",
        "last_day = tsla_202001.index[-1]\n",
        "print(\"Last trading day in 2020-01:\", last_day)\n",
        "last_price = tsla_202001.loc[last_day, 'Close']\n",
        "print(\"Last price in 2020-01:\", last_price)\n",
        "\n",
        "highest_price = tsla_202001['High'].max()\n",
        "lowest_price = tsla_202001['Low'].min()\n",
        "total_volume = tsla_202001['Volume'].sum()\n",
        "\n",
        "print(\"Highest price in 2020-01:\", highest_price)\n",
        "print(\"Lowest price in 2020-01:\", lowest_price)\n",
        "print(\"Totla trading volumn in 2020-01:\", total_volume)\n",
        "\n",
        "# Let's add these data to a new data frame\n",
        "tsla_monthly = pd.DataFrame(columns=['Open', 'High', 'Low', 'Close', 'Volumn'])\n",
        "# tsla_monthly # It is empty at this moment\n",
        "\n",
        "# Let's add a row for 2020-01:\n",
        "tsla_monthly.loc[\"2020-01\", :] = [first_price, highest_price,\n",
        "                            lowest_price, last_price, total_volume]\n",
        "\n",
        "tsla_monthly"
      ]
    },
    {
      "cell_type": "code",
      "execution_count": null,
      "metadata": {
        "scrolled": false,
        "id": "mRPG9jhbRaoI"
      },
      "outputs": [],
      "source": [
        "# Use groupby() to split the data frame into 12 groups\n",
        "groups = tsla_2020.groupby(tsla_2020.index.month)\n",
        "\n",
        "# for idx, group in groups:\n",
        "#     print(idx)\n",
        "#     print(group)\n",
        "#     break\n",
        "\n",
        "first_prices = groups['Open'].first()\n",
        "last_prices = groups['Close'].last()\n",
        "highest_prices = groups['High'].max()\n",
        "lowest_prices = groups['Low'].min()\n",
        "total_volumes = groups['Volume'].sum()\n",
        "\n",
        "tsla_monthly = pd.DataFrame({\n",
        "    'Open': first_prices,\n",
        "    'High': highest_prices,\n",
        "    'Low': lowest_prices,\n",
        "    'Close': last_prices,\n",
        "    'Volume': total_volumes\n",
        "})\n",
        "\n",
        "tsla_monthly.set_index(pd.date_range(\"2020-01-01\", periods=12, freq=\"1m\"),\n",
        "                      inplace=True)\n",
        "\n",
        "tsla_monthly"
      ]
    },
    {
      "cell_type": "code",
      "execution_count": null,
      "metadata": {
        "id": "zNp6HJu6RaoI"
      },
      "outputs": [],
      "source": [
        "# Solution by ChatGPT:\n",
        "import yfinance as yf\n",
        "\n",
        "# Specify the stock symbol and year\n",
        "symbol = \"TSLA\"\n",
        "year = 2020\n",
        "\n",
        "# Retrieve the daily stock data for Tesla in 2020\n",
        "data = yf.download(symbol, start=f\"{year}-01-01\", end=f\"{year}-12-31\")\n",
        "\n",
        "# Aggregate the dataset to monthly data\n",
        "monthly_data = data.resample('M').agg({'Open': 'first', 'High': 'max', 'Low': 'min', 'Close': 'last', 'Volume': 'sum'})\n",
        "\n",
        "monthly_data.index = monthly_data.index.strftime('%Y-%m')\n",
        "\n",
        "monthly_data"
      ]
    },
    {
      "cell_type": "markdown",
      "metadata": {
        "id": "z0Le-LDCRaoI"
      },
      "source": [
        "**Moving Average**\n",
        "\n",
        "The daily price is full of random ups and downs, making it difficult to see the long-term trend. It is important to find the average performance over a fairly longer period (10 days, 30 days, etc.). A moving average (or rolling average) is a calculation that find the average price for each period of time."
      ]
    },
    {
      "cell_type": "code",
      "execution_count": null,
      "metadata": {
        "id": "NSRra3jRRaoI"
      },
      "outputs": [],
      "source": [
        "# Create 10-day moving average\n",
        "moving_avg = tsla.rolling(10)[\"Close\"].mean()\n",
        "\n",
        "moving_avg.head(15)"
      ]
    },
    {
      "cell_type": "code",
      "execution_count": null,
      "metadata": {
        "id": "KkbC_QwaRaoI"
      },
      "outputs": [],
      "source": [
        "# Plot daily prices and the moving average.\n",
        "\n",
        "plt.plot(tsla.index, tsla['Close'], 'b-')\n",
        "plt.plot(moving_avg.index, moving_avg, 'y--')\n",
        "plt.legend(['Daily prices', '10-day average'])"
      ]
    },
    {
      "cell_type": "code",
      "execution_count": null,
      "metadata": {
        "id": "3YJD7HPdRaoI"
      },
      "outputs": [],
      "source": [
        "# Solution by ChatGPT\n",
        "import yfinance as yf\n",
        "import matplotlib.pyplot as plt\n",
        "\n",
        "# Specify the stock symbol and year\n",
        "symbol = 'TSLA'\n",
        "year = 2023\n",
        "\n",
        "# Retrieve the daily stock data for Tesla in 2023\n",
        "data = yf.download(symbol, start=f\"{year}-01-01\", end=f\"{year}-12-31\")\n",
        "\n",
        "# Calculate the 10-day moving average\n",
        "data['MA10'] = data['Close'].rolling(window=10).mean()\n",
        "\n",
        "# Plotting the daily prices and the 10-day moving average\n",
        "plt.figure(figsize=(12, 6))\n",
        "plt.plot(data.index, data['Close'], label='Daily Prices')\n",
        "plt.plot(data.index, data['MA10'], label='10-day Moving Average')\n",
        "plt.xlabel('Date')\n",
        "plt.ylabel('Price')\n",
        "plt.title('Tesla Stock Prices in 2023')\n",
        "plt.legend()\n",
        "plt.show()"
      ]
    },
    {
      "cell_type": "code",
      "execution_count": null,
      "metadata": {
        "id": "B1f6J_BVRaoI"
      },
      "outputs": [],
      "source": []
    }
  ],
  "metadata": {
    "kernelspec": {
      "display_name": "Python 3 (ipykernel)",
      "language": "python",
      "name": "python3"
    },
    "language_info": {
      "codemirror_mode": {
        "name": "ipython",
        "version": 3
      },
      "file_extension": ".py",
      "mimetype": "text/x-python",
      "name": "python",
      "nbconvert_exporter": "python",
      "pygments_lexer": "ipython3",
      "version": "3.9.13"
    },
    "colab": {
      "provenance": []
    }
  },
  "nbformat": 4,
  "nbformat_minor": 0
}