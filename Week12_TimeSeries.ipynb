{
 "cells": [
  {
   "cell_type": "markdown",
   "metadata": {
    "id": "TohYX8TIRanz"
   },
   "source": [
    "# Week 12\n",
    "# Time Series Data\n",
    "\n",
    "Time series data is a data set where instances are indexed by time. It is an important form of structured data in many fields such as finance, economics, ecology, neuroscience, and physics.\n",
    "\n",
    "Reading:\n",
    "- Textbook, Chapter 11"
   ]
  },
  {
   "cell_type": "code",
   "execution_count": 1,
   "metadata": {
    "id": "R-VXdCuYRan2"
   },
   "outputs": [],
   "source": [
    "import numpy as np\n",
    "import pandas as pd\n",
    "import matplotlib.pyplot as plt\n",
    "%matplotlib inline"
   ]
  },
  {
   "cell_type": "markdown",
   "metadata": {
    "id": "7nLAkjmyRan3"
   },
   "source": [
    "## 1. Date and Time Data Types and Tools\n",
    "\n",
    "In Python, the `datetime.datetime` class is widely used to represent date and time data."
   ]
  },
  {
   "cell_type": "code",
   "execution_count": 2,
   "metadata": {
    "id": "to6Gd_VORan3"
   },
   "outputs": [
    {
     "data": {
      "text/plain": [
       "datetime.datetime(2023, 11, 20, 11, 29, 30, 348900)"
      ]
     },
     "execution_count": 2,
     "metadata": {},
     "output_type": "execute_result"
    }
   ],
   "source": [
    "from datetime import datetime\n",
    "\n",
    "datetime.now()"
   ]
  },
  {
   "cell_type": "code",
   "execution_count": 3,
   "metadata": {
    "id": "4o_kHNYdRan4"
   },
   "outputs": [
    {
     "data": {
      "text/plain": [
       "2023"
      ]
     },
     "execution_count": 3,
     "metadata": {},
     "output_type": "execute_result"
    }
   ],
   "source": [
    "datetime.now().year"
   ]
  },
  {
   "cell_type": "code",
   "execution_count": 4,
   "metadata": {
    "id": "6E1sIAT5Ran4"
   },
   "outputs": [
    {
     "data": {
      "text/plain": [
       "20"
      ]
     },
     "execution_count": 4,
     "metadata": {},
     "output_type": "execute_result"
    }
   ],
   "source": [
    "datetime.now().day"
   ]
  },
  {
   "cell_type": "code",
   "execution_count": 5,
   "metadata": {
    "id": "gl3CQj4mRan5"
   },
   "outputs": [
    {
     "data": {
      "text/plain": [
       "11"
      ]
     },
     "execution_count": 5,
     "metadata": {},
     "output_type": "execute_result"
    }
   ],
   "source": [
    "datetime.now().month"
   ]
  },
  {
   "cell_type": "markdown",
   "metadata": {
    "id": "fyM1zMm7Ran5"
   },
   "source": [
    "We can use `datetime.timedelta` to represent the temporal difference between two `datetime` objects."
   ]
  },
  {
   "cell_type": "code",
   "execution_count": 6,
   "metadata": {
    "id": "LlWVJohMRan5"
   },
   "outputs": [
    {
     "data": {
      "text/plain": [
       "datetime.datetime(2023, 11, 30, 11, 32, 8, 806295)"
      ]
     },
     "execution_count": 6,
     "metadata": {},
     "output_type": "execute_result"
    }
   ],
   "source": [
    "from datetime import timedelta\n",
    "\n",
    "delta = timedelta(10)\n",
    "\n",
    "datetime.now() + delta"
   ]
  },
  {
   "cell_type": "code",
   "execution_count": 7,
   "metadata": {
    "id": "p915dbvlRan5"
   },
   "outputs": [
    {
     "data": {
      "text/plain": [
       "datetime.timedelta(days=343, seconds=41567, microseconds=362898)"
      ]
     },
     "execution_count": 7,
     "metadata": {},
     "output_type": "execute_result"
    }
   ],
   "source": [
    "date1 = datetime(2022, 12, 12)\n",
    "date2 = datetime.now()\n",
    "date2 - date1"
   ]
  },
  {
   "cell_type": "code",
   "execution_count": 8,
   "metadata": {
    "id": "me6LqSl5Ran6",
    "scrolled": true
   },
   "outputs": [
    {
     "name": "stdout",
     "output_type": "stream",
     "text": [
      "0:00:10\n"
     ]
    }
   ],
   "source": [
    "# Define a timedelta of 10 seconds\n",
    "ten_seconds = timedelta(seconds=10)\n",
    "print(ten_seconds)"
   ]
  },
  {
   "cell_type": "code",
   "execution_count": 9,
   "metadata": {
    "id": "ePo1qal5Ran6"
   },
   "outputs": [
    {
     "name": "stdout",
     "output_type": "stream",
     "text": [
      "300 days, 0:00:00\n"
     ]
    }
   ],
   "source": [
    "# Define a time delta of 10 months\n",
    "ten_months = timedelta(days=10*30)\n",
    "print(ten_months)"
   ]
  },
  {
   "cell_type": "markdown",
   "metadata": {
    "id": "IV1ctwbVRan6"
   },
   "source": [
    "**Convert between string and datetime**"
   ]
  },
  {
   "cell_type": "code",
   "execution_count": 10,
   "metadata": {
    "id": "FFtRur73Ran6"
   },
   "outputs": [
    {
     "data": {
      "text/plain": [
       "'2011-01-03 23:30:45'"
      ]
     },
     "execution_count": 10,
     "metadata": {},
     "output_type": "execute_result"
    }
   ],
   "source": [
    "# datetime to string\n",
    "date = datetime(2011, 1, 3, 23, 30, 45)\n",
    "str(date)"
   ]
  },
  {
   "cell_type": "code",
   "execution_count": 11,
   "metadata": {
    "id": "6ZTYSceZRan6"
   },
   "outputs": [
    {
     "data": {
      "text/plain": [
       "'2011-01-03'"
      ]
     },
     "execution_count": 11,
     "metadata": {},
     "output_type": "execute_result"
    }
   ],
   "source": [
    "# Convert to format \"YYYY-MM-DD\"\n",
    "date.strftime(\"%Y-%m-%d\")"
   ]
  },
  {
   "cell_type": "markdown",
   "metadata": {
    "id": "oKA7c7rwRan7"
   },
   "source": [
    "Datetime formats:\n",
    "- %Y: Four-digit year\n",
    "- %y: Two-digit year\n",
    "- %m: Two-digit month\n",
    "- %d: Two-digit day\n",
    "- %H: Hour 0 - 23\n",
    "- %I: Hour 1 - 12\n",
    "- %M: Two-digit minute\n",
    "- %S: Second\n",
    "- %A: Weekday\n",
    "- %p: AM or PM\n",
    "\n",
    "[More on this](https://docs.python.org/2/library/datetime.html)"
   ]
  },
  {
   "cell_type": "code",
   "execution_count": null,
   "metadata": {
    "id": "ZCYVn5UjRan7"
   },
   "outputs": [],
   "source": [
    "# Exercise: convert date to \"01/03/2011\"\n",
    "\n",
    "date.strftime(\"%m/%d/%Y\")"
   ]
  },
  {
   "cell_type": "code",
   "execution_count": null,
   "metadata": {
    "id": "JZWrwlKKRan7"
   },
   "outputs": [],
   "source": [
    "# Exercise: convert date to \"01-03-2011 23:30\"\n",
    "\n",
    "date.strftime(\"%m-%d-%Y %H:%M\")"
   ]
  },
  {
   "cell_type": "code",
   "execution_count": 13,
   "metadata": {},
   "outputs": [
    {
     "data": {
      "text/plain": [
       "'Monday, 2011/01/03, 11:30 PM'"
      ]
     },
     "execution_count": 13,
     "metadata": {},
     "output_type": "execute_result"
    }
   ],
   "source": [
    "# Exercise: convert date in the form of \"Monday, 2011/01/03, 11:30 PM\"\n",
    "date.strftime(\"%A, %Y/%m/%d, %I:%M %p\")"
   ]
  },
  {
   "cell_type": "markdown",
   "metadata": {
    "id": "7hp-OThpRan7"
   },
   "source": [
    "**Parse a datetime string**\n",
    "\n",
    "Besides `pd.to_datetime()`, we can use `dateutil` to parse a string representing date and time."
   ]
  },
  {
   "cell_type": "code",
   "execution_count": 14,
   "metadata": {
    "id": "kXTj2jZORan7"
   },
   "outputs": [
    {
     "data": {
      "text/plain": [
       "datetime.datetime(2011, 1, 3, 0, 0)"
      ]
     },
     "execution_count": 14,
     "metadata": {},
     "output_type": "execute_result"
    }
   ],
   "source": [
    "# String to datetime\n",
    "from dateutil.parser import parse\n",
    "parse(\"2011-01-03\")"
   ]
  },
  {
   "cell_type": "code",
   "execution_count": 15,
   "metadata": {
    "id": "cLpkfieWRan7"
   },
   "outputs": [
    {
     "data": {
      "text/plain": [
       "datetime.datetime(1997, 1, 31, 22, 45)"
      ]
     },
     "execution_count": 15,
     "metadata": {},
     "output_type": "execute_result"
    }
   ],
   "source": [
    "parse(\"Jan 31, 1997 10:45 PM\")"
   ]
  },
  {
   "cell_type": "code",
   "execution_count": 16,
   "metadata": {
    "id": "1sCcFLphRan7"
   },
   "outputs": [
    {
     "data": {
      "text/plain": [
       "datetime.datetime(2011, 12, 6, 0, 0)"
      ]
     },
     "execution_count": 16,
     "metadata": {},
     "output_type": "execute_result"
    }
   ],
   "source": [
    "# Many countries use format \"DD/MM/YYYY\". We need to set dayfirst=True\n",
    "# so that the date is correctly recognized.\n",
    "parse(\"06/12/2011\", dayfirst=True)"
   ]
  },
  {
   "cell_type": "code",
   "execution_count": 17,
   "metadata": {
    "id": "dYro146eRan7"
   },
   "outputs": [
    {
     "data": {
      "text/plain": [
       "datetime.datetime(2011, 6, 12, 0, 0)"
      ]
     },
     "execution_count": 17,
     "metadata": {},
     "output_type": "execute_result"
    }
   ],
   "source": [
    "parse(\"06/12/2011\")"
   ]
  },
  {
   "cell_type": "markdown",
   "metadata": {
    "id": "0IoBtJw-Ran7"
   },
   "source": [
    "## 2. Time Series Basics"
   ]
  },
  {
   "cell_type": "code",
   "execution_count": 18,
   "metadata": {
    "id": "8zN5ePrCRan7"
   },
   "outputs": [
    {
     "data": {
      "text/plain": [
       "2011-01-02   -0.504464\n",
       "2011-01-05   -0.346225\n",
       "2011-02-07    1.655729\n",
       "2011-02-08   -1.225765\n",
       "2011-03-10   -0.096052\n",
       "2011-03-12   -1.947278\n",
       "dtype: float64"
      ]
     },
     "execution_count": 18,
     "metadata": {},
     "output_type": "execute_result"
    }
   ],
   "source": [
    "# Create a list of datetime objects\n",
    "dates = [datetime(2011, 1, 2), datetime(2011, 1, 5),\n",
    "         datetime(2011, 2, 7), datetime(2011, 2, 8),\n",
    "         datetime(2011, 3, 10), datetime(2011, 3, 12)]\n",
    "ts = pd.Series(np.random.randn(6), index=dates)\n",
    "ts"
   ]
  },
  {
   "cell_type": "code",
   "execution_count": 19,
   "metadata": {
    "id": "39crVrLuRan7"
   },
   "outputs": [
    {
     "data": {
      "text/plain": [
       "-0.3462248170883353"
      ]
     },
     "execution_count": 19,
     "metadata": {},
     "output_type": "execute_result"
    }
   ],
   "source": [
    "# Select 01/05\n",
    "ts['2011-01-05']"
   ]
  },
  {
   "cell_type": "code",
   "execution_count": 20,
   "metadata": {
    "id": "C_hm0BScRan7"
   },
   "outputs": [
    {
     "data": {
      "text/plain": [
       "-0.3462248170883353"
      ]
     },
     "execution_count": 20,
     "metadata": {},
     "output_type": "execute_result"
    }
   ],
   "source": [
    "ts[1]"
   ]
  },
  {
   "cell_type": "code",
   "execution_count": 21,
   "metadata": {
    "id": "uMBuULrLRan7"
   },
   "outputs": [
    {
     "data": {
      "text/plain": [
       "-0.3462248170883353"
      ]
     },
     "execution_count": 21,
     "metadata": {},
     "output_type": "execute_result"
    }
   ],
   "source": [
    "ts['01/05/2011']"
   ]
  },
  {
   "cell_type": "code",
   "execution_count": 22,
   "metadata": {
    "id": "TjXNyIGCRan8"
   },
   "outputs": [
    {
     "data": {
      "text/plain": [
       "-0.3462248170883353"
      ]
     },
     "execution_count": 22,
     "metadata": {},
     "output_type": "execute_result"
    }
   ],
   "source": [
    "ts['20110105']"
   ]
  },
  {
   "cell_type": "code",
   "execution_count": 23,
   "metadata": {
    "id": "C2vFLxGMRan8"
   },
   "outputs": [
    {
     "data": {
      "text/plain": [
       "2011-02-07    1.655729\n",
       "2011-02-08   -1.225765\n",
       "dtype: float64"
      ]
     },
     "execution_count": 23,
     "metadata": {},
     "output_type": "execute_result"
    }
   ],
   "source": [
    "# Select a range of dates\n",
    "ts['2011-02']"
   ]
  },
  {
   "cell_type": "code",
   "execution_count": 24,
   "metadata": {
    "id": "bBWYsYFvRan8"
   },
   "outputs": [
    {
     "data": {
      "text/plain": [
       "2011-02-07    1.655729\n",
       "2011-02-08   -1.225765\n",
       "dtype: float64"
      ]
     },
     "execution_count": 24,
     "metadata": {},
     "output_type": "execute_result"
    }
   ],
   "source": [
    "ts['2011-02-01':'2011-02-8'] # the end datetime is also included"
   ]
  },
  {
   "cell_type": "code",
   "execution_count": 25,
   "metadata": {
    "id": "jEEsBTbJRan8"
   },
   "outputs": [
    {
     "data": {
      "text/plain": [
       "2011-02-07    1.655729\n",
       "2011-02-08   -1.225765\n",
       "2011-03-10   -0.096052\n",
       "2011-03-12   -1.947278\n",
       "dtype: float64"
      ]
     },
     "execution_count": 25,
     "metadata": {},
     "output_type": "execute_result"
    }
   ],
   "source": [
    "ts['2011-02-01':]"
   ]
  },
  {
   "cell_type": "code",
   "execution_count": 26,
   "metadata": {
    "id": "V5hObadnRan8",
    "scrolled": true
   },
   "outputs": [
    {
     "data": {
      "text/plain": [
       "2011-01-02   -0.504464\n",
       "2011-01-05   -0.346225\n",
       "2011-02-07    1.655729\n",
       "2011-02-08   -1.225765\n",
       "2011-03-10   -0.096052\n",
       "dtype: float64"
      ]
     },
     "execution_count": 26,
     "metadata": {},
     "output_type": "execute_result"
    }
   ],
   "source": [
    "ts[:\"2011-03-10\"]"
   ]
  },
  {
   "cell_type": "markdown",
   "metadata": {
    "id": "5J6gP2t1Ran8"
   },
   "source": [
    "As a real-world example, let's retrieve Tesla's stock price from Yahoo Finance."
   ]
  },
  {
   "cell_type": "code",
   "execution_count": 27,
   "metadata": {
    "id": "0YyycRosRan8"
   },
   "outputs": [
    {
     "name": "stdout",
     "output_type": "stream",
     "text": [
      "Requirement already satisfied: yfinance in c:\\users\\ch002\\anaconda3\\lib\\site-packages (0.2.13)\n",
      "Requirement already satisfied: lxml>=4.9.1 in c:\\users\\ch002\\anaconda3\\lib\\site-packages (from yfinance) (4.9.1)\n",
      "Requirement already satisfied: html5lib>=1.1 in c:\\users\\ch002\\anaconda3\\lib\\site-packages (from yfinance) (1.1)\n",
      "Requirement already satisfied: beautifulsoup4>=4.11.1 in c:\\users\\ch002\\anaconda3\\lib\\site-packages (from yfinance) (4.11.1)\n",
      "Requirement already satisfied: appdirs>=1.4.4 in c:\\users\\ch002\\anaconda3\\lib\\site-packages (from yfinance) (1.4.4)\n",
      "Requirement already satisfied: multitasking>=0.0.7 in c:\\users\\ch002\\anaconda3\\lib\\site-packages (from yfinance) (0.0.11)\n",
      "Requirement already satisfied: numpy>=1.16.5 in c:\\users\\ch002\\anaconda3\\lib\\site-packages (from yfinance) (1.21.5)\n",
      "Requirement already satisfied: pytz>=2022.5 in c:\\users\\ch002\\anaconda3\\lib\\site-packages (from yfinance) (2022.7.1)\n",
      "Requirement already satisfied: frozendict>=2.3.4 in c:\\users\\ch002\\anaconda3\\lib\\site-packages (from yfinance) (2.3.6)\n",
      "Requirement already satisfied: requests>=2.26 in c:\\users\\ch002\\anaconda3\\lib\\site-packages (from yfinance) (2.28.1)\n",
      "Requirement already satisfied: pandas>=1.3.0 in c:\\users\\ch002\\anaconda3\\lib\\site-packages (from yfinance) (1.4.4)\n",
      "Requirement already satisfied: cryptography>=3.3.2 in c:\\users\\ch002\\anaconda3\\lib\\site-packages (from yfinance) (37.0.1)\n",
      "Requirement already satisfied: soupsieve>1.2 in c:\\users\\ch002\\anaconda3\\lib\\site-packages (from beautifulsoup4>=4.11.1->yfinance) (2.3.1)\n",
      "Requirement already satisfied: cffi>=1.12 in c:\\users\\ch002\\anaconda3\\lib\\site-packages (from cryptography>=3.3.2->yfinance) (1.15.1)\n",
      "Requirement already satisfied: webencodings in c:\\users\\ch002\\anaconda3\\lib\\site-packages (from html5lib>=1.1->yfinance) (0.5.1)\n",
      "Requirement already satisfied: six>=1.9 in c:\\users\\ch002\\anaconda3\\lib\\site-packages (from html5lib>=1.1->yfinance) (1.16.0)\n",
      "Requirement already satisfied: python-dateutil>=2.8.1 in c:\\users\\ch002\\anaconda3\\lib\\site-packages (from pandas>=1.3.0->yfinance) (2.8.2)\n",
      "Requirement already satisfied: urllib3<1.27,>=1.21.1 in c:\\users\\ch002\\anaconda3\\lib\\site-packages (from requests>=2.26->yfinance) (1.26.11)\n",
      "Requirement already satisfied: charset-normalizer<3,>=2 in c:\\users\\ch002\\anaconda3\\lib\\site-packages (from requests>=2.26->yfinance) (2.0.4)\n",
      "Requirement already satisfied: idna<4,>=2.5 in c:\\users\\ch002\\anaconda3\\lib\\site-packages (from requests>=2.26->yfinance) (3.3)\n",
      "Requirement already satisfied: certifi>=2017.4.17 in c:\\users\\ch002\\anaconda3\\lib\\site-packages (from requests>=2.26->yfinance) (2022.9.14)\n",
      "Requirement already satisfied: pycparser in c:\\users\\ch002\\anaconda3\\lib\\site-packages (from cffi>=1.12->cryptography>=3.3.2->yfinance) (2.21)\n"
     ]
    }
   ],
   "source": [
    "# if you haven't installed yahoo finance library, execute the command below:\n",
    "# Install yahoo finance library\n",
    "!pip install yfinance"
   ]
  },
  {
   "cell_type": "code",
   "execution_count": 29,
   "metadata": {
    "id": "GBtfmWPlRan8"
   },
   "outputs": [
    {
     "data": {
      "text/plain": [
       "'0.2.13'"
      ]
     },
     "execution_count": 29,
     "metadata": {},
     "output_type": "execute_result"
    }
   ],
   "source": [
    "import yfinance as yf\n",
    "yf.__version__"
   ]
  },
  {
   "cell_type": "code",
   "execution_count": 30,
   "metadata": {
    "id": "IPqeaeytRan8"
   },
   "outputs": [
    {
     "name": "stdout",
     "output_type": "stream",
     "text": [
      "[*********************100%***********************]  1 of 1 completed\n"
     ]
    },
    {
     "data": {
      "text/html": [
       "<div>\n",
       "<style scoped>\n",
       "    .dataframe tbody tr th:only-of-type {\n",
       "        vertical-align: middle;\n",
       "    }\n",
       "\n",
       "    .dataframe tbody tr th {\n",
       "        vertical-align: top;\n",
       "    }\n",
       "\n",
       "    .dataframe thead th {\n",
       "        text-align: right;\n",
       "    }\n",
       "</style>\n",
       "<table border=\"1\" class=\"dataframe\">\n",
       "  <thead>\n",
       "    <tr style=\"text-align: right;\">\n",
       "      <th></th>\n",
       "      <th>Open</th>\n",
       "      <th>High</th>\n",
       "      <th>Low</th>\n",
       "      <th>Close</th>\n",
       "      <th>Adj Close</th>\n",
       "      <th>Volume</th>\n",
       "    </tr>\n",
       "    <tr>\n",
       "      <th>Date</th>\n",
       "      <th></th>\n",
       "      <th></th>\n",
       "      <th></th>\n",
       "      <th></th>\n",
       "      <th></th>\n",
       "      <th></th>\n",
       "    </tr>\n",
       "  </thead>\n",
       "  <tbody>\n",
       "    <tr>\n",
       "      <th>2023-01-03</th>\n",
       "      <td>118.470001</td>\n",
       "      <td>118.800003</td>\n",
       "      <td>104.639999</td>\n",
       "      <td>108.099998</td>\n",
       "      <td>108.099998</td>\n",
       "      <td>231402800</td>\n",
       "    </tr>\n",
       "    <tr>\n",
       "      <th>2023-01-04</th>\n",
       "      <td>109.110001</td>\n",
       "      <td>114.589996</td>\n",
       "      <td>107.519997</td>\n",
       "      <td>113.639999</td>\n",
       "      <td>113.639999</td>\n",
       "      <td>180389000</td>\n",
       "    </tr>\n",
       "    <tr>\n",
       "      <th>2023-01-05</th>\n",
       "      <td>110.510002</td>\n",
       "      <td>111.750000</td>\n",
       "      <td>107.160004</td>\n",
       "      <td>110.339996</td>\n",
       "      <td>110.339996</td>\n",
       "      <td>157986300</td>\n",
       "    </tr>\n",
       "    <tr>\n",
       "      <th>2023-01-06</th>\n",
       "      <td>103.000000</td>\n",
       "      <td>114.389999</td>\n",
       "      <td>101.809998</td>\n",
       "      <td>113.059998</td>\n",
       "      <td>113.059998</td>\n",
       "      <td>220911100</td>\n",
       "    </tr>\n",
       "    <tr>\n",
       "      <th>2023-01-09</th>\n",
       "      <td>118.959999</td>\n",
       "      <td>123.519997</td>\n",
       "      <td>117.110001</td>\n",
       "      <td>119.769997</td>\n",
       "      <td>119.769997</td>\n",
       "      <td>190284000</td>\n",
       "    </tr>\n",
       "  </tbody>\n",
       "</table>\n",
       "</div>"
      ],
      "text/plain": [
       "                  Open        High         Low       Close   Adj Close  \\\n",
       "Date                                                                     \n",
       "2023-01-03  118.470001  118.800003  104.639999  108.099998  108.099998   \n",
       "2023-01-04  109.110001  114.589996  107.519997  113.639999  113.639999   \n",
       "2023-01-05  110.510002  111.750000  107.160004  110.339996  110.339996   \n",
       "2023-01-06  103.000000  114.389999  101.809998  113.059998  113.059998   \n",
       "2023-01-09  118.959999  123.519997  117.110001  119.769997  119.769997   \n",
       "\n",
       "               Volume  \n",
       "Date                   \n",
       "2023-01-03  231402800  \n",
       "2023-01-04  180389000  \n",
       "2023-01-05  157986300  \n",
       "2023-01-06  220911100  \n",
       "2023-01-09  190284000  "
      ]
     },
     "execution_count": 30,
     "metadata": {},
     "output_type": "execute_result"
    }
   ],
   "source": [
    "# Download the daily prices of Tesla (\"TSLA\") from 2020-01-01 to 2020-11-30\n",
    "tsla = yf.download('TSLA', start=\"2023-01-01\", end=\"2023-11-20\")\n",
    "\n",
    "tsla.head()"
   ]
  },
  {
   "cell_type": "code",
   "execution_count": 31,
   "metadata": {
    "id": "7s5iua2ZRan8",
    "scrolled": true
   },
   "outputs": [
    {
     "data": {
      "text/html": [
       "<div>\n",
       "<style scoped>\n",
       "    .dataframe tbody tr th:only-of-type {\n",
       "        vertical-align: middle;\n",
       "    }\n",
       "\n",
       "    .dataframe tbody tr th {\n",
       "        vertical-align: top;\n",
       "    }\n",
       "\n",
       "    .dataframe thead th {\n",
       "        text-align: right;\n",
       "    }\n",
       "</style>\n",
       "<table border=\"1\" class=\"dataframe\">\n",
       "  <thead>\n",
       "    <tr style=\"text-align: right;\">\n",
       "      <th></th>\n",
       "      <th>Open</th>\n",
       "      <th>High</th>\n",
       "      <th>Low</th>\n",
       "      <th>Close</th>\n",
       "      <th>Adj Close</th>\n",
       "      <th>Volume</th>\n",
       "    </tr>\n",
       "    <tr>\n",
       "      <th>Date</th>\n",
       "      <th></th>\n",
       "      <th></th>\n",
       "      <th></th>\n",
       "      <th></th>\n",
       "      <th></th>\n",
       "      <th></th>\n",
       "    </tr>\n",
       "  </thead>\n",
       "  <tbody>\n",
       "    <tr>\n",
       "      <th>2023-01-03</th>\n",
       "      <td>118.470001</td>\n",
       "      <td>118.800003</td>\n",
       "      <td>104.639999</td>\n",
       "      <td>108.099998</td>\n",
       "      <td>108.099998</td>\n",
       "      <td>231402800</td>\n",
       "    </tr>\n",
       "    <tr>\n",
       "      <th>2023-01-04</th>\n",
       "      <td>109.110001</td>\n",
       "      <td>114.589996</td>\n",
       "      <td>107.519997</td>\n",
       "      <td>113.639999</td>\n",
       "      <td>113.639999</td>\n",
       "      <td>180389000</td>\n",
       "    </tr>\n",
       "    <tr>\n",
       "      <th>2023-01-05</th>\n",
       "      <td>110.510002</td>\n",
       "      <td>111.750000</td>\n",
       "      <td>107.160004</td>\n",
       "      <td>110.339996</td>\n",
       "      <td>110.339996</td>\n",
       "      <td>157986300</td>\n",
       "    </tr>\n",
       "    <tr>\n",
       "      <th>2023-01-06</th>\n",
       "      <td>103.000000</td>\n",
       "      <td>114.389999</td>\n",
       "      <td>101.809998</td>\n",
       "      <td>113.059998</td>\n",
       "      <td>113.059998</td>\n",
       "      <td>220911100</td>\n",
       "    </tr>\n",
       "  </tbody>\n",
       "</table>\n",
       "</div>"
      ],
      "text/plain": [
       "                  Open        High         Low       Close   Adj Close  \\\n",
       "Date                                                                     \n",
       "2023-01-03  118.470001  118.800003  104.639999  108.099998  108.099998   \n",
       "2023-01-04  109.110001  114.589996  107.519997  113.639999  113.639999   \n",
       "2023-01-05  110.510002  111.750000  107.160004  110.339996  110.339996   \n",
       "2023-01-06  103.000000  114.389999  101.809998  113.059998  113.059998   \n",
       "\n",
       "               Volume  \n",
       "Date                   \n",
       "2023-01-03  231402800  \n",
       "2023-01-04  180389000  \n",
       "2023-01-05  157986300  \n",
       "2023-01-06  220911100  "
      ]
     },
     "execution_count": 31,
     "metadata": {},
     "output_type": "execute_result"
    }
   ],
   "source": [
    "# Extract the stock price on a particular day.\n",
    "tsla.loc[:\"2023-01-07\"]"
   ]
  },
  {
   "cell_type": "code",
   "execution_count": 34,
   "metadata": {
    "id": "pIxm9IaqRan8",
    "scrolled": true
   },
   "outputs": [
    {
     "data": {
      "text/plain": [
       "Text(0.5, 1.0, 'Tesla Stock Performance')"
      ]
     },
     "execution_count": 34,
     "metadata": {},
     "output_type": "execute_result"
    },
    {
     "data": {
      "image/png": "[encoded data removed]",
      "text/plain": [
       "<Figure size 1000x400 with 1 Axes>"
      ]
     },
     "metadata": {},
     "output_type": "display_data"
    }
   ],
   "source": [
    "# Exercise: Draw a line chart of close prices\n",
    "# How about showing the prices bewteen a start date and an end date?\n",
    "startdate = \"2023-03-01\"\n",
    "enddate = \"2023-04-30\"\n",
    "plt.figure(figsize=(10, 4))\n",
    "plt.plot(tsla[startdate:enddate].index,\n",
    "         tsla.loc[startdate:enddate, 'Close'], 'b.-')\n",
    "plt.title(\"Tesla Stock Performance\")"
   ]
  },
  {
   "cell_type": "markdown",
   "metadata": {
    "id": "aGZ0Qa7URaoF"
   },
   "source": [
    "## 3. Date Ranges"
   ]
  },
  {
   "cell_type": "code",
   "execution_count": 37,
   "metadata": {
    "id": "tmnIZtgQRaoF"
   },
   "outputs": [
    {
     "data": {
      "text/plain": [
       "2011-01-02   -0.504464\n",
       "2011-03-10   -0.096052\n",
       "dtype: float64"
      ]
     },
     "execution_count": 37,
     "metadata": {},
     "output_type": "execute_result"
    }
   ],
   "source": [
    "# manually populate a list of dates\n",
    "dates = [datetime(2011, 1, 2), datetime(2011, 3, 10), datetime(2011, 4, 1)]\n",
    "# ts[dates] # Pandas no longer supports missing indices\n",
    "ts[ts.index.isin(dates)]"
   ]
  },
  {
   "cell_type": "code",
   "execution_count": 38,
   "metadata": {
    "id": "IdOnKgGrRaoF"
   },
   "outputs": [
    {
     "name": "stdout",
     "output_type": "stream",
     "text": [
      "DatetimeIndex(['2011-01-01', '2011-01-02', '2011-01-03', '2011-01-04',\n",
      "               '2011-01-05', '2011-01-06', '2011-01-07', '2011-01-08'],\n",
      "              dtype='datetime64[ns]', freq='D')\n"
     ]
    }
   ],
   "source": [
    "# Create a range of dates\n",
    "daterange = pd.date_range('2011-01-01', periods=8)\n",
    "print(daterange)"
   ]
  },
  {
   "cell_type": "code",
   "execution_count": 40,
   "metadata": {
    "id": "GTuL0TpQRaoF"
   },
   "outputs": [
    {
     "name": "stdout",
     "output_type": "stream",
     "text": [
      "DatetimeIndex(['2011-01-01', '2011-01-08', '2011-01-15', '2011-01-22',\n",
      "               '2011-01-29'],\n",
      "              dtype='datetime64[ns]', freq='7D')\n"
     ]
    }
   ],
   "source": [
    "daterange = pd.date_range('2011-01-01', periods=5, freq='7D')\n",
    "print(daterange)"
   ]
  },
  {
   "cell_type": "code",
   "execution_count": 41,
   "metadata": {
    "id": "sPIB_DyHRaoF"
   },
   "outputs": [
    {
     "name": "stdout",
     "output_type": "stream",
     "text": [
      "DatetimeIndex(['2011-01-01 00:00:00', '2011-01-01 10:00:00',\n",
      "               '2011-01-01 20:00:00', '2011-01-02 06:00:00',\n",
      "               '2011-01-02 16:00:00'],\n",
      "              dtype='datetime64[ns]', freq='10H')\n"
     ]
    }
   ],
   "source": [
    "daterange = pd.date_range(\"2011-01-01\", periods=5, freq=\"10H\")\n",
    "print(daterange)"
   ]
  },
  {
   "cell_type": "code",
   "execution_count": 43,
   "metadata": {
    "id": "fNXNKa6fRaoF",
    "scrolled": true
   },
   "outputs": [
    {
     "name": "stdout",
     "output_type": "stream",
     "text": [
      "DatetimeIndex(['2011-01-03', '2011-01-04', '2011-01-05', '2011-01-06',\n",
      "               '2011-01-07', '2011-01-10', '2011-01-11', '2011-01-12',\n",
      "               '2011-01-13', '2011-01-14', '2011-01-17', '2011-01-18'],\n",
      "              dtype='datetime64[ns]', freq='B')\n"
     ]
    }
   ],
   "source": [
    "# Sample business days only\n",
    "daterange = pd.date_range(\"2011-01-01\", periods=12, freq=\"B\")\n",
    "print(daterange)"
   ]
  },
  {
   "cell_type": "code",
   "execution_count": 44,
   "metadata": {
    "id": "FV5gF4FCRaoF"
   },
   "outputs": [
    {
     "ename": "KeyError",
     "evalue": "\"[Timestamp('2011-01-03 00:00:00'), Timestamp('2011-01-04 00:00:00'), Timestamp('2011-01-06 00:00:00'), Timestamp('2011-01-07 00:00:00'), Timestamp('2011-01-10 00:00:00'), Timestamp('2011-01-11 00:00:00'), Timestamp('2011-01-12 00:00:00'), Timestamp('2011-01-13 00:00:00'), Timestamp('2011-01-14 00:00:00'), Timestamp('2011-01-17 00:00:00'), Timestamp('2011-01-18 00:00:00')] not in index\"",
     "output_type": "error",
     "traceback": [
      "\u001b[1;31m---------------------------------------------------------------------------\u001b[0m",
      "\u001b[1;31mKeyError\u001b[0m                                  Traceback (most recent call last)",
      "\u001b[1;32m~\\AppData\\Local\\Temp\\ipykernel_9356\\96660630.py\u001b[0m in \u001b[0;36m<module>\u001b[1;34m\u001b[0m\n\u001b[0;32m      1\u001b[0m \u001b[1;31m# There will be an error if not all dates are included in the dataset.\u001b[0m\u001b[1;33m\u001b[0m\u001b[1;33m\u001b[0m\u001b[0m\n\u001b[0;32m      2\u001b[0m \u001b[1;31m# What can we do about this?\u001b[0m\u001b[1;33m\u001b[0m\u001b[1;33m\u001b[0m\u001b[0m\n\u001b[1;32m----> 3\u001b[1;33m \u001b[0mts\u001b[0m\u001b[1;33m[\u001b[0m\u001b[0mdaterange\u001b[0m\u001b[1;33m]\u001b[0m\u001b[1;33m\u001b[0m\u001b[1;33m\u001b[0m\u001b[0m\n\u001b[0m",
      "\u001b[1;32m~\\anaconda3\\lib\\site-packages\\pandas\\core\\series.py\u001b[0m in \u001b[0;36m__getitem__\u001b[1;34m(self, key)\u001b[0m\n\u001b[0;32m    982\u001b[0m             \u001b[1;32mreturn\u001b[0m \u001b[0mself\u001b[0m\u001b[1;33m.\u001b[0m\u001b[0m_get_values\u001b[0m\u001b[1;33m(\u001b[0m\u001b[0mkey\u001b[0m\u001b[1;33m)\u001b[0m\u001b[1;33m\u001b[0m\u001b[1;33m\u001b[0m\u001b[0m\n\u001b[0;32m    983\u001b[0m \u001b[1;33m\u001b[0m\u001b[0m\n\u001b[1;32m--> 984\u001b[1;33m         \u001b[1;32mreturn\u001b[0m \u001b[0mself\u001b[0m\u001b[1;33m.\u001b[0m\u001b[0m_get_with\u001b[0m\u001b[1;33m(\u001b[0m\u001b[0mkey\u001b[0m\u001b[1;33m)\u001b[0m\u001b[1;33m\u001b[0m\u001b[1;33m\u001b[0m\u001b[0m\n\u001b[0m\u001b[0;32m    985\u001b[0m \u001b[1;33m\u001b[0m\u001b[0m\n\u001b[0;32m    986\u001b[0m     \u001b[1;32mdef\u001b[0m \u001b[0m_get_with\u001b[0m\u001b[1;33m(\u001b[0m\u001b[0mself\u001b[0m\u001b[1;33m,\u001b[0m \u001b[0mkey\u001b[0m\u001b[1;33m)\u001b[0m\u001b[1;33m:\u001b[0m\u001b[1;33m\u001b[0m\u001b[1;33m\u001b[0m\u001b[0m\n",
      "\u001b[1;32m~\\anaconda3\\lib\\site-packages\\pandas\\core\\series.py\u001b[0m in \u001b[0;36m_get_with\u001b[1;34m(self, key)\u001b[0m\n\u001b[0;32m   1022\u001b[0m \u001b[1;33m\u001b[0m\u001b[0m\n\u001b[0;32m   1023\u001b[0m         \u001b[1;31m# handle the dup indexing case GH#4246\u001b[0m\u001b[1;33m\u001b[0m\u001b[1;33m\u001b[0m\u001b[0m\n\u001b[1;32m-> 1024\u001b[1;33m         \u001b[1;32mreturn\u001b[0m \u001b[0mself\u001b[0m\u001b[1;33m.\u001b[0m\u001b[0mloc\u001b[0m\u001b[1;33m[\u001b[0m\u001b[0mkey\u001b[0m\u001b[1;33m]\u001b[0m\u001b[1;33m\u001b[0m\u001b[1;33m\u001b[0m\u001b[0m\n\u001b[0m\u001b[0;32m   1025\u001b[0m \u001b[1;33m\u001b[0m\u001b[0m\n\u001b[0;32m   1026\u001b[0m     \u001b[1;32mdef\u001b[0m \u001b[0m_get_values_tuple\u001b[0m\u001b[1;33m(\u001b[0m\u001b[0mself\u001b[0m\u001b[1;33m,\u001b[0m \u001b[0mkey\u001b[0m\u001b[1;33m)\u001b[0m\u001b[1;33m:\u001b[0m\u001b[1;33m\u001b[0m\u001b[1;33m\u001b[0m\u001b[0m\n",
      "\u001b[1;32m~\\anaconda3\\lib\\site-packages\\pandas\\core\\indexing.py\u001b[0m in \u001b[0;36m__getitem__\u001b[1;34m(self, key)\u001b[0m\n\u001b[0;32m    965\u001b[0m \u001b[1;33m\u001b[0m\u001b[0m\n\u001b[0;32m    966\u001b[0m             \u001b[0mmaybe_callable\u001b[0m \u001b[1;33m=\u001b[0m \u001b[0mcom\u001b[0m\u001b[1;33m.\u001b[0m\u001b[0mapply_if_callable\u001b[0m\u001b[1;33m(\u001b[0m\u001b[0mkey\u001b[0m\u001b[1;33m,\u001b[0m \u001b[0mself\u001b[0m\u001b[1;33m.\u001b[0m\u001b[0mobj\u001b[0m\u001b[1;33m)\u001b[0m\u001b[1;33m\u001b[0m\u001b[1;33m\u001b[0m\u001b[0m\n\u001b[1;32m--> 967\u001b[1;33m             \u001b[1;32mreturn\u001b[0m \u001b[0mself\u001b[0m\u001b[1;33m.\u001b[0m\u001b[0m_getitem_axis\u001b[0m\u001b[1;33m(\u001b[0m\u001b[0mmaybe_callable\u001b[0m\u001b[1;33m,\u001b[0m \u001b[0maxis\u001b[0m\u001b[1;33m=\u001b[0m\u001b[0maxis\u001b[0m\u001b[1;33m)\u001b[0m\u001b[1;33m\u001b[0m\u001b[1;33m\u001b[0m\u001b[0m\n\u001b[0m\u001b[0;32m    968\u001b[0m \u001b[1;33m\u001b[0m\u001b[0m\n\u001b[0;32m    969\u001b[0m     \u001b[1;32mdef\u001b[0m \u001b[0m_is_scalar_access\u001b[0m\u001b[1;33m(\u001b[0m\u001b[0mself\u001b[0m\u001b[1;33m,\u001b[0m \u001b[0mkey\u001b[0m\u001b[1;33m:\u001b[0m \u001b[0mtuple\u001b[0m\u001b[1;33m)\u001b[0m\u001b[1;33m:\u001b[0m\u001b[1;33m\u001b[0m\u001b[1;33m\u001b[0m\u001b[0m\n",
      "\u001b[1;32m~\\anaconda3\\lib\\site-packages\\pandas\\core\\indexing.py\u001b[0m in \u001b[0;36m_getitem_axis\u001b[1;34m(self, key, axis)\u001b[0m\n\u001b[0;32m   1192\u001b[0m                     \u001b[1;32mraise\u001b[0m \u001b[0mValueError\u001b[0m\u001b[1;33m(\u001b[0m\u001b[1;34m\"Cannot index with multidimensional key\"\u001b[0m\u001b[1;33m)\u001b[0m\u001b[1;33m\u001b[0m\u001b[1;33m\u001b[0m\u001b[0m\n\u001b[0;32m   1193\u001b[0m \u001b[1;33m\u001b[0m\u001b[0m\n\u001b[1;32m-> 1194\u001b[1;33m                 \u001b[1;32mreturn\u001b[0m \u001b[0mself\u001b[0m\u001b[1;33m.\u001b[0m\u001b[0m_getitem_iterable\u001b[0m\u001b[1;33m(\u001b[0m\u001b[0mkey\u001b[0m\u001b[1;33m,\u001b[0m \u001b[0maxis\u001b[0m\u001b[1;33m=\u001b[0m\u001b[0maxis\u001b[0m\u001b[1;33m)\u001b[0m\u001b[1;33m\u001b[0m\u001b[1;33m\u001b[0m\u001b[0m\n\u001b[0m\u001b[0;32m   1195\u001b[0m \u001b[1;33m\u001b[0m\u001b[0m\n\u001b[0;32m   1196\u001b[0m             \u001b[1;31m# nested tuple slicing\u001b[0m\u001b[1;33m\u001b[0m\u001b[1;33m\u001b[0m\u001b[0m\n",
      "\u001b[1;32m~\\anaconda3\\lib\\site-packages\\pandas\\core\\indexing.py\u001b[0m in \u001b[0;36m_getitem_iterable\u001b[1;34m(self, key, axis)\u001b[0m\n\u001b[0;32m   1130\u001b[0m \u001b[1;33m\u001b[0m\u001b[0m\n\u001b[0;32m   1131\u001b[0m         \u001b[1;31m# A collection of keys\u001b[0m\u001b[1;33m\u001b[0m\u001b[1;33m\u001b[0m\u001b[0m\n\u001b[1;32m-> 1132\u001b[1;33m         \u001b[0mkeyarr\u001b[0m\u001b[1;33m,\u001b[0m \u001b[0mindexer\u001b[0m \u001b[1;33m=\u001b[0m \u001b[0mself\u001b[0m\u001b[1;33m.\u001b[0m\u001b[0m_get_listlike_indexer\u001b[0m\u001b[1;33m(\u001b[0m\u001b[0mkey\u001b[0m\u001b[1;33m,\u001b[0m \u001b[0maxis\u001b[0m\u001b[1;33m)\u001b[0m\u001b[1;33m\u001b[0m\u001b[1;33m\u001b[0m\u001b[0m\n\u001b[0m\u001b[0;32m   1133\u001b[0m         return self.obj._reindex_with_indexers(\n\u001b[0;32m   1134\u001b[0m             \u001b[1;33m{\u001b[0m\u001b[0maxis\u001b[0m\u001b[1;33m:\u001b[0m \u001b[1;33m[\u001b[0m\u001b[0mkeyarr\u001b[0m\u001b[1;33m,\u001b[0m \u001b[0mindexer\u001b[0m\u001b[1;33m]\u001b[0m\u001b[1;33m}\u001b[0m\u001b[1;33m,\u001b[0m \u001b[0mcopy\u001b[0m\u001b[1;33m=\u001b[0m\u001b[1;32mTrue\u001b[0m\u001b[1;33m,\u001b[0m \u001b[0mallow_dups\u001b[0m\u001b[1;33m=\u001b[0m\u001b[1;32mTrue\u001b[0m\u001b[1;33m\u001b[0m\u001b[1;33m\u001b[0m\u001b[0m\n",
      "\u001b[1;32m~\\anaconda3\\lib\\site-packages\\pandas\\core\\indexing.py\u001b[0m in \u001b[0;36m_get_listlike_indexer\u001b[1;34m(self, key, axis)\u001b[0m\n\u001b[0;32m   1328\u001b[0m         \u001b[0maxis_name\u001b[0m \u001b[1;33m=\u001b[0m \u001b[0mself\u001b[0m\u001b[1;33m.\u001b[0m\u001b[0mobj\u001b[0m\u001b[1;33m.\u001b[0m\u001b[0m_get_axis_name\u001b[0m\u001b[1;33m(\u001b[0m\u001b[0maxis\u001b[0m\u001b[1;33m)\u001b[0m\u001b[1;33m\u001b[0m\u001b[1;33m\u001b[0m\u001b[0m\n\u001b[0;32m   1329\u001b[0m \u001b[1;33m\u001b[0m\u001b[0m\n\u001b[1;32m-> 1330\u001b[1;33m         \u001b[0mkeyarr\u001b[0m\u001b[1;33m,\u001b[0m \u001b[0mindexer\u001b[0m \u001b[1;33m=\u001b[0m \u001b[0max\u001b[0m\u001b[1;33m.\u001b[0m\u001b[0m_get_indexer_strict\u001b[0m\u001b[1;33m(\u001b[0m\u001b[0mkey\u001b[0m\u001b[1;33m,\u001b[0m \u001b[0maxis_name\u001b[0m\u001b[1;33m)\u001b[0m\u001b[1;33m\u001b[0m\u001b[1;33m\u001b[0m\u001b[0m\n\u001b[0m\u001b[0;32m   1331\u001b[0m \u001b[1;33m\u001b[0m\u001b[0m\n\u001b[0;32m   1332\u001b[0m         \u001b[1;32mreturn\u001b[0m \u001b[0mkeyarr\u001b[0m\u001b[1;33m,\u001b[0m \u001b[0mindexer\u001b[0m\u001b[1;33m\u001b[0m\u001b[1;33m\u001b[0m\u001b[0m\n",
      "\u001b[1;32m~\\anaconda3\\lib\\site-packages\\pandas\\core\\indexes\\base.py\u001b[0m in \u001b[0;36m_get_indexer_strict\u001b[1;34m(self, key, axis_name)\u001b[0m\n\u001b[0;32m   5794\u001b[0m             \u001b[0mkeyarr\u001b[0m\u001b[1;33m,\u001b[0m \u001b[0mindexer\u001b[0m\u001b[1;33m,\u001b[0m \u001b[0mnew_indexer\u001b[0m \u001b[1;33m=\u001b[0m \u001b[0mself\u001b[0m\u001b[1;33m.\u001b[0m\u001b[0m_reindex_non_unique\u001b[0m\u001b[1;33m(\u001b[0m\u001b[0mkeyarr\u001b[0m\u001b[1;33m)\u001b[0m\u001b[1;33m\u001b[0m\u001b[1;33m\u001b[0m\u001b[0m\n\u001b[0;32m   5795\u001b[0m \u001b[1;33m\u001b[0m\u001b[0m\n\u001b[1;32m-> 5796\u001b[1;33m         \u001b[0mself\u001b[0m\u001b[1;33m.\u001b[0m\u001b[0m_raise_if_missing\u001b[0m\u001b[1;33m(\u001b[0m\u001b[0mkeyarr\u001b[0m\u001b[1;33m,\u001b[0m \u001b[0mindexer\u001b[0m\u001b[1;33m,\u001b[0m \u001b[0maxis_name\u001b[0m\u001b[1;33m)\u001b[0m\u001b[1;33m\u001b[0m\u001b[1;33m\u001b[0m\u001b[0m\n\u001b[0m\u001b[0;32m   5797\u001b[0m \u001b[1;33m\u001b[0m\u001b[0m\n\u001b[0;32m   5798\u001b[0m         \u001b[0mkeyarr\u001b[0m \u001b[1;33m=\u001b[0m \u001b[0mself\u001b[0m\u001b[1;33m.\u001b[0m\u001b[0mtake\u001b[0m\u001b[1;33m(\u001b[0m\u001b[0mindexer\u001b[0m\u001b[1;33m)\u001b[0m\u001b[1;33m\u001b[0m\u001b[1;33m\u001b[0m\u001b[0m\n",
      "\u001b[1;32m~\\anaconda3\\lib\\site-packages\\pandas\\core\\indexes\\base.py\u001b[0m in \u001b[0;36m_raise_if_missing\u001b[1;34m(self, key, indexer, axis_name)\u001b[0m\n\u001b[0;32m   5857\u001b[0m \u001b[1;33m\u001b[0m\u001b[0m\n\u001b[0;32m   5858\u001b[0m             \u001b[0mnot_found\u001b[0m \u001b[1;33m=\u001b[0m \u001b[0mlist\u001b[0m\u001b[1;33m(\u001b[0m\u001b[0mensure_index\u001b[0m\u001b[1;33m(\u001b[0m\u001b[0mkey\u001b[0m\u001b[1;33m)\u001b[0m\u001b[1;33m[\u001b[0m\u001b[0mmissing_mask\u001b[0m\u001b[1;33m.\u001b[0m\u001b[0mnonzero\u001b[0m\u001b[1;33m(\u001b[0m\u001b[1;33m)\u001b[0m\u001b[1;33m[\u001b[0m\u001b[1;36m0\u001b[0m\u001b[1;33m]\u001b[0m\u001b[1;33m]\u001b[0m\u001b[1;33m.\u001b[0m\u001b[0munique\u001b[0m\u001b[1;33m(\u001b[0m\u001b[1;33m)\u001b[0m\u001b[1;33m)\u001b[0m\u001b[1;33m\u001b[0m\u001b[1;33m\u001b[0m\u001b[0m\n\u001b[1;32m-> 5859\u001b[1;33m             \u001b[1;32mraise\u001b[0m \u001b[0mKeyError\u001b[0m\u001b[1;33m(\u001b[0m\u001b[1;34mf\"{not_found} not in index\"\u001b[0m\u001b[1;33m)\u001b[0m\u001b[1;33m\u001b[0m\u001b[1;33m\u001b[0m\u001b[0m\n\u001b[0m\u001b[0;32m   5860\u001b[0m \u001b[1;33m\u001b[0m\u001b[0m\n\u001b[0;32m   5861\u001b[0m     \u001b[1;33m@\u001b[0m\u001b[0moverload\u001b[0m\u001b[1;33m\u001b[0m\u001b[1;33m\u001b[0m\u001b[0m\n",
      "\u001b[1;31mKeyError\u001b[0m: \"[Timestamp('2011-01-03 00:00:00'), Timestamp('2011-01-04 00:00:00'), Timestamp('2011-01-06 00:00:00'), Timestamp('2011-01-07 00:00:00'), Timestamp('2011-01-10 00:00:00'), Timestamp('2011-01-11 00:00:00'), Timestamp('2011-01-12 00:00:00'), Timestamp('2011-01-13 00:00:00'), Timestamp('2011-01-14 00:00:00'), Timestamp('2011-01-17 00:00:00'), Timestamp('2011-01-18 00:00:00')] not in index\""
     ]
    }
   ],
   "source": [
    "# There will be an error if not all dates are included in the dataset.\n",
    "# What can we do about this?\n",
    "ts[daterange]"
   ]
  },
  {
   "cell_type": "code",
   "execution_count": 45,
   "metadata": {
    "id": "ThPbj3KdRaoF"
   },
   "outputs": [
    {
     "data": {
      "text/plain": [
       "2011-01-05   -0.346225\n",
       "dtype: float64"
      ]
     },
     "execution_count": 45,
     "metadata": {},
     "output_type": "execute_result"
    }
   ],
   "source": [
    "ts[ts.index.isin(daterange)]"
   ]
  },
  {
   "cell_type": "markdown",
   "metadata": {
    "id": "vHc9vVWkRaoF"
   },
   "source": [
    "## 4. Shifting Data\n"
   ]
  },
  {
   "cell_type": "code",
   "execution_count": 46,
   "metadata": {
    "id": "Z_2jw_waRaoF"
   },
   "outputs": [
    {
     "data": {
      "text/html": [
       "<div>\n",
       "<style scoped>\n",
       "    .dataframe tbody tr th:only-of-type {\n",
       "        vertical-align: middle;\n",
       "    }\n",
       "\n",
       "    .dataframe tbody tr th {\n",
       "        vertical-align: top;\n",
       "    }\n",
       "\n",
       "    .dataframe thead th {\n",
       "        text-align: right;\n",
       "    }\n",
       "</style>\n",
       "<table border=\"1\" class=\"dataframe\">\n",
       "  <thead>\n",
       "    <tr style=\"text-align: right;\">\n",
       "      <th></th>\n",
       "      <th>Price</th>\n",
       "    </tr>\n",
       "  </thead>\n",
       "  <tbody>\n",
       "    <tr>\n",
       "      <th>2019-11-01</th>\n",
       "      <td>88.470181</td>\n",
       "    </tr>\n",
       "    <tr>\n",
       "      <th>2019-11-02</th>\n",
       "      <td>100.700537</td>\n",
       "    </tr>\n",
       "    <tr>\n",
       "      <th>2019-11-03</th>\n",
       "      <td>113.666110</td>\n",
       "    </tr>\n",
       "    <tr>\n",
       "      <th>2019-11-04</th>\n",
       "      <td>94.806578</td>\n",
       "    </tr>\n",
       "  </tbody>\n",
       "</table>\n",
       "</div>"
      ],
      "text/plain": [
       "                 Price\n",
       "2019-11-01   88.470181\n",
       "2019-11-02  100.700537\n",
       "2019-11-03  113.666110\n",
       "2019-11-04   94.806578"
      ]
     },
     "execution_count": 46,
     "metadata": {},
     "output_type": "execute_result"
    }
   ],
   "source": [
    "prices = pd.DataFrame(np.random.randn(4) * 10 + 100,\n",
    "                      index=pd.date_range('2019-11-01', periods=4),\n",
    "                      columns=['Price'])\n",
    "prices"
   ]
  },
  {
   "cell_type": "code",
   "execution_count": 47,
   "metadata": {
    "id": "HF10ZcETRaoG"
   },
   "outputs": [
    {
     "data": {
      "text/html": [
       "<div>\n",
       "<style scoped>\n",
       "    .dataframe tbody tr th:only-of-type {\n",
       "        vertical-align: middle;\n",
       "    }\n",
       "\n",
       "    .dataframe tbody tr th {\n",
       "        vertical-align: top;\n",
       "    }\n",
       "\n",
       "    .dataframe thead th {\n",
       "        text-align: right;\n",
       "    }\n",
       "</style>\n",
       "<table border=\"1\" class=\"dataframe\">\n",
       "  <thead>\n",
       "    <tr style=\"text-align: right;\">\n",
       "      <th></th>\n",
       "      <th>Price</th>\n",
       "      <th>Yesterday's Price</th>\n",
       "    </tr>\n",
       "  </thead>\n",
       "  <tbody>\n",
       "    <tr>\n",
       "      <th>2019-11-01</th>\n",
       "      <td>88.470181</td>\n",
       "      <td>NaN</td>\n",
       "    </tr>\n",
       "    <tr>\n",
       "      <th>2019-11-02</th>\n",
       "      <td>100.700537</td>\n",
       "      <td>88.470181</td>\n",
       "    </tr>\n",
       "    <tr>\n",
       "      <th>2019-11-03</th>\n",
       "      <td>113.666110</td>\n",
       "      <td>100.700537</td>\n",
       "    </tr>\n",
       "    <tr>\n",
       "      <th>2019-11-04</th>\n",
       "      <td>94.806578</td>\n",
       "      <td>113.666110</td>\n",
       "    </tr>\n",
       "  </tbody>\n",
       "</table>\n",
       "</div>"
      ],
      "text/plain": [
       "                 Price  Yesterday's Price\n",
       "2019-11-01   88.470181                NaN\n",
       "2019-11-02  100.700537          88.470181\n",
       "2019-11-03  113.666110         100.700537\n",
       "2019-11-04   94.806578         113.666110"
      ]
     },
     "execution_count": 47,
     "metadata": {},
     "output_type": "execute_result"
    }
   ],
   "source": [
    "# How to create a column storing yesterday's price?\n",
    "for date in prices.index:\n",
    "    yesterday = date - timedelta(days=1)\n",
    "    if yesterday in prices.index:\n",
    "        prices.loc[date, \"Yesterday's Price\"] = prices.loc[yesterday, \"Price\"]\n",
    "prices"
   ]
  },
  {
   "cell_type": "code",
   "execution_count": 48,
   "metadata": {
    "id": "gV81mBxNRaoG"
   },
   "outputs": [
    {
     "data": {
      "text/plain": [
       "2019-11-01           NaN\n",
       "2019-11-02     88.470181\n",
       "2019-11-03    100.700537\n",
       "2019-11-04    113.666110\n",
       "Freq: D, Name: Price, dtype: float64"
      ]
     },
     "execution_count": 48,
     "metadata": {},
     "output_type": "execute_result"
    }
   ],
   "source": [
    "prices_yesterday = prices['Price'].shift(1)\n",
    "prices_yesterday"
   ]
  },
  {
   "cell_type": "code",
   "execution_count": 49,
   "metadata": {
    "id": "IPOMMssBRaoG"
   },
   "outputs": [
    {
     "data": {
      "text/html": [
       "<div>\n",
       "<style scoped>\n",
       "    .dataframe tbody tr th:only-of-type {\n",
       "        vertical-align: middle;\n",
       "    }\n",
       "\n",
       "    .dataframe tbody tr th {\n",
       "        vertical-align: top;\n",
       "    }\n",
       "\n",
       "    .dataframe thead th {\n",
       "        text-align: right;\n",
       "    }\n",
       "</style>\n",
       "<table border=\"1\" class=\"dataframe\">\n",
       "  <thead>\n",
       "    <tr style=\"text-align: right;\">\n",
       "      <th></th>\n",
       "      <th>PriceToday</th>\n",
       "      <th>Yesterday's Price</th>\n",
       "      <th>PriceYesterday</th>\n",
       "    </tr>\n",
       "  </thead>\n",
       "  <tbody>\n",
       "    <tr>\n",
       "      <th>2019-11-01</th>\n",
       "      <td>88.470181</td>\n",
       "      <td>NaN</td>\n",
       "      <td>NaN</td>\n",
       "    </tr>\n",
       "    <tr>\n",
       "      <th>2019-11-02</th>\n",
       "      <td>100.700537</td>\n",
       "      <td>88.470181</td>\n",
       "      <td>88.470181</td>\n",
       "    </tr>\n",
       "    <tr>\n",
       "      <th>2019-11-03</th>\n",
       "      <td>113.666110</td>\n",
       "      <td>100.700537</td>\n",
       "      <td>100.700537</td>\n",
       "    </tr>\n",
       "    <tr>\n",
       "      <th>2019-11-04</th>\n",
       "      <td>94.806578</td>\n",
       "      <td>113.666110</td>\n",
       "      <td>113.666110</td>\n",
       "    </tr>\n",
       "  </tbody>\n",
       "</table>\n",
       "</div>"
      ],
      "text/plain": [
       "            PriceToday  Yesterday's Price  PriceYesterday\n",
       "2019-11-01   88.470181                NaN             NaN\n",
       "2019-11-02  100.700537          88.470181       88.470181\n",
       "2019-11-03  113.666110         100.700537      100.700537\n",
       "2019-11-04   94.806578         113.666110      113.666110"
      ]
     },
     "execution_count": 49,
     "metadata": {},
     "output_type": "execute_result"
    }
   ],
   "source": [
    "prices = pd.merge(prices, prices_yesterday, left_index=True, right_index=True,\n",
    "                  suffixes=[\"Today\", \"Yesterday\"])\n",
    "prices"
   ]
  },
  {
   "cell_type": "code",
   "execution_count": 50,
   "metadata": {
    "id": "SPjtJ9UfRaoG",
    "scrolled": true
   },
   "outputs": [
    {
     "data": {
      "text/html": [
       "<div>\n",
       "<style scoped>\n",
       "    .dataframe tbody tr th:only-of-type {\n",
       "        vertical-align: middle;\n",
       "    }\n",
       "\n",
       "    .dataframe tbody tr th {\n",
       "        vertical-align: top;\n",
       "    }\n",
       "\n",
       "    .dataframe thead th {\n",
       "        text-align: right;\n",
       "    }\n",
       "</style>\n",
       "<table border=\"1\" class=\"dataframe\">\n",
       "  <thead>\n",
       "    <tr style=\"text-align: right;\">\n",
       "      <th></th>\n",
       "      <th>Open</th>\n",
       "      <th>High</th>\n",
       "      <th>Low</th>\n",
       "      <th>Close</th>\n",
       "      <th>Adj Close</th>\n",
       "      <th>Volume</th>\n",
       "    </tr>\n",
       "    <tr>\n",
       "      <th>Date</th>\n",
       "      <th></th>\n",
       "      <th></th>\n",
       "      <th></th>\n",
       "      <th></th>\n",
       "      <th></th>\n",
       "      <th></th>\n",
       "    </tr>\n",
       "  </thead>\n",
       "  <tbody>\n",
       "    <tr>\n",
       "      <th>2023-01-03</th>\n",
       "      <td>118.470001</td>\n",
       "      <td>118.800003</td>\n",
       "      <td>104.639999</td>\n",
       "      <td>108.099998</td>\n",
       "      <td>108.099998</td>\n",
       "      <td>231402800</td>\n",
       "    </tr>\n",
       "    <tr>\n",
       "      <th>2023-01-04</th>\n",
       "      <td>109.110001</td>\n",
       "      <td>114.589996</td>\n",
       "      <td>107.519997</td>\n",
       "      <td>113.639999</td>\n",
       "      <td>113.639999</td>\n",
       "      <td>180389000</td>\n",
       "    </tr>\n",
       "    <tr>\n",
       "      <th>2023-01-05</th>\n",
       "      <td>110.510002</td>\n",
       "      <td>111.750000</td>\n",
       "      <td>107.160004</td>\n",
       "      <td>110.339996</td>\n",
       "      <td>110.339996</td>\n",
       "      <td>157986300</td>\n",
       "    </tr>\n",
       "    <tr>\n",
       "      <th>2023-01-06</th>\n",
       "      <td>103.000000</td>\n",
       "      <td>114.389999</td>\n",
       "      <td>101.809998</td>\n",
       "      <td>113.059998</td>\n",
       "      <td>113.059998</td>\n",
       "      <td>220911100</td>\n",
       "    </tr>\n",
       "    <tr>\n",
       "      <th>2023-01-09</th>\n",
       "      <td>118.959999</td>\n",
       "      <td>123.519997</td>\n",
       "      <td>117.110001</td>\n",
       "      <td>119.769997</td>\n",
       "      <td>119.769997</td>\n",
       "      <td>190284000</td>\n",
       "    </tr>\n",
       "  </tbody>\n",
       "</table>\n",
       "</div>"
      ],
      "text/plain": [
       "                  Open        High         Low       Close   Adj Close  \\\n",
       "Date                                                                     \n",
       "2023-01-03  118.470001  118.800003  104.639999  108.099998  108.099998   \n",
       "2023-01-04  109.110001  114.589996  107.519997  113.639999  113.639999   \n",
       "2023-01-05  110.510002  111.750000  107.160004  110.339996  110.339996   \n",
       "2023-01-06  103.000000  114.389999  101.809998  113.059998  113.059998   \n",
       "2023-01-09  118.959999  123.519997  117.110001  119.769997  119.769997   \n",
       "\n",
       "               Volume  \n",
       "Date                   \n",
       "2023-01-03  231402800  \n",
       "2023-01-04  180389000  \n",
       "2023-01-05  157986300  \n",
       "2023-01-06  220911100  \n",
       "2023-01-09  190284000  "
      ]
     },
     "execution_count": 50,
     "metadata": {},
     "output_type": "execute_result"
    }
   ],
   "source": [
    "# Exercise: Calculate how much Tesla's stock price has increased or decreased\n",
    "# at the end of each day, compared to previous day's closing price.\n",
    "# Formula: difference = today's close price - yesterday's close price\n",
    "tsla.head()"
   ]
  },
  {
   "cell_type": "code",
   "execution_count": 51,
   "metadata": {
    "id": "Z7ifL5F8RaoG",
    "scrolled": true
   },
   "outputs": [
    {
     "data": {
      "text/html": [
       "<div>\n",
       "<style scoped>\n",
       "    .dataframe tbody tr th:only-of-type {\n",
       "        vertical-align: middle;\n",
       "    }\n",
       "\n",
       "    .dataframe tbody tr th {\n",
       "        vertical-align: top;\n",
       "    }\n",
       "\n",
       "    .dataframe thead th {\n",
       "        text-align: right;\n",
       "    }\n",
       "</style>\n",
       "<table border=\"1\" class=\"dataframe\">\n",
       "  <thead>\n",
       "    <tr style=\"text-align: right;\">\n",
       "      <th></th>\n",
       "      <th>Open</th>\n",
       "      <th>High</th>\n",
       "      <th>Low</th>\n",
       "      <th>Close</th>\n",
       "      <th>Adj Close</th>\n",
       "      <th>Volume</th>\n",
       "      <th>Previous Close</th>\n",
       "    </tr>\n",
       "    <tr>\n",
       "      <th>Date</th>\n",
       "      <th></th>\n",
       "      <th></th>\n",
       "      <th></th>\n",
       "      <th></th>\n",
       "      <th></th>\n",
       "      <th></th>\n",
       "      <th></th>\n",
       "    </tr>\n",
       "  </thead>\n",
       "  <tbody>\n",
       "    <tr>\n",
       "      <th>2023-01-03</th>\n",
       "      <td>118.470001</td>\n",
       "      <td>118.800003</td>\n",
       "      <td>104.639999</td>\n",
       "      <td>108.099998</td>\n",
       "      <td>108.099998</td>\n",
       "      <td>231402800</td>\n",
       "      <td>NaN</td>\n",
       "    </tr>\n",
       "    <tr>\n",
       "      <th>2023-01-04</th>\n",
       "      <td>109.110001</td>\n",
       "      <td>114.589996</td>\n",
       "      <td>107.519997</td>\n",
       "      <td>113.639999</td>\n",
       "      <td>113.639999</td>\n",
       "      <td>180389000</td>\n",
       "      <td>108.099998</td>\n",
       "    </tr>\n",
       "    <tr>\n",
       "      <th>2023-01-05</th>\n",
       "      <td>110.510002</td>\n",
       "      <td>111.750000</td>\n",
       "      <td>107.160004</td>\n",
       "      <td>110.339996</td>\n",
       "      <td>110.339996</td>\n",
       "      <td>157986300</td>\n",
       "      <td>113.639999</td>\n",
       "    </tr>\n",
       "    <tr>\n",
       "      <th>2023-01-06</th>\n",
       "      <td>103.000000</td>\n",
       "      <td>114.389999</td>\n",
       "      <td>101.809998</td>\n",
       "      <td>113.059998</td>\n",
       "      <td>113.059998</td>\n",
       "      <td>220911100</td>\n",
       "      <td>110.339996</td>\n",
       "    </tr>\n",
       "    <tr>\n",
       "      <th>2023-01-09</th>\n",
       "      <td>118.959999</td>\n",
       "      <td>123.519997</td>\n",
       "      <td>117.110001</td>\n",
       "      <td>119.769997</td>\n",
       "      <td>119.769997</td>\n",
       "      <td>190284000</td>\n",
       "      <td>113.059998</td>\n",
       "    </tr>\n",
       "  </tbody>\n",
       "</table>\n",
       "</div>"
      ],
      "text/plain": [
       "                  Open        High         Low       Close   Adj Close  \\\n",
       "Date                                                                     \n",
       "2023-01-03  118.470001  118.800003  104.639999  108.099998  108.099998   \n",
       "2023-01-04  109.110001  114.589996  107.519997  113.639999  113.639999   \n",
       "2023-01-05  110.510002  111.750000  107.160004  110.339996  110.339996   \n",
       "2023-01-06  103.000000  114.389999  101.809998  113.059998  113.059998   \n",
       "2023-01-09  118.959999  123.519997  117.110001  119.769997  119.769997   \n",
       "\n",
       "               Volume  Previous Close  \n",
       "Date                                   \n",
       "2023-01-03  231402800             NaN  \n",
       "2023-01-04  180389000      108.099998  \n",
       "2023-01-05  157986300      113.639999  \n",
       "2023-01-06  220911100      110.339996  \n",
       "2023-01-09  190284000      113.059998  "
      ]
     },
     "execution_count": 51,
     "metadata": {},
     "output_type": "execute_result"
    }
   ],
   "source": [
    "# Step 1: Add a column of the previous day's close price\n",
    "tsla['Previous Close'] = tsla['Close'].shift(1)\n",
    "tsla.head()"
   ]
  },
  {
   "cell_type": "code",
   "execution_count": 52,
   "metadata": {
    "id": "2WzYuplTRaoG",
    "scrolled": true
   },
   "outputs": [
    {
     "data": {
      "text/html": [
       "<div>\n",
       "<style scoped>\n",
       "    .dataframe tbody tr th:only-of-type {\n",
       "        vertical-align: middle;\n",
       "    }\n",
       "\n",
       "    .dataframe tbody tr th {\n",
       "        vertical-align: top;\n",
       "    }\n",
       "\n",
       "    .dataframe thead th {\n",
       "        text-align: right;\n",
       "    }\n",
       "</style>\n",
       "<table border=\"1\" class=\"dataframe\">\n",
       "  <thead>\n",
       "    <tr style=\"text-align: right;\">\n",
       "      <th></th>\n",
       "      <th>Open</th>\n",
       "      <th>High</th>\n",
       "      <th>Low</th>\n",
       "      <th>Close</th>\n",
       "      <th>Adj Close</th>\n",
       "      <th>Volume</th>\n",
       "      <th>Previous Close</th>\n",
       "      <th>Price Change</th>\n",
       "    </tr>\n",
       "    <tr>\n",
       "      <th>Date</th>\n",
       "      <th></th>\n",
       "      <th></th>\n",
       "      <th></th>\n",
       "      <th></th>\n",
       "      <th></th>\n",
       "      <th></th>\n",
       "      <th></th>\n",
       "      <th></th>\n",
       "    </tr>\n",
       "  </thead>\n",
       "  <tbody>\n",
       "    <tr>\n",
       "      <th>2023-01-03</th>\n",
       "      <td>118.470001</td>\n",
       "      <td>118.800003</td>\n",
       "      <td>104.639999</td>\n",
       "      <td>108.099998</td>\n",
       "      <td>108.099998</td>\n",
       "      <td>231402800</td>\n",
       "      <td>NaN</td>\n",
       "      <td>NaN</td>\n",
       "    </tr>\n",
       "    <tr>\n",
       "      <th>2023-01-04</th>\n",
       "      <td>109.110001</td>\n",
       "      <td>114.589996</td>\n",
       "      <td>107.519997</td>\n",
       "      <td>113.639999</td>\n",
       "      <td>113.639999</td>\n",
       "      <td>180389000</td>\n",
       "      <td>108.099998</td>\n",
       "      <td>5.540001</td>\n",
       "    </tr>\n",
       "    <tr>\n",
       "      <th>2023-01-05</th>\n",
       "      <td>110.510002</td>\n",
       "      <td>111.750000</td>\n",
       "      <td>107.160004</td>\n",
       "      <td>110.339996</td>\n",
       "      <td>110.339996</td>\n",
       "      <td>157986300</td>\n",
       "      <td>113.639999</td>\n",
       "      <td>-3.300003</td>\n",
       "    </tr>\n",
       "    <tr>\n",
       "      <th>2023-01-06</th>\n",
       "      <td>103.000000</td>\n",
       "      <td>114.389999</td>\n",
       "      <td>101.809998</td>\n",
       "      <td>113.059998</td>\n",
       "      <td>113.059998</td>\n",
       "      <td>220911100</td>\n",
       "      <td>110.339996</td>\n",
       "      <td>2.720001</td>\n",
       "    </tr>\n",
       "    <tr>\n",
       "      <th>2023-01-09</th>\n",
       "      <td>118.959999</td>\n",
       "      <td>123.519997</td>\n",
       "      <td>117.110001</td>\n",
       "      <td>119.769997</td>\n",
       "      <td>119.769997</td>\n",
       "      <td>190284000</td>\n",
       "      <td>113.059998</td>\n",
       "      <td>6.709999</td>\n",
       "    </tr>\n",
       "  </tbody>\n",
       "</table>\n",
       "</div>"
      ],
      "text/plain": [
       "                  Open        High         Low       Close   Adj Close  \\\n",
       "Date                                                                     \n",
       "2023-01-03  118.470001  118.800003  104.639999  108.099998  108.099998   \n",
       "2023-01-04  109.110001  114.589996  107.519997  113.639999  113.639999   \n",
       "2023-01-05  110.510002  111.750000  107.160004  110.339996  110.339996   \n",
       "2023-01-06  103.000000  114.389999  101.809998  113.059998  113.059998   \n",
       "2023-01-09  118.959999  123.519997  117.110001  119.769997  119.769997   \n",
       "\n",
       "               Volume  Previous Close  Price Change  \n",
       "Date                                                 \n",
       "2023-01-03  231402800             NaN           NaN  \n",
       "2023-01-04  180389000      108.099998      5.540001  \n",
       "2023-01-05  157986300      113.639999     -3.300003  \n",
       "2023-01-06  220911100      110.339996      2.720001  \n",
       "2023-01-09  190284000      113.059998      6.709999  "
      ]
     },
     "execution_count": 52,
     "metadata": {},
     "output_type": "execute_result"
    }
   ],
   "source": [
    "# Step 2: Calculate the price difference\n",
    "tsla['Price Change'] = tsla['Close'] - tsla['Previous Close']\n",
    "tsla.head()"
   ]
  },
  {
   "cell_type": "code",
   "execution_count": 53,
   "metadata": {
    "id": "wFdUObL0RaoG",
    "scrolled": true
   },
   "outputs": [
    {
     "name": "stdout",
     "output_type": "stream",
     "text": [
      "Number of days increased: 121\n",
      "Number of days decreased: 101\n"
     ]
    }
   ],
   "source": [
    "# Can you find how many days has the price increased/decreased?\n",
    "\n",
    "# Solution 1: Using a for loop\n",
    "\n",
    "num_days_increase = 0\n",
    "num_days_decrease = 0\n",
    "for day in tsla.index:\n",
    "    if tsla.loc[day, \"Price Change\"] > 0:\n",
    "        num_days_increase += 1\n",
    "    else:\n",
    "        num_days_decrease += 1\n",
    "print(\"Number of days increased:\", num_days_increase)\n",
    "print(\"Number of days decreased:\", num_days_decrease)"
   ]
  },
  {
   "cell_type": "code",
   "execution_count": 54,
   "metadata": {
    "id": "Dnto4UDgRaoG"
   },
   "outputs": [
    {
     "data": {
      "text/plain": [
       "True     121\n",
       "False    101\n",
       "Name: Price Change, dtype: int64"
      ]
     },
     "execution_count": 54,
     "metadata": {},
     "output_type": "execute_result"
    }
   ],
   "source": [
    "# Solution 2: Use array arithmetics\n",
    "(tsla[\"Price Change\"] > 0).value_counts()"
   ]
  },
  {
   "cell_type": "code",
   "execution_count": 55,
   "metadata": {
    "id": "nXYp_0OARaoG"
   },
   "outputs": [
    {
     "data": {
      "text/plain": [
       "Timestamp('2023-09-11 00:00:00')"
      ]
     },
     "execution_count": 55,
     "metadata": {},
     "output_type": "execute_result"
    }
   ],
   "source": [
    "# On which day the stock price achieved the highest price jump?\n",
    "int_index = tsla['Price Change'].argmax()\n",
    "tsla.index[int_index]"
   ]
  },
  {
   "cell_type": "code",
   "execution_count": 56,
   "metadata": {
    "id": "vzQg0_PLRaoG",
    "scrolled": true
   },
   "outputs": [
    {
     "data": {
      "text/html": [
       "<div>\n",
       "<style scoped>\n",
       "    .dataframe tbody tr th:only-of-type {\n",
       "        vertical-align: middle;\n",
       "    }\n",
       "\n",
       "    .dataframe tbody tr th {\n",
       "        vertical-align: top;\n",
       "    }\n",
       "\n",
       "    .dataframe thead th {\n",
       "        text-align: right;\n",
       "    }\n",
       "</style>\n",
       "<table border=\"1\" class=\"dataframe\">\n",
       "  <thead>\n",
       "    <tr style=\"text-align: right;\">\n",
       "      <th></th>\n",
       "      <th>Open</th>\n",
       "      <th>High</th>\n",
       "      <th>Low</th>\n",
       "      <th>Close</th>\n",
       "      <th>Adj Close</th>\n",
       "      <th>Volume</th>\n",
       "      <th>Previous Close</th>\n",
       "      <th>Price Change</th>\n",
       "    </tr>\n",
       "    <tr>\n",
       "      <th>Date</th>\n",
       "      <th></th>\n",
       "      <th></th>\n",
       "      <th></th>\n",
       "      <th></th>\n",
       "      <th></th>\n",
       "      <th></th>\n",
       "      <th></th>\n",
       "      <th></th>\n",
       "    </tr>\n",
       "  </thead>\n",
       "  <tbody>\n",
       "    <tr>\n",
       "      <th>2023-09-01</th>\n",
       "      <td>257.260010</td>\n",
       "      <td>259.079987</td>\n",
       "      <td>242.009995</td>\n",
       "      <td>245.009995</td>\n",
       "      <td>245.009995</td>\n",
       "      <td>132272500</td>\n",
       "      <td>258.079987</td>\n",
       "      <td>-13.069992</td>\n",
       "    </tr>\n",
       "    <tr>\n",
       "      <th>2023-09-05</th>\n",
       "      <td>245.000000</td>\n",
       "      <td>258.000000</td>\n",
       "      <td>244.860001</td>\n",
       "      <td>256.489990</td>\n",
       "      <td>256.489990</td>\n",
       "      <td>129469600</td>\n",
       "      <td>245.009995</td>\n",
       "      <td>11.479996</td>\n",
       "    </tr>\n",
       "    <tr>\n",
       "      <th>2023-09-06</th>\n",
       "      <td>255.139999</td>\n",
       "      <td>255.389999</td>\n",
       "      <td>245.059998</td>\n",
       "      <td>251.919998</td>\n",
       "      <td>251.919998</td>\n",
       "      <td>116959800</td>\n",
       "      <td>256.489990</td>\n",
       "      <td>-4.569992</td>\n",
       "    </tr>\n",
       "    <tr>\n",
       "      <th>2023-09-07</th>\n",
       "      <td>245.070007</td>\n",
       "      <td>252.809998</td>\n",
       "      <td>243.270004</td>\n",
       "      <td>251.490005</td>\n",
       "      <td>251.490005</td>\n",
       "      <td>115312900</td>\n",
       "      <td>251.919998</td>\n",
       "      <td>-0.429993</td>\n",
       "    </tr>\n",
       "    <tr>\n",
       "      <th>2023-09-08</th>\n",
       "      <td>251.220001</td>\n",
       "      <td>256.519989</td>\n",
       "      <td>246.669998</td>\n",
       "      <td>248.500000</td>\n",
       "      <td>248.500000</td>\n",
       "      <td>118367700</td>\n",
       "      <td>251.490005</td>\n",
       "      <td>-2.990005</td>\n",
       "    </tr>\n",
       "    <tr>\n",
       "      <th>2023-09-11</th>\n",
       "      <td>264.269989</td>\n",
       "      <td>274.850006</td>\n",
       "      <td>260.609985</td>\n",
       "      <td>273.579987</td>\n",
       "      <td>273.579987</td>\n",
       "      <td>174667900</td>\n",
       "      <td>248.500000</td>\n",
       "      <td>25.079987</td>\n",
       "    </tr>\n",
       "    <tr>\n",
       "      <th>2023-09-12</th>\n",
       "      <td>270.760010</td>\n",
       "      <td>278.390015</td>\n",
       "      <td>266.600006</td>\n",
       "      <td>267.480011</td>\n",
       "      <td>267.480011</td>\n",
       "      <td>135999900</td>\n",
       "      <td>273.579987</td>\n",
       "      <td>-6.099976</td>\n",
       "    </tr>\n",
       "    <tr>\n",
       "      <th>2023-09-13</th>\n",
       "      <td>270.070007</td>\n",
       "      <td>274.980011</td>\n",
       "      <td>268.100006</td>\n",
       "      <td>271.299988</td>\n",
       "      <td>271.299988</td>\n",
       "      <td>111673700</td>\n",
       "      <td>267.480011</td>\n",
       "      <td>3.819977</td>\n",
       "    </tr>\n",
       "    <tr>\n",
       "      <th>2023-09-14</th>\n",
       "      <td>271.320007</td>\n",
       "      <td>276.709991</td>\n",
       "      <td>270.420013</td>\n",
       "      <td>276.040009</td>\n",
       "      <td>276.040009</td>\n",
       "      <td>107709800</td>\n",
       "      <td>271.299988</td>\n",
       "      <td>4.740021</td>\n",
       "    </tr>\n",
       "    <tr>\n",
       "      <th>2023-09-15</th>\n",
       "      <td>277.549988</td>\n",
       "      <td>278.980011</td>\n",
       "      <td>271.000000</td>\n",
       "      <td>274.390015</td>\n",
       "      <td>274.390015</td>\n",
       "      <td>133422800</td>\n",
       "      <td>276.040009</td>\n",
       "      <td>-1.649994</td>\n",
       "    </tr>\n",
       "    <tr>\n",
       "      <th>2023-09-18</th>\n",
       "      <td>271.160004</td>\n",
       "      <td>271.440002</td>\n",
       "      <td>263.760010</td>\n",
       "      <td>265.279999</td>\n",
       "      <td>265.279999</td>\n",
       "      <td>101543300</td>\n",
       "      <td>274.390015</td>\n",
       "      <td>-9.110016</td>\n",
       "    </tr>\n",
       "    <tr>\n",
       "      <th>2023-09-19</th>\n",
       "      <td>264.350006</td>\n",
       "      <td>267.850006</td>\n",
       "      <td>261.200012</td>\n",
       "      <td>266.500000</td>\n",
       "      <td>266.500000</td>\n",
       "      <td>103704000</td>\n",
       "      <td>265.279999</td>\n",
       "      <td>1.220001</td>\n",
       "    </tr>\n",
       "    <tr>\n",
       "      <th>2023-09-20</th>\n",
       "      <td>267.040009</td>\n",
       "      <td>273.929993</td>\n",
       "      <td>262.459991</td>\n",
       "      <td>262.589996</td>\n",
       "      <td>262.589996</td>\n",
       "      <td>122514600</td>\n",
       "      <td>266.500000</td>\n",
       "      <td>-3.910004</td>\n",
       "    </tr>\n",
       "  </tbody>\n",
       "</table>\n",
       "</div>"
      ],
      "text/plain": [
       "                  Open        High         Low       Close   Adj Close  \\\n",
       "Date                                                                     \n",
       "2023-09-01  257.260010  259.079987  242.009995  245.009995  245.009995   \n",
       "2023-09-05  245.000000  258.000000  244.860001  256.489990  256.489990   \n",
       "2023-09-06  255.139999  255.389999  245.059998  251.919998  251.919998   \n",
       "2023-09-07  245.070007  252.809998  243.270004  251.490005  251.490005   \n",
       "2023-09-08  251.220001  256.519989  246.669998  248.500000  248.500000   \n",
       "2023-09-11  264.269989  274.850006  260.609985  273.579987  273.579987   \n",
       "2023-09-12  270.760010  278.390015  266.600006  267.480011  267.480011   \n",
       "2023-09-13  270.070007  274.980011  268.100006  271.299988  271.299988   \n",
       "2023-09-14  271.320007  276.709991  270.420013  276.040009  276.040009   \n",
       "2023-09-15  277.549988  278.980011  271.000000  274.390015  274.390015   \n",
       "2023-09-18  271.160004  271.440002  263.760010  265.279999  265.279999   \n",
       "2023-09-19  264.350006  267.850006  261.200012  266.500000  266.500000   \n",
       "2023-09-20  267.040009  273.929993  262.459991  262.589996  262.589996   \n",
       "\n",
       "               Volume  Previous Close  Price Change  \n",
       "Date                                                 \n",
       "2023-09-01  132272500      258.079987    -13.069992  \n",
       "2023-09-05  129469600      245.009995     11.479996  \n",
       "2023-09-06  116959800      256.489990     -4.569992  \n",
       "2023-09-07  115312900      251.919998     -0.429993  \n",
       "2023-09-08  118367700      251.490005     -2.990005  \n",
       "2023-09-11  174667900      248.500000     25.079987  \n",
       "2023-09-12  135999900      273.579987     -6.099976  \n",
       "2023-09-13  111673700      267.480011      3.819977  \n",
       "2023-09-14  107709800      271.299988      4.740021  \n",
       "2023-09-15  133422800      276.040009     -1.649994  \n",
       "2023-09-18  101543300      274.390015     -9.110016  \n",
       "2023-09-19  103704000      265.279999      1.220001  \n",
       "2023-09-20  122514600      266.500000     -3.910004  "
      ]
     },
     "execution_count": 56,
     "metadata": {},
     "output_type": "execute_result"
    }
   ],
   "source": [
    "tsla.loc['2023-09-01':'2023-09-20']"
   ]
  },
  {
   "cell_type": "code",
   "execution_count": null,
   "metadata": {
    "id": "qDkizGi6RaoH",
    "scrolled": true
   },
   "outputs": [],
   "source": [
    "# Solution from ChatGPT\n",
    "import yfinance as yf\n",
    "from datetime import datetime, timedelta\n",
    "\n",
    "# Set the start and end dates\n",
    "start_date = datetime(2023, 1, 1)\n",
    "end_date = datetime(2023, 4, 1)\n",
    "\n",
    "# Retrieve Tesla's stock prices from Yahoo Finance\n",
    "tesla_data = yf.download(\"TSLA\", start=start_date, end=end_date)\n",
    "\n",
    "# Calculate the daily price changes\n",
    "tesla_data['Price Change'] = tesla_data['Close'].diff()\n",
    "\n",
    "# Find the day with the highest price jump\n",
    "max_price_jump_date = tesla_data['Price Change'].idxmax()\n",
    "\n",
    "# Print the result\n",
    "print(\"The day with the highest price jump was:\", max_price_jump_date.date())"
   ]
  },
  {
   "cell_type": "markdown",
   "metadata": {
    "id": "6i88FLH0RaoH"
   },
   "source": [
    "## 5. Analysis of Time Series Data"
   ]
  },
  {
   "cell_type": "code",
   "execution_count": null,
   "metadata": {
    "id": "SW_fFIVjRaoH"
   },
   "outputs": [],
   "source": [
    "# Calculate how much percent has Tesla's price changed each day.\n",
    "\n",
    "# tsla.head()\n",
    "\n",
    "# Convert the dollar amount into a percentage.\n",
    "# percentage = price change / previous close\n",
    "\n",
    "tsla['% Change'] = tsla['Price Change'] / tsla['Previous Close'] * 100\n",
    "tsla.head()"
   ]
  },
  {
   "cell_type": "code",
   "execution_count": null,
   "metadata": {
    "id": "qp1TOCXaRaoH"
   },
   "outputs": [],
   "source": [
    "# On which days has Tesla price experience the most increase?\n",
    "# How much had the price increased on those days?\n",
    "\n",
    "tsla['% Change'].idxmax()"
   ]
  },
  {
   "cell_type": "code",
   "execution_count": null,
   "metadata": {
    "id": "IBCpE7PURaoH",
    "scrolled": true
   },
   "outputs": [],
   "source": [
    "# On which day has Tesla price experience the most decrease? How much decrease?\n",
    "day_of_most_decrease = tsla['% Change'].idxmin()\n",
    "print(day_of_most_decrease)\n",
    "print(\"Price of the day:\", tsla.loc[day_of_most_decrease, 'Close'])\n",
    "print(\"% of change:\", tsla.loc[day_of_most_decrease, '% Change'])"
   ]
  },
  {
   "cell_type": "code",
   "execution_count": null,
   "metadata": {
    "id": "QJ_vOXjBRaoH"
   },
   "outputs": [],
   "source": [
    "# This is how ChatGPT handles this task:\n",
    "import yfinance as yf\n",
    "\n",
    "def find_max_drop_date(symbol, year):\n",
    "    # Fetch historical stock data for the given symbol and year\n",
    "    data = yf.download(symbol, start=f\"{year}-01-01\", end=f\"{year}-12-31\")\n",
    "\n",
    "    # Calculate the daily price drops\n",
    "    data['Drop'] = data['Close'].diff()\n",
    "\n",
    "    # Find the date when the stock dropped the most\n",
    "    max_drop_date = data['Drop'].idxmin().date()\n",
    "\n",
    "    return max_drop_date\n",
    "\n",
    "# Specify the stock symbol and year\n",
    "symbol = 'TSLA'\n",
    "year = 2023\n",
    "\n",
    "# Find the day when Tesla stock dropped the most in 2023\n",
    "max_drop_date = find_max_drop_date(symbol, year)\n",
    "\n",
    "print(f\"The day when Tesla stock dropped the most in 2023: {max_drop_date}\")"
   ]
  },
  {
   "cell_type": "markdown",
   "metadata": {
    "id": "fQb3Sw8QRaoH"
   },
   "source": [
    "**Monthly Performance**\n",
    "\n",
    "For long-term investors, they may prefer monthly performance data. Create a new data frame containing Open, High, Low, Close, and Volume for each month in 2020."
   ]
  },
  {
   "cell_type": "code",
   "execution_count": null,
   "metadata": {
    "id": "LfEuqhCkRaoH"
   },
   "outputs": [],
   "source": [
    "# Group the rows by the month value of their indices, then aggregate the data.\n",
    "\n",
    "tsla_2020 = yf.download(\"TSLA\", start=\"2020-01-01\", end=\"2020-12-31\")\n",
    "tsla_2020.head()"
   ]
  },
  {
   "cell_type": "code",
   "execution_count": null,
   "metadata": {
    "id": "5_79s8a-RaoH",
    "scrolled": true
   },
   "outputs": [],
   "source": [
    "# If we only want to create the record for 2020-01, we can extract the data from\n",
    "# that month.\n",
    "tsla_202001 = tsla_2020.loc['2020-01']\n",
    "\n",
    "# Get the monthly open price\n",
    "first_day = tsla_202001.index[0]\n",
    "print(\"First trading day in 2020-01:\", first_day)\n",
    "first_price = tsla_202001.loc[first_day, 'Open']\n",
    "print(\"First price in 2020-01:\", first_price)\n",
    "\n",
    "# Get the monthly close price\n",
    "last_day = tsla_202001.index[-1]\n",
    "print(\"Last trading day in 2020-01:\", last_day)\n",
    "last_price = tsla_202001.loc[last_day, 'Close']\n",
    "print(\"Last price in 2020-01:\", last_price)\n",
    "\n",
    "highest_price = tsla_202001['High'].max()\n",
    "lowest_price = tsla_202001['Low'].min()\n",
    "total_volume = tsla_202001['Volume'].sum()\n",
    "\n",
    "print(\"Highest price in 2020-01:\", highest_price)\n",
    "print(\"Lowest price in 2020-01:\", lowest_price)\n",
    "print(\"Totla trading volumn in 2020-01:\", total_volume)\n",
    "\n",
    "# Let's add these data to a new data frame\n",
    "tsla_monthly = pd.DataFrame(columns=['Open', 'High', 'Low', 'Close', 'Volumn'])\n",
    "# tsla_monthly # It is empty at this moment\n",
    "\n",
    "# Let's add a row for 2020-01:\n",
    "tsla_monthly.loc[\"2020-01\", :] = [first_price, highest_price,\n",
    "                            lowest_price, last_price, total_volume]\n",
    "\n",
    "tsla_monthly"
   ]
  },
  {
   "cell_type": "code",
   "execution_count": null,
   "metadata": {
    "id": "mRPG9jhbRaoI",
    "scrolled": false
   },
   "outputs": [],
   "source": [
    "# Use groupby() to split the data frame into 12 groups\n",
    "groups = tsla_2020.groupby(tsla_2020.index.month)\n",
    "\n",
    "# for idx, group in groups:\n",
    "#     print(idx)\n",
    "#     print(group)\n",
    "#     break\n",
    "\n",
    "first_prices = groups['Open'].first()\n",
    "last_prices = groups['Close'].last()\n",
    "highest_prices = groups['High'].max()\n",
    "lowest_prices = groups['Low'].min()\n",
    "total_volumes = groups['Volume'].sum()\n",
    "\n",
    "tsla_monthly = pd.DataFrame({\n",
    "    'Open': first_prices,\n",
    "    'High': highest_prices,\n",
    "    'Low': lowest_prices,\n",
    "    'Close': last_prices,\n",
    "    'Volume': total_volumes\n",
    "})\n",
    "\n",
    "tsla_monthly.set_index(pd.date_range(\"2020-01-01\", periods=12, freq=\"1m\"),\n",
    "                      inplace=True)\n",
    "\n",
    "tsla_monthly"
   ]
  },
  {
   "cell_type": "code",
   "execution_count": null,
   "metadata": {
    "id": "zNp6HJu6RaoI"
   },
   "outputs": [],
   "source": [
    "# Solution by ChatGPT:\n",
    "import yfinance as yf\n",
    "\n",
    "# Specify the stock symbol and year\n",
    "symbol = \"TSLA\"\n",
    "year = 2020\n",
    "\n",
    "# Retrieve the daily stock data for Tesla in 2020\n",
    "data = yf.download(symbol, start=f\"{year}-01-01\", end=f\"{year}-12-31\")\n",
    "\n",
    "# Aggregate the dataset to monthly data\n",
    "monthly_data = data.resample('M').agg({'Open': 'first', 'High': 'max', 'Low': 'min', 'Close': 'last', 'Volume': 'sum'})\n",
    "\n",
    "monthly_data.index = monthly_data.index.strftime('%Y-%m')\n",
    "\n",
    "monthly_data"
   ]
  },
  {
   "cell_type": "markdown",
   "metadata": {
    "id": "z0Le-LDCRaoI"
   },
   "source": [
    "**Moving Average**\n",
    "\n",
    "The daily price is full of random ups and downs, making it difficult to see the long-term trend. It is important to find the average performance over a fairly longer period (10 days, 30 days, etc.). A moving average (or rolling average) is a calculation that find the average price for each period of time."
   ]
  },
  {
   "cell_type": "code",
   "execution_count": 57,
   "metadata": {
    "id": "NSRra3jRRaoI"
   },
   "outputs": [
    {
     "data": {
      "text/plain": [
       "Date\n",
       "2023-01-03           NaN\n",
       "2023-01-04           NaN\n",
       "2023-01-05           NaN\n",
       "2023-01-06           NaN\n",
       "2023-01-09           NaN\n",
       "2023-01-10           NaN\n",
       "2023-01-11           NaN\n",
       "2023-01-12           NaN\n",
       "2023-01-13           NaN\n",
       "2023-01-17    118.442999\n",
       "2023-01-18    120.510999\n",
       "2023-01-19    121.863999\n",
       "2023-01-20    124.171999\n",
       "2023-01-23    127.241000\n",
       "2023-01-24    129.653000\n",
       "Name: Close, dtype: float64"
      ]
     },
     "execution_count": 57,
     "metadata": {},
     "output_type": "execute_result"
    }
   ],
   "source": [
    "# Create 10-day moving average\n",
    "moving_avg = tsla.rolling(10)[\"Close\"].mean()\n",
    "\n",
    "moving_avg.head(15)"
   ]
  },
  {
   "cell_type": "code",
   "execution_count": 60,
   "metadata": {
    "id": "KkbC_QwaRaoI"
   },
   "outputs": [
    {
     "data": {
      "text/plain": [
       "<matplotlib.legend.Legend at 0x17e2b982370>"
      ]
     },
     "execution_count": 60,
     "metadata": {},
     "output_type": "execute_result"
    },
    {
     "data": {
      "image/png": "[encoded data removed]",
      "text/plain": [
       "<Figure size 640x480 with 1 Axes>"
      ]
     },
     "metadata": {},
     "output_type": "display_data"
    }
   ],
   "source": [
    "# Plot daily prices and the moving average.\n",
    "\n",
    "plt.plot(tsla.index, tsla['Close'], 'b-')\n",
    "plt.plot(moving_avg.index, moving_avg, 'y--')\n",
    "plt.legend(['Daily prices', '10-day average'])"
   ]
  },
  {
   "cell_type": "code",
   "execution_count": null,
   "metadata": {
    "id": "3YJD7HPdRaoI"
   },
   "outputs": [],
   "source": [
    "# Solution by ChatGPT\n",
    "import yfinance as yf\n",
    "import matplotlib.pyplot as plt\n",
    "\n",
    "# Specify the stock symbol and year\n",
    "symbol = 'TSLA'\n",
    "year = 2023\n",
    "\n",
    "# Retrieve the daily stock data for Tesla in 2023\n",
    "data = yf.download(symbol, start=f\"{year}-01-01\", end=f\"{year}-12-31\")\n",
    "\n",
    "# Calculate the 10-day moving average\n",
    "data['MA10'] = data['Close'].rolling(window=10).mean()\n",
    "\n",
    "# Plotting the daily prices and the 10-day moving average\n",
    "plt.figure(figsize=(12, 6))\n",
    "plt.plot(data.index, data['Close'], label='Daily Prices')\n",
    "plt.plot(data.index, data['MA10'], label='10-day Moving Average')\n",
    "plt.xlabel('Date')\n",
    "plt.ylabel('Price')\n",
    "plt.title('Tesla Stock Prices in 2023')\n",
    "plt.legend()\n",
    "plt.show()"
   ]
  },
  {
   "cell_type": "code",
   "execution_count": null,
   "metadata": {
    "id": "B1f6J_BVRaoI"
   },
   "outputs": [],
   "source": []
  }
 ],
 "metadata": {
  "colab": {
   "provenance": []
  },
  "kernelspec": {
   "display_name": "Python 3 (ipykernel)",
   "language": "python",
   "name": "python3"
  },
  "language_info": {
   "codemirror_mode": {
    "name": "ipython",
    "version": 3
   },
   "file_extension": ".py",
   "mimetype": "text/x-python",
   "name": "python",
   "nbconvert_exporter": "python",
   "pygments_lexer": "ipython3",
   "version": "3.9.13"
  }
 },
 "nbformat": 4,
 "nbformat_minor": 1
}
