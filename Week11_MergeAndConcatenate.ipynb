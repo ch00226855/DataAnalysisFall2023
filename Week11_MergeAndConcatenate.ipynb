{
  "cells": [
    {
      "cell_type": "markdown",
      "metadata": {
        "id": "aR_zbf4h1MEd"
      },
      "source": [
        "# Week 13\n",
        "# Data Wrangling: Join, Combine, and Reshape\n",
        "\n",
        "In many applications, data may be spread across a number of files or be arranged in a form that is not easy to analyze. This chapter focuses on tools to help combine, join, and rearrange data.\n",
        "\n",
        "*Reference*: Textbook, Chapter 8"
      ]
    },
    {
      "cell_type": "code",
      "execution_count": null,
      "metadata": {
        "id": "rS9sHZMf1MEh"
      },
      "outputs": [],
      "source": [
        "import numpy as np\n",
        "import pandas as pd\n",
        "import matplotlib.pyplot as plt\n",
        "%matplotlib inline"
      ]
    },
    {
      "cell_type": "markdown",
      "metadata": {
        "id": "FW1vpUoR1MEj"
      },
      "source": [
        "## I. Merging Datasets"
      ]
    },
    {
      "cell_type": "markdown",
      "metadata": {
        "id": "-D2BBCsq1MEk"
      },
      "source": [
        "### 1. Default merge operation for data frames"
      ]
    },
    {
      "cell_type": "code",
      "execution_count": null,
      "metadata": {
        "scrolled": true,
        "id": "ebyqz9dx1MEk"
      },
      "outputs": [],
      "source": [
        "# Generate two data frames\n",
        "df1 = pd.DataFrame({'key': ['b', 'b', 'a', 'c', 'a', 'a', 'b'],\n",
        "                    'data1': range(7)})\n",
        "df1"
      ]
    },
    {
      "cell_type": "code",
      "execution_count": null,
      "metadata": {
        "id": "qju2Ejjz1MEk"
      },
      "outputs": [],
      "source": [
        "df2 = pd.DataFrame({'key': ['a', 'b', 'd'],\n",
        "                    'data2': range(3)})\n",
        "df2"
      ]
    },
    {
      "cell_type": "markdown",
      "metadata": {
        "id": "LY_NjvxU1MEk"
      },
      "source": [
        "`df1.merge(df2)` merges df1 with df2:"
      ]
    },
    {
      "cell_type": "code",
      "execution_count": null,
      "metadata": {
        "id": "ZnyYr6gZ1MEl"
      },
      "outputs": [],
      "source": [
        "df1.merge(df2)"
      ]
    },
    {
      "cell_type": "code",
      "execution_count": null,
      "metadata": {
        "scrolled": true,
        "id": "llbrHlOG1MEl"
      },
      "outputs": [],
      "source": [
        "# It is the same as df2.merge(df1)\n",
        "df2.merge(df1)"
      ]
    },
    {
      "cell_type": "code",
      "execution_count": null,
      "metadata": {
        "id": "-3Ic0q6Y1MEl"
      },
      "outputs": [],
      "source": [
        "pd.merge(df2, df1)"
      ]
    },
    {
      "cell_type": "markdown",
      "metadata": {
        "id": "tNKJeZk51MEm"
      },
      "source": [
        "Q: Can you identify the rule followed by merge?\n",
        "\n",
        "- **How does Python know which row from df2 should be combined with a row from df1?**\n",
        "A row from df2 can be merged with a row from df1 if and only if they are the same value in the shared column.\n",
        "\n",
        "- **Which column is used to \"glue\" df1 and df2?**\n",
        "The glue column is the column(s) that appear in both data frames.\n",
        "\n",
        "- **Can a row from df1 disappear in the merged data frame?**\n",
        "A row can indeed disappear if it cannot find a match from df2.\n",
        "\n",
        "- **Can a row from df2 disappear in the merged data frame?**\n",
        "A row can indeed disappear if it cannot find a match from df1.\n",
        "\n",
        "- **Can a row from df1/df2 appear multiple times in the merged data frame?**\n",
        "Yes. A row may appear multiple times if there are multiple matches from the other data frame."
      ]
    },
    {
      "cell_type": "code",
      "execution_count": null,
      "metadata": {
        "id": "fSdm78Yn1MEm"
      },
      "outputs": [],
      "source": [
        "df3 = pd.DataFrame({'key': ['a', 'b', 'b'],\n",
        "                    'data2': range(3)})\n",
        "df3"
      ]
    },
    {
      "cell_type": "code",
      "execution_count": null,
      "metadata": {
        "id": "TrMZnZDY1MEm"
      },
      "outputs": [],
      "source": [
        "# Can you predict the resulting data frame?\n",
        "df1.merge(df3)"
      ]
    },
    {
      "cell_type": "markdown",
      "metadata": {
        "id": "1yXSVpPq1MEm"
      },
      "source": [
        "**It is a good practice to specify explicitly which column(s) to join on.**"
      ]
    },
    {
      "cell_type": "code",
      "execution_count": null,
      "metadata": {
        "id": "1PK-OsVQ1MEm"
      },
      "outputs": [],
      "source": [
        "pd.merge(df1, df2, on='key')"
      ]
    },
    {
      "cell_type": "code",
      "execution_count": null,
      "metadata": {
        "id": "a1TUvb5v1MEn"
      },
      "outputs": [],
      "source": [
        "df1.merge(df3, on='key')"
      ]
    },
    {
      "cell_type": "markdown",
      "metadata": {
        "id": "0XYE6qmM1MEn"
      },
      "source": [
        "### 2. What if the column to join has different names in the two data frames?"
      ]
    },
    {
      "cell_type": "code",
      "execution_count": null,
      "metadata": {
        "id": "nq4eHXwI1MEn"
      },
      "outputs": [],
      "source": [
        "homework = pd.DataFrame({\n",
        "    'Name': ['Alice', 'Bob', 'Clare'],\n",
        "    'Hw1': [100, 90, 80],\n",
        "    'Hw2': [60, 70, 80]\n",
        "})\n",
        "homework"
      ]
    },
    {
      "cell_type": "code",
      "execution_count": null,
      "metadata": {
        "id": "IQuJ7F8P1MEn"
      },
      "outputs": [],
      "source": [
        "exam = pd.DataFrame({\n",
        "    \"Full Name\": ['Alice', 'Bob', 'Clare'],\n",
        "    \"Midterm\": [70, 80, 90],\n",
        "    \"Final\": [85, 65, 75]\n",
        "})\n",
        "exam"
      ]
    },
    {
      "cell_type": "code",
      "execution_count": null,
      "metadata": {
        "id": "V5pLGjeL1MEn"
      },
      "outputs": [],
      "source": [
        "pd.merge(homework, exam)"
      ]
    },
    {
      "cell_type": "code",
      "execution_count": null,
      "metadata": {
        "id": "LVbzz4Zv1MEn"
      },
      "outputs": [],
      "source": [
        "pd.merge(homework, exam, left_on=\"Name\", right_on=\"Full Name\")"
      ]
    },
    {
      "cell_type": "code",
      "execution_count": null,
      "metadata": {
        "id": "pdHog0g_1MEn"
      },
      "outputs": [],
      "source": [
        "# pd.merge(homework, exam)\n",
        "# This will give an error."
      ]
    },
    {
      "cell_type": "markdown",
      "metadata": {
        "id": "AJFWBiIA1MEn"
      },
      "source": [
        "### 3. What if the column to join has different values?"
      ]
    },
    {
      "cell_type": "code",
      "execution_count": null,
      "metadata": {
        "id": "C1nz-_8d1MEn"
      },
      "outputs": [],
      "source": [
        "homework = pd.DataFrame({\n",
        "    'Name': ['Alice', 'Bob', 'Clare', 'David'],\n",
        "    'Hw1': [100, 90, 80, 70],\n",
        "    'Hw2': [60, 70, 80, 90]\n",
        "})\n",
        "homework"
      ]
    },
    {
      "cell_type": "code",
      "execution_count": null,
      "metadata": {
        "id": "rJwC-Eb61MEn"
      },
      "outputs": [],
      "source": [
        "exam = pd.DataFrame({\n",
        "    \"Full Name\": ['Alice', 'Bob', 'Clare', 'Eli'],\n",
        "    \"Midterm\": [70, 80, 90, 100],\n",
        "    \"Final\": [85, 65, 75, 55]\n",
        "})\n",
        "exam"
      ]
    },
    {
      "cell_type": "code",
      "execution_count": null,
      "metadata": {
        "id": "rFTt1MMm1MEn"
      },
      "outputs": [],
      "source": [
        "# Default merge will drop values that cannot find a match\n",
        "pd.merge(homework, exam,\n",
        "         left_on=\"Name\",\n",
        "         right_on=\"Full Name\")"
      ]
    },
    {
      "cell_type": "markdown",
      "metadata": {
        "id": "B7PLCEG71MEn"
      },
      "source": [
        "Different join types with `how` argument\n",
        "- inner: Use only the keys combinations observed in both tables\n",
        "- outer: Use all possible keys combinations\n",
        "- left: Use all keys found in the first data frame\n",
        "- right: Use all keys found in the second data frame"
      ]
    },
    {
      "cell_type": "code",
      "execution_count": null,
      "metadata": {
        "id": "9NfKO87o1MEn"
      },
      "outputs": [],
      "source": [
        "pd.merge(homework, exam, left_on=\"Name\", right_on=\"Full Name\",\n",
        "         how='outer')"
      ]
    },
    {
      "cell_type": "code",
      "execution_count": null,
      "metadata": {
        "id": "BrGJ-gPB1MEo"
      },
      "outputs": [],
      "source": [
        "pd.merge(homework, exam,\n",
        "         left_on=\"Name\",\n",
        "         right_on=\"Full Name\",\n",
        "         how=\"left\")"
      ]
    },
    {
      "cell_type": "code",
      "execution_count": null,
      "metadata": {
        "id": "mU5tE4Am1MEo"
      },
      "outputs": [],
      "source": [
        "pd.merge(homework, exam,\n",
        "         left_on=\"Name\",\n",
        "         right_on=\"Full Name\",\n",
        "         how=\"right\")"
      ]
    },
    {
      "cell_type": "markdown",
      "metadata": {
        "id": "XzmZu3D21MEo"
      },
      "source": [
        "### 4. What if we want to join on multiple columns?"
      ]
    },
    {
      "cell_type": "code",
      "execution_count": null,
      "metadata": {
        "id": "3N4BZQkx1MEo"
      },
      "outputs": [],
      "source": [
        "homework = pd.DataFrame({\n",
        "    'Semester': ['Fall 2018', 'Fall 2018', 'Fall 2019', 'Fall 2019'],\n",
        "    'Name': ['Alice', 'Bob', 'Clare', 'Alice'],\n",
        "    'Hw1': [50, 90, 80, 70],\n",
        "    'Hw2': [60, 70, 80, 90]\n",
        "})\n",
        "homework"
      ]
    },
    {
      "cell_type": "code",
      "execution_count": null,
      "metadata": {
        "id": "6iM2-MWk1MEo"
      },
      "outputs": [],
      "source": [
        "exam = pd.DataFrame({\n",
        "    'When': ['Fall 2018', 'Fall 2018', 'Fall 2019', 'Fall 2019'],\n",
        "    \"Name\": ['Alice', 'Bob', 'Clare', 'Alice'],\n",
        "    \"Midterm\": [60, 80, 90, 100],\n",
        "    \"Final\": [45, 65, 75, 55]\n",
        "})\n",
        "exam"
      ]
    },
    {
      "cell_type": "code",
      "execution_count": null,
      "metadata": {
        "id": "EGSK2EK21MEo"
      },
      "outputs": [],
      "source": [
        "pd.merge(homework, exam, on='Name')"
      ]
    },
    {
      "cell_type": "code",
      "execution_count": null,
      "metadata": {
        "scrolled": true,
        "id": "Us3DOMVb1MEo"
      },
      "outputs": [],
      "source": [
        "pd.merge(homework, exam, left_on=['Semester', 'Name'],\n",
        "         right_on=['When', 'Name']) # order matters\n",
        "#          right_on=[\"Name\", \"When\"])"
      ]
    },
    {
      "cell_type": "code",
      "execution_count": null,
      "metadata": {
        "id": "ku6JYsup1MEo"
      },
      "outputs": [],
      "source": [
        "exam2 = exam.copy()\n",
        "# exam2.columns = ['Final', 'Midterm', 'Name', 'Semester']\n",
        "exam2.columns = [\"Semester\", \"Name\", \"Midterm\", \"Final\"]\n",
        "exam2"
      ]
    },
    {
      "cell_type": "code",
      "execution_count": null,
      "metadata": {
        "id": "cx4UwEs71MEo"
      },
      "outputs": [],
      "source": [
        "pd.merge(homework, exam2, on=['Semester', 'Name'])"
      ]
    },
    {
      "cell_type": "markdown",
      "metadata": {
        "id": "f2j_TvUz1MEo"
      },
      "source": [
        "### 5. What if there are overlapping columns?"
      ]
    },
    {
      "cell_type": "code",
      "execution_count": null,
      "metadata": {
        "id": "n15Z06fD1MEo"
      },
      "outputs": [],
      "source": [
        "homework = pd.DataFrame({\n",
        "    'Name': ['Alice', 'Bob', 'Clare', 'David'],\n",
        "    'Hw1': [100, 90, 80, 70],\n",
        "    'Hw2': [60, 70, 80, 90],\n",
        "    'Average': [80, 80, 80, 80]\n",
        "})\n",
        "homework"
      ]
    },
    {
      "cell_type": "code",
      "execution_count": null,
      "metadata": {
        "id": "Q58XXDB71MEs"
      },
      "outputs": [],
      "source": [
        "exam = pd.DataFrame({\n",
        "    \"Name\": ['Alice', 'Bob', 'Clare', 'Eva'],\n",
        "    \"Midterm\": [60, 80, 90, 100],\n",
        "    \"Final\": [45, 65, 75, 55],\n",
        "    \"Average\": [52.5, 72.5, 82.5, 77.5]\n",
        "})\n",
        "exam"
      ]
    },
    {
      "cell_type": "code",
      "execution_count": null,
      "metadata": {
        "id": "itfJHY0M1MEt"
      },
      "outputs": [],
      "source": [
        "pd.merge(homework, exam) # Wrong approach!"
      ]
    },
    {
      "cell_type": "code",
      "execution_count": null,
      "metadata": {
        "id": "pSS47Xxm1MEt"
      },
      "outputs": [],
      "source": [
        "pd.merge(homework, exam, on='Name', how='outer')"
      ]
    },
    {
      "cell_type": "code",
      "execution_count": null,
      "metadata": {
        "id": "TXj5ijFO1MEt"
      },
      "outputs": [],
      "source": [
        "pd.merge(homework, exam, on='Name', suffixes=('_hw', '_ex'), how='outer')"
      ]
    },
    {
      "cell_type": "markdown",
      "metadata": {
        "id": "x6K37d8q1MEt"
      },
      "source": [
        "### 6. What if we want to merge on index?"
      ]
    },
    {
      "cell_type": "code",
      "execution_count": null,
      "metadata": {
        "id": "0sDfGJnm1MEt"
      },
      "outputs": [],
      "source": [
        "homework = pd.DataFrame({\n",
        "    'Name': ['Alice', 'Bob', 'Clare', 'David'],\n",
        "    'Hw1': [100, 90, 80, 70],\n",
        "    'Hw2': [60, 70, 80, 90],\n",
        "    'Average': [80, 80, 80, 80]\n",
        "}, index=[111, 222, 333, 444])\n",
        "homework"
      ]
    },
    {
      "cell_type": "code",
      "execution_count": null,
      "metadata": {
        "id": "AEbTbKlU1MEt"
      },
      "outputs": [],
      "source": [
        "exam = pd.DataFrame({\n",
        "    \"Name\": ['Alice', 'Bob', 'Clare', 'Eva'],\n",
        "    \"Midterm\": [60, 80, 90, 100],\n",
        "    \"Final\": [45, 65, 75, 55],\n",
        "    \"Average\": [52.5, 72.5, 82.5, 77.5]\n",
        "})\n",
        "exam = exam.set_index('Name')\n",
        "exam"
      ]
    },
    {
      "cell_type": "code",
      "execution_count": null,
      "metadata": {
        "id": "CLs3EeLY1MEt"
      },
      "outputs": [],
      "source": [
        "pd.merge(homework, exam, left_on='Name', right_index=True)"
      ]
    },
    {
      "cell_type": "markdown",
      "metadata": {
        "id": "ZvVnmOve1MEt"
      },
      "source": [
        "## II. Concatenations"
      ]
    },
    {
      "cell_type": "markdown",
      "metadata": {
        "id": "JUXTJYgg1MEt"
      },
      "source": [
        "### 1. Concatenating NumPy Arrays\n",
        "My personal favorite methods are np.hstack() for horizontal concatenation and np.vstack() for vertical concatenation."
      ]
    },
    {
      "cell_type": "code",
      "execution_count": null,
      "metadata": {
        "id": "FEIShM6A1MEt"
      },
      "outputs": [],
      "source": [
        "arr1 = np.arange(12).reshape([3, 4])\n",
        "print(arr1)"
      ]
    },
    {
      "cell_type": "code",
      "execution_count": null,
      "metadata": {
        "id": "aZ80znEd1MEt"
      },
      "outputs": [],
      "source": [
        "arr2 = np.arange(10, 90, 10).reshape([2, 4])\n",
        "print(arr2)"
      ]
    },
    {
      "cell_type": "code",
      "execution_count": null,
      "metadata": {
        "id": "8is1Zd2A1MEt"
      },
      "outputs": [],
      "source": [
        "print(np.vstack([arr1, arr2]))"
      ]
    },
    {
      "cell_type": "code",
      "execution_count": null,
      "metadata": {
        "id": "RmQ2M8871MEt"
      },
      "outputs": [],
      "source": [
        "arr3 = np.arange(100, 10, -10).reshape([3, 3])\n",
        "print(arr3)"
      ]
    },
    {
      "cell_type": "code",
      "execution_count": null,
      "metadata": {
        "id": "FC4PQ8621MEu"
      },
      "outputs": [],
      "source": [
        "print(np.hstack([arr1, arr3]))"
      ]
    },
    {
      "cell_type": "markdown",
      "metadata": {
        "id": "4FznI-1x1MEu"
      },
      "source": [
        "### 2. Concatenating Data Frames"
      ]
    },
    {
      "cell_type": "code",
      "execution_count": null,
      "metadata": {
        "id": "F6B5ET6x1MEu"
      },
      "outputs": [],
      "source": [
        "spring_records = pd.DataFrame({\n",
        "    'Name': ['Alice', 'Bob', 'Clare', 'David'],\n",
        "    'Homework': [60, 70, 80, 90],\n",
        "    'Exam': [65, 75, 85, 95]\n",
        "})\n",
        "spring_records"
      ]
    },
    {
      "cell_type": "code",
      "execution_count": null,
      "metadata": {
        "id": "pfV6M0mL1MEu"
      },
      "outputs": [],
      "source": [
        "fall_records = pd.DataFrame({\n",
        "    'Name': ['Alice', 'Eva', 'Fred', 'Gabriel'],\n",
        "    'Homework': [66, 77, 88, 99],\n",
        "    'Exam': [69, 79, 89, 99]\n",
        "})\n",
        "fall_records"
      ]
    },
    {
      "cell_type": "code",
      "execution_count": null,
      "metadata": {
        "id": "2Nvdqb151MEu"
      },
      "outputs": [],
      "source": [
        "pd.concat([spring_records, fall_records])"
      ]
    },
    {
      "cell_type": "code",
      "execution_count": null,
      "metadata": {
        "id": "ppaQlOiC1MEu"
      },
      "outputs": [],
      "source": [
        "pd.concat([spring_records, fall_records], axis=1)"
      ]
    }
  ],
  "metadata": {
    "kernelspec": {
      "display_name": "Python 3 (ipykernel)",
      "language": "python",
      "name": "python3"
    },
    "language_info": {
      "codemirror_mode": {
        "name": "ipython",
        "version": 3
      },
      "file_extension": ".py",
      "mimetype": "text/x-python",
      "name": "python",
      "nbconvert_exporter": "python",
      "pygments_lexer": "ipython3",
      "version": "3.8.5"
    },
    "colab": {
      "provenance": []
    }
  },
  "nbformat": 4,
  "nbformat_minor": 0
}