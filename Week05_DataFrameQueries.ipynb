{
 "cells": [
  {
   "cell_type": "markdown",
   "metadata": {},
   "source": [
    "# Week 5\n",
    "\n",
    "# Getting Started with Pandas (Part 2)\n",
    "# Data Analysis with Data Frames\n",
    "\n",
    "In this week, we will look into a data set about movies and use data frames to perform data analysis."
   ]
  },
  {
   "cell_type": "markdown",
   "metadata": {},
   "source": [
    "## 1. Download and extract MovieLens data\n",
    "\n",
    "- [MovieLens](https://grouplens.org/datasets/movielens/) is a web-based recommender system and virtual community that recommends movies for its users to watch, based on their file preferences using collaborative filtering of members' movie ratings and movie reviews. \n",
    "- We will look at its `ml-latest-small` dataset."
   ]
  },
  {
   "cell_type": "code",
   "execution_count": 3,
   "metadata": {},
   "outputs": [
    {
     "data": {
      "text/plain": [
       "('mydata/ml-latest-small.zip', <http.client.HTTPMessage at 0x200eee03f10>)"
      ]
     },
     "execution_count": 3,
     "metadata": {},
     "output_type": "execute_result"
    }
   ],
   "source": [
    "# Download ml-latest-small.zip from https://grouplens.org/datasets/movielens/\n",
    "import os \n",
    "import urllib.request\n",
    "url = \"https://files.grouplens.org/datasets/movielens/ml-latest-small.zip\"\n",
    "\n",
    "file_path = \"mydata/\" # This is a relative path from the default folder\n",
    "zip_file = \"ml-latest-small.zip\"\n",
    "\n",
    "# Create the Data folder if it doesn't already exist.\n",
    "if not os.path.exists(file_path):\n",
    "    os.mkdir(file_path)\n",
    "\n",
    "# Download file\n",
    "urllib.request.urlretrieve(url, file_path + zip_file)"
   ]
  },
  {
   "cell_type": "code",
   "execution_count": 4,
   "metadata": {},
   "outputs": [
    {
     "name": "stdout",
     "output_type": "stream",
     "text": [
      "File Name                                             Modified             Size\n",
      "ml-latest-small/                               2018-09-26 15:50:12            0\n",
      "ml-latest-small/links.csv                      2018-09-26 15:50:10       197979\n",
      "ml-latest-small/tags.csv                       2018-09-26 15:49:40       118660\n",
      "ml-latest-small/ratings.csv                    2018-09-26 15:49:38      2483723\n",
      "ml-latest-small/README.txt                     2018-09-26 15:50:12         8342\n",
      "ml-latest-small/movies.csv                     2018-09-26 15:49:56       494431\n"
     ]
    }
   ],
   "source": [
    "# Decompress the zip file\n",
    "import zipfile\n",
    "f = zipfile.ZipFile(file_path + zip_file, \"r\")\n",
    "f.printdir()\n",
    "f.extractall(file_path)\n",
    "f.close()"
   ]
  },
  {
   "cell_type": "code",
   "execution_count": 5,
   "metadata": {},
   "outputs": [
    {
     "name": "stdout",
     "output_type": "stream",
     "text": [
      "['links.csv', 'movies.csv', 'ratings.csv', 'README.txt', 'tags.csv']\n"
     ]
    }
   ],
   "source": [
    "# Check that files has been unzipped\n",
    "print(os.listdir(file_path + \"ml-latest-small\"))"
   ]
  },
  {
   "cell_type": "code",
   "execution_count": 6,
   "metadata": {},
   "outputs": [],
   "source": [
    "# Delete the zip file\n",
    "os.remove(file_path + zip_file)"
   ]
  },
  {
   "cell_type": "code",
   "execution_count": 7,
   "metadata": {},
   "outputs": [
    {
     "data": {
      "text/plain": [
       "['cereal.csv', 'ml-latest-small']"
      ]
     },
     "execution_count": 7,
     "metadata": {},
     "output_type": "execute_result"
    }
   ],
   "source": [
    "# Verify that the zip file is gone.\n",
    "os.listdir(file_path)"
   ]
  },
  {
   "cell_type": "code",
   "execution_count": 1,
   "metadata": {},
   "outputs": [],
   "source": [
    "# Write a function to download and decompress file\n",
    "import os\n",
    "import urllib.request\n",
    "import zipfile\n",
    "\n",
    "def get_movielens(file_path, file_name, delete_zip_file=False):\n",
    "    url = \"http://files.grouplens.org/datasets/movielens/\" + file_name\n",
    "    if not os.path.exists(file_path):\n",
    "        os.mkdir(file_path)\n",
    "    if not os.path.exists(file_path + file_name):\n",
    "        urllib.request.urlretrieve(url, file_path + file_name)\n",
    "        print(\"File\", file_name, \"downloaded.\")\n",
    "    with zipfile.ZipFile(file_path + file_name, \"r\") as f:\n",
    "        f.extractall(file_path)\n",
    "        print(\"Files extracted:\")\n",
    "        print(f.printdir())\n",
    "    if delete_zip_file:\n",
    "        os.remove(file_path + file_name)"
   ]
  },
  {
   "cell_type": "code",
   "execution_count": 2,
   "metadata": {
    "scrolled": false
   },
   "outputs": [
    {
     "name": "stdout",
     "output_type": "stream",
     "text": [
      "Files extracted:\n",
      "File Name                                             Modified             Size\n",
      "ml-latest-small/                               2018-09-26 15:50:12            0\n",
      "ml-latest-small/links.csv                      2018-09-26 15:50:10       197979\n",
      "ml-latest-small/tags.csv                       2018-09-26 15:49:40       118660\n",
      "ml-latest-small/ratings.csv                    2018-09-26 15:49:38      2483723\n",
      "ml-latest-small/README.txt                     2018-09-26 15:50:12         8342\n",
      "ml-latest-small/movies.csv                     2018-09-26 15:49:56       494431\n",
      "None\n"
     ]
    }
   ],
   "source": [
    "file_path = \"mydata/\"\n",
    "zip_file = \"ml-latest-small.zip\"\n",
    "get_movielens(file_path, zip_file)\n",
    "# Remember file_path = \"Data/\" and zip_file = \"ml-latest-small.zip\""
   ]
  },
  {
   "cell_type": "markdown",
   "metadata": {},
   "source": [
    "## 2. Load ratings data as a pandas DataFrame\n",
    "- Load csv file as a DataFrame\n",
    "- head()\n",
    "- shape, columns, dtypes\n",
    "- indexing with loc[]\n",
    "- Handle date and time data\n",
    "- Data transformation with apply()"
   ]
  },
  {
   "cell_type": "code",
   "execution_count": 17,
   "metadata": {},
   "outputs": [
    {
     "data": {
      "text/html": [
       "<div>\n",
       "<style scoped>\n",
       "    .dataframe tbody tr th:only-of-type {\n",
       "        vertical-align: middle;\n",
       "    }\n",
       "\n",
       "    .dataframe tbody tr th {\n",
       "        vertical-align: top;\n",
       "    }\n",
       "\n",
       "    .dataframe thead th {\n",
       "        text-align: right;\n",
       "    }\n",
       "</style>\n",
       "<table border=\"1\" class=\"dataframe\">\n",
       "  <thead>\n",
       "    <tr style=\"text-align: right;\">\n",
       "      <th></th>\n",
       "      <th>userId</th>\n",
       "      <th>movieId</th>\n",
       "      <th>rating</th>\n",
       "      <th>timestamp</th>\n",
       "    </tr>\n",
       "  </thead>\n",
       "  <tbody>\n",
       "    <tr>\n",
       "      <th>0</th>\n",
       "      <td>1</td>\n",
       "      <td>1</td>\n",
       "      <td>4.0</td>\n",
       "      <td>964982703</td>\n",
       "    </tr>\n",
       "    <tr>\n",
       "      <th>1</th>\n",
       "      <td>1</td>\n",
       "      <td>3</td>\n",
       "      <td>4.0</td>\n",
       "      <td>964981247</td>\n",
       "    </tr>\n",
       "    <tr>\n",
       "      <th>2</th>\n",
       "      <td>1</td>\n",
       "      <td>6</td>\n",
       "      <td>4.0</td>\n",
       "      <td>964982224</td>\n",
       "    </tr>\n",
       "    <tr>\n",
       "      <th>3</th>\n",
       "      <td>1</td>\n",
       "      <td>47</td>\n",
       "      <td>5.0</td>\n",
       "      <td>964983815</td>\n",
       "    </tr>\n",
       "    <tr>\n",
       "      <th>4</th>\n",
       "      <td>1</td>\n",
       "      <td>50</td>\n",
       "      <td>5.0</td>\n",
       "      <td>964982931</td>\n",
       "    </tr>\n",
       "  </tbody>\n",
       "</table>\n",
       "</div>"
      ],
      "text/plain": [
       "   userId  movieId  rating  timestamp\n",
       "0       1        1     4.0  964982703\n",
       "1       1        3     4.0  964981247\n",
       "2       1        6     4.0  964982224\n",
       "3       1       47     5.0  964983815\n",
       "4       1       50     5.0  964982931"
      ]
     },
     "execution_count": 17,
     "metadata": {},
     "output_type": "execute_result"
    }
   ],
   "source": [
    "import pandas as pd\n",
    "\n",
    "ratings_df = pd.read_csv(\"mydata/ml-latest-small/ratings.csv\")\n",
    "ratings_df.head(5) # Show the first several rows of the dataset"
   ]
  },
  {
   "cell_type": "code",
   "execution_count": 20,
   "metadata": {},
   "outputs": [
    {
     "name": "stdout",
     "output_type": "stream",
     "text": [
      "(100836, 4)\n"
     ]
    }
   ],
   "source": [
    "# Ex: How many records are there?\n",
    "\n",
    "print(ratings_df.shape)"
   ]
  },
  {
   "cell_type": "code",
   "execution_count": 21,
   "metadata": {},
   "outputs": [
    {
     "data": {
      "text/plain": [
       "userId         int64\n",
       "movieId        int64\n",
       "rating       float64\n",
       "timestamp      int64\n",
       "dtype: object"
      ]
     },
     "execution_count": 21,
     "metadata": {},
     "output_type": "execute_result"
    }
   ],
   "source": [
    "# Ex: Display the types of each feature\n",
    "\n",
    "ratings_df.dtypes"
   ]
  },
  {
   "cell_type": "code",
   "execution_count": 23,
   "metadata": {},
   "outputs": [
    {
     "name": "stdout",
     "output_type": "stream",
     "text": [
      "964982703\n",
      "2000-07-30 14:45:03\n",
      "2000\n",
      "7\n"
     ]
    },
    {
     "data": {
      "text/html": [
       "<div>\n",
       "<style scoped>\n",
       "    .dataframe tbody tr th:only-of-type {\n",
       "        vertical-align: middle;\n",
       "    }\n",
       "\n",
       "    .dataframe tbody tr th {\n",
       "        vertical-align: top;\n",
       "    }\n",
       "\n",
       "    .dataframe thead th {\n",
       "        text-align: right;\n",
       "    }\n",
       "</style>\n",
       "<table border=\"1\" class=\"dataframe\">\n",
       "  <thead>\n",
       "    <tr style=\"text-align: right;\">\n",
       "      <th></th>\n",
       "      <th>userId</th>\n",
       "      <th>movieId</th>\n",
       "      <th>rating</th>\n",
       "      <th>timestamp</th>\n",
       "      <th>Year</th>\n",
       "    </tr>\n",
       "  </thead>\n",
       "  <tbody>\n",
       "    <tr>\n",
       "      <th>0</th>\n",
       "      <td>1</td>\n",
       "      <td>1</td>\n",
       "      <td>4.0</td>\n",
       "      <td>964982703</td>\n",
       "      <td>2000.0</td>\n",
       "    </tr>\n",
       "    <tr>\n",
       "      <th>1</th>\n",
       "      <td>1</td>\n",
       "      <td>3</td>\n",
       "      <td>4.0</td>\n",
       "      <td>964981247</td>\n",
       "      <td>NaN</td>\n",
       "    </tr>\n",
       "    <tr>\n",
       "      <th>2</th>\n",
       "      <td>1</td>\n",
       "      <td>6</td>\n",
       "      <td>4.0</td>\n",
       "      <td>964982224</td>\n",
       "      <td>NaN</td>\n",
       "    </tr>\n",
       "    <tr>\n",
       "      <th>3</th>\n",
       "      <td>1</td>\n",
       "      <td>47</td>\n",
       "      <td>5.0</td>\n",
       "      <td>964983815</td>\n",
       "      <td>NaN</td>\n",
       "    </tr>\n",
       "    <tr>\n",
       "      <th>4</th>\n",
       "      <td>1</td>\n",
       "      <td>50</td>\n",
       "      <td>5.0</td>\n",
       "      <td>964982931</td>\n",
       "      <td>NaN</td>\n",
       "    </tr>\n",
       "  </tbody>\n",
       "</table>\n",
       "</div>"
      ],
      "text/plain": [
       "   userId  movieId  rating  timestamp    Year\n",
       "0       1        1     4.0  964982703  2000.0\n",
       "1       1        3     4.0  964981247     NaN\n",
       "2       1        6     4.0  964982224     NaN\n",
       "3       1       47     5.0  964983815     NaN\n",
       "4       1       50     5.0  964982931     NaN"
      ]
     },
     "execution_count": 23,
     "metadata": {},
     "output_type": "execute_result"
    }
   ],
   "source": [
    "# Convert time stamp to a readable format\n",
    "from datetime import datetime\n",
    "\n",
    "# Example: convert the first time stamp\n",
    "timestamp = ratings_df.loc[0, \"timestamp\"]\n",
    "print(timestamp)\n",
    "\n",
    "dt = datetime.fromtimestamp(timestamp)\n",
    "print(dt)\n",
    "\n",
    "print(dt.year)\n",
    "print(dt.month)\n",
    "\n",
    "ratings_df.loc[0, \"Year\"] = dt.year\n",
    "# ratings_df.loc[0, \"Month\"] = dt.month\n",
    "# ratings_df.loc[0, \"Day\"] = dt.day\n",
    "# ratings_df.loc[0, \"Hour\"] = dt.hour\n",
    "# ratings_df.loc[0, \"Minute\"] = dt.minute\n",
    "# ratings_df.loc[0, \"Second\"] = dt.second\n",
    "ratings_df.head()"
   ]
  },
  {
   "cell_type": "code",
   "execution_count": 24,
   "metadata": {},
   "outputs": [
    {
     "data": {
      "text/html": [
       "<div>\n",
       "<style scoped>\n",
       "    .dataframe tbody tr th:only-of-type {\n",
       "        vertical-align: middle;\n",
       "    }\n",
       "\n",
       "    .dataframe tbody tr th {\n",
       "        vertical-align: top;\n",
       "    }\n",
       "\n",
       "    .dataframe thead th {\n",
       "        text-align: right;\n",
       "    }\n",
       "</style>\n",
       "<table border=\"1\" class=\"dataframe\">\n",
       "  <thead>\n",
       "    <tr style=\"text-align: right;\">\n",
       "      <th></th>\n",
       "      <th>userId</th>\n",
       "      <th>movieId</th>\n",
       "      <th>rating</th>\n",
       "      <th>timestamp</th>\n",
       "      <th>Year</th>\n",
       "      <th>DT</th>\n",
       "    </tr>\n",
       "  </thead>\n",
       "  <tbody>\n",
       "    <tr>\n",
       "      <th>0</th>\n",
       "      <td>1</td>\n",
       "      <td>1</td>\n",
       "      <td>4.0</td>\n",
       "      <td>964982703</td>\n",
       "      <td>2000.0</td>\n",
       "      <td>2000-07-30 14:45:03</td>\n",
       "    </tr>\n",
       "    <tr>\n",
       "      <th>1</th>\n",
       "      <td>1</td>\n",
       "      <td>3</td>\n",
       "      <td>4.0</td>\n",
       "      <td>964981247</td>\n",
       "      <td>NaN</td>\n",
       "      <td>2000-07-30 14:20:47</td>\n",
       "    </tr>\n",
       "    <tr>\n",
       "      <th>2</th>\n",
       "      <td>1</td>\n",
       "      <td>6</td>\n",
       "      <td>4.0</td>\n",
       "      <td>964982224</td>\n",
       "      <td>NaN</td>\n",
       "      <td>2000-07-30 14:37:04</td>\n",
       "    </tr>\n",
       "    <tr>\n",
       "      <th>3</th>\n",
       "      <td>1</td>\n",
       "      <td>47</td>\n",
       "      <td>5.0</td>\n",
       "      <td>964983815</td>\n",
       "      <td>NaN</td>\n",
       "      <td>2000-07-30 15:03:35</td>\n",
       "    </tr>\n",
       "    <tr>\n",
       "      <th>4</th>\n",
       "      <td>1</td>\n",
       "      <td>50</td>\n",
       "      <td>5.0</td>\n",
       "      <td>964982931</td>\n",
       "      <td>NaN</td>\n",
       "      <td>2000-07-30 14:48:51</td>\n",
       "    </tr>\n",
       "  </tbody>\n",
       "</table>\n",
       "</div>"
      ],
      "text/plain": [
       "   userId  movieId  rating  timestamp    Year                  DT\n",
       "0       1        1     4.0  964982703  2000.0 2000-07-30 14:45:03\n",
       "1       1        3     4.0  964981247     NaN 2000-07-30 14:20:47\n",
       "2       1        6     4.0  964982224     NaN 2000-07-30 14:37:04\n",
       "3       1       47     5.0  964983815     NaN 2000-07-30 15:03:35\n",
       "4       1       50     5.0  964982931     NaN 2000-07-30 14:48:51"
      ]
     },
     "execution_count": 24,
     "metadata": {},
     "output_type": "execute_result"
    }
   ],
   "source": [
    "# Use apply() to apply a function to all rows\n",
    "ratings_df[\"DT\"] = ratings_df[\"timestamp\"].apply(datetime.fromtimestamp)\n",
    "ratings_df.head()"
   ]
  },
  {
   "cell_type": "markdown",
   "metadata": {},
   "source": [
    "We can also create functions to fill column year, month, ..."
   ]
  },
  {
   "cell_type": "code",
   "execution_count": 25,
   "metadata": {},
   "outputs": [
    {
     "data": {
      "text/html": [
       "<div>\n",
       "<style scoped>\n",
       "    .dataframe tbody tr th:only-of-type {\n",
       "        vertical-align: middle;\n",
       "    }\n",
       "\n",
       "    .dataframe tbody tr th {\n",
       "        vertical-align: top;\n",
       "    }\n",
       "\n",
       "    .dataframe thead th {\n",
       "        text-align: right;\n",
       "    }\n",
       "</style>\n",
       "<table border=\"1\" class=\"dataframe\">\n",
       "  <thead>\n",
       "    <tr style=\"text-align: right;\">\n",
       "      <th></th>\n",
       "      <th>userId</th>\n",
       "      <th>movieId</th>\n",
       "      <th>rating</th>\n",
       "      <th>timestamp</th>\n",
       "      <th>Year</th>\n",
       "      <th>DT</th>\n",
       "    </tr>\n",
       "  </thead>\n",
       "  <tbody>\n",
       "    <tr>\n",
       "      <th>0</th>\n",
       "      <td>1</td>\n",
       "      <td>1</td>\n",
       "      <td>4.0</td>\n",
       "      <td>964982703</td>\n",
       "      <td>2000</td>\n",
       "      <td>2000-07-30 14:45:03</td>\n",
       "    </tr>\n",
       "    <tr>\n",
       "      <th>1</th>\n",
       "      <td>1</td>\n",
       "      <td>3</td>\n",
       "      <td>4.0</td>\n",
       "      <td>964981247</td>\n",
       "      <td>2000</td>\n",
       "      <td>2000-07-30 14:20:47</td>\n",
       "    </tr>\n",
       "    <tr>\n",
       "      <th>2</th>\n",
       "      <td>1</td>\n",
       "      <td>6</td>\n",
       "      <td>4.0</td>\n",
       "      <td>964982224</td>\n",
       "      <td>2000</td>\n",
       "      <td>2000-07-30 14:37:04</td>\n",
       "    </tr>\n",
       "    <tr>\n",
       "      <th>3</th>\n",
       "      <td>1</td>\n",
       "      <td>47</td>\n",
       "      <td>5.0</td>\n",
       "      <td>964983815</td>\n",
       "      <td>2000</td>\n",
       "      <td>2000-07-30 15:03:35</td>\n",
       "    </tr>\n",
       "    <tr>\n",
       "      <th>4</th>\n",
       "      <td>1</td>\n",
       "      <td>50</td>\n",
       "      <td>5.0</td>\n",
       "      <td>964982931</td>\n",
       "      <td>2000</td>\n",
       "      <td>2000-07-30 14:48:51</td>\n",
       "    </tr>\n",
       "  </tbody>\n",
       "</table>\n",
       "</div>"
      ],
      "text/plain": [
       "   userId  movieId  rating  timestamp  Year                  DT\n",
       "0       1        1     4.0  964982703  2000 2000-07-30 14:45:03\n",
       "1       1        3     4.0  964981247  2000 2000-07-30 14:20:47\n",
       "2       1        6     4.0  964982224  2000 2000-07-30 14:37:04\n",
       "3       1       47     5.0  964983815  2000 2000-07-30 15:03:35\n",
       "4       1       50     5.0  964982931  2000 2000-07-30 14:48:51"
      ]
     },
     "execution_count": 25,
     "metadata": {},
     "output_type": "execute_result"
    }
   ],
   "source": [
    "# Ex: Fill the year column\n",
    "def get_year(dt):\n",
    "    return dt.year\n",
    "\n",
    "ratings_df['Year'] = ratings_df['DT'].apply(get_year)\n",
    "ratings_df.head()"
   ]
  },
  {
   "cell_type": "markdown",
   "metadata": {},
   "source": [
    "Alternatively, we can use `pd.to_datetime()` for the conversion. [Link](https://pandas.pydata.org/docs/reference/api/pandas.to_datetime.html)"
   ]
  },
  {
   "cell_type": "code",
   "execution_count": 29,
   "metadata": {
    "scrolled": true
   },
   "outputs": [
    {
     "data": {
      "text/html": [
       "<div>\n",
       "<style scoped>\n",
       "    .dataframe tbody tr th:only-of-type {\n",
       "        vertical-align: middle;\n",
       "    }\n",
       "\n",
       "    .dataframe tbody tr th {\n",
       "        vertical-align: top;\n",
       "    }\n",
       "\n",
       "    .dataframe thead th {\n",
       "        text-align: right;\n",
       "    }\n",
       "</style>\n",
       "<table border=\"1\" class=\"dataframe\">\n",
       "  <thead>\n",
       "    <tr style=\"text-align: right;\">\n",
       "      <th></th>\n",
       "      <th>userId</th>\n",
       "      <th>movieId</th>\n",
       "      <th>rating</th>\n",
       "      <th>timestamp</th>\n",
       "      <th>Year</th>\n",
       "      <th>DT</th>\n",
       "      <th>DT2</th>\n",
       "    </tr>\n",
       "  </thead>\n",
       "  <tbody>\n",
       "    <tr>\n",
       "      <th>0</th>\n",
       "      <td>1</td>\n",
       "      <td>1</td>\n",
       "      <td>4.0</td>\n",
       "      <td>964982703</td>\n",
       "      <td>2000</td>\n",
       "      <td>2000-07-30 14:45:03</td>\n",
       "      <td>2000-07-30 18:45:03+00:00</td>\n",
       "    </tr>\n",
       "    <tr>\n",
       "      <th>1</th>\n",
       "      <td>1</td>\n",
       "      <td>3</td>\n",
       "      <td>4.0</td>\n",
       "      <td>964981247</td>\n",
       "      <td>2000</td>\n",
       "      <td>2000-07-30 14:20:47</td>\n",
       "      <td>2000-07-30 18:20:47+00:00</td>\n",
       "    </tr>\n",
       "    <tr>\n",
       "      <th>2</th>\n",
       "      <td>1</td>\n",
       "      <td>6</td>\n",
       "      <td>4.0</td>\n",
       "      <td>964982224</td>\n",
       "      <td>2000</td>\n",
       "      <td>2000-07-30 14:37:04</td>\n",
       "      <td>2000-07-30 18:37:04+00:00</td>\n",
       "    </tr>\n",
       "    <tr>\n",
       "      <th>3</th>\n",
       "      <td>1</td>\n",
       "      <td>47</td>\n",
       "      <td>5.0</td>\n",
       "      <td>964983815</td>\n",
       "      <td>2000</td>\n",
       "      <td>2000-07-30 15:03:35</td>\n",
       "      <td>2000-07-30 19:03:35+00:00</td>\n",
       "    </tr>\n",
       "    <tr>\n",
       "      <th>4</th>\n",
       "      <td>1</td>\n",
       "      <td>50</td>\n",
       "      <td>5.0</td>\n",
       "      <td>964982931</td>\n",
       "      <td>2000</td>\n",
       "      <td>2000-07-30 14:48:51</td>\n",
       "      <td>2000-07-30 18:48:51+00:00</td>\n",
       "    </tr>\n",
       "  </tbody>\n",
       "</table>\n",
       "</div>"
      ],
      "text/plain": [
       "   userId  movieId  rating  timestamp  Year                  DT  \\\n",
       "0       1        1     4.0  964982703  2000 2000-07-30 14:45:03   \n",
       "1       1        3     4.0  964981247  2000 2000-07-30 14:20:47   \n",
       "2       1        6     4.0  964982224  2000 2000-07-30 14:37:04   \n",
       "3       1       47     5.0  964983815  2000 2000-07-30 15:03:35   \n",
       "4       1       50     5.0  964982931  2000 2000-07-30 14:48:51   \n",
       "\n",
       "                        DT2  \n",
       "0 2000-07-30 18:45:03+00:00  \n",
       "1 2000-07-30 18:20:47+00:00  \n",
       "2 2000-07-30 18:37:04+00:00  \n",
       "3 2000-07-30 19:03:35+00:00  \n",
       "4 2000-07-30 18:48:51+00:00  "
      ]
     },
     "execution_count": 29,
     "metadata": {},
     "output_type": "execute_result"
    }
   ],
   "source": [
    "# Ex: Use pd.to_datetime() to perform the conversion.\n",
    "\n",
    "ratings_df['DT2'] = pd.to_datetime(ratings_df['timestamp'], unit='s')\n",
    "ratings_df.head()\n",
    "# There is discrepency among the times. It is caused by different methods\n",
    "# of generating timestamps."
   ]
  },
  {
   "cell_type": "markdown",
   "metadata": {},
   "source": [
    "## 3. Save the processed ratings data\n",
    "\n",
    "Data can be saved in many different formats. Today we will save the processed rating data as a new CSV file."
   ]
  },
  {
   "cell_type": "code",
   "execution_count": 46,
   "metadata": {},
   "outputs": [],
   "source": [
    "# Save the processed data as a .csv file\n",
    "csv_file = \"mydata/ml-latest-small/ratings_processed.csv\"\n",
    "ratings_df.to_csv(csv_file)"
   ]
  },
  {
   "cell_type": "code",
   "execution_count": 7,
   "metadata": {
    "scrolled": true
   },
   "outputs": [
    {
     "data": {
      "text/html": [
       "<div>\n",
       "<style scoped>\n",
       "    .dataframe tbody tr th:only-of-type {\n",
       "        vertical-align: middle;\n",
       "    }\n",
       "\n",
       "    .dataframe tbody tr th {\n",
       "        vertical-align: top;\n",
       "    }\n",
       "\n",
       "    .dataframe thead th {\n",
       "        text-align: right;\n",
       "    }\n",
       "</style>\n",
       "<table border=\"1\" class=\"dataframe\">\n",
       "  <thead>\n",
       "    <tr style=\"text-align: right;\">\n",
       "      <th></th>\n",
       "      <th>userId</th>\n",
       "      <th>movieId</th>\n",
       "      <th>rating</th>\n",
       "      <th>timestamp</th>\n",
       "      <th>Year</th>\n",
       "      <th>DT</th>\n",
       "      <th>DT2</th>\n",
       "    </tr>\n",
       "  </thead>\n",
       "  <tbody>\n",
       "    <tr>\n",
       "      <th>0</th>\n",
       "      <td>1</td>\n",
       "      <td>1</td>\n",
       "      <td>4.0</td>\n",
       "      <td>964982703</td>\n",
       "      <td>2000</td>\n",
       "      <td>2000-07-30 14:45:03</td>\n",
       "      <td>2000-07-30 18:45:03+00:00</td>\n",
       "    </tr>\n",
       "    <tr>\n",
       "      <th>1</th>\n",
       "      <td>1</td>\n",
       "      <td>3</td>\n",
       "      <td>4.0</td>\n",
       "      <td>964981247</td>\n",
       "      <td>2000</td>\n",
       "      <td>2000-07-30 14:20:47</td>\n",
       "      <td>2000-07-30 18:20:47+00:00</td>\n",
       "    </tr>\n",
       "    <tr>\n",
       "      <th>2</th>\n",
       "      <td>1</td>\n",
       "      <td>6</td>\n",
       "      <td>4.0</td>\n",
       "      <td>964982224</td>\n",
       "      <td>2000</td>\n",
       "      <td>2000-07-30 14:37:04</td>\n",
       "      <td>2000-07-30 18:37:04+00:00</td>\n",
       "    </tr>\n",
       "    <tr>\n",
       "      <th>3</th>\n",
       "      <td>1</td>\n",
       "      <td>47</td>\n",
       "      <td>5.0</td>\n",
       "      <td>964983815</td>\n",
       "      <td>2000</td>\n",
       "      <td>2000-07-30 15:03:35</td>\n",
       "      <td>2000-07-30 19:03:35+00:00</td>\n",
       "    </tr>\n",
       "    <tr>\n",
       "      <th>4</th>\n",
       "      <td>1</td>\n",
       "      <td>50</td>\n",
       "      <td>5.0</td>\n",
       "      <td>964982931</td>\n",
       "      <td>2000</td>\n",
       "      <td>2000-07-30 14:48:51</td>\n",
       "      <td>2000-07-30 18:48:51+00:00</td>\n",
       "    </tr>\n",
       "  </tbody>\n",
       "</table>\n",
       "</div>"
      ],
      "text/plain": [
       "   userId  movieId  rating  timestamp  Year                   DT  \\\n",
       "0       1        1     4.0  964982703  2000  2000-07-30 14:45:03   \n",
       "1       1        3     4.0  964981247  2000  2000-07-30 14:20:47   \n",
       "2       1        6     4.0  964982224  2000  2000-07-30 14:37:04   \n",
       "3       1       47     5.0  964983815  2000  2000-07-30 15:03:35   \n",
       "4       1       50     5.0  964982931  2000  2000-07-30 14:48:51   \n",
       "\n",
       "                         DT2  \n",
       "0  2000-07-30 18:45:03+00:00  \n",
       "1  2000-07-30 18:20:47+00:00  \n",
       "2  2000-07-30 18:37:04+00:00  \n",
       "3  2000-07-30 19:03:35+00:00  \n",
       "4  2000-07-30 18:48:51+00:00  "
      ]
     },
     "execution_count": 7,
     "metadata": {},
     "output_type": "execute_result"
    }
   ],
   "source": [
    "# Ex: Load the saved file and display its first 5 rows.\n",
    "import pandas as pd\n",
    "ratings_df = pd.read_csv(\"mydata/ml-latest-small/ratings_processed.csv\",\n",
    "                         index_col=[0])\n",
    "ratings_df.head()"
   ]
  },
  {
   "cell_type": "markdown",
   "metadata": {},
   "source": [
    "## 4. Analyzing MovieLens Data\n",
    "- Distribution of movie ratings\n",
    "- Popular movies"
   ]
  },
  {
   "cell_type": "code",
   "execution_count": 8,
   "metadata": {},
   "outputs": [
    {
     "name": "stdout",
     "output_type": "stream",
     "text": [
      "4.0    26818\n",
      "3.0    20047\n",
      "5.0    13211\n",
      "3.5    13136\n",
      "4.5     8551\n",
      "2.0     7551\n",
      "2.5     5550\n",
      "1.0     2811\n",
      "1.5     1791\n",
      "0.5     1370\n",
      "Name: rating, dtype: int64\n"
     ]
    }
   ],
   "source": [
    "# Use value_counts() to find the rating frequencies\n",
    "rating_frequencies = ratings_df['rating'].value_counts()\n",
    "print(rating_frequencies)"
   ]
  },
  {
   "cell_type": "code",
   "execution_count": 9,
   "metadata": {},
   "outputs": [
    {
     "name": "stdout",
     "output_type": "stream",
     "text": [
      "5.0    13211\n",
      "4.5     8551\n",
      "4.0    26818\n",
      "3.5    13136\n",
      "3.0    20047\n",
      "2.5     5550\n",
      "2.0     7551\n",
      "1.5     1791\n",
      "1.0     2811\n",
      "0.5     1370\n",
      "Name: rating, dtype: int64\n"
     ]
    }
   ],
   "source": [
    "# Find sorted the rating frequencies\n",
    "rating_frequencies = ratings_df['rating'].value_counts().sort_index(ascending=False)\n",
    "print(rating_frequencies)"
   ]
  },
  {
   "cell_type": "code",
   "execution_count": 10,
   "metadata": {},
   "outputs": [
    {
     "data": {
      "text/plain": [
       "<AxesSubplot:>"
      ]
     },
     "execution_count": 10,
     "metadata": {},
     "output_type": "execute_result"
    },
    {
     "data": {
      "image/png": "[encoded data removed]",
      "text/plain": [
       "<Figure size 640x480 with 1 Axes>"
      ]
     },
     "metadata": {},
     "output_type": "display_data"
    }
   ],
   "source": [
    "# Visualize rating frequencies as a histogram\n",
    "ratings_df['rating'].hist()"
   ]
  },
  {
   "cell_type": "code",
   "execution_count": 14,
   "metadata": {},
   "outputs": [
    {
     "name": "stdout",
     "output_type": "stream",
     "text": [
      "Earliest year of rating: 1996\n",
      "Latest year of rating: 2018\n",
      "The entire set of years:\n",
      " 1996     6040\n",
      "1997     1916\n",
      "1998      507\n",
      "1999     2439\n",
      "2000    10061\n",
      "2001     3922\n",
      "2002     3478\n",
      "2003     4014\n",
      "2004     3279\n",
      "2005     5813\n",
      "2006     4062\n",
      "2007     7111\n",
      "2008     4375\n",
      "2009     4134\n",
      "2010     2301\n",
      "2011     1690\n",
      "2012     4656\n",
      "2013     1664\n",
      "2014     1439\n",
      "2015     6616\n",
      "2016     6703\n",
      "2017     8203\n",
      "2018     6413\n",
      "Name: Year, dtype: int64\n"
     ]
    }
   ],
   "source": [
    "# When were these ratings created?\n",
    "import numpy as np\n",
    "\n",
    "print(\"Earliest year of rating:\", ratings_df['Year'].min())\n",
    "\n",
    "print(\"Latest year of rating:\", np.max(ratings_df['Year'])) # .max() also works\n",
    "\n",
    "print(\"The entire set of years:\\n\", ratings_df['Year'].value_counts().sort_index())"
   ]
  },
  {
   "cell_type": "code",
   "execution_count": 15,
   "metadata": {
    "scrolled": true
   },
   "outputs": [
    {
     "data": {
      "text/html": [
       "<div>\n",
       "<style scoped>\n",
       "    .dataframe tbody tr th:only-of-type {\n",
       "        vertical-align: middle;\n",
       "    }\n",
       "\n",
       "    .dataframe tbody tr th {\n",
       "        vertical-align: top;\n",
       "    }\n",
       "\n",
       "    .dataframe thead th {\n",
       "        text-align: right;\n",
       "    }\n",
       "</style>\n",
       "<table border=\"1\" class=\"dataframe\">\n",
       "  <thead>\n",
       "    <tr style=\"text-align: right;\">\n",
       "      <th></th>\n",
       "      <th>userId</th>\n",
       "      <th>movieId</th>\n",
       "      <th>rating</th>\n",
       "      <th>timestamp</th>\n",
       "      <th>Year</th>\n",
       "      <th>DT</th>\n",
       "      <th>DT2</th>\n",
       "    </tr>\n",
       "  </thead>\n",
       "  <tbody>\n",
       "    <tr>\n",
       "      <th>1839</th>\n",
       "      <td>18</td>\n",
       "      <td>913</td>\n",
       "      <td>4.0</td>\n",
       "      <td>1517525849</td>\n",
       "      <td>2018</td>\n",
       "      <td>2018-02-01 17:57:29</td>\n",
       "      <td>2018-02-01 22:57:29+00:00</td>\n",
       "    </tr>\n",
       "    <tr>\n",
       "      <th>1852</th>\n",
       "      <td>18</td>\n",
       "      <td>1193</td>\n",
       "      <td>4.5</td>\n",
       "      <td>1517686025</td>\n",
       "      <td>2018</td>\n",
       "      <td>2018-02-03 14:27:05</td>\n",
       "      <td>2018-02-03 19:27:05+00:00</td>\n",
       "    </tr>\n",
       "    <tr>\n",
       "      <th>1980</th>\n",
       "      <td>18</td>\n",
       "      <td>5120</td>\n",
       "      <td>4.5</td>\n",
       "      <td>1516054115</td>\n",
       "      <td>2018</td>\n",
       "      <td>2018-01-15 17:08:35</td>\n",
       "      <td>2018-01-15 22:08:35+00:00</td>\n",
       "    </tr>\n",
       "    <tr>\n",
       "      <th>2012</th>\n",
       "      <td>18</td>\n",
       "      <td>6787</td>\n",
       "      <td>4.0</td>\n",
       "      <td>1534020896</td>\n",
       "      <td>2018</td>\n",
       "      <td>2018-08-11 16:54:56</td>\n",
       "      <td>2018-08-11 20:54:56+00:00</td>\n",
       "    </tr>\n",
       "    <tr>\n",
       "      <th>2053</th>\n",
       "      <td>18</td>\n",
       "      <td>27878</td>\n",
       "      <td>4.5</td>\n",
       "      <td>1526159893</td>\n",
       "      <td>2018</td>\n",
       "      <td>2018-05-12 17:18:13</td>\n",
       "      <td>2018-05-12 21:18:13+00:00</td>\n",
       "    </tr>\n",
       "  </tbody>\n",
       "</table>\n",
       "</div>"
      ],
      "text/plain": [
       "      userId  movieId  rating   timestamp  Year                   DT  \\\n",
       "1839      18      913     4.0  1517525849  2018  2018-02-01 17:57:29   \n",
       "1852      18     1193     4.5  1517686025  2018  2018-02-03 14:27:05   \n",
       "1980      18     5120     4.5  1516054115  2018  2018-01-15 17:08:35   \n",
       "2012      18     6787     4.0  1534020896  2018  2018-08-11 16:54:56   \n",
       "2053      18    27878     4.5  1526159893  2018  2018-05-12 17:18:13   \n",
       "\n",
       "                            DT2  \n",
       "1839  2018-02-01 22:57:29+00:00  \n",
       "1852  2018-02-03 19:27:05+00:00  \n",
       "1980  2018-01-15 22:08:35+00:00  \n",
       "2012  2018-08-11 20:54:56+00:00  \n",
       "2053  2018-05-12 21:18:13+00:00  "
      ]
     },
     "execution_count": 15,
     "metadata": {},
     "output_type": "execute_result"
    }
   ],
   "source": [
    "# How are rating frequencies distributed in 2018?\n",
    "\n",
    "# Create a filter in two steps\n",
    "filter_2018 = (ratings_df['Year'] == 2018)\n",
    "# print(filter_2018)\n",
    "ratings_2018 = ratings_df[filter_2018]\n",
    "ratings_2018.head()"
   ]
  },
  {
   "cell_type": "code",
   "execution_count": 16,
   "metadata": {},
   "outputs": [
    {
     "data": {
      "text/html": [
       "<div>\n",
       "<style scoped>\n",
       "    .dataframe tbody tr th:only-of-type {\n",
       "        vertical-align: middle;\n",
       "    }\n",
       "\n",
       "    .dataframe tbody tr th {\n",
       "        vertical-align: top;\n",
       "    }\n",
       "\n",
       "    .dataframe thead th {\n",
       "        text-align: right;\n",
       "    }\n",
       "</style>\n",
       "<table border=\"1\" class=\"dataframe\">\n",
       "  <thead>\n",
       "    <tr style=\"text-align: right;\">\n",
       "      <th></th>\n",
       "      <th>userId</th>\n",
       "      <th>movieId</th>\n",
       "      <th>rating</th>\n",
       "      <th>timestamp</th>\n",
       "      <th>Year</th>\n",
       "      <th>DT</th>\n",
       "      <th>DT2</th>\n",
       "    </tr>\n",
       "  </thead>\n",
       "  <tbody>\n",
       "    <tr>\n",
       "      <th>1839</th>\n",
       "      <td>18</td>\n",
       "      <td>913</td>\n",
       "      <td>4.0</td>\n",
       "      <td>1517525849</td>\n",
       "      <td>2018</td>\n",
       "      <td>2018-02-01 17:57:29</td>\n",
       "      <td>2018-02-01 22:57:29+00:00</td>\n",
       "    </tr>\n",
       "    <tr>\n",
       "      <th>1852</th>\n",
       "      <td>18</td>\n",
       "      <td>1193</td>\n",
       "      <td>4.5</td>\n",
       "      <td>1517686025</td>\n",
       "      <td>2018</td>\n",
       "      <td>2018-02-03 14:27:05</td>\n",
       "      <td>2018-02-03 19:27:05+00:00</td>\n",
       "    </tr>\n",
       "    <tr>\n",
       "      <th>1980</th>\n",
       "      <td>18</td>\n",
       "      <td>5120</td>\n",
       "      <td>4.5</td>\n",
       "      <td>1516054115</td>\n",
       "      <td>2018</td>\n",
       "      <td>2018-01-15 17:08:35</td>\n",
       "      <td>2018-01-15 22:08:35+00:00</td>\n",
       "    </tr>\n",
       "    <tr>\n",
       "      <th>2012</th>\n",
       "      <td>18</td>\n",
       "      <td>6787</td>\n",
       "      <td>4.0</td>\n",
       "      <td>1534020896</td>\n",
       "      <td>2018</td>\n",
       "      <td>2018-08-11 16:54:56</td>\n",
       "      <td>2018-08-11 20:54:56+00:00</td>\n",
       "    </tr>\n",
       "    <tr>\n",
       "      <th>2053</th>\n",
       "      <td>18</td>\n",
       "      <td>27878</td>\n",
       "      <td>4.5</td>\n",
       "      <td>1526159893</td>\n",
       "      <td>2018</td>\n",
       "      <td>2018-05-12 17:18:13</td>\n",
       "      <td>2018-05-12 21:18:13+00:00</td>\n",
       "    </tr>\n",
       "  </tbody>\n",
       "</table>\n",
       "</div>"
      ],
      "text/plain": [
       "      userId  movieId  rating   timestamp  Year                   DT  \\\n",
       "1839      18      913     4.0  1517525849  2018  2018-02-01 17:57:29   \n",
       "1852      18     1193     4.5  1517686025  2018  2018-02-03 14:27:05   \n",
       "1980      18     5120     4.5  1516054115  2018  2018-01-15 17:08:35   \n",
       "2012      18     6787     4.0  1534020896  2018  2018-08-11 16:54:56   \n",
       "2053      18    27878     4.5  1526159893  2018  2018-05-12 17:18:13   \n",
       "\n",
       "                            DT2  \n",
       "1839  2018-02-01 22:57:29+00:00  \n",
       "1852  2018-02-03 19:27:05+00:00  \n",
       "1980  2018-01-15 22:08:35+00:00  \n",
       "2012  2018-08-11 20:54:56+00:00  \n",
       "2053  2018-05-12 21:18:13+00:00  "
      ]
     },
     "execution_count": 16,
     "metadata": {},
     "output_type": "execute_result"
    }
   ],
   "source": [
    "# Create a filter in one step:\n",
    "ratings_2018 = ratings_df[ratings_df['Year'] == 2018]\n",
    "ratings_2018.head()"
   ]
  },
  {
   "cell_type": "code",
   "execution_count": 17,
   "metadata": {},
   "outputs": [
    {
     "data": {
      "text/plain": [
       "<AxesSubplot:>"
      ]
     },
     "execution_count": 17,
     "metadata": {},
     "output_type": "execute_result"
    },
    {
     "data": {
      "image/png": "[encoded data removed]",
      "text/plain": [
       "<Figure size 640x480 with 1 Axes>"
      ]
     },
     "metadata": {},
     "output_type": "display_data"
    }
   ],
   "source": [
    "ratings_2018['rating'].hist()"
   ]
  },
  {
   "cell_type": "code",
   "execution_count": 21,
   "metadata": {},
   "outputs": [
    {
     "data": {
      "text/plain": [
       "<AxesSubplot:>"
      ]
     },
     "execution_count": 21,
     "metadata": {},
     "output_type": "execute_result"
    },
    {
     "data": {
      "image/png": "[encoded data removed]",
      "text/plain": [
       "<Figure size 640x480 with 1 Axes>"
      ]
     },
     "metadata": {},
     "output_type": "display_data"
    }
   ],
   "source": [
    "# Ex: How are rating frequencies distributed in 1998?\n",
    "\n",
    "ratings_1998 = ratings_df[ratings_df['Year'] == 1998]\n",
    "# ratings_1998['Year'].value_counts()\n",
    "ratings_1998['rating'].hist()"
   ]
  },
  {
   "cell_type": "code",
   "execution_count": 22,
   "metadata": {},
   "outputs": [
    {
     "data": {
      "text/plain": [
       "<AxesSubplot:>"
      ]
     },
     "execution_count": 22,
     "metadata": {},
     "output_type": "execute_result"
    },
    {
     "data": {
      "image/png": "[encoded data removed]",
      "text/plain": [
       "<Figure size 640x480 with 1 Axes>"
      ]
     },
     "metadata": {},
     "output_type": "display_data"
    }
   ],
   "source": [
    "# To make the plot look nicer, let's create a bar plot on the frequencies\n",
    "ratings_1998['rating'].value_counts().sort_index().plot.bar()"
   ]
  },
  {
   "cell_type": "markdown",
   "metadata": {},
   "source": [
    "Next, let's identify some popular movies."
   ]
  },
  {
   "cell_type": "code",
   "execution_count": null,
   "metadata": {},
   "outputs": [],
   "source": [
    "ratings_df.head()"
   ]
  },
  {
   "cell_type": "code",
   "execution_count": 26,
   "metadata": {},
   "outputs": [
    {
     "data": {
      "text/plain": [
       "44"
      ]
     },
     "execution_count": 26,
     "metadata": {},
     "output_type": "execute_result"
    }
   ],
   "source": [
    "# Warm-up: Find out how many ratings are given to movie 913\n",
    "\n",
    "# Step 1: Extract all records relevant to movie 913\n",
    "movie913 = ratings_df[ratings_df['movieId'] == 913]\n",
    "movie913.head()\n",
    "\n",
    "# Step 2: Count the number of ratings\n",
    "movie913.shape[0]"
   ]
  },
  {
   "cell_type": "code",
   "execution_count": 27,
   "metadata": {},
   "outputs": [
    {
     "data": {
      "text/plain": [
       "356       329\n",
       "318       317\n",
       "296       307\n",
       "593       279\n",
       "2571      278\n",
       "         ... \n",
       "86279       1\n",
       "86922       1\n",
       "5962        1\n",
       "87660       1\n",
       "163981      1\n",
       "Name: movieId, Length: 9724, dtype: int64"
      ]
     },
     "execution_count": 27,
     "metadata": {},
     "output_type": "execute_result"
    }
   ],
   "source": [
    "# Compute the number of ratings given to each movie.\n",
    "ratings_df['movieId'].value_counts()"
   ]
  },
  {
   "cell_type": "code",
   "execution_count": 29,
   "metadata": {},
   "outputs": [
    {
     "data": {
      "text/plain": [
       "356"
      ]
     },
     "execution_count": 29,
     "metadata": {},
     "output_type": "execute_result"
    }
   ],
   "source": [
    "# Ex: Which movie received the highest number of ratings?\n",
    "\n",
    "ratings_df['movieId'].value_counts()"
   ]
  },
  {
   "cell_type": "code",
   "execution_count": null,
   "metadata": {},
   "outputs": [],
   "source": [
    "# Ex: Which movies received the largest number of 5.0s?\n",
    "\n",
    "\n"
   ]
  },
  {
   "cell_type": "code",
   "execution_count": 30,
   "metadata": {},
   "outputs": [
    {
     "data": {
      "text/html": [
       "<div>\n",
       "<style scoped>\n",
       "    .dataframe tbody tr th:only-of-type {\n",
       "        vertical-align: middle;\n",
       "    }\n",
       "\n",
       "    .dataframe tbody tr th {\n",
       "        vertical-align: top;\n",
       "    }\n",
       "\n",
       "    .dataframe thead th {\n",
       "        text-align: right;\n",
       "    }\n",
       "</style>\n",
       "<table border=\"1\" class=\"dataframe\">\n",
       "  <thead>\n",
       "    <tr style=\"text-align: right;\">\n",
       "      <th></th>\n",
       "      <th>movieId</th>\n",
       "      <th>title</th>\n",
       "      <th>genres</th>\n",
       "    </tr>\n",
       "  </thead>\n",
       "  <tbody>\n",
       "    <tr>\n",
       "      <th>0</th>\n",
       "      <td>1</td>\n",
       "      <td>Toy Story (1995)</td>\n",
       "      <td>Adventure|Animation|Children|Comedy|Fantasy</td>\n",
       "    </tr>\n",
       "    <tr>\n",
       "      <th>1</th>\n",
       "      <td>2</td>\n",
       "      <td>Jumanji (1995)</td>\n",
       "      <td>Adventure|Children|Fantasy</td>\n",
       "    </tr>\n",
       "    <tr>\n",
       "      <th>2</th>\n",
       "      <td>3</td>\n",
       "      <td>Grumpier Old Men (1995)</td>\n",
       "      <td>Comedy|Romance</td>\n",
       "    </tr>\n",
       "    <tr>\n",
       "      <th>3</th>\n",
       "      <td>4</td>\n",
       "      <td>Waiting to Exhale (1995)</td>\n",
       "      <td>Comedy|Drama|Romance</td>\n",
       "    </tr>\n",
       "    <tr>\n",
       "      <th>4</th>\n",
       "      <td>5</td>\n",
       "      <td>Father of the Bride Part II (1995)</td>\n",
       "      <td>Comedy</td>\n",
       "    </tr>\n",
       "  </tbody>\n",
       "</table>\n",
       "</div>"
      ],
      "text/plain": [
       "   movieId                               title  \\\n",
       "0        1                    Toy Story (1995)   \n",
       "1        2                      Jumanji (1995)   \n",
       "2        3             Grumpier Old Men (1995)   \n",
       "3        4            Waiting to Exhale (1995)   \n",
       "4        5  Father of the Bride Part II (1995)   \n",
       "\n",
       "                                        genres  \n",
       "0  Adventure|Animation|Children|Comedy|Fantasy  \n",
       "1                   Adventure|Children|Fantasy  \n",
       "2                               Comedy|Romance  \n",
       "3                         Comedy|Drama|Romance  \n",
       "4                                       Comedy  "
      ]
     },
     "execution_count": 30,
     "metadata": {},
     "output_type": "execute_result"
    }
   ],
   "source": [
    "# What is the name of the movie? (The answer requires another data file.)\n",
    "\n",
    "# Load movies.csv\n",
    "movies_df = pd.read_csv('mydata/ml-latest-small/movies.csv')\n",
    "movies_df.head()"
   ]
  },
  {
   "cell_type": "code",
   "execution_count": 32,
   "metadata": {},
   "outputs": [
    {
     "data": {
      "text/html": [
       "<div>\n",
       "<style scoped>\n",
       "    .dataframe tbody tr th:only-of-type {\n",
       "        vertical-align: middle;\n",
       "    }\n",
       "\n",
       "    .dataframe tbody tr th {\n",
       "        vertical-align: top;\n",
       "    }\n",
       "\n",
       "    .dataframe thead th {\n",
       "        text-align: right;\n",
       "    }\n",
       "</style>\n",
       "<table border=\"1\" class=\"dataframe\">\n",
       "  <thead>\n",
       "    <tr style=\"text-align: right;\">\n",
       "      <th></th>\n",
       "      <th>movieId</th>\n",
       "      <th>title</th>\n",
       "      <th>genres</th>\n",
       "    </tr>\n",
       "  </thead>\n",
       "  <tbody>\n",
       "    <tr>\n",
       "      <th>314</th>\n",
       "      <td>356</td>\n",
       "      <td>Forrest Gump (1994)</td>\n",
       "      <td>Comedy|Drama|Romance|War</td>\n",
       "    </tr>\n",
       "  </tbody>\n",
       "</table>\n",
       "</div>"
      ],
      "text/plain": [
       "     movieId                title                    genres\n",
       "314      356  Forrest Gump (1994)  Comedy|Drama|Romance|War"
      ]
     },
     "execution_count": 32,
     "metadata": {},
     "output_type": "execute_result"
    }
   ],
   "source": [
    "# Ex: Find out the title corresponding to the movies with high number of ratings.\n",
    "\n",
    "movies_df[movies_df['movieId'] == 356]"
   ]
  },
  {
   "cell_type": "code",
   "execution_count": 36,
   "metadata": {},
   "outputs": [
    {
     "name": "stdout",
     "output_type": "stream",
     "text": [
      "IDs for top 5 most rated movies: [356, 318, 296, 593, 2571]\n"
     ]
    },
    {
     "data": {
      "text/html": [
       "<div>\n",
       "<style scoped>\n",
       "    .dataframe tbody tr th:only-of-type {\n",
       "        vertical-align: middle;\n",
       "    }\n",
       "\n",
       "    .dataframe tbody tr th {\n",
       "        vertical-align: top;\n",
       "    }\n",
       "\n",
       "    .dataframe thead th {\n",
       "        text-align: right;\n",
       "    }\n",
       "</style>\n",
       "<table border=\"1\" class=\"dataframe\">\n",
       "  <thead>\n",
       "    <tr style=\"text-align: right;\">\n",
       "      <th></th>\n",
       "      <th>movieId</th>\n",
       "      <th>title</th>\n",
       "      <th>genres</th>\n",
       "    </tr>\n",
       "  </thead>\n",
       "  <tbody>\n",
       "    <tr>\n",
       "      <th>257</th>\n",
       "      <td>296</td>\n",
       "      <td>Pulp Fiction (1994)</td>\n",
       "      <td>Comedy|Crime|Drama|Thriller</td>\n",
       "    </tr>\n",
       "    <tr>\n",
       "      <th>277</th>\n",
       "      <td>318</td>\n",
       "      <td>Shawshank Redemption, The (1994)</td>\n",
       "      <td>Crime|Drama</td>\n",
       "    </tr>\n",
       "    <tr>\n",
       "      <th>314</th>\n",
       "      <td>356</td>\n",
       "      <td>Forrest Gump (1994)</td>\n",
       "      <td>Comedy|Drama|Romance|War</td>\n",
       "    </tr>\n",
       "    <tr>\n",
       "      <th>510</th>\n",
       "      <td>593</td>\n",
       "      <td>Silence of the Lambs, The (1991)</td>\n",
       "      <td>Crime|Horror|Thriller</td>\n",
       "    </tr>\n",
       "    <tr>\n",
       "      <th>1939</th>\n",
       "      <td>2571</td>\n",
       "      <td>Matrix, The (1999)</td>\n",
       "      <td>Action|Sci-Fi|Thriller</td>\n",
       "    </tr>\n",
       "  </tbody>\n",
       "</table>\n",
       "</div>"
      ],
      "text/plain": [
       "      movieId                             title                       genres\n",
       "257       296               Pulp Fiction (1994)  Comedy|Crime|Drama|Thriller\n",
       "277       318  Shawshank Redemption, The (1994)                  Crime|Drama\n",
       "314       356               Forrest Gump (1994)     Comedy|Drama|Romance|War\n",
       "510       593  Silence of the Lambs, The (1991)        Crime|Horror|Thriller\n",
       "1939     2571                Matrix, The (1999)       Action|Sci-Fi|Thriller"
      ]
     },
     "execution_count": 36,
     "metadata": {},
     "output_type": "execute_result"
    }
   ],
   "source": [
    "# Find out the names of top 5 most rated movies\n",
    "ids = ratings_df['movieId'].value_counts().index[:5]\n",
    "print(\"IDs for top 5 most rated movies:\", list(ids))\n",
    "movies_df[movies_df['movieId'].isin(ids)]"
   ]
  },
  {
   "cell_type": "code",
   "execution_count": 49,
   "metadata": {},
   "outputs": [
    {
     "data": {
      "text/html": [
       "<div>\n",
       "<style scoped>\n",
       "    .dataframe tbody tr th:only-of-type {\n",
       "        vertical-align: middle;\n",
       "    }\n",
       "\n",
       "    .dataframe tbody tr th {\n",
       "        vertical-align: top;\n",
       "    }\n",
       "\n",
       "    .dataframe thead th {\n",
       "        text-align: right;\n",
       "    }\n",
       "</style>\n",
       "<table border=\"1\" class=\"dataframe\">\n",
       "  <thead>\n",
       "    <tr style=\"text-align: right;\">\n",
       "      <th></th>\n",
       "      <th>movieId</th>\n",
       "      <th>title</th>\n",
       "      <th>genres</th>\n",
       "    </tr>\n",
       "  </thead>\n",
       "  <tbody>\n",
       "    <tr>\n",
       "      <th>224</th>\n",
       "      <td>260</td>\n",
       "      <td>Star Wars: Episode IV - A New Hope (1977)</td>\n",
       "      <td>Action|Adventure|Sci-Fi</td>\n",
       "    </tr>\n",
       "    <tr>\n",
       "      <th>257</th>\n",
       "      <td>296</td>\n",
       "      <td>Pulp Fiction (1994)</td>\n",
       "      <td>Comedy|Crime|Drama|Thriller</td>\n",
       "    </tr>\n",
       "    <tr>\n",
       "      <th>277</th>\n",
       "      <td>318</td>\n",
       "      <td>Shawshank Redemption, The (1994)</td>\n",
       "      <td>Crime|Drama</td>\n",
       "    </tr>\n",
       "    <tr>\n",
       "      <th>314</th>\n",
       "      <td>356</td>\n",
       "      <td>Forrest Gump (1994)</td>\n",
       "      <td>Comedy|Drama|Romance|War</td>\n",
       "    </tr>\n",
       "    <tr>\n",
       "      <th>461</th>\n",
       "      <td>527</td>\n",
       "      <td>Schindler's List (1993)</td>\n",
       "      <td>Drama|War</td>\n",
       "    </tr>\n",
       "    <tr>\n",
       "      <th>510</th>\n",
       "      <td>593</td>\n",
       "      <td>Silence of the Lambs, The (1991)</td>\n",
       "      <td>Crime|Horror|Thriller</td>\n",
       "    </tr>\n",
       "    <tr>\n",
       "      <th>659</th>\n",
       "      <td>858</td>\n",
       "      <td>Godfather, The (1972)</td>\n",
       "      <td>Crime|Drama</td>\n",
       "    </tr>\n",
       "    <tr>\n",
       "      <th>898</th>\n",
       "      <td>1196</td>\n",
       "      <td>Star Wars: Episode V - The Empire Strikes Back...</td>\n",
       "      <td>Action|Adventure|Sci-Fi</td>\n",
       "    </tr>\n",
       "    <tr>\n",
       "      <th>1939</th>\n",
       "      <td>2571</td>\n",
       "      <td>Matrix, The (1999)</td>\n",
       "      <td>Action|Sci-Fi|Thriller</td>\n",
       "    </tr>\n",
       "    <tr>\n",
       "      <th>2226</th>\n",
       "      <td>2959</td>\n",
       "      <td>Fight Club (1999)</td>\n",
       "      <td>Action|Crime|Drama|Thriller</td>\n",
       "    </tr>\n",
       "  </tbody>\n",
       "</table>\n",
       "</div>"
      ],
      "text/plain": [
       "      movieId                                              title  \\\n",
       "224       260          Star Wars: Episode IV - A New Hope (1977)   \n",
       "257       296                                Pulp Fiction (1994)   \n",
       "277       318                   Shawshank Redemption, The (1994)   \n",
       "314       356                                Forrest Gump (1994)   \n",
       "461       527                            Schindler's List (1993)   \n",
       "510       593                   Silence of the Lambs, The (1991)   \n",
       "659       858                              Godfather, The (1972)   \n",
       "898      1196  Star Wars: Episode V - The Empire Strikes Back...   \n",
       "1939     2571                                 Matrix, The (1999)   \n",
       "2226     2959                                  Fight Club (1999)   \n",
       "\n",
       "                           genres  \n",
       "224       Action|Adventure|Sci-Fi  \n",
       "257   Comedy|Crime|Drama|Thriller  \n",
       "277                   Crime|Drama  \n",
       "314      Comedy|Drama|Romance|War  \n",
       "461                     Drama|War  \n",
       "510         Crime|Horror|Thriller  \n",
       "659                   Crime|Drama  \n",
       "898       Action|Adventure|Sci-Fi  \n",
       "1939       Action|Sci-Fi|Thriller  \n",
       "2226  Action|Crime|Drama|Thriller  "
      ]
     },
     "execution_count": 49,
     "metadata": {},
     "output_type": "execute_result"
    }
   ],
   "source": [
    "# Which movie receives the most 5.0s?\n",
    "\n",
    "# Step 1: Extract all 5.0 ratings\n",
    "best_ratings = ratings_df[ratings_df['rating'] == 5.0]\n",
    "# best_ratings.head()\n",
    "# Step 2: Compute the frequences with respect to movieId\n",
    "ids = best_ratings['movieId'].value_counts().index[0:10]\n",
    "# print(ids)\n",
    "# Step 3: Find the title of movies of interest\n",
    "result = movies_df[movies_df['movieId'].isin(ids)].copy()\n",
    "# result.loc[:, '# of 5.0 ratings'] = \\\n",
    "#     best_ratings['movieId'].value_counts().values[0:1]\n",
    "result"
   ]
  },
  {
   "cell_type": "code",
   "execution_count": 51,
   "metadata": {},
   "outputs": [
    {
     "data": {
      "text/plain": [
       "4.192446043165468"
      ]
     },
     "execution_count": 51,
     "metadata": {},
     "output_type": "execute_result"
    }
   ],
   "source": [
    "# Warm-up: Calculate the average rating of 2571: The Matrix.\n",
    "\n",
    "# Step 1: Extract all ratings given to this movie\n",
    "movie2571 = ratings_df[ratings_df['movieId'] == 2571]\n",
    "# movie2571.head()\n",
    "# Step 2: Use the mean() method to calculate the average rating\n",
    "movie2571['rating'].mean()"
   ]
  },
  {
   "cell_type": "code",
   "execution_count": 60,
   "metadata": {},
   "outputs": [],
   "source": [
    "# Which movie has the highest average rating?\n",
    "\n",
    "for row_index in movies_df.index:\n",
    "    idx = movies_df.loc[row_index, 'movieId']\n",
    "#     print(\"Calculating for movie:\", idx)\n",
    "    movie_idx = ratings_df[ratings_df['movieId'] == idx]\n",
    "    avg = movie_idx['rating'].mean()\n",
    "    count = movie_idx.shape[0]\n",
    "#     print(\"Average rating of this movie:\", avg)\n",
    "    # Append the average rating to the movies data frame\n",
    "    movies_df.loc[row_index, 'Average Rating'] = avg\n",
    "    movies_df.loc[row_index, 'Number of Ratings'] = count"
   ]
  },
  {
   "cell_type": "code",
   "execution_count": 61,
   "metadata": {},
   "outputs": [
    {
     "data": {
      "text/html": [
       "<div>\n",
       "<style scoped>\n",
       "    .dataframe tbody tr th:only-of-type {\n",
       "        vertical-align: middle;\n",
       "    }\n",
       "\n",
       "    .dataframe tbody tr th {\n",
       "        vertical-align: top;\n",
       "    }\n",
       "\n",
       "    .dataframe thead th {\n",
       "        text-align: right;\n",
       "    }\n",
       "</style>\n",
       "<table border=\"1\" class=\"dataframe\">\n",
       "  <thead>\n",
       "    <tr style=\"text-align: right;\">\n",
       "      <th></th>\n",
       "      <th>movieId</th>\n",
       "      <th>title</th>\n",
       "      <th>genres</th>\n",
       "      <th>Average Rating</th>\n",
       "      <th>Number of Ratings</th>\n",
       "    </tr>\n",
       "  </thead>\n",
       "  <tbody>\n",
       "    <tr>\n",
       "      <th>0</th>\n",
       "      <td>1</td>\n",
       "      <td>Toy Story (1995)</td>\n",
       "      <td>Adventure|Animation|Children|Comedy|Fantasy</td>\n",
       "      <td>3.920930</td>\n",
       "      <td>215.0</td>\n",
       "    </tr>\n",
       "    <tr>\n",
       "      <th>1</th>\n",
       "      <td>2</td>\n",
       "      <td>Jumanji (1995)</td>\n",
       "      <td>Adventure|Children|Fantasy</td>\n",
       "      <td>3.431818</td>\n",
       "      <td>110.0</td>\n",
       "    </tr>\n",
       "    <tr>\n",
       "      <th>2</th>\n",
       "      <td>3</td>\n",
       "      <td>Grumpier Old Men (1995)</td>\n",
       "      <td>Comedy|Romance</td>\n",
       "      <td>3.259615</td>\n",
       "      <td>52.0</td>\n",
       "    </tr>\n",
       "    <tr>\n",
       "      <th>3</th>\n",
       "      <td>4</td>\n",
       "      <td>Waiting to Exhale (1995)</td>\n",
       "      <td>Comedy|Drama|Romance</td>\n",
       "      <td>2.357143</td>\n",
       "      <td>7.0</td>\n",
       "    </tr>\n",
       "    <tr>\n",
       "      <th>4</th>\n",
       "      <td>5</td>\n",
       "      <td>Father of the Bride Part II (1995)</td>\n",
       "      <td>Comedy</td>\n",
       "      <td>3.071429</td>\n",
       "      <td>49.0</td>\n",
       "    </tr>\n",
       "  </tbody>\n",
       "</table>\n",
       "</div>"
      ],
      "text/plain": [
       "   movieId                               title  \\\n",
       "0        1                    Toy Story (1995)   \n",
       "1        2                      Jumanji (1995)   \n",
       "2        3             Grumpier Old Men (1995)   \n",
       "3        4            Waiting to Exhale (1995)   \n",
       "4        5  Father of the Bride Part II (1995)   \n",
       "\n",
       "                                        genres  Average Rating  \\\n",
       "0  Adventure|Animation|Children|Comedy|Fantasy        3.920930   \n",
       "1                   Adventure|Children|Fantasy        3.431818   \n",
       "2                               Comedy|Romance        3.259615   \n",
       "3                         Comedy|Drama|Romance        2.357143   \n",
       "4                                       Comedy        3.071429   \n",
       "\n",
       "   Number of Ratings  \n",
       "0              215.0  \n",
       "1              110.0  \n",
       "2               52.0  \n",
       "3                7.0  \n",
       "4               49.0  "
      ]
     },
     "execution_count": 61,
     "metadata": {},
     "output_type": "execute_result"
    }
   ],
   "source": [
    "movies_df.head()"
   ]
  },
  {
   "cell_type": "code",
   "execution_count": 63,
   "metadata": {},
   "outputs": [
    {
     "data": {
      "text/html": [
       "<div>\n",
       "<style scoped>\n",
       "    .dataframe tbody tr th:only-of-type {\n",
       "        vertical-align: middle;\n",
       "    }\n",
       "\n",
       "    .dataframe tbody tr th {\n",
       "        vertical-align: top;\n",
       "    }\n",
       "\n",
       "    .dataframe thead th {\n",
       "        text-align: right;\n",
       "    }\n",
       "</style>\n",
       "<table border=\"1\" class=\"dataframe\">\n",
       "  <thead>\n",
       "    <tr style=\"text-align: right;\">\n",
       "      <th></th>\n",
       "      <th>movieId</th>\n",
       "      <th>title</th>\n",
       "      <th>genres</th>\n",
       "      <th>Average Rating</th>\n",
       "      <th>Number of Ratings</th>\n",
       "    </tr>\n",
       "  </thead>\n",
       "  <tbody>\n",
       "    <tr>\n",
       "      <th>277</th>\n",
       "      <td>318</td>\n",
       "      <td>Shawshank Redemption, The (1994)</td>\n",
       "      <td>Crime|Drama</td>\n",
       "      <td>4.429022</td>\n",
       "      <td>317.0</td>\n",
       "    </tr>\n",
       "    <tr>\n",
       "      <th>659</th>\n",
       "      <td>858</td>\n",
       "      <td>Godfather, The (1972)</td>\n",
       "      <td>Crime|Drama</td>\n",
       "      <td>4.289062</td>\n",
       "      <td>192.0</td>\n",
       "    </tr>\n",
       "    <tr>\n",
       "      <th>2226</th>\n",
       "      <td>2959</td>\n",
       "      <td>Fight Club (1999)</td>\n",
       "      <td>Action|Crime|Drama|Thriller</td>\n",
       "      <td>4.272936</td>\n",
       "      <td>218.0</td>\n",
       "    </tr>\n",
       "    <tr>\n",
       "      <th>922</th>\n",
       "      <td>1221</td>\n",
       "      <td>Godfather: Part II, The (1974)</td>\n",
       "      <td>Crime|Drama</td>\n",
       "      <td>4.259690</td>\n",
       "      <td>129.0</td>\n",
       "    </tr>\n",
       "    <tr>\n",
       "      <th>6315</th>\n",
       "      <td>48516</td>\n",
       "      <td>Departed, The (2006)</td>\n",
       "      <td>Crime|Drama|Thriller</td>\n",
       "      <td>4.252336</td>\n",
       "      <td>107.0</td>\n",
       "    </tr>\n",
       "    <tr>\n",
       "      <th>914</th>\n",
       "      <td>1213</td>\n",
       "      <td>Goodfellas (1990)</td>\n",
       "      <td>Crime|Drama</td>\n",
       "      <td>4.250000</td>\n",
       "      <td>126.0</td>\n",
       "    </tr>\n",
       "    <tr>\n",
       "      <th>6710</th>\n",
       "      <td>58559</td>\n",
       "      <td>Dark Knight, The (2008)</td>\n",
       "      <td>Action|Crime|Drama|IMAX</td>\n",
       "      <td>4.238255</td>\n",
       "      <td>149.0</td>\n",
       "    </tr>\n",
       "    <tr>\n",
       "      <th>46</th>\n",
       "      <td>50</td>\n",
       "      <td>Usual Suspects, The (1995)</td>\n",
       "      <td>Crime|Mystery|Thriller</td>\n",
       "      <td>4.237745</td>\n",
       "      <td>204.0</td>\n",
       "    </tr>\n",
       "    <tr>\n",
       "      <th>899</th>\n",
       "      <td>1197</td>\n",
       "      <td>Princess Bride, The (1987)</td>\n",
       "      <td>Action|Adventure|Comedy|Fantasy|Romance</td>\n",
       "      <td>4.232394</td>\n",
       "      <td>142.0</td>\n",
       "    </tr>\n",
       "    <tr>\n",
       "      <th>224</th>\n",
       "      <td>260</td>\n",
       "      <td>Star Wars: Episode IV - A New Hope (1977)</td>\n",
       "      <td>Action|Adventure|Sci-Fi</td>\n",
       "      <td>4.231076</td>\n",
       "      <td>251.0</td>\n",
       "    </tr>\n",
       "  </tbody>\n",
       "</table>\n",
       "</div>"
      ],
      "text/plain": [
       "      movieId                                      title  \\\n",
       "277       318           Shawshank Redemption, The (1994)   \n",
       "659       858                      Godfather, The (1972)   \n",
       "2226     2959                          Fight Club (1999)   \n",
       "922      1221             Godfather: Part II, The (1974)   \n",
       "6315    48516                       Departed, The (2006)   \n",
       "914      1213                          Goodfellas (1990)   \n",
       "6710    58559                    Dark Knight, The (2008)   \n",
       "46         50                 Usual Suspects, The (1995)   \n",
       "899      1197                 Princess Bride, The (1987)   \n",
       "224       260  Star Wars: Episode IV - A New Hope (1977)   \n",
       "\n",
       "                                       genres  Average Rating  \\\n",
       "277                               Crime|Drama        4.429022   \n",
       "659                               Crime|Drama        4.289062   \n",
       "2226              Action|Crime|Drama|Thriller        4.272936   \n",
       "922                               Crime|Drama        4.259690   \n",
       "6315                     Crime|Drama|Thriller        4.252336   \n",
       "914                               Crime|Drama        4.250000   \n",
       "6710                  Action|Crime|Drama|IMAX        4.238255   \n",
       "46                     Crime|Mystery|Thriller        4.237745   \n",
       "899   Action|Adventure|Comedy|Fantasy|Romance        4.232394   \n",
       "224                   Action|Adventure|Sci-Fi        4.231076   \n",
       "\n",
       "      Number of Ratings  \n",
       "277               317.0  \n",
       "659               192.0  \n",
       "2226              218.0  \n",
       "922               129.0  \n",
       "6315              107.0  \n",
       "914               126.0  \n",
       "6710              149.0  \n",
       "46                204.0  \n",
       "899               142.0  \n",
       "224               251.0  "
      ]
     },
     "execution_count": 63,
     "metadata": {},
     "output_type": "execute_result"
    }
   ],
   "source": [
    "# Find the top ten highly-rated movies.\n",
    "movies_of_interest = movies_df[movies_df['Number of Ratings'] > 100]\n",
    "movies_of_interest.sort_values(\"Average Rating\", ascending=False).head(10)"
   ]
  },
  {
   "cell_type": "code",
   "execution_count": null,
   "metadata": {},
   "outputs": [],
   "source": []
  }
 ],
 "metadata": {
  "kernelspec": {
   "display_name": "Python 3 (ipykernel)",
   "language": "python",
   "name": "python3"
  },
  "language_info": {
   "codemirror_mode": {
    "name": "ipython",
    "version": 3
   },
   "file_extension": ".py",
   "mimetype": "text/x-python",
   "name": "python",
   "nbconvert_exporter": "python",
   "pygments_lexer": "ipython3",
   "version": "3.9.13"
  }
 },
 "nbformat": 4,
 "nbformat_minor": 4
}
