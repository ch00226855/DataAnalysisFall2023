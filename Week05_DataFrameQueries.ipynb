{
 "cells": [
  {
   "cell_type": "markdown",
   "metadata": {},
   "source": [
    "# Week 5\n",
    "\n",
    "# Getting Started with Pandas (Part 2)\n",
    "# Data Analysis with Data Frames\n",
    "\n",
    "In this week, we will look into a data set about movies and use data frames to perform data analysis."
   ]
  },
  {
   "cell_type": "code",
   "execution_count": null,
   "metadata": {},
   "outputs": [],
   "source": [
    "import pandas as pd"
   ]
  },
  {
   "cell_type": "markdown",
   "metadata": {},
   "source": [
    "## 1. Download and extract MovieLens data\n",
    "\n",
    "- [MovieLens](https://grouplens.org/datasets/movielens/) is a web-based recommender system and virtual community that recommends movies for its users to watch, based on their file preferences using collaborative filtering of members' movie ratings and movie reviews. \n",
    "- We will look at its `ml-latest-small` dataset."
   ]
  },
  {
   "cell_type": "code",
   "execution_count": null,
   "metadata": {},
   "outputs": [],
   "source": [
    "# Download ml-latest-small.zip from https://grouplens.org/datasets/movielens/\n",
    "import os \n",
    "import urllib.request\n",
    "url = \"https://files.grouplens.org/datasets/movielens/ml-latest-small.zip\"\n",
    "\n",
    "file_path = \"Data/\" # This is a relative path from the default folder\n",
    "zip_file = \"ml-latest-small.zip\"\n",
    "\n",
    "# Create the Data folder if it doesn't already exist.\n",
    "if not os.path.isfile(file_path):\n",
    "    os.mkdir(file_path)\n",
    "\n",
    "# Download file\n",
    "urllib.request.urlretrieve(url, file_path + zip_file)"
   ]
  },
  {
   "cell_type": "code",
   "execution_count": null,
   "metadata": {},
   "outputs": [],
   "source": [
    "# Decompress the zip file\n",
    "import zipfile\n",
    "f = zipfile.ZipFile(file_path + zip_file, \"r\")\n",
    "f.printdir()\n",
    "f.extractall(file_path)\n",
    "f.close()"
   ]
  },
  {
   "cell_type": "code",
   "execution_count": null,
   "metadata": {},
   "outputs": [],
   "source": [
    "# Check that files has been unzipped\n",
    "print(os.listdir(file_path + \"ml-latest-small\"))"
   ]
  },
  {
   "cell_type": "code",
   "execution_count": null,
   "metadata": {},
   "outputs": [],
   "source": [
    "# Delete the zip file\n",
    "os.remove(file_path + zip_file)"
   ]
  },
  {
   "cell_type": "code",
   "execution_count": null,
   "metadata": {},
   "outputs": [],
   "source": [
    "# Verify that the zip file is gone.\n",
    "os.listdir(file_path)"
   ]
  },
  {
   "cell_type": "code",
   "execution_count": null,
   "metadata": {},
   "outputs": [],
   "source": [
    "# Write a function to download and decompress file\n",
    "import os\n",
    "import urllib.request\n",
    "import zipfile\n",
    "\n",
    "def get_movielens(file_path, file_name, delete_zip_file=False):\n",
    "    url = \"http://files.grouplens.org/datasets/movielens/\" + file_name\n",
    "    if not os.path.exists(file_path):\n",
    "        os.mkdir(file_path)\n",
    "    if not os.path.exists(file_path + file_name):\n",
    "        urllib.request.urlretrieve(url, file_path + file_name)\n",
    "        print(\"File\", file_name, \"downloaded.\")\n",
    "    with zipfile.ZipFile(file_path + file_name, \"r\") as f:\n",
    "        f.extractall(file_path)\n",
    "        print(\"Files extracted:\")\n",
    "        print(f.printdir())\n",
    "    if delete_zip_file:\n",
    "        os.remove(file_path + file_name)"
   ]
  },
  {
   "cell_type": "code",
   "execution_count": null,
   "metadata": {
    "scrolled": false
   },
   "outputs": [],
   "source": [
    "get_movielens(file_path, zip_file)\n",
    "# Remember file_path = \"Data/\" and zip_file = \"ml-latest-small.zip\""
   ]
  },
  {
   "cell_type": "markdown",
   "metadata": {},
   "source": [
    "## 2. Load ratings data as a pandas DataFrame\n",
    "- Load csv file as a DataFrame\n",
    "- head()\n",
    "- shape, columns, dtypes\n",
    "- indexing with loc[]\n",
    "- Handle date and time data\n",
    "- Data transformation with apply()"
   ]
  },
  {
   "cell_type": "code",
   "execution_count": null,
   "metadata": {},
   "outputs": [],
   "source": [
    "import pandas as pd\n",
    "\n",
    "ratings_df = pd.read_csv(\"Data/ml-latest-small/ratings.csv\")\n",
    "ratings_df.head()  # Show the first several rows of the dataset"
   ]
  },
  {
   "cell_type": "code",
   "execution_count": null,
   "metadata": {},
   "outputs": [],
   "source": [
    "# Ex: How many records are there?\n",
    "\n"
   ]
  },
  {
   "cell_type": "code",
   "execution_count": null,
   "metadata": {},
   "outputs": [],
   "source": [
    "# Ex: Display the types of each feature\n",
    "\n"
   ]
  },
  {
   "cell_type": "code",
   "execution_count": null,
   "metadata": {},
   "outputs": [],
   "source": [
    "# Convert time stamp to a readable format\n",
    "from datetime import datetime\n",
    "\n",
    "# Example: convert the first time stamp\n",
    "timestamp = ratings_df.loc[0, \"timestamp\"]\n",
    "print(timestamp)\n",
    "\n",
    "dt = datetime.fromtimestamp(timestamp)\n",
    "print(dt)\n",
    "\n",
    "print(dt.year)\n",
    "print(dt.month)\n",
    "\n",
    "ratings_df.loc[0, \"Year\"] = dt.year\n",
    "# # ratings_df.loc[0, \"Month\"] = dt.month\n",
    "# # ratings_df.loc[0, \"Day\"] = dt.day\n",
    "# # ratings_df.loc[0, \"Hour\"] = dt.hour\n",
    "# # ratings_df.loc[0, \"Minute\"] = dt.minute\n",
    "# # ratings_df.loc[0, \"Second\"] = dt.second\n",
    "ratings_df.head()"
   ]
  },
  {
   "cell_type": "code",
   "execution_count": null,
   "metadata": {},
   "outputs": [],
   "source": [
    "# Use apply() to apply a function to all rows\n",
    "ratings_df[\"DT\"] = ratings_df[\"timestamp\"].apply(datetime.fromtimestamp)\n",
    "ratings_df.head()"
   ]
  },
  {
   "cell_type": "markdown",
   "metadata": {},
   "source": [
    "We can also create functions to fill column year, month, ..."
   ]
  },
  {
   "cell_type": "code",
   "execution_count": null,
   "metadata": {},
   "outputs": [],
   "source": [
    "# Ex: Fill the year column\n",
    "\n"
   ]
  },
  {
   "cell_type": "markdown",
   "metadata": {},
   "source": [
    "Alternatively, we can use `pd.to_datetime()` for the conversion. [Link](https://pandas.pydata.org/docs/reference/api/pandas.to_datetime.html)"
   ]
  },
  {
   "cell_type": "code",
   "execution_count": null,
   "metadata": {},
   "outputs": [],
   "source": [
    "# Ex: Use pd.to_datetime() to perform the conversion.\n",
    "\n"
   ]
  },
  {
   "cell_type": "markdown",
   "metadata": {},
   "source": [
    "## 3. Save the processed ratings data\n",
    "\n",
    "Data can be saved in many different formats. Today we will save the processed rating data as a new CSV file."
   ]
  },
  {
   "cell_type": "code",
   "execution_count": null,
   "metadata": {},
   "outputs": [],
   "source": [
    "# Save the processed data as a .csv file\n",
    "csv_file = \"Data/ml-latest-small/ratings_processed.csv\"\n",
    "ratings_df.to_csv(csv_file)"
   ]
  },
  {
   "cell_type": "code",
   "execution_count": null,
   "metadata": {
    "scrolled": true
   },
   "outputs": [],
   "source": [
    "# Ex: Load the saved file and display its first 5 rows.\n",
    "\n"
   ]
  },
  {
   "cell_type": "markdown",
   "metadata": {},
   "source": [
    "## 4. Analyzing MovieLens Data\n",
    "- Distribution of movie ratings\n",
    "- Popular movies"
   ]
  },
  {
   "cell_type": "code",
   "execution_count": null,
   "metadata": {},
   "outputs": [],
   "source": [
    "# Use value_counts() to find the rating frequencies\n",
    "rating_frequencies = ratings_df['rating'].value_counts()\n",
    "print(rating_frequencies)"
   ]
  },
  {
   "cell_type": "code",
   "execution_count": null,
   "metadata": {},
   "outputs": [],
   "source": [
    "# Find sorted the rating frequencies\n",
    "rating_frequencies = ratings_df['rating'].value_counts().sort_index(ascending=False)\n",
    "print(rating_frequencies)"
   ]
  },
  {
   "cell_type": "code",
   "execution_count": null,
   "metadata": {},
   "outputs": [],
   "source": [
    "# Visualize rating frequencies as a histogram\n",
    "ratings_df['rating'].hist()"
   ]
  },
  {
   "cell_type": "code",
   "execution_count": null,
   "metadata": {},
   "outputs": [],
   "source": [
    "# When were these ratings created?\n",
    "import numpy as np\n",
    "\n",
    "print(\"Earliest year of rating:\", ratings_df['Year'].min())\n",
    "\n",
    "print(\"Latest year of rating:\", np.max(ratings_df['Year'])) # .max() also works\n",
    "\n",
    "print(\"The entire set of years:\", ratings_df['Year'].value_counts().sort_index())"
   ]
  },
  {
   "cell_type": "code",
   "execution_count": null,
   "metadata": {
    "scrolled": true
   },
   "outputs": [],
   "source": [
    "# How are rating frequencies distributed in 2018?\n",
    "\n",
    "# Create a filter in two steps\n",
    "filter_2018 = (ratings_df['Year'] == 2018)\n",
    "# print(filter_2018)\n",
    "ratings_2018 = ratings_df[filter_2018]\n",
    "ratings_2018.head()"
   ]
  },
  {
   "cell_type": "code",
   "execution_count": null,
   "metadata": {},
   "outputs": [],
   "source": [
    "# Create a filter in one step:\n",
    "ratings_2018 = ratings_df[ratings_df['Year'] == 2018]\n",
    "ratings_2018.head()"
   ]
  },
  {
   "cell_type": "code",
   "execution_count": null,
   "metadata": {},
   "outputs": [],
   "source": [
    "ratings_2018['rating'].hist()"
   ]
  },
  {
   "cell_type": "code",
   "execution_count": null,
   "metadata": {},
   "outputs": [],
   "source": [
    "# Ex: How are rating frequencies distributed in 2003?\n",
    "\n"
   ]
  },
  {
   "cell_type": "markdown",
   "metadata": {},
   "source": [
    "Next, let's identify some popular movies."
   ]
  },
  {
   "cell_type": "code",
   "execution_count": null,
   "metadata": {},
   "outputs": [],
   "source": [
    "ratings_df.head()"
   ]
  },
  {
   "cell_type": "code",
   "execution_count": null,
   "metadata": {},
   "outputs": [],
   "source": [
    "# Ex: Which movie received the highest number of ratings?\n",
    "\n"
   ]
  },
  {
   "cell_type": "code",
   "execution_count": null,
   "metadata": {},
   "outputs": [],
   "source": [
    "# Ex: Which movies received the largest number of 5.0s?\n",
    "\n",
    "\n"
   ]
  },
  {
   "cell_type": "code",
   "execution_count": null,
   "metadata": {},
   "outputs": [],
   "source": [
    "# What is the name of the movie? (The answer requires another data file.)\n",
    "\n",
    "# Load movies.csv\n",
    "movies_df = pd.read_csv('Data/ml-latest-small/movies.csv')\n",
    "movies_df.head()"
   ]
  },
  {
   "cell_type": "code",
   "execution_count": null,
   "metadata": {},
   "outputs": [],
   "source": [
    "# Ex: Find out the title corresponding to the movies with high number of ratings.\n",
    "\n"
   ]
  },
  {
   "cell_type": "code",
   "execution_count": null,
   "metadata": {},
   "outputs": [],
   "source": [
    "# Which movie receives the most 5.0s?\n",
    "\n"
   ]
  },
  {
   "cell_type": "code",
   "execution_count": null,
   "metadata": {},
   "outputs": [],
   "source": [
    "# Find the name of this movie\n",
    "\n"
   ]
  },
  {
   "cell_type": "code",
   "execution_count": null,
   "metadata": {},
   "outputs": [],
   "source": [
    "# Which movie has the highest average rating?\n",
    "\n"
   ]
  },
  {
   "cell_type": "code",
   "execution_count": null,
   "metadata": {},
   "outputs": [],
   "source": [
    "# Find the top ten highly-rated movies.\n",
    "\n"
   ]
  },
  {
   "cell_type": "code",
   "execution_count": null,
   "metadata": {},
   "outputs": [],
   "source": []
  }
 ],
 "metadata": {
  "kernelspec": {
   "display_name": "Python 3 (ipykernel)",
   "language": "python",
   "name": "python3"
  },
  "language_info": {
   "codemirror_mode": {
    "name": "ipython",
    "version": 3
   },
   "file_extension": ".py",
   "mimetype": "text/x-python",
   "name": "python",
   "nbconvert_exporter": "python",
   "pygments_lexer": "ipython3",
   "version": "3.8.5"
  }
 },
 "nbformat": 4,
 "nbformat_minor": 4
}
